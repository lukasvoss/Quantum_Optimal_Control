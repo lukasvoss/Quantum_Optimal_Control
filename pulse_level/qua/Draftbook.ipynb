{
 "cells": [
  {
   "cell_type": "code",
   "id": "initial_id",
   "metadata": {
    "collapsed": true
   },
   "source": [
    "from qm.QuantumMachinesManager import QuantumMachinesManager\n",
    "from qm.qua import *\n",
    "from qm.simulate.credentials import create_credentials\n",
    "from pulse_level.qua.qua_utils import clip_qua\n",
    "from pulse_level.qua.videomode import ParameterTable\n",
    "from qiskit import pulse\n",
    "from qiskit.circuit import ParameterVector\n",
    "from qiskit.pulse.library import SymbolicPulse\n",
    "\n",
    "SymbolicPulse.disable_validation = True\n",
    "# Open communication with the server.\n",
    "qop_ip = None\n",
    "qmm = QuantumMachinesManager(\n",
    "    host=\"tyler-263ed49e.dev.quantum-machines.co\",\n",
    "    port=443,\n",
    "    credentials=create_credentials(),\n",
    ")\n",
    "params = ParameterTable({\"param1\": 3.7, \"param2\": 4.5})\n",
    "param_qiskit = ParameterVector(\"param\", 2)\n",
    "with program() as measureProg:\n",
    "    var = params.declare_variables()\n",
    "    ind = declare(int, value=5)\n",
    "    print(var)\n",
    "    clip_qua(params.get_parameter(\"param1\"), 2, 4)\n",
    "    save(var[0], \"var0\")\n",
    "    with pulse.build() as sched:\n",
    "        pulse.play(\n",
    "            pulse.Drag(\n",
    "                amp=param_qiskit[0], sigma=0.1, beta=param_qiskit[1], duration=160\n",
    "            ),\n",
    "            pulse.DriveChannel(0),\n",
    "        )\n",
    "    sched.assign_parameters({param_qiskit: var})\n",
    "# Simulate the program on the server\n",
    "# job = qmm.simulate(\n",
    "#     config,\n",
    "#     measureProg,\n",
    "#     SimulationConfig(\n",
    "#         4000,  # Duration of simulation in units of clock cycles (4 ns)\n",
    "#         simulation_interface=LoopbackInterface(\n",
    "#             [(\"con1\", 1, \"con1\", 1)]\n",
    "#         ),  # Simulate a loopback from analog output 1 to analog input 1\n",
    "#     ),\n",
    "# )\n",
    "\n",
    "# Fetch the results of the simulation\n",
    "# res = job.result_handles\n",
    "# str = res.get(\"var\").fetch_all()[\"value\"]\n",
    "# str\n",
    "print(sched)"
   ],
   "execution_count": null,
   "outputs": []
  },
  {
   "cell_type": "code",
   "source": [
    "from qiskit_ibm_runtime import QiskitRuntimeService\n",
    "\n",
    "service = QiskitRuntimeService()\n",
    "service.save_account()\n",
    "backend = service.get_backend(\"ibm_sherbrooke\")"
   ],
   "metadata": {
    "collapsed": false,
    "ExecuteTime": {
     "end_time": "2024-05-13T02:26:28.309918Z",
     "start_time": "2024-05-13T02:26:16.278270Z"
    }
   },
   "id": "47ac2695665cdc57",
   "execution_count": null,
   "outputs": []
  },
  {
   "metadata": {
    "ExecuteTime": {
     "end_time": "2024-05-16T02:43:45.989323Z",
     "start_time": "2024-05-16T02:43:45.892669Z"
    }
   },
   "cell_type": "code",
   "source": [
    "from qiskit_ibm_runtime.fake_provider import FakeJakartaV2\n",
    "from qiskit import QuantumCircuit, transpile, schedule\n",
    "import numpy as np\n",
    "\n",
    "backend = FakeJakartaV2()\n",
    "qc = QuantumCircuit(1)\n",
    "qc.rz(np.pi / 2, 0)\n",
    "qc.x(0)\n",
    "qc.rz(np.pi / 2, 0)\n",
    "sched = schedule(qc, backend)\n",
    "qc.add_calibration(\"y\", [0], sched)\n",
    "qc.draw(\"mpl\")\n",
    "qc.clear()\n",
    "qc.y(0)\n",
    "qc.draw(\"mpl\")\n",
    "\n",
    "sched2 = schedule(qc, backend)"
   ],
   "id": "5c01e1eb9577e1a3",
   "execution_count": 59,
   "outputs": []
  },
  {
   "cell_type": "code",
   "source": [
    "qc = QuantumCircuit(2)\n",
    "qc.h(0)\n",
    "qc.cx(0, 1)\n",
    "qc = transpile(qc, backend)\n",
    "qc.draw(\"mpl\")"
   ],
   "metadata": {
    "collapsed": false,
    "ExecuteTime": {
     "end_time": "2024-05-13T09:29:44.070842Z",
     "start_time": "2024-05-13T09:29:42.301562Z"
    }
   },
   "id": "692ef934fd16121f",
   "execution_count": 8,
   "outputs": []
  },
  {
   "metadata": {
    "ExecuteTime": {
     "end_time": "2024-05-13T09:29:45.522743Z",
     "start_time": "2024-05-13T09:29:45.516806Z"
    }
   },
   "cell_type": "code",
   "source": [
    "from qiskit import schedule\n",
    "\n",
    "schedule(qc, backend)"
   ],
   "id": "b235a0c2eb4b527b",
   "execution_count": 9,
   "outputs": []
  },
  {
   "cell_type": "code",
   "source": [
    "cx.calibration.instructions[3][1].pulse.name"
   ],
   "metadata": {
    "collapsed": false,
    "ExecuteTime": {
     "end_time": "2024-03-06T06:00:28.084961Z",
     "start_time": "2024-03-06T06:00:28.080487Z"
    }
   },
   "id": "56d99c362b3e4d1e",
   "execution_count": 26,
   "outputs": []
  },
  {
   "cell_type": "code",
   "source": [
    "from qiskit import pulse\n",
    "from qiskit.circuit import Parameter\n",
    "\n",
    "a = Parameter(\"a\")\n",
    "p = pulse.Drag(amp=a, sigma=0.1, beta=0.5, duration=160)\n",
    "for key, val in p.parameters.items():\n",
    "    print(key, val)"
   ],
   "metadata": {
    "collapsed": false,
    "ExecuteTime": {
     "end_time": "2024-03-06T08:53:09.100059Z",
     "start_time": "2024-03-06T08:53:09.094480Z"
    }
   },
   "id": "f1b4831cce9a8dea",
   "execution_count": 39,
   "outputs": []
  },
  {
   "cell_type": "code",
   "source": [
    "cst_p = pulse.Constant(160, 0.5)\n",
    "cst_p"
   ],
   "metadata": {
    "collapsed": false,
    "ExecuteTime": {
     "end_time": "2024-03-06T08:49:03.939875Z",
     "start_time": "2024-03-06T08:49:03.903850Z"
    }
   },
   "id": "5b752adf47bdb55d",
   "execution_count": 33,
   "outputs": []
  },
  {
   "cell_type": "code",
   "source": [
    "cst_p.duration"
   ],
   "metadata": {
    "collapsed": false,
    "ExecuteTime": {
     "end_time": "2024-03-06T08:49:14.412866Z",
     "start_time": "2024-03-06T08:49:14.406856Z"
    }
   },
   "id": "e7fd17bb24f67b61",
   "execution_count": 35,
   "outputs": []
  },
  {
   "cell_type": "code",
   "source": [
    "from qiskit_ibm_runtime.fake_provider import FakeJakartaV2\n",
    "from qiskit.circuit import QuantumCircuit\n",
    "from qiskit import transpile, schedule\n",
    "\n",
    "backend = FakeJakartaV2()\n",
    "backend.target[\"measure\"][(0,)].calibration.draw()"
   ],
   "metadata": {
    "collapsed": false,
    "ExecuteTime": {
     "end_time": "2024-03-06T09:19:47.875041Z",
     "start_time": "2024-03-06T09:19:47.803482Z"
    }
   },
   "id": "703986246207ed88",
   "execution_count": 47,
   "outputs": []
  },
  {
   "cell_type": "code",
   "source": [
    "backend.target[\"measure\"][(0,)].calibration"
   ],
   "metadata": {
    "collapsed": false,
    "ExecuteTime": {
     "end_time": "2024-03-06T09:19:48.108532Z",
     "start_time": "2024-03-06T09:19:48.105767Z"
    }
   },
   "id": "c79fa3232c440273",
   "execution_count": 48,
   "outputs": []
  },
  {
   "cell_type": "code",
   "source": [
    "qc = QuantumCircuit(2)\n",
    "qc.h(0)\n",
    "qc.cx(0, 1)\n",
    "qc.measure_all()\n",
    "transpiled_qc = transpile(qc, backend)\n",
    "sched = schedule(transpiled_qc, backend)\n",
    "sched.draw()"
   ],
   "metadata": {
    "collapsed": false,
    "ExecuteTime": {
     "end_time": "2024-03-06T09:19:49.063898Z",
     "start_time": "2024-03-06T09:19:48.252017Z"
    }
   },
   "id": "6092e825a7636981",
   "execution_count": 49,
   "outputs": []
  },
  {
   "cell_type": "code",
   "source": [
    "sched"
   ],
   "metadata": {
    "collapsed": false,
    "ExecuteTime": {
     "end_time": "2024-03-06T09:20:05.926645Z",
     "start_time": "2024-03-06T09:20:05.922162Z"
    }
   },
   "id": "c1d5058f5c464835",
   "execution_count": 50,
   "outputs": []
  },
  {
   "cell_type": "code",
   "source": [
    "from quam.components import *\n",
    "from quam.examples.superconducting_qubits import Transmon, QuAM\n",
    "\n",
    "machine = QuAM()  #\n",
    "\n",
    "num_qubits = 2\n",
    "for idx in range(num_qubits):\n",
    "    # Create transmon qubit component\n",
    "    transmon = Transmon(id=idx)\n",
    "\n",
    "    # Add xy drive line channel\n",
    "    transmon.xy = IQChannel(\n",
    "        opx_output_I=(\"con1\", 3 * idx + 3),\n",
    "        opx_output_Q=(\"con1\", 3 * idx + 4),\n",
    "        frequency_converter_up=FrequencyConverter(\n",
    "            mixer=Mixer(),\n",
    "            local_oscillator=LocalOscillator(power=10, frequency=6e9),\n",
    "        ),\n",
    "        intermediate_frequency=100e6,\n",
    "    )\n",
    "\n",
    "    # Add transmon flux line channel\n",
    "    transmon.z = SingleChannel(opx_output=(\"con1\", 3 * idx + 5))\n",
    "\n",
    "    # Add resonator channel\n",
    "    transmon.resonator = InOutIQChannel(\n",
    "        id=idx,\n",
    "        opx_output_I=(\"con1\", 3 * idx + 1),\n",
    "        opx_output_Q=(\"con1\", 3 * idx + 2),\n",
    "        opx_input_I=(\"con1\", 1),\n",
    "        opx_input_Q=(\n",
    "            \"con1\",\n",
    "            2,\n",
    "        ),\n",
    "        frequency_converter_up=FrequencyConverter(\n",
    "            mixer=Mixer(), local_oscillator=LocalOscillator(power=10, frequency=6e9)\n",
    "        ),\n",
    "    )\n",
    "    machine.qubits[transmon.name] = transmon"
   ],
   "metadata": {
    "collapsed": false,
    "ExecuteTime": {
     "end_time": "2024-05-17T08:01:28.836901Z",
     "start_time": "2024-05-17T08:01:28.833227Z"
    }
   },
   "id": "84cf3604293bffd2",
   "execution_count": 4,
   "outputs": []
  },
  {
   "metadata": {
    "ExecuteTime": {
     "end_time": "2024-05-17T08:01:29.506264Z",
     "start_time": "2024-05-17T08:01:29.503013Z"
    }
   },
   "cell_type": "code",
   "source": [
    "from quam.components.pulses import GaussianPulse\n",
    "\n",
    "# Create a Gaussian pulse\n",
    "gaussian_pulse = GaussianPulse(length=20, amplitude=0.2, sigma=3)\n",
    "\n",
    "# Attach the pulse to the XY channel of the first qubit\n",
    "machine.qubits"
   ],
   "id": "d395eee3b8dfb73c",
   "execution_count": 5,
   "outputs": []
  },
  {
   "metadata": {
    "ExecuteTime": {
     "end_time": "2024-05-14T04:51:23.983330Z",
     "start_time": "2024-05-14T04:51:23.980102Z"
    }
   },
   "cell_type": "code",
   "source": "list(machine.qubits.values())",
   "id": "e802e2d2931c83f7",
   "execution_count": 17,
   "outputs": []
  },
  {
   "metadata": {
    "ExecuteTime": {
     "end_time": "2024-05-13T03:27:03.481799Z",
     "start_time": "2024-05-13T03:27:03.474415Z"
    }
   },
   "cell_type": "code",
   "source": "machine.generate_config()",
   "id": "1fefce615044930c",
   "execution_count": 4,
   "outputs": []
  },
  {
   "metadata": {
    "ExecuteTime": {
     "end_time": "2024-05-13T03:27:04.231567Z",
     "start_time": "2024-05-13T03:27:04.070777Z"
    }
   },
   "cell_type": "code",
   "source": [
    "quam = QuAM.load(\"quam_state.json\")\n",
    "quam"
   ],
   "id": "92c78882971eeaa8",
   "execution_count": 5,
   "outputs": []
  },
  {
   "metadata": {
    "ExecuteTime": {
     "end_time": "2024-05-14T05:25:11.895241Z",
     "start_time": "2024-05-14T05:25:11.829736Z"
    }
   },
   "cell_type": "code",
   "source": [
    "from qiskit.circuit import Parameter, ParameterVector, QuantumCircuit\n",
    "from qiskit.primitives import BackendEstimatorV2, BackendEstimator\n",
    "from qiskit.providers.fake_provider import GenericBackendV2\n",
    "from qiskit.quantum_info import SparsePauliOp\n",
    "\n",
    "param = Parameter(\"param\")\n",
    "param_vec = ParameterVector(\"param\", 2)\n",
    "qc = QuantumCircuit(2)\n",
    "qc.rx(param, 0)\n",
    "qc.ry(param_vec[0], 0)\n",
    "qc.rz(param_vec[1], 0)\n",
    "\n",
    "obs = SparsePauliOp.from_list([(\"XX\", 3.0), (\"YY\", 2.0)])\n",
    "backend = GenericBackendV2(2)\n",
    "estimator = BackendEstimatorV2(backend=backend)\n",
    "estimatorv1 = BackendEstimator(backend=backend)\n",
    "job = estimator.run(\n",
    "    [(qc, obs, {param: [0.5, 0.3], param_vec: [[0.3, 0.7], [0.2, 0.4]]})]\n",
    ")\n",
    "jobv1 = estimatorv1.run([qc], observables=[obs], parameter_values=[0.5, 0.3, 0.2])\n",
    "result = job.result()\n",
    "resultv1 = jobv1.result()"
   ],
   "id": "d8bd04ec2e0a0abe",
   "execution_count": 25,
   "outputs": []
  },
  {
   "metadata": {
    "ExecuteTime": {
     "end_time": "2024-05-08T09:29:02.518252Z",
     "start_time": "2024-05-08T09:29:02.515483Z"
    }
   },
   "cell_type": "code",
   "source": "result[0].data.evs",
   "id": "55661f6a34968a68",
   "execution_count": 54,
   "outputs": []
  },
  {
   "metadata": {
    "ExecuteTime": {
     "end_time": "2024-05-08T09:12:23.423181Z",
     "start_time": "2024-05-08T09:12:23.420070Z"
    }
   },
   "cell_type": "code",
   "source": "qc.parameters",
   "id": "ae92cf7ed515310",
   "execution_count": 46,
   "outputs": []
  },
  {
   "metadata": {
    "ExecuteTime": {
     "end_time": "2024-05-14T05:26:42.509086Z",
     "start_time": "2024-05-14T05:26:42.461834Z"
    }
   },
   "cell_type": "code",
   "source": [
    "estimatorv1.preprocessed_circuits[0][1][1].draw(\"mpl\")"
   ],
   "id": "96293af4a22f19da",
   "execution_count": 37,
   "outputs": []
  },
  {
   "metadata": {
    "ExecuteTime": {
     "end_time": "2024-05-15T02:33:27.685470Z",
     "start_time": "2024-05-15T02:33:27.682495Z"
    }
   },
   "cell_type": "code",
   "source": [
    "from qiskit.transpiler import Layout\n",
    "from qiskit import QuantumRegister\n",
    "\n",
    "qr = QuantumRegister(2)\n",
    "layout = Layout({qr[0]: 2, qr[1]: 1})\n",
    "layout.get_physical_bits()"
   ],
   "id": "898f9071bc959caf",
   "execution_count": 41,
   "outputs": []
  },
  {
   "metadata": {},
   "cell_type": "code",
   "execution_count": null,
   "source": "",
   "id": "6969154b5d6b2994",
   "outputs": []
  },
  {
   "metadata": {},
   "cell_type": "code",
   "outputs": [
    {
     "name": "stdout",
     "output_type": "stream",
     "text": [
      "OPENQASM 3.0;\n",
      "gate u3_4512536848(_gate_p_0, _gate_p_1, _gate_p_2) _gate_q_0 {\n",
      "  U(pi, 0, pi) _gate_q_0;\n",
      "}\n",
      "gate x _gate_q_0 {\n",
      "  u3_4512536848(pi, 0, pi) _gate_q_0;\n",
      "}\n",
      "qubit[1] q;\n",
      "x q[0];\n",
      "\n"
     ]
    }
   ],
   "execution_count": 8,
   "source": [
    "from qiskit.qasm3 import dumps\n",
    "from qiskit.circuit import Parameter, QuantumCircuit\n",
    "\n",
    "qc = QuantumCircuit(1)\n",
    "param = Parameter(\"theta\")\n",
    "qc.x(0)\n",
    "\n",
    "openqasm = dumps(qc, includes=())\n",
    "print(openqasm)"
   ],
   "id": "98a4310021a7ee56"
  },
  {
   "metadata": {},
   "cell_type": "code",
   "outputs": [],
   "execution_count": 6,
   "source": [
    "from oqc import Compiler, HardwareConfig, OperationIdentifier\n",
    "from qm.qua import play, amp\n",
    "\n",
    "\n",
    "def play_rx(theta):\n",
    "    play(\"rx\" * amp(theta), \"qubit\")\n",
    "\n",
    "\n",
    "def play_u(a, b, c):\n",
    "    play(\"u\", \"qubit\")\n",
    "\n",
    "\n",
    "def play_x():\n",
    "    play(\"x\", \"qubit\")\n",
    "\n",
    "\n",
    "operations = {  # OperationIdentifier(\"rx\", 1, (0,)): play_rx,\n",
    "    OperationIdentifier(\"x\", 0, (0,)): play_x,\n",
    "    OperationIdentifier(\"U\", 3, ()): play_u,\n",
    "}\n",
    "qubits_mapping = {0: \"qubit\"}\n",
    "hardware_config = HardwareConfig(operations, qubits_mapping)\n",
    "compiler = Compiler(hardware_config)"
   ],
   "id": "ac862467048a3976"
  },
  {
   "metadata": {},
   "cell_type": "code",
   "outputs": [
    {
     "ename": "CompilationException",
     "evalue": "Pass \"CodeResolvingPass\" failed.",
     "output_type": "error",
     "traceback": [
      "\u001B[0;31m---------------------------------------------------------------------------\u001B[0m",
      "\u001B[0;31mMultipleDefinitionsException\u001B[0m              Traceback (most recent call last)",
      "File \u001B[0;32m~/anaconda3/envs/rl_qoc/lib/python3.11/site-packages/oqc/compiler.py:152\u001B[0m, in \u001B[0;36mCompiler._run_passes\u001B[0;34m(self, program, passes)\u001B[0m\n\u001B[1;32m    151\u001B[0m \u001B[38;5;28;01mtry\u001B[39;00m:\n\u001B[0;32m--> 152\u001B[0m     program \u001B[38;5;241m=\u001B[39m compilation_pass(program)\n\u001B[1;32m    153\u001B[0m \u001B[38;5;28;01mexcept\u001B[39;00m \u001B[38;5;167;01mException\u001B[39;00m \u001B[38;5;28;01mas\u001B[39;00m e:\n",
      "File \u001B[0;32m~/anaconda3/envs/rl_qoc/lib/python3.11/site-packages/oqc/passes/compilation_pass.py:68\u001B[0m, in \u001B[0;36mCompilationPass.__call__\u001B[0;34m(self, program)\u001B[0m\n\u001B[1;32m     67\u001B[0m     \u001B[38;5;28;01melse\u001B[39;00m:\n\u001B[0;32m---> 68\u001B[0m         current_program \u001B[38;5;241m=\u001B[39m step(current_program)\n\u001B[1;32m     69\u001B[0m \u001B[38;5;28;01mreturn\u001B[39;00m current_program\n",
      "File \u001B[0;32m~/anaconda3/envs/rl_qoc/lib/python3.11/site-packages/oqc/passes/code_resolving/gate_resolver_step.py:183\u001B[0m, in \u001B[0;36mGateResolverStep.__call__\u001B[0;34m(self, program)\u001B[0m\n\u001B[1;32m    182\u001B[0m \u001B[38;5;28;01massert\u001B[39;00m \u001B[38;5;28misinstance\u001B[39m(program, OpenQasmProgram)\n\u001B[0;32m--> 183\u001B[0m new_ast \u001B[38;5;241m=\u001B[39m _GateResolverTransformer(\u001B[38;5;28mself\u001B[39m\u001B[38;5;241m.\u001B[39mbuilt_in_gates)\u001B[38;5;241m.\u001B[39mvisit(program\u001B[38;5;241m.\u001B[39mast)\n\u001B[1;32m    184\u001B[0m \u001B[38;5;28;01mreturn\u001B[39;00m OpenQasmProgram(new_ast)\n",
      "File \u001B[0;32m~/anaconda3/envs/rl_qoc/lib/python3.11/site-packages/openqasm3/visitor.py:46\u001B[0m, in \u001B[0;36mQASMVisitor.visit\u001B[0;34m(self, node, context)\u001B[0m\n\u001B[1;32m     45\u001B[0m \u001B[38;5;28;01melse\u001B[39;00m:\n\u001B[0;32m---> 46\u001B[0m     \u001B[38;5;28;01mreturn\u001B[39;00m visitor(node)\n",
      "File \u001B[0;32m~/anaconda3/envs/rl_qoc/lib/python3.11/site-packages/openqasm3/visitor.py:75\u001B[0m, in \u001B[0;36mQASMTransformer.generic_visit\u001B[0;34m(self, node, context)\u001B[0m\n\u001B[1;32m     74\u001B[0m \u001B[38;5;28;01mif\u001B[39;00m \u001B[38;5;28misinstance\u001B[39m(value, QASMNode):\n\u001B[0;32m---> 75\u001B[0m     value \u001B[38;5;241m=\u001B[39m \u001B[38;5;28mself\u001B[39m\u001B[38;5;241m.\u001B[39mvisit(value, context) \u001B[38;5;28;01mif\u001B[39;00m context \u001B[38;5;28;01melse\u001B[39;00m \u001B[38;5;28mself\u001B[39m\u001B[38;5;241m.\u001B[39mvisit(value)\n\u001B[1;32m     76\u001B[0m     \u001B[38;5;28;01mif\u001B[39;00m value \u001B[38;5;129;01mis\u001B[39;00m \u001B[38;5;28;01mNone\u001B[39;00m:\n",
      "File \u001B[0;32m~/anaconda3/envs/rl_qoc/lib/python3.11/site-packages/openqasm3/visitor.py:46\u001B[0m, in \u001B[0;36mQASMVisitor.visit\u001B[0;34m(self, node, context)\u001B[0m\n\u001B[1;32m     45\u001B[0m \u001B[38;5;28;01melse\u001B[39;00m:\n\u001B[0;32m---> 46\u001B[0m     \u001B[38;5;28;01mreturn\u001B[39;00m visitor(node)\n",
      "File \u001B[0;32m~/anaconda3/envs/rl_qoc/lib/python3.11/site-packages/oqc/passes/code_resolving/gate_resolver_step.py:101\u001B[0m, in \u001B[0;36m_GateResolverTransformer.visit_QuantumGateDefinition\u001B[0;34m(self, node)\u001B[0m\n\u001B[1;32m    100\u001B[0m \u001B[38;5;28;01massert\u001B[39;00m \u001B[38;5;28misinstance\u001B[39m(resolved_node, ast\u001B[38;5;241m.\u001B[39mQuantumGateDefinition)\n\u001B[0;32m--> 101\u001B[0m \u001B[38;5;28mself\u001B[39m\u001B[38;5;241m.\u001B[39m_add_gate(resolved_node)\n\u001B[1;32m    102\u001B[0m \u001B[38;5;28;01mreturn\u001B[39;00m \u001B[38;5;28;01mNone\u001B[39;00m\n",
      "File \u001B[0;32m~/anaconda3/envs/rl_qoc/lib/python3.11/site-packages/oqc/passes/code_resolving/gate_resolver_step.py:133\u001B[0m, in \u001B[0;36m_GateResolverTransformer._add_gate\u001B[0;34m(self, node)\u001B[0m\n\u001B[1;32m    132\u001B[0m \u001B[38;5;28;01melse\u001B[39;00m:\n\u001B[0;32m--> 133\u001B[0m     \u001B[38;5;28;01mraise\u001B[39;00m MultipleDefinitionsException(node, signature)\n",
      "\u001B[0;31mMultipleDefinitionsException\u001B[0m: Two definitions of the same signature: GateSignature(name='x'), second signature found at QuantumGateDefinition(span=Span(start_line=10, start_column=0, end_line=10, end_column=24), annotations=[], name=Identifier(span=Span(start_line=10, start_column=382, end_line=10, end_column=382), name='x'), arguments=[], qubits=[Identifier(span=Span(start_line=10, start_column=384, end_line=10, end_column=384), name='a')], body=[QuantumGate(span=Span(start_line=10, start_column=11, end_line=10, end_column=23), annotations=[], modifiers=[], name=Identifier(span=Span(start_line=10, start_column=388, end_line=10, end_column=388), name='U'), arguments=[Identifier(span=Span(start_line=10, start_column=13, end_line=10, end_column=13), name='π'), IntegerLiteral(span=Span(start_line=10, start_column=16, end_line=10, end_column=16), value=0), Identifier(span=Span(start_line=10, start_column=19, end_line=10, end_column=19), name='π')], qubits=[Identifier(span=Span(start_line=10, start_column=22, end_line=10, end_column=22), name='a')], duration=None)]).",
      "\nThe above exception was the direct cause of the following exception:\n",
      "\u001B[0;31mCompilationException\u001B[0m                      Traceback (most recent call last)",
      "Cell \u001B[0;32mIn[7], line 1\u001B[0m\n\u001B[0;32m----> 1\u001B[0m comp \u001B[38;5;241m=\u001B[39m compiler\u001B[38;5;241m.\u001B[39mcompile(openqasm)\n",
      "File \u001B[0;32m~/anaconda3/envs/rl_qoc/lib/python3.11/site-packages/oqc/compiler.py:120\u001B[0m, in \u001B[0;36mCompiler.compile\u001B[0;34m(self, code, compilation_name, inputs, compilation_config)\u001B[0m\n\u001B[1;32m    118\u001B[0m program \u001B[38;5;241m=\u001B[39m TextualProgram(code)\n\u001B[1;32m    119\u001B[0m passes \u001B[38;5;241m=\u001B[39m \u001B[38;5;28mself\u001B[39m\u001B[38;5;241m.\u001B[39m_build_passes(compilation_config)\n\u001B[0;32m--> 120\u001B[0m oq_program \u001B[38;5;241m=\u001B[39m \u001B[38;5;28mself\u001B[39m\u001B[38;5;241m.\u001B[39m_run_passes(program, passes)\n\u001B[1;32m    121\u001B[0m \u001B[38;5;28;01massert\u001B[39;00m \u001B[38;5;28misinstance\u001B[39m(oq_program, OpenQasmProgram)\n\u001B[1;32m    122\u001B[0m qua1_program \u001B[38;5;241m=\u001B[39m \u001B[38;5;28mself\u001B[39m\u001B[38;5;241m.\u001B[39m_embed(oq_program, compilation_config, inputs)\n",
      "File \u001B[0;32m~/anaconda3/envs/rl_qoc/lib/python3.11/site-packages/oqc/compiler.py:154\u001B[0m, in \u001B[0;36mCompiler._run_passes\u001B[0;34m(self, program, passes)\u001B[0m\n\u001B[1;32m    152\u001B[0m     program \u001B[38;5;241m=\u001B[39m compilation_pass(program)\n\u001B[1;32m    153\u001B[0m \u001B[38;5;28;01mexcept\u001B[39;00m \u001B[38;5;167;01mException\u001B[39;00m \u001B[38;5;28;01mas\u001B[39;00m e:\n\u001B[0;32m--> 154\u001B[0m     \u001B[38;5;28;01mraise\u001B[39;00m CompilationException(\u001B[38;5;124mf\u001B[39m\u001B[38;5;124m'\u001B[39m\u001B[38;5;124mPass \u001B[39m\u001B[38;5;124m\"\u001B[39m\u001B[38;5;132;01m{\u001B[39;00mcompilation_pass\u001B[38;5;241m.\u001B[39mname\u001B[38;5;132;01m}\u001B[39;00m\u001B[38;5;124m\"\u001B[39m\u001B[38;5;124m failed.\u001B[39m\u001B[38;5;124m'\u001B[39m) \u001B[38;5;28;01mfrom\u001B[39;00m \u001B[38;5;21;01me\u001B[39;00m\n\u001B[1;32m    155\u001B[0m duration \u001B[38;5;241m=\u001B[39m datetime\u001B[38;5;241m.\u001B[39mnow() \u001B[38;5;241m-\u001B[39m start_time\n\u001B[1;32m    156\u001B[0m logger\u001B[38;5;241m.\u001B[39mdebug(\u001B[38;5;124mf\u001B[39m\u001B[38;5;124m\"\u001B[39m\u001B[38;5;124mFinished pass successfully \u001B[39m\u001B[38;5;124m'\u001B[39m\u001B[38;5;132;01m{\u001B[39;00mcompilation_pass\u001B[38;5;241m.\u001B[39mname\u001B[38;5;132;01m}\u001B[39;00m\u001B[38;5;124m'\u001B[39m\u001B[38;5;124m, took \u001B[39m\u001B[38;5;132;01m{\u001B[39;00mduration\u001B[38;5;132;01m}\u001B[39;00m\u001B[38;5;124m\"\u001B[39m)\n",
      "\u001B[0;31mCompilationException\u001B[0m: Pass \"CodeResolvingPass\" failed."
     ]
    }
   ],
   "execution_count": 7,
   "source": "comp = compiler.compile(openqasm)",
   "id": "78e408b861fcf147"
  }
 ],
 "metadata": {
  "kernelspec": {
   "display_name": "Python 3",
   "language": "python",
   "name": "python3"
  },
  "language_info": {
   "codemirror_mode": {
    "name": "ipython",
    "version": 2
   },
   "file_extension": ".py",
   "mimetype": "text/x-python",
   "name": "python",
   "nbconvert_exporter": "python",
   "pygments_lexer": "ipython2",
   "version": "2.7.6"
  }
 },
 "nbformat": 4,
 "nbformat_minor": 5
}
