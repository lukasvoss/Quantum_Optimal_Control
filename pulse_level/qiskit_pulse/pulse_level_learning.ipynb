{
 "cells": [
  {
   "attachments": {},
   "cell_type": "markdown",
   "metadata": {
    "collapsed": false,
    "jupyter": {
     "outputs_hidden": false
    }
   },
   "source": [
    "# Pulse Level Learning\n",
    "\n",
    "In this notebook, we will train a reinforcement learning agent to learn pulse level control of a quantum system. The configuration is drawn from two dedicated yaml files respectively describing the quantum environment and the agent. The quantum environment is a `QuantumEnvironment` object, which is a subclass of `gym.Env ` and is designed to be compatible with standard RL libraries. The agent on the other hand, is specifically hard coded for our need because of the need to be able to send to the same resource (the Estimator primitive) a batch of quantum circuits (in contrast with usual RL frameworks where actions can be evaluated in parallel).\n",
    "\n",
    "For this notebook, we take all necessary inputs from the `pulse_config.py` file. This python file contains all elements necessary to create a pulse-level quantum environment. The file contains the following elements:\n",
    "- a parametrized gate function, coded through Qiskit; leveraging behind the scenes a custom parametrized pulse schedule, to be inserted in the quantum circuit. The function needs to modify an input parametrized quantum circuit, by adding the parametrized gate.\n",
    "- a Qiskit backend object, which is the quantum hardware or simulator on which the quantum circuits will be run. The backend is retrieved through another template function called get_backend.\n",
    "- A circuit context, which is a `QuantumCircuit` object that contains the quantum circuit in which the target gate operation should be optimized. The context is used to create the `ContextAwareQuantumEnvironment` object, which is a subclass of `BaseQuantumEnvironment` that takes into account the context of the quantum circuit in which the gate is to be optimized.\n",
    "\n",
    "We provide a dedicated template for IBM devices working through ECR, X, and SX basis gates. The user can adapt this to the platform and basis gates of his choice."
   ]
  },
  {
   "cell_type": "code",
   "metadata": {
    "ExecuteTime": {
     "end_time": "2024-06-20T08:20:49.562991Z",
     "start_time": "2024-06-20T08:20:48.502500Z"
    }
   },
   "source": [
    "%matplotlib inline\n",
    "from pulse_config import (\n",
    "    q_env_config as pulse_q_env_config,\n",
    "    circuit_context,\n",
    ")\n",
    "from rl_qoc import ContextAwareQuantumEnvironment, QuantumEnvironment, CustomPPO\n",
    "from gymnasium.wrappers import RescaleAction, ClipAction\n",
    "from qiskit.circuit import QuantumCircuit\n",
    "from rl_qoc.helper_functions import simulate_pulse_schedule, load_from_yaml_file\n",
    "from qiskit.quantum_info import Operator, Statevector\n",
    "from qiskit import pulse\n",
    "import numpy as np"
   ],
   "outputs": [
    {
     "ename": "ModuleNotFoundError",
     "evalue": "No module named 'helper_functions'",
     "output_type": "error",
     "traceback": [
      "\u001B[0;31m---------------------------------------------------------------------------\u001B[0m",
      "\u001B[0;31mModuleNotFoundError\u001B[0m                       Traceback (most recent call last)",
      "Cell \u001B[0;32mIn[1], line 2\u001B[0m\n\u001B[1;32m      1\u001B[0m get_ipython()\u001B[38;5;241m.\u001B[39mrun_line_magic(\u001B[38;5;124m'\u001B[39m\u001B[38;5;124mmatplotlib\u001B[39m\u001B[38;5;124m'\u001B[39m, \u001B[38;5;124m'\u001B[39m\u001B[38;5;124minline\u001B[39m\u001B[38;5;124m'\u001B[39m)\n\u001B[0;32m----> 2\u001B[0m \u001B[38;5;28;01mfrom\u001B[39;00m \u001B[38;5;21;01mpulse_config\u001B[39;00m \u001B[38;5;28;01mimport\u001B[39;00m (\n\u001B[1;32m      3\u001B[0m     q_env_config \u001B[38;5;28;01mas\u001B[39;00m pulse_q_env_config,\n\u001B[1;32m      4\u001B[0m     circuit_context,\n\u001B[1;32m      5\u001B[0m )\n\u001B[1;32m      6\u001B[0m \u001B[38;5;28;01mfrom\u001B[39;00m \u001B[38;5;21;01mrl_qoc\u001B[39;00m \u001B[38;5;28;01mimport\u001B[39;00m ContextAwareQuantumEnvironment, QuantumEnvironment, CustomPPO\n\u001B[1;32m      7\u001B[0m \u001B[38;5;28;01mfrom\u001B[39;00m \u001B[38;5;21;01mgymnasium\u001B[39;00m\u001B[38;5;21;01m.\u001B[39;00m\u001B[38;5;21;01mwrappers\u001B[39;00m \u001B[38;5;28;01mimport\u001B[39;00m RescaleAction, ClipAction\n",
      "File \u001B[0;32m~/Library/CloudStorage/OneDrive-NationalUniversityofSingapore/Coding_projects/Quantum_Optimal_Control/pulse_level/qiskit_pulse/pulse_config.py:12\u001B[0m\n\u001B[1;32m      7\u001B[0m \u001B[38;5;28;01mfrom\u001B[39;00m \u001B[38;5;21;01mqiskit\u001B[39;00m\u001B[38;5;21;01m.\u001B[39;00m\u001B[38;5;21;01mtranspiler\u001B[39;00m \u001B[38;5;28;01mimport\u001B[39;00m Layout, Target, InstructionProperties\n\u001B[1;32m      8\u001B[0m \u001B[38;5;28;01mfrom\u001B[39;00m \u001B[38;5;21;01mqiskit_experiments\u001B[39;00m\u001B[38;5;21;01m.\u001B[39;00m\u001B[38;5;21;01mcalibration_management\u001B[39;00m \u001B[38;5;28;01mimport\u001B[39;00m (\n\u001B[1;32m      9\u001B[0m     FixedFrequencyTransmon,\n\u001B[1;32m     10\u001B[0m     EchoedCrossResonance,\n\u001B[1;32m     11\u001B[0m )\n\u001B[0;32m---> 12\u001B[0m \u001B[38;5;28;01mfrom\u001B[39;00m \u001B[38;5;21;01mhelper_functions\u001B[39;00m \u001B[38;5;28;01mimport\u001B[39;00m (\n\u001B[1;32m     13\u001B[0m     to_python_identifier,\n\u001B[1;32m     14\u001B[0m     perform_standard_calibrations,\n\u001B[1;32m     15\u001B[0m     select_backend,\n\u001B[1;32m     16\u001B[0m     new_params_ecr,\n\u001B[1;32m     17\u001B[0m     new_params_sq_gate,\n\u001B[1;32m     18\u001B[0m     get_q_env_config,\n\u001B[1;32m     19\u001B[0m )\n\u001B[1;32m     20\u001B[0m \u001B[38;5;28;01mfrom\u001B[39;00m \u001B[38;5;21;01mqiskit\u001B[39;00m \u001B[38;5;28;01mimport\u001B[39;00m pulse, QuantumCircuit, QuantumRegister, transpile\n\u001B[1;32m     21\u001B[0m \u001B[38;5;28;01mfrom\u001B[39;00m \u001B[38;5;21;01mqiskit\u001B[39;00m\u001B[38;5;21;01m.\u001B[39;00m\u001B[38;5;21;01mcircuit\u001B[39;00m \u001B[38;5;28;01mimport\u001B[39;00m ParameterVector, Gate, Parameter\n",
      "\u001B[0;31mModuleNotFoundError\u001B[0m: No module named 'helper_functions'"
     ]
    }
   ],
   "execution_count": 1
  },
  {
   "cell_type": "code",
   "metadata": {
    "ExecuteTime": {
     "end_time": "2024-06-06T13:01:56.698939Z",
     "start_time": "2024-06-06T13:01:56.539483Z"
    }
   },
   "source": [
    "use_context = True\n",
    "\n",
    "if use_context:\n",
    "    q_env = ContextAwareQuantumEnvironment(\n",
    "        pulse_q_env_config, circuit_context, training_steps_per_gate=250\n",
    "    )\n",
    "else:\n",
    "    q_env = QuantumEnvironment(pulse_q_env_config)\n",
    "rescaled_env = RescaleAction(ClipAction(q_env), -1.0, 1.0)"
   ],
   "outputs": [],
   "execution_count": 2
  },
  {
   "cell_type": "code",
   "metadata": {
    "ExecuteTime": {
     "end_time": "2024-06-06T13:01:56.963928Z",
     "start_time": "2024-06-06T13:01:56.699443Z"
    }
   },
   "source": [
    "from qiskit.visualization import plot_gate_map, plot_circuit_layout\n",
    "from qiskit.transpiler import Target\n",
    "\n",
    "q_env.backend.target.operations\n",
    "plot_circuit_layout(circuit_context, backend=q_env.backend)"
   ],
   "outputs": [
    {
     "data": {
      "text/plain": [
       "<Figure size 159.85x66.7 with 1 Axes>"
      ],
      "image/png": "[encoded data removed]"
     },
     "execution_count": 3,
     "metadata": {},
     "output_type": "execute_result"
    }
   ],
   "execution_count": 3
  },
  {
   "metadata": {},
   "cell_type": "code",
   "outputs": [],
   "execution_count": null,
   "source": [
    "from pathlib import Path\n",
    "\n",
    "# Change the file_name to the name of the agent configuration file and specify the file location\n",
    "file_name = \"agent_config.yaml\"\n",
    "file_location = Path.cwd() / file_name\n",
    "\n",
    "agent_config = load_from_yaml_file(file_location)"
   ]
  },
  {
   "metadata": {},
   "cell_type": "code",
   "outputs": [],
   "execution_count": null,
   "source": "ppo_agent = CustomPPO(agent_config, rescaled_env)"
  },
  {
   "metadata": {},
   "cell_type": "code",
   "outputs": [],
   "execution_count": null,
   "source": "circuit_context.draw(\"mpl\")"
  },
  {
   "metadata": {},
   "cell_type": "code",
   "outputs": [],
   "execution_count": null,
   "source": "q_env.baseline_circuits[1].draw(\"mpl\")"
  },
  {
   "metadata": {},
   "cell_type": "code",
   "outputs": [],
   "execution_count": null,
   "source": [
    "circuit = q_env.circuits[1]\n",
    "circuit.draw(\"mpl\")"
   ]
  },
  {
   "metadata": {},
   "cell_type": "code",
   "outputs": [],
   "execution_count": null,
   "source": [
    "from qiskit import transpile, schedule\n",
    "\n",
    "circ = transpile(circuit, q_env.backend)\n",
    "circ.draw(\"mpl\")"
   ]
  },
  {
   "metadata": {},
   "cell_type": "code",
   "outputs": [],
   "execution_count": null,
   "source": [
    "qc = QuantumCircuit(1)\n",
    "qc.rz(np.pi, 0)\n",
    "\n",
    "schedule(qc, q_env.backend)"
   ]
  },
  {
   "metadata": {},
   "cell_type": "code",
   "outputs": [],
   "execution_count": null,
   "source": ""
  },
  {
   "metadata": {},
   "cell_type": "code",
   "outputs": [],
   "execution_count": null,
   "source": "schedule(q_env.baseline_circuits[0], q_env.backend).draw()"
  },
  {
   "metadata": {},
   "cell_type": "code",
   "outputs": [],
   "execution_count": null,
   "source": "print(q_env.backend.target)"
  },
  {
   "metadata": {},
   "cell_type": "code",
   "outputs": [],
   "execution_count": null,
   "source": "schedule(q_env.circuits[1], q_env.backend).draw()"
  },
  {
   "metadata": {},
   "cell_type": "code",
   "outputs": [],
   "execution_count": null,
   "source": [
    "from rl_qoc.ppo_config import TotalUpdates, TrainFunctionSettings, TrainingConfig\n",
    "\n",
    "total_updates = TotalUpdates(100)\n",
    "# hardware_runtime = HardwareRuntime(300)\n",
    "training_config = TrainingConfig(\n",
    "    training_constraint=total_updates,\n",
    "    target_fidelities=[0.999, 0.9999],\n",
    "    lookback_window=10,\n",
    "    anneal_learning_rate=False,\n",
    "    std_actions_eps=1e-2,\n",
    ")\n",
    "\n",
    "train_function_settings = TrainFunctionSettings(\n",
    "    plot_real_time=True,\n",
    "    print_debug=True,\n",
    "    num_prints=1,\n",
    "    hpo_mode=False,\n",
    "    clear_history=True,\n",
    ")"
   ]
  },
  {
   "metadata": {},
   "cell_type": "code",
   "outputs": [],
   "execution_count": null,
   "source": [
    "ppo_agent.train(\n",
    "    training_config=training_config, train_function_settings=train_function_settings\n",
    ")"
   ]
  },
  {
   "metadata": {},
   "cell_type": "code",
   "outputs": [],
   "execution_count": null,
   "source": [
    "from rl_qoc import GateTarget\n",
    "import matplotlib.pyplot as plt\n",
    "\n",
    "reward_history = np.array(q_env.reward_history)\n",
    "mean_rewards = np.mean(reward_history, axis=-1)\n",
    "max_mean = int(np.max(mean_rewards) * 1e4) / 1e4\n",
    "n_epochs = len(mean_rewards)\n",
    "if q_env.benchmark_cycle != 0:\n",
    "    fidelity_range = np.arange(0, n_epochs, q_env.benchmark_cycle)\n",
    "    plt.plot(\n",
    "        # fidelity_range,\n",
    "        np.array(q_env.fidelity_history),\n",
    "        label=\"Average Fidelity (mean over batch)\",\n",
    "    )\n",
    "plt.plot(mean_rewards / 2, label=f\"Mean Batch Rewards, max: {max_mean}\")\n",
    "\n",
    "plt.xlabel(\"Updates\")\n",
    "plt.ylabel(\"Reward\")\n",
    "plt.title(\n",
    "    f\"{q_env.target.gate.name if isinstance(q_env.target, GateTarget) else ''} Learning Curve\"\n",
    ")\n",
    "plt.legend()\n",
    "plt.show()"
   ]
  },
  {
   "metadata": {},
   "cell_type": "code",
   "outputs": [],
   "execution_count": null,
   "source": [
    "print(\"Optimal action\", q_env.optimal_action)\n",
    "print(\"Best fidelity:\", np.max(q_env.fidelity_history))"
   ]
  },
  {
   "metadata": {},
   "cell_type": "code",
   "outputs": [],
   "execution_count": null,
   "source": [
    "cal = q_env.backend.target.get_calibration(\"x\", (0,))\n",
    "from qiskit.circuit.library import CXGate, HGate, RZGate, ECRGate\n",
    "from qiskit.quantum_info import average_gate_fidelity, Operator, Statevector\n",
    "\n",
    "data = simulate_pulse_schedule(q_env.backend, cal)\n",
    "\n",
    "print(data)"
   ]
  },
  {
   "metadata": {},
   "cell_type": "code",
   "outputs": [],
   "execution_count": null,
   "source": [
    "# Update the gate calibration in the backend target and retrieve the calibration\n",
    "optimal_calibration = q_env.update_gate_calibration()\n",
    "q_env.backend.target.get_calibration(\"x\", (0,)).draw()"
   ]
  },
  {
   "metadata": {},
   "cell_type": "code",
   "outputs": [],
   "execution_count": null,
   "source": [
    "from qiskit.circuit.library import CXGate, HGate, RZGate, ECRGate\n",
    "from qiskit.quantum_info import average_gate_fidelity, Operator, Statevector\n",
    "\n",
    "data = simulate_pulse_schedule(\n",
    "    q_env.backend,\n",
    "    optimal_calibration,\n",
    "    target_unitary=Operator(q_env.target[\"gate\"]),\n",
    ")\n",
    "\n",
    "print(data)"
   ]
  },
  {
   "metadata": {},
   "cell_type": "code",
   "outputs": [],
   "execution_count": null,
   "source": "q_env.estimator"
  },
  {
   "metadata": {},
   "cell_type": "code",
   "outputs": [],
   "execution_count": null,
   "source": [
    "# Testing gate in a quantum circuit\n",
    "from qiskit.providers.basic_provider import BasicSimulator\n",
    "from qiskit import transpile\n",
    "\n",
    "qc = QuantumCircuit(2)\n",
    "qc.h(0)\n",
    "qc.cx(0, 1)\n",
    "qc.measure_all()\n",
    "qc.draw(\"mpl\")\n",
    "\n",
    "basic_simulator = BasicSimulator()\n",
    "basic_result = basic_simulator.run(qc).result()\n",
    "\n",
    "pulse_circ = transpile(qc, q_env.backend)\n",
    "q_env.backend.options.shots = 1000\n",
    "pulse_results = q_env.backend.run(pulse_circ).result()\n",
    "\n",
    "print(\"BasicProvider: \", basic_result.get_counts())\n",
    "print(\"Custom Backend:\", pulse_results.get_counts())"
   ]
  },
  {
   "metadata": {},
   "cell_type": "code",
   "outputs": [],
   "execution_count": null,
   "source": "pulse_circ.draw(\"mpl\")"
  },
  {
   "metadata": {},
   "cell_type": "code",
   "outputs": [],
   "execution_count": null,
   "source": [
    "# Testing the pulse schedule\n",
    "from qiskit import schedule\n",
    "\n",
    "pulse_schedule = schedule(\n",
    "    pulse_circ.remove_final_measurements(inplace=False), q_env.backend\n",
    ")\n",
    "pulse_schedule.draw()"
   ]
  },
  {
   "metadata": {},
   "cell_type": "code",
   "outputs": [],
   "execution_count": null,
   "source": [
    "# Testing the pulse schedule\n",
    "pulse_sim_results = simulate_pulse_schedule(\n",
    "    q_env.backend,\n",
    "    pulse_schedule,\n",
    "    target_unitary=Operator(pulse_circ.remove_final_measurements(inplace=False)),\n",
    "    target_state=(Statevector.from_label(\"00\") + Statevector.from_label(\"11\"))\n",
    "                 / np.sqrt(2),\n",
    ")\n",
    "print(pulse_sim_results)"
   ]
  },
  {
   "cell_type": "code",
   "metadata": {
    "collapsed": false,
    "jupyter": {
     "outputs_hidden": false
    }
   },
   "source": [
    "new_circ = transpile(\n",
    "    pulse_circ.remove_final_measurements(inplace=False),\n",
    "    q_env.backend,\n",
    "    scheduling_method=\"asap\",\n",
    ")\n",
    "new_circ.draw(\"mpl\")"
   ],
   "outputs": [],
   "execution_count": null
  },
  {
   "cell_type": "code",
   "metadata": {
    "collapsed": false,
    "jupyter": {
     "outputs_hidden": false
    }
   },
   "source": [
    "new_circ.op_start_times"
   ],
   "outputs": [],
   "execution_count": null
  },
  {
   "cell_type": "code",
   "metadata": {
    "collapsed": false,
    "jupyter": {
     "outputs_hidden": false
    }
   },
   "source": [
    "instruction_list = []\n",
    "for instruction in new_circ.data:\n",
    "    instruction_list.append(instruction.operation.name)\n",
    "instruction_list"
   ],
   "outputs": [],
   "execution_count": null
  },
  {
   "cell_type": "code",
   "metadata": {
    "collapsed": false,
    "jupyter": {
     "outputs_hidden": false
    },
    "ExecuteTime": {
     "end_time": "2024-06-07T02:41:56.058683Z",
     "start_time": "2024-06-07T02:28:32.464898Z"
    }
   },
   "source": [
    "from rl_qoc.helper_functions import new_params_ecr\n",
    "from pulse_config import custom_schedule\n",
    "\n",
    "new_params_ecr(\n",
    "    q_env.parameters[0],\n",
    "    tuple(q_env.physical_target_qubits),\n",
    "    q_env.backend,\n",
    "    [\"amp\", \"tgt_amp\", \"angle\", \"tgt_angle\"],\n",
    ")\n",
    "\n",
    "custom_schedule(q_env.backend, q_env.physical_target_qubits, q_env.parameters[0])"
   ],
   "outputs": [
    {
     "data": {
      "text/plain": [
       "ScheduleBlock(ScheduleBlock(ScheduleBlock(ScheduleBlock(Play(GaussianSquare(duration=1168, sigma=64, width=912, amp=a_0[0], angle=a_0[1]), ControlChannel(0)), Play(GaussianSquare(duration=1168, sigma=64, width=912, amp=a_0[2], angle=a_0[3]), DriveChannel(1)), name=\"cr45p\", transform=AlignLeft()), ScheduleBlock(Play(Drag(duration=160, sigma=40, beta=8.1422060787, amp=0.11870896, angle=0), DriveChannel(0)), name=\"x\", transform=AlignLeft()), ScheduleBlock(Play(GaussianSquare(duration=1168, sigma=64, width=912, amp=a_0[0], angle=a_0[1] + 3.14159265358979), ControlChannel(0)), Play(GaussianSquare(duration=1168, sigma=64, width=912, amp=a_0[2], angle=a_0[3] + 3.14159265358979), DriveChannel(1)), name=\"cr45m\", transform=AlignLeft()), name=\"block52\", transform=AlignSequential()), name=\"ecr\", transform=AlignLeft()), name=\"custom_sched\", transform=AlignLeft())"
      ]
     },
     "execution_count": 33,
     "metadata": {},
     "output_type": "execute_result"
    }
   ],
   "execution_count": 33
  },
  {
   "metadata": {},
   "cell_type": "code",
   "outputs": [],
   "execution_count": null,
   "source": ""
  }
 ],
 "metadata": {
  "kernelspec": {
   "display_name": "Python 3 (ipykernel)",
   "language": "python",
   "name": "python3"
  },
  "language_info": {
   "codemirror_mode": {
    "name": "ipython",
    "version": 3
   },
   "file_extension": ".py",
   "mimetype": "text/x-python",
   "name": "python",
   "nbconvert_exporter": "python",
   "pygments_lexer": "ipython3",
   "version": "3.11.9"
  }
 },
 "nbformat": 4,
 "nbformat_minor": 4
}
