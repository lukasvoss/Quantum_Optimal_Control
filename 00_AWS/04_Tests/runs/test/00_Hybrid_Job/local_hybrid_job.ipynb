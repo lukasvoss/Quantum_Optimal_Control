{
 "cells": [
  {
   "cell_type": "code",
   "execution_count": 4,
   "metadata": {},
   "outputs": [],
   "source": [
    "import time\n",
    "from braket.aws import AwsSession\n",
    "from braket.aws import AwsQuantumJob\n",
    "from braket.jobs.local import LocalQuantumJob\n",
    "from braket.jobs import hybrid_job\n",
    "\n",
    "aws_session = AwsSession(default_bucket=\"amazon-braket-us-west-1-lukasvoss\")"
   ]
  },
  {
   "cell_type": "code",
   "execution_count": null,
   "metadata": {},
   "outputs": [],
   "source": [
    "import sys\n",
    "import os\n",
    "os.environ[\"KMP_DUPLICATE_LIB_OK\"] = \"True\"\n",
    "import json\n",
    "module_path = os.path.abspath(os.path.join('/Users/lukasvoss/Documents/Master Wirtschaftsphysik/Masterarbeit Yale-NUS CQT/Quantum_Optimal_Control'))\n",
    "if module_path not in sys.path:\n",
    "    sys.path.append(module_path)\n",
    "\n",
    "from quantumenvironment import QuantumEnvironment\n",
    "from template_configurations import gate_q_env_config\n",
    "from helper_functions import load_agent_from_yaml_file\n",
    "from ppo import make_train_ppo\n",
    "\n",
    "import logging\n",
    "logging.basicConfig(\n",
    "    level=logging.WARNING,\n",
    "    format=\"%(asctime)s INFO %(message)s\", # hardcoded INFO level\n",
    "    datefmt=\"%Y-%m-%d %H:%M:%S\",\n",
    "    stream=sys.stdout,\n",
    ")"
   ]
  },
  {
   "cell_type": "code",
   "execution_count": 1,
   "metadata": {},
   "outputs": [],
   "source": [
    "from braket.aws import AwsDevice\n",
    "from braket.jobs import save_job_result\n",
    "from braket.jobs.metrics import log_metric\n",
    "from braket.tracking import Tracker\n",
    "\n",
    "from qiskit_braket_provider import BraketLocalBackend, AWSBraketProvider, AWSBraketBackend, AWSBraketJob"
   ]
  },
  {
   "cell_type": "code",
   "execution_count": 2,
   "metadata": {},
   "outputs": [],
   "source": [
    "def calibrate_gate(num_total_updates):\n",
    "    print(\"Job started!!!!!\")\n",
    "\n",
    "    from quantumenvironment import QuantumEnvironment\n",
    "    from template_configurations import gate_q_env_config\n",
    "    from helper_functions import load_agent_from_yaml_file\n",
    "    from ppo import make_train_ppo\n",
    "\n",
    "    braket_task_costs = Tracker().start()\n",
    "    provider = AWSBraketProvider()\n",
    "    backend = provider.get_backend('SV1')\n",
    "    q_env = QuantumEnvironment(gate_q_env_config)\n",
    "    q_env.backend = backend\n",
    "    ppo_params, network_params  = load_agent_from_yaml_file(file_path='/Users/lukasvoss/Documents/Master Wirtschaftsphysik/Masterarbeit Yale-NUS CQT/Quantum_Optimal_Control/template_configurations/agent_config.yaml')\n",
    "    agent_config = {**ppo_params, **network_params}\n",
    "    ppo_agent = make_train_ppo(agent_config, q_env)\n",
    "\n",
    "    # training_results = ppo_agent(total_updates=hyperparams[\"num_updates\"], print_debug=True, num_prints=40)\n",
    "    training_results = ppo_agent(total_updates=num_total_updates, print_debug=False, num_prints=40)\n",
    "    # save_job_result({ \"measurement_counts\": training_results })\n",
    "\n",
    "    print(\"Job completed!!!!!\")\n",
    "\n",
    "    training_results['task_summary'] = braket_task_costs.quantum_tasks_statistics()\n",
    "    training_results['estimated cost'] = float(\n",
    "            braket_task_costs.qpu_tasks_cost() + braket_task_costs.simulator_tasks_cost()\n",
    "        )\n",
    "\n",
    "    return training_results"
   ]
  },
  {
   "cell_type": "code",
   "execution_count": 5,
   "metadata": {},
   "outputs": [],
   "source": [
    "# required_files = [\n",
    "#     '/Users/lukasvoss/Documents/Master Wirtschaftsphysik/Masterarbeit Yale-NUS CQT/Quantum_Optimal_Control/quantumenvironment.py',\n",
    "#     '/Users/lukasvoss/Documents/Master Wirtschaftsphysik/Masterarbeit Yale-NUS CQT/Quantum_Optimal_Control/ppo.py',\n",
    "#     '/Users/lukasvoss/Documents/Master Wirtschaftsphysik/Masterarbeit Yale-NUS CQT/Quantum_Optimal_Control/helper_functions.py',\n",
    "#     '/Users/lukasvoss/Documents/Master Wirtschaftsphysik/Masterarbeit Yale-NUS CQT/Quantum_Optimal_Control/template_configurations/qiskit/q_env_config.py',\n",
    "# ]\n",
    "required_files = '00_needed_files'\n",
    "\n",
    "@hybrid_job(device=None, include_modules=required_files)\n",
    "def calibrate_gate_hybrid_job(num_total_updates):\n",
    "    return calibrate_gate(num_total_updates)"
   ]
  },
  {
   "cell_type": "code",
   "execution_count": 6,
   "metadata": {},
   "outputs": [],
   "source": [
    "job = calibrate_gate_hybrid_job(num_total_updates=10)"
   ]
  },
  {
   "cell_type": "code",
   "execution_count": 10,
   "metadata": {},
   "outputs": [
    {
     "data": {
      "text/plain": [
       "'FAILED'"
      ]
     },
     "execution_count": 10,
     "metadata": {},
     "output_type": "execute_result"
    }
   ],
   "source": [
    "job.state()"
   ]
  },
  {
   "cell_type": "code",
   "execution_count": null,
   "metadata": {},
   "outputs": [],
   "source": [
    "%%time\n",
    "job.result()"
   ]
  },
  {
   "cell_type": "code",
   "execution_count": null,
   "metadata": {},
   "outputs": [],
   "source": []
  }
 ],
 "metadata": {
  "kernelspec": {
   "display_name": "braket",
   "language": "python",
   "name": "python3"
  },
  "language_info": {
   "codemirror_mode": {
    "name": "ipython",
    "version": 3
   },
   "file_extension": ".py",
   "mimetype": "text/x-python",
   "name": "python",
   "nbconvert_exporter": "python",
   "pygments_lexer": "ipython3",
   "version": "3.10.13"
  },
  "orig_nbformat": 4
 },
 "nbformat": 4,
 "nbformat_minor": 2
}
