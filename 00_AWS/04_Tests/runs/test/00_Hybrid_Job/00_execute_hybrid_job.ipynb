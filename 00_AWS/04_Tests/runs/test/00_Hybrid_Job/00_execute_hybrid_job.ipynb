{
 "cells": [
  {
   "cell_type": "code",
   "execution_count": 1,
   "metadata": {},
   "outputs": [],
   "source": [
    "import time\n",
    "from braket.aws import AwsSession\n",
    "from braket.aws import AwsQuantumJob\n",
    "from braket.jobs.local import LocalQuantumJob\n",
    "\n",
    "aws_session = AwsSession(default_bucket=\"amazon-braket-us-west-1-lukasvoss\")"
   ]
  },
  {
   "cell_type": "code",
   "execution_count": 2,
   "metadata": {},
   "outputs": [],
   "source": [
    "total_updates = 10\n",
    "hyperparams = {\n",
    "    \"num_updates\": total_updates,\n",
    "}\n",
    "\n",
    "job_name = f\"gate-calibration-num_updates-{total_updates}-\" + str(int(time.time()))"
   ]
  },
  {
   "cell_type": "code",
   "execution_count": 3,
   "metadata": {},
   "outputs": [
    {
     "ename": "TypeError",
     "evalue": "AwsQuantumJob.create() got an unexpected keyword argument 'include_modules'",
     "output_type": "error",
     "traceback": [
      "\u001b[0;31m---------------------------------------------------------------------------\u001b[0m",
      "\u001b[0;31mTypeError\u001b[0m                                 Traceback (most recent call last)",
      "Cell \u001b[0;32mIn[3], line 3\u001b[0m\n\u001b[1;32m      1\u001b[0m \u001b[39m# job = AwsQuantumJob.create(\u001b[39;00m\n\u001b[1;32m      2\u001b[0m \u001b[39m# job = # LocalQuantumJob.create( # Use the local mode for testing and debugging\u001b[39;00m\n\u001b[0;32m----> 3\u001b[0m job \u001b[39m=\u001b[39m AwsQuantumJob\u001b[39m.\u001b[39;49mcreate(\n\u001b[1;32m      4\u001b[0m     \u001b[39m# Specify the path/filename of the script to run\u001b[39;49;00m\n\u001b[1;32m      5\u001b[0m     source_module\u001b[39m=\u001b[39;49m\u001b[39m\"\u001b[39;49m\u001b[39mgate_calibration.py\u001b[39;49m\u001b[39m\"\u001b[39;49m,\n\u001b[1;32m      6\u001b[0m     \u001b[39m# Specify where within the source module to start\u001b[39;49;00m\n\u001b[1;32m      7\u001b[0m     entry_point\u001b[39m=\u001b[39;49m\u001b[39m\"\u001b[39;49m\u001b[39mgate_calibration:start_here\u001b[39;49m\u001b[39m\"\u001b[39;49m,\n\u001b[1;32m      8\u001b[0m     \u001b[39m# Specify which device to use for the task\u001b[39;49;00m\n\u001b[1;32m      9\u001b[0m     device\u001b[39m=\u001b[39;49m\u001b[39m\"\u001b[39;49m\u001b[39marn:aws:braket:::device/quantum-simulator/amazon/sv1\u001b[39;49m\u001b[39m\"\u001b[39;49m,\n\u001b[1;32m     10\u001b[0m     include_modules\u001b[39m=\u001b[39;49m\u001b[39m\"\u001b[39;49m\u001b[39mquantumenvironment\u001b[39;49m\u001b[39m\"\u001b[39;49m\n\u001b[1;32m     11\u001b[0m     \u001b[39m# # Set the job_name\u001b[39;49;00m\n\u001b[1;32m     12\u001b[0m     \u001b[39m# job_name=job_name,\u001b[39;49;00m\n\u001b[1;32m     13\u001b[0m     \u001b[39m# # Set the hyperparameters\u001b[39;49;00m\n\u001b[1;32m     14\u001b[0m     \u001b[39m# hyperparameters=hyperparams,\u001b[39;49;00m\n\u001b[1;32m     15\u001b[0m )\n\u001b[1;32m     17\u001b[0m \u001b[39mprint\u001b[39m(job\u001b[39m.\u001b[39marn)\n\u001b[1;32m     18\u001b[0m \u001b[39mwhile\u001b[39;00m job\u001b[39m.\u001b[39mstate() \u001b[39mnot\u001b[39;00m \u001b[39min\u001b[39;00m AwsQuantumJob\u001b[39m.\u001b[39mTERMINAL_STATES:\n",
      "\u001b[0;31mTypeError\u001b[0m: AwsQuantumJob.create() got an unexpected keyword argument 'include_modules'"
     ]
    }
   ],
   "source": [
    "# job = AwsQuantumJob.create(\n",
    "# job = # LocalQuantumJob.create( # Use the local mode for testing and debugging\n",
    "job = AwsQuantumJob.create(\n",
    "    # Specify the path/filename of the script to run\n",
    "    source_module=\"gate_calibration.py\",\n",
    "    # Specify where within the source module to start\n",
    "    entry_point=\"gate_calibration:start_here\",\n",
    "    # Specify which device to use for the task\n",
    "    device=\"arn:aws:braket:::device/quantum-simulator/amazon/sv1\",\n",
    "    # # Set the job_name\n",
    "    # job_name=job_name,\n",
    "    # # Set the hyperparameters\n",
    "    # hyperparameters=hyperparams,\n",
    ")\n",
    "\n",
    "print(job.arn)\n",
    "while job.state() not in AwsQuantumJob.TERMINAL_STATES:\n",
    "    print(job.state())\n",
    "    time.sleep(10)\n",
    "\n",
    "print(job.state())\n",
    "print(job.result())"
   ]
  }
 ],
 "metadata": {
  "kernelspec": {
   "display_name": "aws_braket",
   "language": "python",
   "name": "python3"
  },
  "language_info": {
   "codemirror_mode": {
    "name": "ipython",
    "version": 3
   },
   "file_extension": ".py",
   "mimetype": "text/x-python",
   "name": "python",
   "nbconvert_exporter": "python",
   "pygments_lexer": "ipython3",
   "version": "3.10.13"
  },
  "orig_nbformat": 4
 },
 "nbformat": 4,
 "nbformat_minor": 2
}
