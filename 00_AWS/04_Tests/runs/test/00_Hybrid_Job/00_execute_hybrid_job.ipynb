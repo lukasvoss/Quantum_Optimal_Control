{
 "cells": [
  {
   "cell_type": "code",
   "execution_count": 1,
   "metadata": {},
   "outputs": [
    {
     "name": "stdout",
     "output_type": "stream",
     "text": [
      "arn:aws:braket:us-west-1:229406906664:job/braket-job-default-1704697364584\n",
      "QUEUED\n",
      "QUEUED\n",
      "QUEUED\n",
      "QUEUED\n",
      "RUNNING\n",
      "RUNNING\n",
      "RUNNING\n",
      "RUNNING\n",
      "RUNNING\n",
      "RUNNING\n",
      "RUNNING\n",
      "RUNNING\n",
      "RUNNING\n",
      "RUNNING\n",
      "RUNNING\n",
      "RUNNING\n",
      "COMPLETED\n",
      "{'measurement_counts': [{'00': 52, '11': 48}, {'00': 48, '11': 52}, {'11': 60, '00': 40}, {'00': 52, '11': 48}, {'11': 58, '00': 42}]}\n"
     ]
    }
   ],
   "source": [
    "import time\n",
    "from braket.aws import AwsSession\n",
    "from braket.aws import AwsQuantumJob\n",
    "from braket.jobs.local import LocalQuantumJob\n",
    "\n",
    "aws_session = AwsSession(default_bucket=\"amazon-braket-us-west-1-lukasvoss\")\n",
    "\n",
    "# job = AwsQuantumJob.create(\n",
    "# job = # LocalQuantumJob.create( # Use the local mode for testing and debugging\n",
    "job = AwsQuantumJob.create(\n",
    "    source_module=\"algorithm_script.py\",\n",
    "    entry_point=\"algorithm_script:start_here\",\n",
    "    device=\"arn:aws:braket:::device/quantum-simulator/amazon/sv1\",\n",
    "    aws_session=aws_session,\n",
    ")\n",
    "\n",
    "print(job.arn)\n",
    "while job.state() not in AwsQuantumJob.TERMINAL_STATES:\n",
    "    print(job.state())\n",
    "    time.sleep(10)\n",
    "\n",
    "print(job.state())\n",
    "print(job.result())   #ADD"
   ]
  }
 ],
 "metadata": {
  "kernelspec": {
   "display_name": "aws_braket",
   "language": "python",
   "name": "python3"
  },
  "language_info": {
   "codemirror_mode": {
    "name": "ipython",
    "version": 3
   },
   "file_extension": ".py",
   "mimetype": "text/x-python",
   "name": "python",
   "nbconvert_exporter": "python",
   "pygments_lexer": "ipython3",
   "version": "3.10.13"
  },
  "orig_nbformat": 4
 },
 "nbformat": 4,
 "nbformat_minor": 2
}
