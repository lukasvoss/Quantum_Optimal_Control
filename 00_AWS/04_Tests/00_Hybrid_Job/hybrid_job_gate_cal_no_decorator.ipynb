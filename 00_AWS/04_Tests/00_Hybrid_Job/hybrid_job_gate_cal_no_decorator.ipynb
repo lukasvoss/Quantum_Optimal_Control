{
 "cells": [
  {
   "cell_type": "code",
   "execution_count": 1,
   "metadata": {},
   "outputs": [],
   "source": [
    "from braket.aws import AwsQuantumJob, AwsSession\n",
    "from braket.jobs.local import LocalQuantumJob\n",
    "import time\n",
    "\n",
    "aws_session = AwsSession(default_bucket=\"amazon-braket-us-west-1-lukasvoss\")"
   ]
  },
  {
   "cell_type": "code",
   "execution_count": 2,
   "metadata": {},
   "outputs": [],
   "source": [
    "num_total_updates = 10\n",
    "\n",
    "hyperparams = {\n",
    "    \"num_total_updates\": num_total_updates, \n",
    "}\n",
    "\n",
    "#Name your job so that it can be later identified\n",
    "job_name = f'cx-gate-calibration-{num_total_updates}-updates'"
   ]
  },
  {
   "cell_type": "code",
   "execution_count": 3,
   "metadata": {},
   "outputs": [
    {
     "ename": "ClientError",
     "evalue": "An error occurred (ResourceConflictException) when calling the CreateJob operation: A job with the name cx-gate-calibration-10-updates-02 already exists in this account. Please provide a different name.",
     "output_type": "error",
     "traceback": [
      "\u001b[0;31m---------------------------------------------------------------------------\u001b[0m",
      "\u001b[0;31mClientError\u001b[0m                               Traceback (most recent call last)",
      "Cell \u001b[0;32mIn[3], line 1\u001b[0m\n\u001b[0;32m----> 1\u001b[0m job \u001b[39m=\u001b[39m AwsQuantumJob\u001b[39m.\u001b[39;49mcreate(\n\u001b[1;32m      2\u001b[0m     \u001b[39m#Run this hybrid job on the SV1 simulator\u001b[39;49;00m\n\u001b[1;32m      3\u001b[0m     device\u001b[39m=\u001b[39;49m\u001b[39m\"\u001b[39;49m\u001b[39marn:aws:braket:::device/quantum-simulator/amazon/sv1\u001b[39;49m\u001b[39m\"\u001b[39;49m,\n\u001b[1;32m      4\u001b[0m     \u001b[39m#The directory or single file containing the code to run.\u001b[39;49;00m\n\u001b[1;32m      5\u001b[0m     source_module\u001b[39m=\u001b[39;49m\u001b[39m\"\u001b[39;49m\u001b[39malgorithm_script.py\u001b[39;49m\u001b[39m\"\u001b[39;49m,\n\u001b[1;32m      6\u001b[0m     \u001b[39m#The main script or function the job will run.\u001b[39;49;00m\n\u001b[1;32m      7\u001b[0m     entry_point\u001b[39m=\u001b[39;49m\u001b[39m\"\u001b[39;49m\u001b[39malgorithm_script:calibrate_gate\u001b[39;49m\u001b[39m\"\u001b[39;49m,\n\u001b[1;32m      8\u001b[0m     \u001b[39m#Set the name of the job\u001b[39;49;00m\n\u001b[1;32m      9\u001b[0m     job_name\u001b[39m=\u001b[39;49m\u001b[39m'\u001b[39;49m\u001b[39mcx-gate-calibration-10-updates-02\u001b[39;49m\u001b[39m'\u001b[39;49m,\n\u001b[1;32m     10\u001b[0m     \u001b[39m# S3 Location of the files needed for the job\u001b[39;49;00m\n\u001b[1;32m     11\u001b[0m     code_location\u001b[39m=\u001b[39;49m\u001b[39m'\u001b[39;49m\u001b[39ms3://amazon-braket-us-west-1-lukasvoss/jobs/cx-gate_calibration-10-updates-02/needed_files/\u001b[39;49m\u001b[39m'\u001b[39;49m,\n\u001b[1;32m     12\u001b[0m     \u001b[39m# Set the hyperparameters\u001b[39;49;00m\n\u001b[1;32m     13\u001b[0m     hyperparameters\u001b[39m=\u001b[39;49mhyperparams,\n\u001b[1;32m     14\u001b[0m     \u001b[39m# Define the file that contains the input data\u001b[39;49;00m\n\u001b[1;32m     15\u001b[0m     input_data\u001b[39m=\u001b[39;49m\u001b[39m\"\u001b[39;49m\u001b[39mconfig_yamls/agent_config.yaml\u001b[39;49m\u001b[39m\"\u001b[39;49m,\n\u001b[1;32m     16\u001b[0m     wait_until_complete\u001b[39m=\u001b[39;49m\u001b[39mTrue\u001b[39;49;00m,\n\u001b[1;32m     17\u001b[0m     aws_session\u001b[39m=\u001b[39;49maws_session,\n\u001b[1;32m     18\u001b[0m )\n",
      "File \u001b[0;32m~/anaconda3/envs/braket/lib/python3.10/site-packages/braket/aws/aws_quantum_job.py:212\u001b[0m, in \u001b[0;36mAwsQuantumJob.create\u001b[0;34m(cls, device, source_module, entry_point, image_uri, job_name, code_location, role_arn, wait_until_complete, hyperparameters, input_data, instance_config, distribution, stopping_condition, output_data_config, copy_checkpoints_from_job, checkpoint_config, aws_session, tags, logger, reservation_arn)\u001b[0m\n\u001b[1;32m    189\u001b[0m aws_session \u001b[39m=\u001b[39m AwsQuantumJob\u001b[39m.\u001b[39m_initialize_session(aws_session, device, logger)\n\u001b[1;32m    191\u001b[0m create_job_kwargs \u001b[39m=\u001b[39m prepare_quantum_job(\n\u001b[1;32m    192\u001b[0m     device\u001b[39m=\u001b[39mdevice,\n\u001b[1;32m    193\u001b[0m     source_module\u001b[39m=\u001b[39msource_module,\n\u001b[0;32m   (...)\u001b[0m\n\u001b[1;32m    209\u001b[0m     reservation_arn\u001b[39m=\u001b[39mreservation_arn,\n\u001b[1;32m    210\u001b[0m )\n\u001b[0;32m--> 212\u001b[0m job_arn \u001b[39m=\u001b[39m aws_session\u001b[39m.\u001b[39;49mcreate_job(\u001b[39m*\u001b[39;49m\u001b[39m*\u001b[39;49mcreate_job_kwargs)\n\u001b[1;32m    213\u001b[0m job \u001b[39m=\u001b[39m AwsQuantumJob(job_arn, aws_session)\n\u001b[1;32m    215\u001b[0m \u001b[39mif\u001b[39;00m wait_until_complete:\n",
      "File \u001b[0;32m~/anaconda3/envs/braket/lib/python3.10/site-packages/braket/aws/aws_session.py:252\u001b[0m, in \u001b[0;36mAwsSession.create_job\u001b[0;34m(self, **boto3_kwargs)\u001b[0m\n\u001b[1;32m    242\u001b[0m \u001b[39mdef\u001b[39;00m \u001b[39mcreate_job\u001b[39m(\u001b[39mself\u001b[39m, \u001b[39m*\u001b[39m\u001b[39m*\u001b[39mboto3_kwargs) \u001b[39m-\u001b[39m\u001b[39m>\u001b[39m \u001b[39mstr\u001b[39m:\n\u001b[1;32m    243\u001b[0m \u001b[39m    \u001b[39m\u001b[39m\"\"\"\u001b[39;00m\n\u001b[1;32m    244\u001b[0m \u001b[39m    Create a quantum hybrid job.\u001b[39;00m\n\u001b[1;32m    245\u001b[0m \n\u001b[0;32m   (...)\u001b[0m\n\u001b[1;32m    250\u001b[0m \u001b[39m        str: The ARN of the hybrid job.\u001b[39;00m\n\u001b[1;32m    251\u001b[0m \u001b[39m    \"\"\"\u001b[39;00m\n\u001b[0;32m--> 252\u001b[0m     response \u001b[39m=\u001b[39m \u001b[39mself\u001b[39;49m\u001b[39m.\u001b[39;49mbraket_client\u001b[39m.\u001b[39;49mcreate_job(\u001b[39m*\u001b[39;49m\u001b[39m*\u001b[39;49mboto3_kwargs)\n\u001b[1;32m    253\u001b[0m     \u001b[39mreturn\u001b[39;00m response[\u001b[39m\"\u001b[39m\u001b[39mjobArn\u001b[39m\u001b[39m\"\u001b[39m]\n",
      "File \u001b[0;32m~/anaconda3/envs/braket/lib/python3.10/site-packages/botocore/client.py:553\u001b[0m, in \u001b[0;36mClientCreator._create_api_method.<locals>._api_call\u001b[0;34m(self, *args, **kwargs)\u001b[0m\n\u001b[1;32m    549\u001b[0m     \u001b[39mraise\u001b[39;00m \u001b[39mTypeError\u001b[39;00m(\n\u001b[1;32m    550\u001b[0m         \u001b[39mf\u001b[39m\u001b[39m\"\u001b[39m\u001b[39m{\u001b[39;00mpy_operation_name\u001b[39m}\u001b[39;00m\u001b[39m() only accepts keyword arguments.\u001b[39m\u001b[39m\"\u001b[39m\n\u001b[1;32m    551\u001b[0m     )\n\u001b[1;32m    552\u001b[0m \u001b[39m# The \"self\" in this scope is referring to the BaseClient.\u001b[39;00m\n\u001b[0;32m--> 553\u001b[0m \u001b[39mreturn\u001b[39;00m \u001b[39mself\u001b[39;49m\u001b[39m.\u001b[39;49m_make_api_call(operation_name, kwargs)\n",
      "File \u001b[0;32m~/anaconda3/envs/braket/lib/python3.10/site-packages/botocore/client.py:1009\u001b[0m, in \u001b[0;36mBaseClient._make_api_call\u001b[0;34m(self, operation_name, api_params)\u001b[0m\n\u001b[1;32m   1005\u001b[0m     error_code \u001b[39m=\u001b[39m error_info\u001b[39m.\u001b[39mget(\u001b[39m\"\u001b[39m\u001b[39mQueryErrorCode\u001b[39m\u001b[39m\"\u001b[39m) \u001b[39mor\u001b[39;00m error_info\u001b[39m.\u001b[39mget(\n\u001b[1;32m   1006\u001b[0m         \u001b[39m\"\u001b[39m\u001b[39mCode\u001b[39m\u001b[39m\"\u001b[39m\n\u001b[1;32m   1007\u001b[0m     )\n\u001b[1;32m   1008\u001b[0m     error_class \u001b[39m=\u001b[39m \u001b[39mself\u001b[39m\u001b[39m.\u001b[39mexceptions\u001b[39m.\u001b[39mfrom_code(error_code)\n\u001b[0;32m-> 1009\u001b[0m     \u001b[39mraise\u001b[39;00m error_class(parsed_response, operation_name)\n\u001b[1;32m   1010\u001b[0m \u001b[39melse\u001b[39;00m:\n\u001b[1;32m   1011\u001b[0m     \u001b[39mreturn\u001b[39;00m parsed_response\n",
      "\u001b[0;31mClientError\u001b[0m: An error occurred (ResourceConflictException) when calling the CreateJob operation: A job with the name cx-gate-calibration-10-updates-02 already exists in this account. Please provide a different name."
     ]
    }
   ],
   "source": [
    "job = AwsQuantumJob.create(\n",
    "    #Run this hybrid job on the SV1 simulator\n",
    "    device=\"arn:aws:braket:::device/quantum-simulator/amazon/sv1\",\n",
    "    #The directory or single file containing the code to run.\n",
    "    source_module=\"algorithm_script.py\",\n",
    "    #The main script or function the job will run.\n",
    "    entry_point=\"algorithm_script:calibrate_gate\",\n",
    "    #Set the name of the job\n",
    "    job_name=job_name,\n",
    "    # S3 Location of the files needed for the job\n",
    "    code_location='s3://amazon-braket-us-west-1-lukasvoss/jobs/cx-gate_calibration-10-updates-02/needed_files/',\n",
    "    # Set the hyperparameters\n",
    "    hyperparameters=hyperparams,\n",
    "    # Define the file that contains the input data\n",
    "    input_data=\"config_yamls/agent_config.yaml\",\n",
    "    wait_until_complete=True,\n",
    "    aws_session=aws_session,\n",
    ")"
   ]
  },
  {
   "cell_type": "code",
   "execution_count": null,
   "metadata": {},
   "outputs": [],
   "source": [
    "while job.state() not in job.TERMINAL_STATES:\n",
    "    print(job.state())\n",
    "    time.sleep(30)\n",
    "\n",
    "print(job.state())\n",
    "print(job.result())"
   ]
  }
 ],
 "metadata": {
  "kernelspec": {
   "display_name": "braket",
   "language": "python",
   "name": "python3"
  },
  "language_info": {
   "codemirror_mode": {
    "name": "ipython",
    "version": 3
   },
   "file_extension": ".py",
   "mimetype": "text/x-python",
   "name": "python",
   "nbconvert_exporter": "python",
   "pygments_lexer": "ipython3",
   "version": "3.10.13"
  },
  "orig_nbformat": 4
 },
 "nbformat": 4,
 "nbformat_minor": 2
}
