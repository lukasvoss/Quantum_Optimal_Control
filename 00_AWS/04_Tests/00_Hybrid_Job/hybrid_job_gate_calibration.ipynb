{
 "cells": [
  {
   "cell_type": "code",
   "execution_count": 1,
   "metadata": {},
   "outputs": [
    {
     "name": "stderr",
     "output_type": "stream",
     "text": [
      "/Users/lukasvoss/anaconda3/envs/braket/lib/python3.10/site-packages/qiskit_dynamics/dispatch/backends/jax.py:34: UserWarning: The functionality in the perturbation module of Qiskit Dynamics requires a JAX version <= 0.4.6, due to a bug in JAX versions > 0.4.6. For versions 0.4.4, 0.4.5, and 0.4.6, using the perturbation module functionality requires setting os.environ['JAX_JIT_PJIT_API_MERGE'] = '0' before importing JAX or Dynamics.\n",
      "  warnings.warn(\n",
      "WARNING: All log messages before absl::InitializeLog() is called are written to STDERR\n",
      "I0000 00:00:1704959435.246469       1 tfrt_cpu_pjrt_client.cc:349] TfrtCpuClient created.\n"
     ]
    }
   ],
   "source": [
    "from needed_files.quantumenvironment import QuantumEnvironment\n",
    "from needed_files.helper_functions import load_agent_from_yaml_file\n",
    "from needed_files.ppo import make_train_ppo\n",
    "from needed_files.q_env_config import get_q_env_config\n",
    "# from needed_files.q_env_config import q_env_config as gate_q_env_config\n",
    "# from needed_files.qenvconfig import QEnvConfiguration\n",
    "\n",
    "import os\n",
    "import time\n",
    "import cloudpickle"
   ]
  },
  {
   "cell_type": "code",
   "execution_count": 3,
   "metadata": {},
   "outputs": [
    {
     "ename": "NameError",
     "evalue": "name 'QEnvConfiguration' is not defined",
     "output_type": "error",
     "traceback": [
      "\u001b[0;31m---------------------------------------------------------------------------\u001b[0m",
      "\u001b[0;31mNameError\u001b[0m                                 Traceback (most recent call last)",
      "Cell \u001b[0;32mIn[3], line 1\u001b[0m\n\u001b[0;32m----> 1\u001b[0m \u001b[39mtype\u001b[39m(QEnvConfiguration()\u001b[39m.\u001b[39mq_env_configuration)\n",
      "\u001b[0;31mNameError\u001b[0m: name 'QEnvConfiguration' is not defined"
     ]
    }
   ],
   "source": [
    "type(QEnvConfiguration().q_env_configuration)"
   ]
  },
  {
   "cell_type": "code",
   "execution_count": 4,
   "metadata": {},
   "outputs": [],
   "source": [
    "from braket.tracking import Tracker\n",
    "from braket.jobs import hybrid_job, save_job_result\n",
    "from braket.jobs.metrics import log_metric\n",
    "from braket.aws import AwsDevice\n",
    "\n",
    "from braket.aws import AwsSession\n",
    "from braket.aws import AwsQuantumJob\n",
    "from braket.jobs.local import LocalQuantumJob\n",
    "\n",
    "from qiskit_braket_provider import BraketLocalBackend, AWSBraketProvider, AWSBraketBackend, AWSBraketJob\n",
    "\n",
    "aws_session = AwsSession(default_bucket=\"amazon-braket-us-west-1-lukasvoss\")"
   ]
  },
  {
   "cell_type": "code",
   "execution_count": 5,
   "metadata": {},
   "outputs": [],
   "source": [
    "def calibrate_gate(num_total_updates):\n",
    "    print(\"Job started!!!!!\")\n",
    "\n",
    "    braket_task_costs = Tracker().start()\n",
    "    ppo_params, network_params  = load_agent_from_yaml_file(file_path='config_yamls/agent_config.yaml')\n",
    "    agent_config = {**ppo_params, **network_params}\n",
    "    \n",
    "    provider = AWSBraketProvider()\n",
    "    backend = provider.get_backend('SV1')\n",
    "    # temp = QEnvConfiguration()\n",
    "    # gate_q_env_config = temp.q_env_configuration\n",
    "\n",
    "    gate_q_env_config = get_q_env_config()\n",
    "    \n",
    "    q_env = QuantumEnvironment(gate_q_env_config)\n",
    "    q_env.backend = backend\n",
    "    \n",
    "    ppo_agent = make_train_ppo(agent_config, q_env)\n",
    "\n",
    "    # training_results = ppo_agent(total_updates=hyperparams[\"num_updates\"], print_debug=True, num_prints=40)\n",
    "    training_results = ppo_agent(total_updates=num_total_updates, print_debug=False, num_prints=40)\n",
    "    # save_job_result({ \"measurement_counts\": training_results })\n",
    "\n",
    "    print(\"Job completed!!!!!\")\n",
    "\n",
    "    training_results['task_summary'] = braket_task_costs.quantum_tasks_statistics()\n",
    "    training_results['estimated cost'] = float(\n",
    "            braket_task_costs.qpu_tasks_cost() + braket_task_costs.simulator_tasks_cost()\n",
    "        )\n",
    "\n",
    "    return training_results"
   ]
  },
  {
   "attachments": {},
   "cell_type": "markdown",
   "metadata": {},
   "source": [
    "#### Check if function works as expected"
   ]
  },
  {
   "cell_type": "code",
   "execution_count": 6,
   "metadata": {},
   "outputs": [
    {
     "name": "stdout",
     "output_type": "stream",
     "text": [
      "Job started!!!!!\n",
      "SparsePauliOp(['II', 'IZ', 'ZI', 'ZZ'],\n",
      "              coeffs=[ 0.25+0.j, -0.25+0.j,  0.25+0.j, -0.25+0.j])\n"
     ]
    },
    {
     "name": "stderr",
     "output_type": "stream",
     "text": [
      "  0%|          | 0/1 [00:00<?, ?it/s]"
     ]
    },
    {
     "name": "stdout",
     "output_type": "stream",
     "text": [
      "SparsePauliOp(['II', 'IZ', 'YI', 'YZ'],\n",
      "              coeffs=[ 0.25+0.j, -0.25+0.j, -0.25+0.j,  0.25+0.j])\n"
     ]
    },
    {
     "name": "stderr",
     "output_type": "stream",
     "text": [
      "100%|██████████| 1/1 [00:00<00:00,  4.00it/s]"
     ]
    },
    {
     "name": "stdout",
     "output_type": "stream",
     "text": [
      "Fidelity History: []\n",
      "Job completed!!!!!\n",
      "CPU times: user 788 ms, sys: 161 ms, total: 949 ms\n",
      "Wall time: 7.23 s\n"
     ]
    },
    {
     "name": "stderr",
     "output_type": "stream",
     "text": [
      "\n"
     ]
    }
   ],
   "source": [
    "%%time\n",
    "\n",
    "training_results = calibrate_gate(num_total_updates=1)"
   ]
  },
  {
   "attachments": {},
   "cell_type": "markdown",
   "metadata": {},
   "source": [
    "### Use a decorator to make it a Hybrid Job"
   ]
  },
  {
   "cell_type": "code",
   "execution_count": 7,
   "metadata": {},
   "outputs": [],
   "source": [
    "job_name = f'cx-gate-calibration-decorator-{str(int(time.time()))}'"
   ]
  },
  {
   "cell_type": "code",
   "execution_count": 8,
   "metadata": {},
   "outputs": [
    {
     "data": {
      "text/plain": [
       "'/Users/lukasvoss/Documents/Master Wirtschaftsphysik/Masterarbeit Yale-NUS CQT/Quantum_Optimal_Control/00_AWS/04_Tests/00_Hybrid_Job'"
      ]
     },
     "execution_count": 8,
     "metadata": {},
     "output_type": "execute_result"
    }
   ],
   "source": [
    "os.getcwd()"
   ]
  },
  {
   "cell_type": "code",
   "execution_count": 9,
   "metadata": {},
   "outputs": [],
   "source": [
    "needed_modules = [\n",
    "    'needed_files.quantumenvironment', \n",
    "    'needed_files.helper_functions', \n",
    "    'needed_files.ppo', \n",
    "    'needed_files.q_env_config',\n",
    "    # 'needed_files.qenvconfig'\n",
    "]\n",
    "\n",
    "\n",
    "@hybrid_job(device=None, local=False, include_modules=needed_modules, input_data='config_yamls/agent_config.yaml', job_name=job_name)\n",
    "def calibrate_gate_hybrid_job(num_total_updates):\n",
    "    return calibrate_gate(num_total_updates)"
   ]
  },
  {
   "cell_type": "code",
   "execution_count": 10,
   "metadata": {},
   "outputs": [
    {
     "ename": "RuntimeError",
     "evalue": "Serialization failed for decorator hybrid job. If you are referencing an object from outside the function scope, either directly or through function parameters, try instantiating the object inside the decorated function instead.",
     "output_type": "error",
     "traceback": [
      "\u001b[0;31m---------------------------------------------------------------------------\u001b[0m",
      "\u001b[0;31mPicklingError\u001b[0m                             Traceback (most recent call last)",
      "File \u001b[0;32m~/anaconda3/envs/braket/lib/python3.10/site-packages/braket/jobs/hybrid_job.py:288\u001b[0m, in \u001b[0;36m_serialize_entry_point\u001b[0;34m(entry_point, args, kwargs)\u001b[0m\n\u001b[1;32m    287\u001b[0m \u001b[39mtry\u001b[39;00m:\n\u001b[0;32m--> 288\u001b[0m     serialized \u001b[39m=\u001b[39m cloudpickle\u001b[39m.\u001b[39;49mdumps(wrapped_entry_point)\n\u001b[1;32m    289\u001b[0m \u001b[39mexcept\u001b[39;00m \u001b[39mException\u001b[39;00m \u001b[39mas\u001b[39;00m e:\n",
      "File \u001b[0;32m~/anaconda3/envs/braket/lib/python3.10/site-packages/cloudpickle/cloudpickle_fast.py:73\u001b[0m, in \u001b[0;36mdumps\u001b[0;34m(obj, protocol, buffer_callback)\u001b[0m\n\u001b[1;32m     70\u001b[0m cp \u001b[39m=\u001b[39m CloudPickler(\n\u001b[1;32m     71\u001b[0m     file, protocol\u001b[39m=\u001b[39mprotocol, buffer_callback\u001b[39m=\u001b[39mbuffer_callback\n\u001b[1;32m     72\u001b[0m )\n\u001b[0;32m---> 73\u001b[0m cp\u001b[39m.\u001b[39;49mdump(obj)\n\u001b[1;32m     74\u001b[0m \u001b[39mreturn\u001b[39;00m file\u001b[39m.\u001b[39mgetvalue()\n",
      "File \u001b[0;32m~/anaconda3/envs/braket/lib/python3.10/site-packages/cloudpickle/cloudpickle_fast.py:632\u001b[0m, in \u001b[0;36mCloudPickler.dump\u001b[0;34m(self, obj)\u001b[0m\n\u001b[1;32m    631\u001b[0m \u001b[39mtry\u001b[39;00m:\n\u001b[0;32m--> 632\u001b[0m     \u001b[39mreturn\u001b[39;00m Pickler\u001b[39m.\u001b[39;49mdump(\u001b[39mself\u001b[39;49m, obj)\n\u001b[1;32m    633\u001b[0m \u001b[39mexcept\u001b[39;00m \u001b[39mRuntimeError\u001b[39;00m \u001b[39mas\u001b[39;00m e:\n",
      "\u001b[0;31mPicklingError\u001b[0m: Can't pickle <built-in function input>: it's not the same object as builtins.input",
      "\nThe above exception was the direct cause of the following exception:\n",
      "\u001b[0;31mRuntimeError\u001b[0m                              Traceback (most recent call last)",
      "Cell \u001b[0;32mIn[10], line 1\u001b[0m\n\u001b[0;32m----> 1\u001b[0m job \u001b[39m=\u001b[39m calibrate_gate_hybrid_job(num_total_updates\u001b[39m=\u001b[39;49m\u001b[39m10\u001b[39;49m)\n",
      "File \u001b[0;32m~/anaconda3/envs/braket/lib/python3.10/site-packages/braket/jobs/hybrid_job.py:182\u001b[0m, in \u001b[0;36mhybrid_job.<locals>._hybrid_job.<locals>.job_wrapper\u001b[0;34m(*args, **kwargs)\u001b[0m\n\u001b[1;32m    177\u001b[0m entry_point_file_path \u001b[39m=\u001b[39m Path(\u001b[39m\"\u001b[39m\u001b[39mentry_point.py\u001b[39m\u001b[39m\"\u001b[39m)\n\u001b[1;32m    178\u001b[0m \u001b[39mwith\u001b[39;00m \u001b[39mopen\u001b[39m(temp_dir_path \u001b[39m/\u001b[39m entry_point_file_path, \u001b[39m\"\u001b[39m\u001b[39mw\u001b[39m\u001b[39m\"\u001b[39m) \u001b[39mas\u001b[39;00m entry_point_file:\n\u001b[1;32m    179\u001b[0m     template \u001b[39m=\u001b[39m \u001b[39m\"\u001b[39m\u001b[39m\\n\u001b[39;00m\u001b[39m\"\u001b[39m\u001b[39m.\u001b[39mjoin(\n\u001b[1;32m    180\u001b[0m         [\n\u001b[1;32m    181\u001b[0m             _process_input_data(input_data),\n\u001b[0;32m--> 182\u001b[0m             _serialize_entry_point(entry_point, args, kwargs),\n\u001b[1;32m    183\u001b[0m         ]\n\u001b[1;32m    184\u001b[0m     )\n\u001b[1;32m    185\u001b[0m     entry_point_file\u001b[39m.\u001b[39mwrite(template)\n\u001b[1;32m    187\u001b[0m \u001b[39mif\u001b[39;00m dependencies:\n",
      "File \u001b[0;32m~/anaconda3/envs/braket/lib/python3.10/site-packages/braket/jobs/hybrid_job.py:290\u001b[0m, in \u001b[0;36m_serialize_entry_point\u001b[0;34m(entry_point, args, kwargs)\u001b[0m\n\u001b[1;32m    288\u001b[0m     serialized \u001b[39m=\u001b[39m cloudpickle\u001b[39m.\u001b[39mdumps(wrapped_entry_point)\n\u001b[1;32m    289\u001b[0m \u001b[39mexcept\u001b[39;00m \u001b[39mException\u001b[39;00m \u001b[39mas\u001b[39;00m e:\n\u001b[0;32m--> 290\u001b[0m     \u001b[39mraise\u001b[39;00m \u001b[39mRuntimeError\u001b[39;00m(\n\u001b[1;32m    291\u001b[0m         \u001b[39m\"\u001b[39m\u001b[39mSerialization failed for decorator hybrid job. If you are referencing \u001b[39m\u001b[39m\"\u001b[39m\n\u001b[1;32m    292\u001b[0m         \u001b[39m\"\u001b[39m\u001b[39man object from outside the function scope, either directly or through \u001b[39m\u001b[39m\"\u001b[39m\n\u001b[1;32m    293\u001b[0m         \u001b[39m\"\u001b[39m\u001b[39mfunction parameters, try instantiating the object inside the decorated \u001b[39m\u001b[39m\"\u001b[39m\n\u001b[1;32m    294\u001b[0m         \u001b[39m\"\u001b[39m\u001b[39mfunction instead.\u001b[39m\u001b[39m\"\u001b[39m\n\u001b[1;32m    295\u001b[0m     ) \u001b[39mfrom\u001b[39;00m \u001b[39me\u001b[39;00m\n\u001b[1;32m    297\u001b[0m \u001b[39mreturn\u001b[39;00m run_entry_point\u001b[39m.\u001b[39mformat(\n\u001b[1;32m    298\u001b[0m     serialized\u001b[39m=\u001b[39mserialized,\n\u001b[1;32m    299\u001b[0m     function_name\u001b[39m=\u001b[39mentry_point\u001b[39m.\u001b[39m\u001b[39m__name__\u001b[39m,\n\u001b[1;32m    300\u001b[0m )\n",
      "\u001b[0;31mRuntimeError\u001b[0m: Serialization failed for decorator hybrid job. If you are referencing an object from outside the function scope, either directly or through function parameters, try instantiating the object inside the decorated function instead."
     ]
    }
   ],
   "source": [
    "job = calibrate_gate_hybrid_job(num_total_updates=10)"
   ]
  },
  {
   "cell_type": "code",
   "execution_count": null,
   "metadata": {},
   "outputs": [],
   "source": [
    "job.state()"
   ]
  },
  {
   "cell_type": "code",
   "execution_count": null,
   "metadata": {},
   "outputs": [],
   "source": [
    "while job.state() not in job.TERMINAL_STATES:\n",
    "    print(job.state())\n",
    "    time.sleep(30)\n",
    "\n",
    "print(job.state())\n",
    "print(job.result())"
   ]
  }
 ],
 "metadata": {
  "kernelspec": {
   "display_name": "braket",
   "language": "python",
   "name": "python3"
  },
  "language_info": {
   "codemirror_mode": {
    "name": "ipython",
    "version": 3
   },
   "file_extension": ".py",
   "mimetype": "text/x-python",
   "name": "python",
   "nbconvert_exporter": "python",
   "pygments_lexer": "ipython3",
   "version": "3.10.13"
  },
  "orig_nbformat": 4
 },
 "nbformat": 4,
 "nbformat_minor": 2
}
