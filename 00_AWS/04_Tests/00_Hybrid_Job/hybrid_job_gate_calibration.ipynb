{
 "cells": [
  {
   "cell_type": "code",
   "execution_count": 1,
   "metadata": {},
   "outputs": [
    {
     "name": "stderr",
     "output_type": "stream",
     "text": [
      "/Users/lukasvoss/anaconda3/envs/braket/lib/python3.10/site-packages/qiskit_dynamics/dispatch/backends/jax.py:34: UserWarning: The functionality in the perturbation module of Qiskit Dynamics requires a JAX version <= 0.4.6, due to a bug in JAX versions > 0.4.6. For versions 0.4.4, 0.4.5, and 0.4.6, using the perturbation module functionality requires setting os.environ['JAX_JIT_PJIT_API_MERGE'] = '0' before importing JAX or Dynamics.\n",
      "  warnings.warn(\n"
     ]
    },
    {
     "ename": "ModuleNotFoundError",
     "evalue": "No module named 'helper_functions'",
     "output_type": "error",
     "traceback": [
      "\u001b[0;31m---------------------------------------------------------------------------\u001b[0m",
      "\u001b[0;31mModuleNotFoundError\u001b[0m                       Traceback (most recent call last)",
      "Cell \u001b[0;32mIn[1], line 1\u001b[0m\n\u001b[0;32m----> 1\u001b[0m \u001b[39mfrom\u001b[39;00m \u001b[39mneeded_files\u001b[39;00m\u001b[39m.\u001b[39;00m\u001b[39mquantumenvironment\u001b[39;00m \u001b[39mimport\u001b[39;00m QuantumEnvironment\n\u001b[1;32m      2\u001b[0m \u001b[39mfrom\u001b[39;00m \u001b[39mneeded_files\u001b[39;00m\u001b[39m.\u001b[39;00m\u001b[39mhelper_functions\u001b[39;00m \u001b[39mimport\u001b[39;00m load_q_env_from_yaml_file, load_agent_from_yaml_file\n\u001b[1;32m      3\u001b[0m \u001b[39mfrom\u001b[39;00m \u001b[39mneeded_files\u001b[39;00m\u001b[39m.\u001b[39;00m\u001b[39mppo\u001b[39;00m \u001b[39mimport\u001b[39;00m make_train_ppo\n",
      "File \u001b[0;32m~/Documents/Master Wirtschaftsphysik/Masterarbeit Yale-NUS CQT/Quantum_Optimal_Control/00_AWS/04_Tests/00_Hybrid_Job/needed_files/quantumenvironment.py:59\u001b[0m\n\u001b[1;32m     56\u001b[0m \u001b[39mfrom\u001b[39;00m \u001b[39mtensorflow_probability\u001b[39;00m\u001b[39m.\u001b[39;00m\u001b[39mpython\u001b[39;00m\u001b[39m.\u001b[39;00m\u001b[39mdistributions\u001b[39;00m \u001b[39mimport\u001b[39;00m Categorical\n\u001b[1;32m     58\u001b[0m \u001b[39mfrom\u001b[39;00m \u001b[39mneeded_files\u001b[39;00m\u001b[39m.\u001b[39;00m\u001b[39mjax_solver\u001b[39;00m \u001b[39mimport\u001b[39;00m JaxSolver\n\u001b[0;32m---> 59\u001b[0m \u001b[39mfrom\u001b[39;00m \u001b[39mhelper_functions\u001b[39;00m \u001b[39mimport\u001b[39;00m (\n\u001b[1;32m     60\u001b[0m     retrieve_primitives,\n\u001b[1;32m     61\u001b[0m     Estimator_type,\n\u001b[1;32m     62\u001b[0m     Sampler_type,\n\u001b[1;32m     63\u001b[0m     handle_session,\n\u001b[1;32m     64\u001b[0m     state_fidelity_from_state_tomography,\n\u001b[1;32m     65\u001b[0m     gate_fidelity_from_process_tomography,\n\u001b[1;32m     66\u001b[0m     qubit_projection,\n\u001b[1;32m     67\u001b[0m )\n\u001b[1;32m     68\u001b[0m \u001b[39mfrom\u001b[39;00m \u001b[39mqconfig\u001b[39;00m \u001b[39mimport\u001b[39;00m QiskitConfig, QEnvConfig, QuaConfig\n\u001b[1;32m     71\u001b[0m \u001b[39m# QUA imports\u001b[39;00m\n\u001b[1;32m     72\u001b[0m \u001b[39m# from qualang_tools.bakery.bakery import baking\u001b[39;00m\n\u001b[1;32m     73\u001b[0m \u001b[39m# from qm.qua import *\u001b[39;00m\n\u001b[1;32m     74\u001b[0m \u001b[39m# from qm.QuantumMachinesManager import QuantumMachinesManager\u001b[39;00m\n",
      "\u001b[0;31mModuleNotFoundError\u001b[0m: No module named 'helper_functions'"
     ]
    }
   ],
   "source": [
    "from needed_files.quantumenvironment import QuantumEnvironment\n",
    "from needed_files.helper_functions import load_q_env_from_yaml_file, load_agent_from_yaml_file\n",
    "from needed_files.ppo import make_train_ppo\n",
    "from needed_files.q_env_config import q_env_config as gate_q_env_config\n",
    "\n",
    "import time"
   ]
  },
  {
   "cell_type": "code",
   "execution_count": null,
   "metadata": {},
   "outputs": [],
   "source": [
    "from braket.tracking import Tracker\n",
    "from braket.jobs import hybrid_job, save_job_result\n",
    "from braket.jobs.metrics import log_metric\n",
    "from braket.aws import AwsDevice\n",
    "\n",
    "from braket.aws import AwsSession\n",
    "from braket.aws import AwsQuantumJob\n",
    "from braket.jobs.local import LocalQuantumJob\n",
    "\n",
    "from qiskit_braket_provider import BraketLocalBackend, AWSBraketProvider, AWSBraketBackend, AWSBraketJob\n",
    "\n",
    "aws_session = AwsSession(default_bucket=\"amazon-braket-us-west-1-lukasvoss\")"
   ]
  },
  {
   "cell_type": "code",
   "execution_count": null,
   "metadata": {},
   "outputs": [],
   "source": [
    "def calibrate_gate(num_total_updates):\n",
    "    print(\"Job started!!!!!\")\n",
    "\n",
    "    braket_task_costs = Tracker().start()\n",
    "    ppo_params, network_params  = load_agent_from_yaml_file(file_path='/Users/lukasvoss/Documents/Master Wirtschaftsphysik/Masterarbeit Yale-NUS CQT/Quantum_Optimal_Control/template_configurations/agent_config.yaml')\n",
    "    agent_config = {**ppo_params, **network_params}\n",
    "\n",
    "    \n",
    "    provider = AWSBraketProvider()\n",
    "    backend = provider.get_backend('SV1')\n",
    "    q_env = QuantumEnvironment(gate_q_env_config)\n",
    "    q_env.backend = backend\n",
    "    \n",
    "    ppo_agent = make_train_ppo(agent_config, q_env)\n",
    "\n",
    "    # training_results = ppo_agent(total_updates=hyperparams[\"num_updates\"], print_debug=True, num_prints=40)\n",
    "    training_results = ppo_agent(total_updates=num_total_updates, print_debug=False, num_prints=40)\n",
    "    # save_job_result({ \"measurement_counts\": training_results })\n",
    "\n",
    "    print(\"Job completed!!!!!\")\n",
    "\n",
    "    training_results['task_summary'] = braket_task_costs.quantum_tasks_statistics()\n",
    "    training_results['estimated cost'] = float(\n",
    "            braket_task_costs.qpu_tasks_cost() + braket_task_costs.simulator_tasks_cost()\n",
    "        )\n",
    "\n",
    "    return training_results"
   ]
  },
  {
   "cell_type": "code",
   "execution_count": null,
   "metadata": {},
   "outputs": [],
   "source": [
    "%%time\n",
    "\n",
    "calibrate_gate(num_total_updates=1)"
   ]
  }
 ],
 "metadata": {
  "kernelspec": {
   "display_name": "braket",
   "language": "python",
   "name": "python3"
  },
  "language_info": {
   "codemirror_mode": {
    "name": "ipython",
    "version": 3
   },
   "file_extension": ".py",
   "mimetype": "text/x-python",
   "name": "python",
   "nbconvert_exporter": "python",
   "pygments_lexer": "ipython3",
   "version": "3.10.13"
  },
  "orig_nbformat": 4
 },
 "nbformat": 4,
 "nbformat_minor": 2
}
