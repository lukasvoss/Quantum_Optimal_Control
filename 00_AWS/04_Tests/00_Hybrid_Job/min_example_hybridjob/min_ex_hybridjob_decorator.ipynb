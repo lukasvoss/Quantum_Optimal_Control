{
 "cells": [
  {
   "attachments": {},
   "cell_type": "markdown",
   "metadata": {},
   "source": [
    "### Minimal Example for a Hybrid Job using a function decorator ``hybrid_job``"
   ]
  },
  {
   "attachments": {},
   "cell_type": "markdown",
   "metadata": {},
   "source": [
    "##### Imports"
   ]
  },
  {
   "cell_type": "code",
   "execution_count": 1,
   "metadata": {},
   "outputs": [
    {
     "name": "stderr",
     "output_type": "stream",
     "text": [
      "/Users/lukasvoss/anaconda3/envs/braket/lib/python3.10/site-packages/qiskit_dynamics/dispatch/backends/jax.py:34: UserWarning: The functionality in the perturbation module of Qiskit Dynamics requires a JAX version <= 0.4.6, due to a bug in JAX versions > 0.4.6. For versions 0.4.4, 0.4.5, and 0.4.6, using the perturbation module functionality requires setting os.environ['JAX_JIT_PJIT_API_MERGE'] = '0' before importing JAX or Dynamics.\n",
      "  warnings.warn(\n"
     ]
    }
   ],
   "source": [
    "# Import of own modules\n",
    "from needed_files_min_example.q_env_config import q_env_config as gate_q_env_config\n",
    "from needed_files_min_example.quantumenvironment import QuantumEnvironment\n",
    "from needed_files_min_example.helper_functions import load_agent_from_yaml_file\n",
    "\n",
    "### INFO ###\n",
    "# The following module would also be used in the real implementation but is not relevant for this minimal example\n",
    "# from needed_files_min_example.ppo import make_train_ppo # Import a function to train the RL agent\n",
    "\n",
    "\n",
    "# Braket imports\n",
    "from braket.tracking import Tracker\n",
    "from braket.jobs import hybrid_job\n",
    "from braket.aws import AwsSession\n",
    "from qiskit_braket_provider import AWSBraketProvider\n",
    "\n",
    "# Specify the S3 bucket to store circuit and result files\n",
    "aws_session = AwsSession(default_bucket=\"amazon-braket-us-west-1-lukasvoss\")\n",
    "\n",
    "# Other imports\n",
    "import time"
   ]
  },
  {
   "attachments": {},
   "cell_type": "markdown",
   "metadata": {},
   "source": [
    "##### Function to run as a Hybrid Job"
   ]
  },
  {
   "attachments": {},
   "cell_type": "markdown",
   "metadata": {},
   "source": [
    "Find below the function that shall later be converted into a hybrid job with a decorator. We tested the full code (below only a scheme to understand the workflow) **without** a decorator and it works well. \n",
    "Once, the decorator is applied, we face issues with the serialization of one of the objects we need to use for the simulation. This object is ``gate_q_env_config`` that gets imported from a module in the directory \"needed_files\".\n",
    "\n",
    "Said object contains all necessary information about the simulation and is therefore crucial element since it will be used as input by the ``QuantumEnvironment`` class as the first step of our workflow."
   ]
  },
  {
   "cell_type": "code",
   "execution_count": 2,
   "metadata": {},
   "outputs": [],
   "source": [
    "def calibrate_gate():\n",
    "    print(\"Job started!!!!!\")\n",
    "    braket_task_costs = Tracker().start()\n",
    "    \n",
    "\n",
    "    # XXX: The following step, so using the object gate_q_env_config fails because it is non-serializable and can therefore not be used within this function.\n",
    "    q_env = QuantumEnvironment(gate_q_env_config)\n",
    "    \n",
    "\n",
    "    ### INFO ###\n",
    "\n",
    "    # The code below is a dummy/schematic implementation of what happens later in our workflow.\n",
    "    # The error-causing line is the one with XXX above. Since this error-causing line is the first step in our workflow,\n",
    "    # we cannot/could not proceed with the rest of the workflow.\n",
    "\n",
    "    ppo_params, network_params  = load_agent_from_yaml_file(file_path='config_yamls/agent_config.yaml') # Access input file\n",
    "    agent_config = {**ppo_params, **network_params}\n",
    "\n",
    "    # Since our code is based on Qiskit, we want to use Braket's Qiskit Provider (here start with SV1 for testing)\n",
    "    provider = AWSBraketProvider()\n",
    "    backend = provider.get_backend('SV1')\n",
    "    # q_env.backend = backend\n",
    "    \n",
    "    # Load the RL agent based on the QuantumEnvironment object\n",
    "    # Run the parametrized quantum circuit that is part of the ``gate_q_env_config`` object\n",
    "    # and train the RL agent based on the reward\n",
    "    \n",
    "    # Return training results (here dummy results)\n",
    "    dummy_training_results = {\n",
    "        'avg_return': [0.34, 0.45, 0.56, 0.67, 0.78, 0.89, 0.90, 0.91, 0.92, 0.93, 0.94, 0.95],\n",
    "        'action_vector': [0.03, 0.04, 0.05, 0.06, 0.07, 0.08, 0.09],\n",
    "        'task_summary': braket_task_costs.quantum_tasks_statistics(),\n",
    "        'estimated cost': float(\n",
    "            braket_task_costs.qpu_tasks_cost() + braket_task_costs.simulator_tasks_cost()\n",
    "        )\n",
    "    }\n",
    "    return dummy_training_results"
   ]
  },
  {
   "cell_type": "code",
   "execution_count": 3,
   "metadata": {},
   "outputs": [],
   "source": [
    "job_name = f'cx-gate-calibration-decorator-{str(int(time.time()))}'\n",
    "\n",
    "needed_modules = [\n",
    "    # XXX: This module contains the gate_q_env_config object that we want to use and for which the serialization fails\n",
    "    'needed_files_min_example.q_env_config',\n",
    "    \n",
    "    # This module contains the QuantumEnvironment class which takes the gate_q_env_config object as input\n",
    "    'needed_files_min_example.quantumenvironment',\n",
    "    \n",
    "\n",
    "    # INFO: The following modules are needed for the real implementation of the calibration but not relevant for the dummy implementation\n",
    "    # 'needed_files_min_example.helper_functions', \n",
    "    # 'needed_files_min_example.ppo', \n",
    "]"
   ]
  },
  {
   "attachments": {},
   "cell_type": "markdown",
   "metadata": {},
   "source": [
    "##### Use Hybrid Job Decorator"
   ]
  },
  {
   "attachments": {},
   "cell_type": "markdown",
   "metadata": {},
   "source": [
    "Make the function ``calibrate_gate`` a hybrid job with the decorator specifying required additonal information like input data, dependencies and - most importantly - modules"
   ]
  },
  {
   "cell_type": "code",
   "execution_count": 4,
   "metadata": {},
   "outputs": [],
   "source": [
    "@hybrid_job(device=None,\n",
    "            include_modules=needed_modules, # XXX: This is the list of modules that are needed for the job\n",
    "            input_data='config_yamls/agent_config.yaml', # Additonal input data\n",
    "            job_name=job_name, \n",
    "            dependencies='needed_files_min_example/requirements.txt') # Dependencies\n",
    "def calibrate_gate_hybrid_job():\n",
    "    return calibrate_gate()"
   ]
  },
  {
   "cell_type": "code",
   "execution_count": 5,
   "metadata": {},
   "outputs": [
    {
     "ename": "RuntimeError",
     "evalue": "Serialization failed for decorator hybrid job. If you are referencing an object from outside the function scope, either directly or through function parameters, try instantiating the object inside the decorated function instead.",
     "output_type": "error",
     "traceback": [
      "\u001b[0;31m---------------------------------------------------------------------------\u001b[0m",
      "\u001b[0;31mPicklingError\u001b[0m                             Traceback (most recent call last)",
      "File \u001b[0;32m~/anaconda3/envs/braket/lib/python3.10/site-packages/braket/jobs/hybrid_job.py:288\u001b[0m, in \u001b[0;36m_serialize_entry_point\u001b[0;34m(entry_point, args, kwargs)\u001b[0m\n\u001b[1;32m    287\u001b[0m \u001b[39mtry\u001b[39;00m:\n\u001b[0;32m--> 288\u001b[0m     serialized \u001b[39m=\u001b[39m cloudpickle\u001b[39m.\u001b[39;49mdumps(wrapped_entry_point)\n\u001b[1;32m    289\u001b[0m \u001b[39mexcept\u001b[39;00m \u001b[39mException\u001b[39;00m \u001b[39mas\u001b[39;00m e:\n",
      "File \u001b[0;32m~/anaconda3/envs/braket/lib/python3.10/site-packages/cloudpickle/cloudpickle_fast.py:73\u001b[0m, in \u001b[0;36mdumps\u001b[0;34m(obj, protocol, buffer_callback)\u001b[0m\n\u001b[1;32m     70\u001b[0m cp \u001b[39m=\u001b[39m CloudPickler(\n\u001b[1;32m     71\u001b[0m     file, protocol\u001b[39m=\u001b[39mprotocol, buffer_callback\u001b[39m=\u001b[39mbuffer_callback\n\u001b[1;32m     72\u001b[0m )\n\u001b[0;32m---> 73\u001b[0m cp\u001b[39m.\u001b[39;49mdump(obj)\n\u001b[1;32m     74\u001b[0m \u001b[39mreturn\u001b[39;00m file\u001b[39m.\u001b[39mgetvalue()\n",
      "File \u001b[0;32m~/anaconda3/envs/braket/lib/python3.10/site-packages/cloudpickle/cloudpickle_fast.py:632\u001b[0m, in \u001b[0;36mCloudPickler.dump\u001b[0;34m(self, obj)\u001b[0m\n\u001b[1;32m    631\u001b[0m \u001b[39mtry\u001b[39;00m:\n\u001b[0;32m--> 632\u001b[0m     \u001b[39mreturn\u001b[39;00m Pickler\u001b[39m.\u001b[39;49mdump(\u001b[39mself\u001b[39;49m, obj)\n\u001b[1;32m    633\u001b[0m \u001b[39mexcept\u001b[39;00m \u001b[39mRuntimeError\u001b[39;00m \u001b[39mas\u001b[39;00m e:\n",
      "\u001b[0;31mPicklingError\u001b[0m: Can't pickle <built-in function input>: it's not the same object as builtins.input",
      "\nThe above exception was the direct cause of the following exception:\n",
      "\u001b[0;31mRuntimeError\u001b[0m                              Traceback (most recent call last)",
      "Cell \u001b[0;32mIn[5], line 1\u001b[0m\n\u001b[0;32m----> 1\u001b[0m job \u001b[39m=\u001b[39m calibrate_gate_hybrid_job()\n",
      "File \u001b[0;32m~/anaconda3/envs/braket/lib/python3.10/site-packages/braket/jobs/hybrid_job.py:182\u001b[0m, in \u001b[0;36mhybrid_job.<locals>._hybrid_job.<locals>.job_wrapper\u001b[0;34m(*args, **kwargs)\u001b[0m\n\u001b[1;32m    177\u001b[0m entry_point_file_path \u001b[39m=\u001b[39m Path(\u001b[39m\"\u001b[39m\u001b[39mentry_point.py\u001b[39m\u001b[39m\"\u001b[39m)\n\u001b[1;32m    178\u001b[0m \u001b[39mwith\u001b[39;00m \u001b[39mopen\u001b[39m(temp_dir_path \u001b[39m/\u001b[39m entry_point_file_path, \u001b[39m\"\u001b[39m\u001b[39mw\u001b[39m\u001b[39m\"\u001b[39m) \u001b[39mas\u001b[39;00m entry_point_file:\n\u001b[1;32m    179\u001b[0m     template \u001b[39m=\u001b[39m \u001b[39m\"\u001b[39m\u001b[39m\\n\u001b[39;00m\u001b[39m\"\u001b[39m\u001b[39m.\u001b[39mjoin(\n\u001b[1;32m    180\u001b[0m         [\n\u001b[1;32m    181\u001b[0m             _process_input_data(input_data),\n\u001b[0;32m--> 182\u001b[0m             _serialize_entry_point(entry_point, args, kwargs),\n\u001b[1;32m    183\u001b[0m         ]\n\u001b[1;32m    184\u001b[0m     )\n\u001b[1;32m    185\u001b[0m     entry_point_file\u001b[39m.\u001b[39mwrite(template)\n\u001b[1;32m    187\u001b[0m \u001b[39mif\u001b[39;00m dependencies:\n",
      "File \u001b[0;32m~/anaconda3/envs/braket/lib/python3.10/site-packages/braket/jobs/hybrid_job.py:290\u001b[0m, in \u001b[0;36m_serialize_entry_point\u001b[0;34m(entry_point, args, kwargs)\u001b[0m\n\u001b[1;32m    288\u001b[0m     serialized \u001b[39m=\u001b[39m cloudpickle\u001b[39m.\u001b[39mdumps(wrapped_entry_point)\n\u001b[1;32m    289\u001b[0m \u001b[39mexcept\u001b[39;00m \u001b[39mException\u001b[39;00m \u001b[39mas\u001b[39;00m e:\n\u001b[0;32m--> 290\u001b[0m     \u001b[39mraise\u001b[39;00m \u001b[39mRuntimeError\u001b[39;00m(\n\u001b[1;32m    291\u001b[0m         \u001b[39m\"\u001b[39m\u001b[39mSerialization failed for decorator hybrid job. If you are referencing \u001b[39m\u001b[39m\"\u001b[39m\n\u001b[1;32m    292\u001b[0m         \u001b[39m\"\u001b[39m\u001b[39man object from outside the function scope, either directly or through \u001b[39m\u001b[39m\"\u001b[39m\n\u001b[1;32m    293\u001b[0m         \u001b[39m\"\u001b[39m\u001b[39mfunction parameters, try instantiating the object inside the decorated \u001b[39m\u001b[39m\"\u001b[39m\n\u001b[1;32m    294\u001b[0m         \u001b[39m\"\u001b[39m\u001b[39mfunction instead.\u001b[39m\u001b[39m\"\u001b[39m\n\u001b[1;32m    295\u001b[0m     ) \u001b[39mfrom\u001b[39;00m \u001b[39me\u001b[39;00m\n\u001b[1;32m    297\u001b[0m \u001b[39mreturn\u001b[39;00m run_entry_point\u001b[39m.\u001b[39mformat(\n\u001b[1;32m    298\u001b[0m     serialized\u001b[39m=\u001b[39mserialized,\n\u001b[1;32m    299\u001b[0m     function_name\u001b[39m=\u001b[39mentry_point\u001b[39m.\u001b[39m\u001b[39m__name__\u001b[39m,\n\u001b[1;32m    300\u001b[0m )\n",
      "\u001b[0;31mRuntimeError\u001b[0m: Serialization failed for decorator hybrid job. If you are referencing an object from outside the function scope, either directly or through function parameters, try instantiating the object inside the decorated function instead."
     ]
    }
   ],
   "source": [
    "job = calibrate_gate_hybrid_job()"
   ]
  },
  {
   "attachments": {},
   "cell_type": "markdown",
   "metadata": {},
   "source": [
    "##### Progress Tracker"
   ]
  },
  {
   "cell_type": "code",
   "execution_count": null,
   "metadata": {},
   "outputs": [],
   "source": [
    "while job.state() not in job.TERMINAL_STATES:\n",
    "    print(job.state())\n",
    "    time.sleep(30)\n",
    "\n",
    "print(job.state())\n",
    "print(job.result())"
   ]
  }
 ],
 "metadata": {
  "kernelspec": {
   "display_name": "braket",
   "language": "python",
   "name": "python3"
  },
  "language_info": {
   "codemirror_mode": {
    "name": "ipython",
    "version": 3
   },
   "file_extension": ".py",
   "mimetype": "text/x-python",
   "name": "python",
   "nbconvert_exporter": "python",
   "pygments_lexer": "ipython3",
   "version": "3.10.13"
  },
  "orig_nbformat": 4
 },
 "nbformat": 4,
 "nbformat_minor": 2
}
