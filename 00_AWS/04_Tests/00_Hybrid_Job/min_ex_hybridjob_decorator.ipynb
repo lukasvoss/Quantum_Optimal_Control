{
 "cells": [
  {
   "attachments": {},
   "cell_type": "markdown",
   "metadata": {},
   "source": [
    "### Minimal Example for a Hybrid Job using a function decorator ``hybrid_job``"
   ]
  },
  {
   "cell_type": "code",
   "execution_count": 1,
   "metadata": {},
   "outputs": [
    {
     "name": "stderr",
     "output_type": "stream",
     "text": [
      "/Users/lukasvoss/anaconda3/envs/braket/lib/python3.10/site-packages/qiskit_dynamics/dispatch/backends/jax.py:34: UserWarning: The functionality in the perturbation module of Qiskit Dynamics requires a JAX version <= 0.4.6, due to a bug in JAX versions > 0.4.6. For versions 0.4.4, 0.4.5, and 0.4.6, using the perturbation module functionality requires setting os.environ['JAX_JIT_PJIT_API_MERGE'] = '0' before importing JAX or Dynamics.\n",
      "  warnings.warn(\n",
      "WARNING: All log messages before absl::InitializeLog() is called are written to STDERR\n",
      "I0000 00:00:1705032647.467365       1 tfrt_cpu_pjrt_client.cc:349] TfrtCpuClient created.\n"
     ]
    }
   ],
   "source": [
    "# Import of own modules\n",
    "from needed_files.quantumenvironment import QuantumEnvironment\n",
    "from needed_files.q_env_config import q_env_config as gate_q_env_config\n",
    "\n",
    "### INFO ###\n",
    "# The following modules would also be used in the real implementation but not relevant for this mininal example\n",
    "# Both load_agent_from_yaml_file and make_train_ppo are functions\n",
    "# from needed_files.helper_functions import load_agent_from_yaml_file\n",
    "# from needed_files.ppo import make_train_ppo\n",
    "\n",
    "\n",
    "# Braket imports\n",
    "from braket.tracking import Tracker\n",
    "from braket.jobs import hybrid_job\n",
    "from braket.aws import AwsSession\n",
    "from qiskit_braket_provider import AWSBraketProvider\n",
    "\n",
    "# Specify the S3 bucket to store circuit and result files\n",
    "aws_session = AwsSession(default_bucket=\"amazon-braket-us-west-1-lukasvoss\")\n",
    "\n",
    "# Other imports\n",
    "import time"
   ]
  },
  {
   "attachments": {},
   "cell_type": "markdown",
   "metadata": {},
   "source": [
    "Find below the function that shall later be converted into a hybrid job with a decorator. We tested the full code (below only a scheme to understand the workflow) **without** a decorator and it works well. \n",
    "Once, the decorator is applied, we face issues with the serialization of one of the objects we need to use for the simulation. This object is ``gate_q_env_config`` that gets imported from a module in the directory \"needed_files\".\n",
    "\n",
    "Said object contains all necessary information about the simulation and is therefore crucial element since it will be used as input by the ``QuantumEnvironment`` class as the first step of our workflow."
   ]
  },
  {
   "cell_type": "code",
   "execution_count": 2,
   "metadata": {},
   "outputs": [],
   "source": [
    "def calibrate_gate():\n",
    "    print(\"Job started!!!!!\")\n",
    "    braket_task_costs = Tracker().start()\n",
    "\n",
    "    # XXX: The following step, so using the object gate_q_env_config fails because it is non-serializable.\n",
    "    # q_env = QuantumEnvironment(gate_q_env_config)\n",
    "\n",
    "\n",
    "    ### INFO ###\n",
    "\n",
    "    # The code below is a dummy/schematic implementation of what happens later in our workflow.\n",
    "    # The error-causing line is the one with XXX above. Since this error-causing line is the first step in our workflow,\n",
    "    # we cannot/could not proceed with the rest of the workflow.\n",
    "\n",
    "    # Since our codebase is based on Qiskit, we want to use Braket's Qiskit Provider (here start with SV1 for testing)\n",
    "    provider = AWSBraketProvider()\n",
    "    backend = provider.get_backend('SV1')\n",
    "    # q_env.backend = backend\n",
    "    # Load the RL agent based on the QuantumEnvironment object\n",
    "    # Run the parametrized quantum circuit that is part of the ``gate_q_env_config`` object\n",
    "    # and train the RL agent based on the reward\n",
    "    \n",
    "    # Return training results (here dummy results)\n",
    "    dummy_training_results = {\n",
    "        'avg_return': [0.34, 0.45, 0.56, 0.67, 0.78, 0.89, 0.90, 0.91, 0.92, 0.93, 0.94, 0.95],\n",
    "        'action_vector': [0.03, 0.04, 0.05, 0.06, 0.07, 0.08, 0.09],\n",
    "        'task_summary': braket_task_costs.quantum_tasks_statistics(),\n",
    "        'estimated cost': float(\n",
    "            braket_task_costs.qpu_tasks_cost() + braket_task_costs.simulator_tasks_cost()\n",
    "        )\n",
    "    }\n",
    "    return dummy_training_results"
   ]
  },
  {
   "cell_type": "code",
   "execution_count": 3,
   "metadata": {},
   "outputs": [],
   "source": [
    "job_name = f'cx-gate-calibration-decorator-{str(int(time.time()))}'\n",
    "\n",
    "needed_modules = [\n",
    "    # This module contains the QuantumEnvironment class which takes the gate_q_env_config object as input\n",
    "    'needed_files.quantumenvironment',\n",
    "    # XXX: This module contains the gate_q_env_config object that we want to use and for which the serialization fails\n",
    "    'needed_files.q_env_config',\n",
    "\n",
    "    # INFO: The following modules are needed for the real implementation of the calibration but not relevant for the dummy implementation\n",
    "    # 'needed_files.helper_functions', \n",
    "    # 'needed_files.ppo', \n",
    "]"
   ]
  },
  {
   "attachments": {},
   "cell_type": "markdown",
   "metadata": {},
   "source": [
    "Make the function ``calibrate_gate`` a hybrid job with the decorator specifying required additonal information like input data, dependencies and - most importantly - modules"
   ]
  },
  {
   "cell_type": "code",
   "execution_count": 4,
   "metadata": {},
   "outputs": [],
   "source": [
    "@hybrid_job(device=None, \n",
    "            local=False, \n",
    "            include_modules=needed_modules, # XXX: This is the list of modules that are needed for the job\n",
    "            # input_data='config_yamls/agent_config.yaml', Passing the yaml works well, but is not needed for the minimal example\n",
    "            job_name=job_name, \n",
    "            dependencies='requirements.txt')\n",
    "def calibrate_gate_hybrid_job():\n",
    "    return calibrate_gate()"
   ]
  },
  {
   "cell_type": "code",
   "execution_count": 5,
   "metadata": {},
   "outputs": [],
   "source": [
    "job = calibrate_gate_hybrid_job()"
   ]
  },
  {
   "attachments": {},
   "cell_type": "markdown",
   "metadata": {},
   "source": [
    "Progress Tracker"
   ]
  },
  {
   "cell_type": "code",
   "execution_count": 6,
   "metadata": {},
   "outputs": [
    {
     "name": "stdout",
     "output_type": "stream",
     "text": [
      "QUEUED\n",
      "RUNNING\n",
      "RUNNING\n",
      "RUNNING\n",
      "RUNNING\n",
      "FAILED\n",
      "FAILED\n",
      "{}\n"
     ]
    }
   ],
   "source": [
    "while job.state() not in job.TERMINAL_STATES:\n",
    "    print(job.state())\n",
    "    time.sleep(30)\n",
    "\n",
    "print(job.state())\n",
    "print(job.result())"
   ]
  }
 ],
 "metadata": {
  "kernelspec": {
   "display_name": "braket",
   "language": "python",
   "name": "python3"
  },
  "language_info": {
   "codemirror_mode": {
    "name": "ipython",
    "version": 3
   },
   "file_extension": ".py",
   "mimetype": "text/x-python",
   "name": "python",
   "nbconvert_exporter": "python",
   "pygments_lexer": "ipython3",
   "version": "3.10.13"
  },
  "orig_nbformat": 4
 },
 "nbformat": 4,
 "nbformat_minor": 2
}
