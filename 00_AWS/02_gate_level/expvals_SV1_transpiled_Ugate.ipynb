{
 "cells": [
  {
   "attachments": {},
   "cell_type": "markdown",
   "metadata": {},
   "source": [
    "### Running Unitary gate $U(\\theta, \\phi, \\lambda)$ with SV1 does only work with own ``transpile_U`` function"
   ]
  },
  {
   "cell_type": "code",
   "execution_count": 1,
   "metadata": {},
   "outputs": [],
   "source": [
    "import numpy as np\n",
    "\n",
    "from braket.aws import AwsDevice\n",
    "from braket.circuits import Circuit\n",
    "from braket.circuits.circuit import Gate, Instruction\n",
    "from braket.circuits.gates import U, PhaseShift, Ry\n",
    "from braket.device_schema import DeviceActionType\n",
    "from braket.parametric import FreeParameter\n",
    "from braket.devices import LocalSimulator\n",
    "\n",
    "from transpile_U_gate import transpile_U\n",
    "\n",
    "import sys\n",
    "import os\n",
    "os.environ[\"KMP_DUPLICATE_LIB_OK\"] = \"True\"\n",
    "module_path = os.path.abspath(os.path.join('/Users/lukasvoss/Documents/Master Wirtschaftsphysik/Masterarbeit Yale-NUS CQT/Quantum_Optimal_Control'))\n",
    "if module_path not in sys.path:\n",
    "    sys.path.append(module_path)\n",
    "    \n",
    "from braket_estimator import BraketEstimator"
   ]
  },
  {
   "cell_type": "code",
   "execution_count": 2,
   "metadata": {},
   "outputs": [],
   "source": [
    "device = LocalSimulator()\n",
    "device = AwsDevice(\"arn:aws:braket:::device/quantum-simulator/amazon/sv1\")"
   ]
  },
  {
   "cell_type": "code",
   "execution_count": 3,
   "metadata": {},
   "outputs": [],
   "source": [
    "circ = Circuit().rx(0, FreeParameter('alpha')).u(0, 0.15, 0.34, 0.52).cnot(0, 1).u(1, 0.15, 0.34, 0.52).rx(1, FreeParameter('beta'))"
   ]
  },
  {
   "cell_type": "code",
   "execution_count": 4,
   "metadata": {},
   "outputs": [
    {
     "name": "stdout",
     "output_type": "stream",
     "text": [
      "U gate not supported\n",
      "T  : |    0    |         1         |2|         3         |   4    |\n",
      "                                                                   \n",
      "q0 : -Rx(alpha)-U(0.15, 0.34, 0.52)-C------------------------------\n",
      "                                    |                              \n",
      "q1 : -------------------------------X-U(0.15, 0.34, 0.52)-Rx(beta)-\n",
      "\n",
      "T  : |    0    |         1         |2|         3         |   4    |\n",
      "\n",
      "Unassigned parameters: [alpha, beta].\n",
      "Original circuit: None\n",
      "T  : |    0    |     1     |   2    |     3     |4|     5     |   6    |     7     |   8    |\n",
      "                                                                                             \n",
      "q0 : -Rx(alpha)-PHASE(0.15)-Ry(0.34)-PHASE(0.52)-C-------------------------------------------\n",
      "                                                 |                                           \n",
      "q1 : --------------------------------------------X-PHASE(0.15)-Ry(0.34)-PHASE(0.52)-Rx(beta)-\n",
      "\n",
      "T  : |    0    |     1     |   2    |     3     |4|     5     |   6    |     7     |   8    |\n",
      "\n",
      "Unassigned parameters: [alpha, beta].\n",
      "\n",
      "Transpiled circuit: None\n"
     ]
    }
   ],
   "source": [
    "if 'u' not in device.properties.action[DeviceActionType.OPENQASM].supportedOperations:\n",
    "    print(\"U gate not supported\")\n",
    "    print('Original circuit:', print(circ))\n",
    "    circuit = transpile_U(circuit=circ)\n",
    "    print('\\nTranspiled circuit:', print(circuit))\n",
    "    "
   ]
  },
  {
   "cell_type": "code",
   "execution_count": 5,
   "metadata": {},
   "outputs": [
    {
     "name": "stdout",
     "output_type": "stream",
     "text": [
      "Results with LocalSimulator: Counter({'00': 491, '01': 422, '10': 50, '11': 37})\n"
     ]
    }
   ],
   "source": [
    "### WORKS\n",
    "device = LocalSimulator()\n",
    "result = device.run(\n",
    "    circ, \n",
    "    shots=1000, \n",
    "    inputs={\n",
    "        'alpha': 0.5, \n",
    "        'beta': np.pi / 2\n",
    "    }\n",
    ").result()\n",
    "print('Results with LocalSimulator:', result.measurement_counts) "
   ]
  },
  {
   "cell_type": "code",
   "execution_count": 14,
   "metadata": {},
   "outputs": [
    {
     "name": "stdout",
     "output_type": "stream",
     "text": [
      "Results with SV1 simulator: Counter({'00': 553, '01': 342, '11': 67, '10': 38})\n"
     ]
    }
   ],
   "source": [
    "### Works for the transpiled circuit\n",
    "device = AwsDevice(\"arn:aws:braket:::device/quantum-simulator/amazon/sv1\")\n",
    "result = device.run(\n",
    "    circuit, \n",
    "    shots=1000, \n",
    "    inputs={\n",
    "        'alpha': 0.5, \n",
    "        'beta': np.pi / 2\n",
    "    }\n",
    ").result()\n",
    "print('Results with SV1 simulator:', result.measurement_counts) "
   ]
  },
  {
   "attachments": {},
   "cell_type": "markdown",
   "metadata": {},
   "source": [
    "#### Use SV1 with the ``BraketEstimator``"
   ]
  },
  {
   "cell_type": "code",
   "execution_count": 7,
   "metadata": {},
   "outputs": [],
   "source": [
    "device = AwsDevice(\"arn:aws:braket:::device/quantum-simulator/amazon/sv1\")"
   ]
  },
  {
   "cell_type": "code",
   "execution_count": 8,
   "metadata": {},
   "outputs": [],
   "source": [
    "from qiskit import QuantumCircuit, QuantumRegister\n",
    "from qiskit.circuit import ParameterVector, Parameter\n",
    "from qiskit_braket_provider.providers import adapter\n"
   ]
  },
  {
   "cell_type": "code",
   "execution_count": 9,
   "metadata": {},
   "outputs": [
    {
     "name": "stderr",
     "output_type": "stream",
     "text": [
      "/Users/lukasvoss/anaconda3/envs/braket/lib/python3.10/site-packages/qiskit/visualization/circuit/matplotlib.py:266: FutureWarning: The default matplotlib drawer scheme will be changed to \"iqp\" in a following release. To silence this warning, specify the current default explicitly as style=\"clifford\", or the new default as style=\"iqp\".\n",
      "  self._style, def_font_ratio = load_style(self._style)\n"
     ]
    },
    {
     "data": {
      "image/png": "[encoded data removed]",
      "text/plain": [
       "<Figure size 388.934x200.667 with 1 Axes>"
      ]
     },
     "execution_count": 9,
     "metadata": {},
     "output_type": "execute_result"
    }
   ],
   "source": [
    "action_vector = np.pi * np.array([0.0, 0.0, 0.5, 0.5, -0.5, 0.5, -0.5]) # np.random.uniform(-np.pi, np.pi, 7)\n",
    "\n",
    "q_reg = QuantumRegister(2)\n",
    "baseline = np.pi * np.zeros(len(action_vector))\n",
    "params = ParameterVector(\"a\", 7)\n",
    "qiskit_circuit = QuantumCircuit(q_reg, name=\"custom_cx\")\n",
    "optimal_params = np.pi * np.zeros(7)\n",
    "\n",
    "qiskit_circuit.u(\n",
    "    baseline[0] + params[0],\n",
    "    baseline[1] + params[1],\n",
    "    baseline[2] + params[2],\n",
    "    q_reg[0],\n",
    ")\n",
    "qiskit_circuit.u(\n",
    "    baseline[3] + params[3],\n",
    "    baseline[4] + params[4],\n",
    "    baseline[5] + params[5],\n",
    "    q_reg[1],\n",
    ")\n",
    "\n",
    "qiskit_circuit.rzx(baseline[6] + params[6], q_reg[0], q_reg[1])\n",
    "qiskit_circuit.draw(\"mpl\")"
   ]
  },
  {
   "cell_type": "code",
   "execution_count": 10,
   "metadata": {},
   "outputs": [
    {
     "name": "stdout",
     "output_type": "stream",
     "text": [
      "T  : |       0        |1|2|   3   |4|5|\n",
      "                                       \n",
      "q0 : -U(a_0, a_1, a_2)---C---------C---\n",
      "                         |         |   \n",
      "q1 : -U(a_3, a_4, a_5)-H-X-Rz(a_6)-X-H-\n",
      "\n",
      "T  : |       0        |1|2|   3   |4|5|\n",
      "\n",
      "Unassigned parameters: [a_0, a_1, a_2, a_3, a_4, a_5, a_6].\n"
     ]
    }
   ],
   "source": [
    "braket_circuit_converted = adapter.convert_qiskit_to_braket_circuit(qiskit_circuit)\n",
    "\n",
    "print(braket_circuit_converted)"
   ]
  },
  {
   "cell_type": "code",
   "execution_count": 11,
   "metadata": {},
   "outputs": [
    {
     "name": "stdout",
     "output_type": "stream",
     "text": [
      "U gate not supported\n",
      "T  : |       0        |1|2|   3   |4|5|\n",
      "                                       \n",
      "q0 : -U(a_0, a_1, a_2)---C---------C---\n",
      "                         |         |   \n",
      "q1 : -U(a_3, a_4, a_5)-H-X-Rz(a_6)-X-H-\n",
      "\n",
      "T  : |       0        |1|2|   3   |4|5|\n",
      "\n",
      "Unassigned parameters: [a_0, a_1, a_2, a_3, a_4, a_5, a_6].\n",
      "Original circuit: None\n",
      "T  : |    0     |   1   |    2     |3|4|   5   |6|7|\n",
      "                                                    \n",
      "q0 : -PHASE(a_0)-Ry(a_1)-PHASE(a_2)---C---------C---\n",
      "                                      |         |   \n",
      "q1 : -PHASE(a_3)-Ry(a_4)-PHASE(a_5)-H-X-Rz(a_6)-X-H-\n",
      "\n",
      "T  : |    0     |   1   |    2     |3|4|   5   |6|7|\n",
      "\n",
      "Unassigned parameters: [a_0, a_1, a_2, a_3, a_4, a_5, a_6].\n",
      "\n",
      "Transpiled circuit: None\n"
     ]
    }
   ],
   "source": [
    "if 'u' not in device.properties.action[DeviceActionType.OPENQASM].supportedOperations:\n",
    "    print(\"U gate not supported\")\n",
    "    print('Original circuit:', print(braket_circuit_converted))\n",
    "    transpiled_circuit = transpile_U(circuit=braket_circuit_converted)\n",
    "    print('\\nTranspiled circuit:', print(transpiled_circuit))\n",
    "    "
   ]
  },
  {
   "cell_type": "code",
   "execution_count": 18,
   "metadata": {},
   "outputs": [],
   "source": [
    "batchsize = 50\n",
    "\n",
    "param_names = ['a_0', 'a_1', 'a_2', 'a_3', 'a_4', 'a_5', 'a_6']\n",
    "\n",
    "if 'batchsize' in globals() and batchsize is not None and batchsize > 1:\n",
    "    bound_parameters = []\n",
    "    for batch in range(batchsize):\n",
    "        action_vector = np.random.uniform(-np.pi, np.pi, 7)\n",
    "        bound_parameters.append(dict(zip(param_names, action_vector)))\n",
    "else:\n",
    "    bound_parameters = dict(zip(param_names, action_vector))\n",
    "\n",
    "\n",
    "observables = [\n",
    "    ('II', 0.25), ('IZ', -0.25), ('XI', 0.25), ('XZ', -0.25)\n",
    "]"
   ]
  },
  {
   "cell_type": "code",
   "execution_count": 19,
   "metadata": {},
   "outputs": [
    {
     "data": {
      "text/plain": [
       "array([0.0331076 , 0.37513026, 0.40864092, 0.00990721, 0.05907278,\n",
       "       0.42870204, 0.0018287 , 0.08920383, 0.06832672, 0.04153485,\n",
       "       0.87062241, 0.36047073, 0.12231512, 0.07479852, 0.05900242,\n",
       "       0.73433085, 0.03229835, 0.07375165, 0.09580154, 0.11597838,\n",
       "       0.30247735, 0.09216081, 0.259127  , 0.22855103, 0.91291124,\n",
       "       0.33685342, 0.32639521, 0.42642537, 0.15926862, 0.4904219 ,\n",
       "       0.02942884, 0.38006527, 0.06314235, 0.19640643, 0.43903404,\n",
       "       0.0249116 , 0.47995098, 0.05255246, 0.50002529, 0.4704391 ,\n",
       "       0.73029051, 0.54338707, 0.50753026, 0.04372746, 0.04569487,\n",
       "       0.0205131 , 0.5700273 , 0.13516012, 0.28558157, 0.37406866])"
      ]
     },
     "execution_count": 19,
     "metadata": {},
     "output_type": "execute_result"
    }
   ],
   "source": [
    "braket_estimator = BraketEstimator(device)\n",
    "\n",
    "expvals = braket_estimator.run(\n",
    "    circuit=[transpiled_circuit] * batchsize,\n",
    "    observables=[observables] * batchsize,\n",
    "    target_register=[[0, 1]] * batchsize,\n",
    "    bound_parameters=bound_parameters,\n",
    ")\n",
    "\n",
    "expvals"
   ]
  },
  {
   "attachments": {},
   "cell_type": "markdown",
   "metadata": {},
   "source": [
    "##### Run Batch with BraketEstimator and LocalSimulator"
   ]
  },
  {
   "cell_type": "code",
   "execution_count": 20,
   "metadata": {},
   "outputs": [
    {
     "data": {
      "text/plain": [
       "array([0.0331076 , 0.37513026, 0.40864092, 0.00990721, 0.05907278,\n",
       "       0.42870204, 0.0018287 , 0.08920383, 0.06832672, 0.04153485,\n",
       "       0.87062241, 0.36047073, 0.12231512, 0.07479852, 0.05900242,\n",
       "       0.73433085, 0.03229835, 0.07375165, 0.09580154, 0.11597838,\n",
       "       0.30247735, 0.09216081, 0.259127  , 0.22855103, 0.91291124,\n",
       "       0.33685342, 0.32639521, 0.42642537, 0.15926862, 0.4904219 ,\n",
       "       0.02942884, 0.38006527, 0.06314235, 0.19640643, 0.43903404,\n",
       "       0.0249116 , 0.47995098, 0.05255246, 0.50002529, 0.4704391 ,\n",
       "       0.73029051, 0.54338707, 0.50753026, 0.04372746, 0.04569487,\n",
       "       0.0205131 , 0.5700273 , 0.13516012, 0.28558157, 0.37406866])"
      ]
     },
     "execution_count": 20,
     "metadata": {},
     "output_type": "execute_result"
    }
   ],
   "source": [
    "braket_estimator = BraketEstimator(LocalSimulator())\n",
    "\n",
    "expvals = braket_estimator.run(\n",
    "    circuit=[transpiled_circuit] * batchsize,\n",
    "    observables=[observables] * batchsize,\n",
    "    target_register=[[0, 1]] * batchsize,\n",
    "    bound_parameters=bound_parameters,\n",
    ")\n",
    "\n",
    "expvals"
   ]
  }
 ],
 "metadata": {
  "kernelspec": {
   "display_name": "braket",
   "language": "python",
   "name": "python3"
  },
  "language_info": {
   "codemirror_mode": {
    "name": "ipython",
    "version": 3
   },
   "file_extension": ".py",
   "mimetype": "text/x-python",
   "name": "python",
   "nbconvert_exporter": "python",
   "pygments_lexer": "ipython3",
   "version": "3.10.13"
  },
  "orig_nbformat": 4
 },
 "nbformat": 4,
 "nbformat_minor": 2
}
