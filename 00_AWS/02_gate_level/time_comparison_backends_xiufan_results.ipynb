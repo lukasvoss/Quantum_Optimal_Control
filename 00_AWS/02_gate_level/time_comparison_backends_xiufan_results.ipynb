{
 "cells": [
  {
   "cell_type": "markdown",
   "metadata": {},
   "source": [
    "# @Xiufan: Please update the aws-braket-sdk and the qiskit-braket-provider to their latest package version"
   ]
  },
  {
   "cell_type": "code",
   "execution_count": 2,
   "metadata": {},
   "outputs": [
    {
     "name": "stdout",
     "output_type": "stream",
     "text": [
      "Collecting amazon-braket-sdk==1.72.2\n",
      "  Obtaining dependency information for amazon-braket-sdk==1.72.2 from https://files.pythonhosted.org/packages/ed/16/d9dbe55cc40605840ac5daf54e9ea95cfc3b78b571ccdbe60796785ac2d6/amazon_braket_sdk-1.72.2-py3-none-any.whl.metadata\n",
      "  Downloading amazon_braket_sdk-1.72.2-py3-none-any.whl.metadata (14 kB)\n",
      "Collecting amazon-braket-schemas>=1.20.2 (from amazon-braket-sdk==1.72.2)\n",
      "  Obtaining dependency information for amazon-braket-schemas>=1.20.2 from https://files.pythonhosted.org/packages/85/72/794586305f1635160afface6d11239b8d012e59437c4c9efe9b8661540c8/amazon_braket_schemas-1.20.2-py3-none-any.whl.metadata\n",
      "  Downloading amazon_braket_schemas-1.20.2-py3-none-any.whl.metadata (5.9 kB)\n",
      "Collecting amazon-braket-default-simulator>=1.19.1 (from amazon-braket-sdk==1.72.2)\n",
      "  Obtaining dependency information for amazon-braket-default-simulator>=1.19.1 from https://files.pythonhosted.org/packages/97/7c/eafebaa86e8e92b5507824562d53aab022c906725431e99d6de22b96b748/amazon_braket_default_simulator-1.20.4-py3-none-any.whl.metadata\n",
      "  Downloading amazon_braket_default_simulator-1.20.4-py3-none-any.whl.metadata (6.3 kB)\n",
      "Collecting oqpy~=0.3.5 (from amazon-braket-sdk==1.72.2)\n",
      "  Obtaining dependency information for oqpy~=0.3.5 from https://files.pythonhosted.org/packages/fb/6f/89dca9f43d31d0e5ff141d9c70693b14677463c7ced1cb367327e6903a5f/oqpy-0.3.5-py3-none-any.whl.metadata\n",
      "  Downloading oqpy-0.3.5-py3-none-any.whl.metadata (7.7 kB)\n",
      "Requirement already satisfied: setuptools in d:\\anaconda\\lib\\site-packages (from amazon-braket-sdk==1.72.2) (68.0.0)\n",
      "Collecting backoff (from amazon-braket-sdk==1.72.2)\n",
      "  Obtaining dependency information for backoff from https://files.pythonhosted.org/packages/df/73/b6e24bd22e6720ca8ee9a85a0c4a2971af8497d8f3193fa05390cbd46e09/backoff-2.2.1-py3-none-any.whl.metadata\n",
      "  Downloading backoff-2.2.1-py3-none-any.whl.metadata (14 kB)\n",
      "Requirement already satisfied: boltons in d:\\anaconda\\lib\\site-packages (from amazon-braket-sdk==1.72.2) (23.0.0)\n",
      "Collecting boto3>=1.28.53 (from amazon-braket-sdk==1.72.2)\n",
      "  Obtaining dependency information for boto3>=1.28.53 from https://files.pythonhosted.org/packages/9e/b5/599a85078126dd0e53e979787b40d0d96bd508e7aafc6430ddf356602c2d/boto3-1.34.55-py3-none-any.whl.metadata\n",
      "  Downloading boto3-1.34.55-py3-none-any.whl.metadata (6.6 kB)\n",
      "Requirement already satisfied: cloudpickle==2.2.1 in d:\\anaconda\\lib\\site-packages (from amazon-braket-sdk==1.72.2) (2.2.1)\n",
      "Requirement already satisfied: nest-asyncio in d:\\anaconda\\lib\\site-packages (from amazon-braket-sdk==1.72.2) (1.5.6)\n",
      "Requirement already satisfied: networkx in d:\\anaconda\\lib\\site-packages (from amazon-braket-sdk==1.72.2) (3.1)\n",
      "Requirement already satisfied: numpy<2 in d:\\anaconda\\lib\\site-packages (from amazon-braket-sdk==1.72.2) (1.24.3)\n",
      "Collecting openpulse (from amazon-braket-sdk==1.72.2)\n",
      "  Obtaining dependency information for openpulse from https://files.pythonhosted.org/packages/a7/53/f4a5136a928ecac7a463dd94f34ebf04b4a2d8ddf7e87bd8086068de72d8/openpulse-0.5.0-py3-none-any.whl.metadata\n",
      "  Downloading openpulse-0.5.0-py3-none-any.whl.metadata (2.0 kB)\n",
      "Collecting openqasm3 (from amazon-braket-sdk==1.72.2)\n",
      "  Obtaining dependency information for openqasm3 from https://files.pythonhosted.org/packages/51/91/574addbe722736081d1b9c78212f8cac5e9d93c8bc79059c84871034c527/openqasm3-0.5.0-py3-none-any.whl.metadata\n",
      "  Downloading openqasm3-0.5.0-py3-none-any.whl.metadata (6.0 kB)\n",
      "Requirement already satisfied: sympy in d:\\anaconda\\lib\\site-packages (from amazon-braket-sdk==1.72.2) (1.11.1)\n",
      "Collecting opt-einsum (from amazon-braket-default-simulator>=1.19.1->amazon-braket-sdk==1.72.2)\n",
      "  Obtaining dependency information for opt-einsum from https://files.pythonhosted.org/packages/bc/19/404708a7e54ad2798907210462fd950c3442ea51acc8790f3da48d2bee8b/opt_einsum-3.3.0-py3-none-any.whl.metadata\n",
      "  Downloading opt_einsum-3.3.0-py3-none-any.whl.metadata (6.5 kB)\n",
      "Requirement already satisfied: pydantic in d:\\anaconda\\lib\\site-packages (from amazon-braket-default-simulator>=1.19.1->amazon-braket-sdk==1.72.2) (1.10.8)\n",
      "Requirement already satisfied: scipy in d:\\anaconda\\lib\\site-packages (from amazon-braket-default-simulator>=1.19.1->amazon-braket-sdk==1.72.2) (1.11.1)\n",
      "Collecting antlr4-python3-runtime==4.9.2 (from amazon-braket-default-simulator>=1.19.1->amazon-braket-sdk==1.72.2)\n",
      "  Using cached antlr4_python3_runtime-4.9.2-py3-none-any.whl\n",
      "Collecting botocore<1.35.0,>=1.34.55 (from boto3>=1.28.53->amazon-braket-sdk==1.72.2)\n",
      "  Obtaining dependency information for botocore<1.35.0,>=1.34.55 from https://files.pythonhosted.org/packages/26/26/1410fef526509db9253aabb69a6c2248900f91cbd50aedee4ce97383131d/botocore-1.34.55-py3-none-any.whl.metadata\n",
      "  Downloading botocore-1.34.55-py3-none-any.whl.metadata (5.7 kB)\n",
      "Requirement already satisfied: jmespath<2.0.0,>=0.7.1 in d:\\anaconda\\lib\\site-packages (from boto3>=1.28.53->amazon-braket-sdk==1.72.2) (0.10.0)\n",
      "Collecting s3transfer<0.11.0,>=0.10.0 (from boto3>=1.28.53->amazon-braket-sdk==1.72.2)\n",
      "  Obtaining dependency information for s3transfer<0.11.0,>=0.10.0 from https://files.pythonhosted.org/packages/12/bb/7e7912e18cd558e7880d9b58ffc57300b2c28ffba9882b3a54ba5ce3ebc4/s3transfer-0.10.0-py3-none-any.whl.metadata\n",
      "  Downloading s3transfer-0.10.0-py3-none-any.whl.metadata (1.7 kB)\n",
      "Requirement already satisfied: mypy-extensions>=0.2.0 in d:\\anaconda\\lib\\site-packages (from oqpy~=0.3.5->amazon-braket-sdk==1.72.2) (1.0.0)\n",
      "Requirement already satisfied: mpmath>=0.19 in d:\\anaconda\\lib\\site-packages (from sympy->amazon-braket-sdk==1.72.2) (1.3.0)\n",
      "Requirement already satisfied: python-dateutil<3.0.0,>=2.1 in d:\\anaconda\\lib\\site-packages (from botocore<1.35.0,>=1.34.55->boto3>=1.28.53->amazon-braket-sdk==1.72.2) (2.8.2)\n",
      "Requirement already satisfied: urllib3<2.1,>=1.25.4 in d:\\anaconda\\lib\\site-packages (from botocore<1.35.0,>=1.34.55->boto3>=1.28.53->amazon-braket-sdk==1.72.2) (1.26.16)\n",
      "Requirement already satisfied: typing-extensions>=4.2.0 in d:\\anaconda\\lib\\site-packages (from pydantic->amazon-braket-default-simulator>=1.19.1->amazon-braket-sdk==1.72.2) (4.7.1)\n",
      "Requirement already satisfied: six>=1.5 in d:\\anaconda\\lib\\site-packages (from python-dateutil<3.0.0,>=2.1->botocore<1.35.0,>=1.34.55->boto3>=1.28.53->amazon-braket-sdk==1.72.2) (1.16.0)\n",
      "Downloading amazon_braket_sdk-1.72.2-py3-none-any.whl (298 kB)\n",
      "   ---------------------------------------- 0.0/298.5 kB ? eta -:--:--\n",
      "   ---------------------------------------  297.0/298.5 kB 6.1 MB/s eta 0:00:01\n",
      "   ---------------------------------------- 298.5/298.5 kB 6.1 MB/s eta 0:00:00\n",
      "Downloading amazon_braket_default_simulator-1.20.4-py3-none-any.whl (218 kB)\n",
      "   ---------------------------------------- 0.0/218.9 kB ? eta -:--:--\n",
      "   ---------------------------------------- 218.9/218.9 kB 6.7 MB/s eta 0:00:00\n",
      "Downloading amazon_braket_schemas-1.20.2-py3-none-any.whl (119 kB)\n",
      "   ---------------------------------------- 0.0/119.5 kB ? eta -:--:--\n",
      "   ---------------------------------------- 119.5/119.5 kB 7.3 MB/s eta 0:00:00\n",
      "Downloading boto3-1.34.55-py3-none-any.whl (139 kB)\n",
      "   ---------------------------------------- 0.0/139.3 kB ? eta -:--:--\n",
      "   ---------------------------------------- 139.3/139.3 kB 8.1 MB/s eta 0:00:00\n",
      "Downloading oqpy-0.3.5-py3-none-any.whl (36 kB)\n",
      "Downloading openpulse-0.5.0-py3-none-any.whl (377 kB)\n",
      "   ---------------------------------------- 0.0/377.0 kB ? eta -:--:--\n",
      "   --------------------------------------  368.6/377.0 kB 11.6 MB/s eta 0:00:01\n",
      "   ---------------------------------------- 377.0/377.0 kB 7.8 MB/s eta 0:00:00\n",
      "Downloading backoff-2.2.1-py3-none-any.whl (15 kB)\n",
      "Downloading openqasm3-0.5.0-py3-none-any.whl (524 kB)\n",
      "   ---------------------------------------- 0.0/524.0 kB ? eta -:--:--\n",
      "   --------------------------------- ----- 450.6/524.0 kB 14.2 MB/s eta 0:00:01\n",
      "   --------------------------------------- 524.0/524.0 kB 10.9 MB/s eta 0:00:00\n",
      "Downloading botocore-1.34.55-py3-none-any.whl (12.0 MB)\n",
      "   ---------------------------------------- 0.0/12.0 MB ? eta -:--:--\n",
      "   - -------------------------------------- 0.6/12.0 MB 12.7 MB/s eta 0:00:01\n",
      "   --- ------------------------------------ 1.1/12.0 MB 11.9 MB/s eta 0:00:01\n",
      "   ----- ---------------------------------- 1.6/12.0 MB 11.4 MB/s eta 0:00:01\n",
      "   ------- -------------------------------- 2.1/12.0 MB 11.2 MB/s eta 0:00:01\n",
      "   -------- ------------------------------- 2.6/12.0 MB 11.0 MB/s eta 0:00:01\n",
      "   ---------- ----------------------------- 3.2/12.0 MB 11.3 MB/s eta 0:00:01\n",
      "   ------------ --------------------------- 3.7/12.0 MB 11.1 MB/s eta 0:00:01\n",
      "   ------------- -------------------------- 4.2/12.0 MB 11.1 MB/s eta 0:00:01\n",
      "   --------------- ------------------------ 4.7/12.0 MB 11.2 MB/s eta 0:00:01\n",
      "   ----------------- ---------------------- 5.3/12.0 MB 11.2 MB/s eta 0:00:01\n",
      "   ------------------- -------------------- 5.8/12.0 MB 11.2 MB/s eta 0:00:01\n",
      "   --------------------- ------------------ 6.3/12.0 MB 11.2 MB/s eta 0:00:01\n",
      "   ----------------------- ---------------- 6.9/12.0 MB 11.3 MB/s eta 0:00:01\n",
      "   ------------------------ --------------- 7.4/12.0 MB 11.3 MB/s eta 0:00:01\n",
      "   -------------------------- ------------- 7.9/12.0 MB 11.3 MB/s eta 0:00:01\n",
      "   ---------------------------- ----------- 8.4/12.0 MB 11.2 MB/s eta 0:00:01\n",
      "   ----------------------------- ---------- 8.8/12.0 MB 11.3 MB/s eta 0:00:01\n",
      "   ------------------------------- -------- 9.4/12.0 MB 11.1 MB/s eta 0:00:01\n",
      "   -------------------------------- ------- 9.8/12.0 MB 11.2 MB/s eta 0:00:01\n",
      "   ---------------------------------- ----- 10.3/12.0 MB 10.9 MB/s eta 0:00:01\n",
      "   ------------------------------------ --- 10.8/12.0 MB 10.9 MB/s eta 0:00:01\n",
      "   ------------------------------------- -- 11.3/12.0 MB 10.9 MB/s eta 0:00:01\n",
      "   ---------------------------------------  11.8/12.0 MB 11.1 MB/s eta 0:00:01\n",
      "   ---------------------------------------- 12.0/12.0 MB 10.7 MB/s eta 0:00:00\n",
      "Downloading s3transfer-0.10.0-py3-none-any.whl (82 kB)\n",
      "   ---------------------------------------- 0.0/82.1 kB ? eta -:--:--\n",
      "   ---------------------------------------- 82.1/82.1 kB 4.8 MB/s eta 0:00:00\n",
      "Downloading opt_einsum-3.3.0-py3-none-any.whl (65 kB)\n",
      "   ---------------------------------------- 0.0/65.5 kB ? eta -:--:--\n",
      "   ---------------------------------------- 65.5/65.5 kB 3.5 MB/s eta 0:00:00\n",
      "Installing collected packages: openqasm3, antlr4-python3-runtime, opt-einsum, backoff, openpulse, botocore, amazon-braket-schemas, s3transfer, oqpy, amazon-braket-default-simulator, boto3, amazon-braket-sdk\n",
      "  Attempting uninstall: botocore\n",
      "    Found existing installation: botocore 1.29.76\n",
      "    Uninstalling botocore-1.29.76:\n",
      "      Successfully uninstalled botocore-1.29.76\n",
      "Successfully installed amazon-braket-default-simulator-1.20.4 amazon-braket-schemas-1.20.2 amazon-braket-sdk-1.72.2 antlr4-python3-runtime-4.9.2 backoff-2.2.1 boto3-1.34.55 botocore-1.34.55 openpulse-0.5.0 openqasm3-0.5.0 opt-einsum-3.3.0 oqpy-0.3.5 s3transfer-0.10.0\n"
     ]
    },
    {
     "name": "stderr",
     "output_type": "stream",
     "text": [
      "ERROR: pip's dependency resolver does not currently take into account all the packages that are installed. This behaviour is the source of the following dependency conflicts.\n",
      "aiobotocore 2.5.0 requires botocore<1.29.77,>=1.29.76, but you have botocore 1.34.55 which is incompatible.\n"
     ]
    },
    {
     "name": "stdout",
     "output_type": "stream",
     "text": [
      "Collecting qiskit-braket-provider==0.1.1\n",
      "  Obtaining dependency information for qiskit-braket-provider==0.1.1 from https://files.pythonhosted.org/packages/a1/63/d1cfc3fbd48a87bdce2eef8e963d0b4a989e276740680ee99375a393787b/qiskit_braket_provider-0.1.1-py3-none-any.whl.metadata\n",
      "  Downloading qiskit_braket_provider-0.1.1-py3-none-any.whl.metadata (3.6 kB)\n",
      "Requirement already satisfied: certifi>=2021.5.30 in d:\\anaconda\\lib\\site-packages (from qiskit-braket-provider==0.1.1) (2023.11.17)\n",
      "Requirement already satisfied: qiskit<1.0,>=0.34.2 in d:\\anaconda\\lib\\site-packages (from qiskit-braket-provider==0.1.1) (0.45.2)\n",
      "Collecting qiskit-ionq>=0.4.7 (from qiskit-braket-provider==0.1.1)\n",
      "  Obtaining dependency information for qiskit-ionq>=0.4.7 from https://files.pythonhosted.org/packages/7c/36/c9231dca13695e24a34a6f13e1642595be119db12424ff70142c0bb2442a/qiskit_ionq-0.5.0-py3-none-any.whl.metadata\n",
      "  Downloading qiskit_ionq-0.5.0-py3-none-any.whl.metadata (7.7 kB)\n",
      "Requirement already satisfied: amazon-braket-sdk>=1.65.0 in d:\\anaconda\\lib\\site-packages (from qiskit-braket-provider==0.1.1) (1.72.2)\n",
      "Requirement already satisfied: setuptools>=40.1.0 in d:\\anaconda\\lib\\site-packages (from qiskit-braket-provider==0.1.1) (68.0.0)\n",
      "Requirement already satisfied: numpy>=1.3 in d:\\anaconda\\lib\\site-packages (from qiskit-braket-provider==0.1.1) (1.24.3)\n",
      "Requirement already satisfied: amazon-braket-schemas>=1.20.2 in d:\\anaconda\\lib\\site-packages (from amazon-braket-sdk>=1.65.0->qiskit-braket-provider==0.1.1) (1.20.2)\n",
      "Requirement already satisfied: amazon-braket-default-simulator>=1.19.1 in d:\\anaconda\\lib\\site-packages (from amazon-braket-sdk>=1.65.0->qiskit-braket-provider==0.1.1) (1.20.4)\n",
      "Requirement already satisfied: oqpy~=0.3.5 in d:\\anaconda\\lib\\site-packages (from amazon-braket-sdk>=1.65.0->qiskit-braket-provider==0.1.1) (0.3.5)\n",
      "Requirement already satisfied: backoff in d:\\anaconda\\lib\\site-packages (from amazon-braket-sdk>=1.65.0->qiskit-braket-provider==0.1.1) (2.2.1)\n",
      "Requirement already satisfied: boltons in d:\\anaconda\\lib\\site-packages (from amazon-braket-sdk>=1.65.0->qiskit-braket-provider==0.1.1) (23.0.0)\n",
      "Requirement already satisfied: boto3>=1.28.53 in d:\\anaconda\\lib\\site-packages (from amazon-braket-sdk>=1.65.0->qiskit-braket-provider==0.1.1) (1.34.55)\n",
      "Requirement already satisfied: cloudpickle==2.2.1 in d:\\anaconda\\lib\\site-packages (from amazon-braket-sdk>=1.65.0->qiskit-braket-provider==0.1.1) (2.2.1)\n",
      "Requirement already satisfied: nest-asyncio in d:\\anaconda\\lib\\site-packages (from amazon-braket-sdk>=1.65.0->qiskit-braket-provider==0.1.1) (1.5.6)\n",
      "Requirement already satisfied: networkx in d:\\anaconda\\lib\\site-packages (from amazon-braket-sdk>=1.65.0->qiskit-braket-provider==0.1.1) (3.1)\n",
      "Requirement already satisfied: openpulse in d:\\anaconda\\lib\\site-packages (from amazon-braket-sdk>=1.65.0->qiskit-braket-provider==0.1.1) (0.5.0)\n",
      "Requirement already satisfied: openqasm3 in d:\\anaconda\\lib\\site-packages (from amazon-braket-sdk>=1.65.0->qiskit-braket-provider==0.1.1) (0.5.0)\n",
      "Requirement already satisfied: sympy in d:\\anaconda\\lib\\site-packages (from amazon-braket-sdk>=1.65.0->qiskit-braket-provider==0.1.1) (1.11.1)\n",
      "Requirement already satisfied: qiskit-terra==0.45.2 in d:\\anaconda\\lib\\site-packages (from qiskit<1.0,>=0.34.2->qiskit-braket-provider==0.1.1) (0.45.2)\n",
      "Requirement already satisfied: rustworkx>=0.13.0 in d:\\anaconda\\lib\\site-packages (from qiskit-terra==0.45.2->qiskit<1.0,>=0.34.2->qiskit-braket-provider==0.1.1) (0.13.2)\n",
      "Requirement already satisfied: ply>=3.10 in d:\\anaconda\\lib\\site-packages (from qiskit-terra==0.45.2->qiskit<1.0,>=0.34.2->qiskit-braket-provider==0.1.1) (3.11)\n",
      "Requirement already satisfied: psutil>=5 in d:\\anaconda\\lib\\site-packages (from qiskit-terra==0.45.2->qiskit<1.0,>=0.34.2->qiskit-braket-provider==0.1.1) (5.9.0)\n",
      "Requirement already satisfied: scipy>=1.5 in d:\\anaconda\\lib\\site-packages (from qiskit-terra==0.45.2->qiskit<1.0,>=0.34.2->qiskit-braket-provider==0.1.1) (1.11.1)\n",
      "Requirement already satisfied: dill>=0.3 in d:\\anaconda\\lib\\site-packages (from qiskit-terra==0.45.2->qiskit<1.0,>=0.34.2->qiskit-braket-provider==0.1.1) (0.3.6)\n",
      "Requirement already satisfied: python-dateutil>=2.8.0 in d:\\anaconda\\lib\\site-packages (from qiskit-terra==0.45.2->qiskit<1.0,>=0.34.2->qiskit-braket-provider==0.1.1) (2.8.2)\n",
      "Requirement already satisfied: stevedore>=3.0.0 in d:\\anaconda\\lib\\site-packages (from qiskit-terra==0.45.2->qiskit<1.0,>=0.34.2->qiskit-braket-provider==0.1.1) (5.1.0)\n",
      "Requirement already satisfied: decorator>=5.1.0 in d:\\anaconda\\lib\\site-packages (from qiskit-ionq>=0.4.7->qiskit-braket-provider==0.1.1) (5.1.1)\n",
      "Requirement already satisfied: requests>=2.24.0 in d:\\anaconda\\lib\\site-packages (from qiskit-ionq>=0.4.7->qiskit-braket-provider==0.1.1) (2.31.0)\n",
      "Collecting retry>=0.9.0 (from qiskit-ionq>=0.4.7->qiskit-braket-provider==0.1.1)\n",
      "  Obtaining dependency information for retry>=0.9.0 from https://files.pythonhosted.org/packages/4b/0d/53aea75710af4528a25ed6837d71d117602b01946b307a3912cb3cfcbcba/retry-0.9.2-py2.py3-none-any.whl.metadata\n",
      "  Downloading retry-0.9.2-py2.py3-none-any.whl.metadata (5.8 kB)\n",
      "Requirement already satisfied: importlib-metadata>=4.11.4 in d:\\anaconda\\lib\\site-packages (from qiskit-ionq>=0.4.7->qiskit-braket-provider==0.1.1) (6.0.0)\n",
      "Requirement already satisfied: opt-einsum in d:\\anaconda\\lib\\site-packages (from amazon-braket-default-simulator>=1.19.1->amazon-braket-sdk>=1.65.0->qiskit-braket-provider==0.1.1) (3.3.0)\n",
      "Requirement already satisfied: pydantic in d:\\anaconda\\lib\\site-packages (from amazon-braket-default-simulator>=1.19.1->amazon-braket-sdk>=1.65.0->qiskit-braket-provider==0.1.1) (1.10.8)\n",
      "Requirement already satisfied: antlr4-python3-runtime==4.9.2 in d:\\anaconda\\lib\\site-packages (from amazon-braket-default-simulator>=1.19.1->amazon-braket-sdk>=1.65.0->qiskit-braket-provider==0.1.1) (4.9.2)\n",
      "Requirement already satisfied: botocore<1.35.0,>=1.34.55 in d:\\anaconda\\lib\\site-packages (from boto3>=1.28.53->amazon-braket-sdk>=1.65.0->qiskit-braket-provider==0.1.1) (1.34.55)\n",
      "Requirement already satisfied: jmespath<2.0.0,>=0.7.1 in d:\\anaconda\\lib\\site-packages (from boto3>=1.28.53->amazon-braket-sdk>=1.65.0->qiskit-braket-provider==0.1.1) (0.10.0)\n",
      "Requirement already satisfied: s3transfer<0.11.0,>=0.10.0 in d:\\anaconda\\lib\\site-packages (from boto3>=1.28.53->amazon-braket-sdk>=1.65.0->qiskit-braket-provider==0.1.1) (0.10.0)\n",
      "Requirement already satisfied: zipp>=0.5 in d:\\anaconda\\lib\\site-packages (from importlib-metadata>=4.11.4->qiskit-ionq>=0.4.7->qiskit-braket-provider==0.1.1) (3.11.0)\n",
      "Requirement already satisfied: mypy-extensions>=0.2.0 in d:\\anaconda\\lib\\site-packages (from oqpy~=0.3.5->amazon-braket-sdk>=1.65.0->qiskit-braket-provider==0.1.1) (1.0.0)\n",
      "Requirement already satisfied: charset-normalizer<4,>=2 in d:\\anaconda\\lib\\site-packages (from requests>=2.24.0->qiskit-ionq>=0.4.7->qiskit-braket-provider==0.1.1) (2.0.4)\n",
      "Requirement already satisfied: idna<4,>=2.5 in d:\\anaconda\\lib\\site-packages (from requests>=2.24.0->qiskit-ionq>=0.4.7->qiskit-braket-provider==0.1.1) (3.4)\n",
      "Requirement already satisfied: urllib3<3,>=1.21.1 in d:\\anaconda\\lib\\site-packages (from requests>=2.24.0->qiskit-ionq>=0.4.7->qiskit-braket-provider==0.1.1) (1.26.16)\n",
      "Collecting py<2.0.0,>=1.4.26 (from retry>=0.9.0->qiskit-ionq>=0.4.7->qiskit-braket-provider==0.1.1)\n",
      "  Obtaining dependency information for py<2.0.0,>=1.4.26 from https://files.pythonhosted.org/packages/f6/f0/10642828a8dfb741e5f3fbaac830550a518a775c7fff6f04a007259b0548/py-1.11.0-py2.py3-none-any.whl.metadata\n",
      "  Downloading py-1.11.0-py2.py3-none-any.whl.metadata (2.8 kB)\n",
      "Requirement already satisfied: mpmath>=0.19 in d:\\anaconda\\lib\\site-packages (from sympy->amazon-braket-sdk>=1.65.0->qiskit-braket-provider==0.1.1) (1.3.0)\n",
      "Requirement already satisfied: typing-extensions>=4.2.0 in d:\\anaconda\\lib\\site-packages (from pydantic->amazon-braket-default-simulator>=1.19.1->amazon-braket-sdk>=1.65.0->qiskit-braket-provider==0.1.1) (4.7.1)\n",
      "Requirement already satisfied: six>=1.5 in d:\\anaconda\\lib\\site-packages (from python-dateutil>=2.8.0->qiskit-terra==0.45.2->qiskit<1.0,>=0.34.2->qiskit-braket-provider==0.1.1) (1.16.0)\n",
      "Requirement already satisfied: pbr!=2.1.0,>=2.0.0 in d:\\anaconda\\lib\\site-packages (from stevedore>=3.0.0->qiskit-terra==0.45.2->qiskit<1.0,>=0.34.2->qiskit-braket-provider==0.1.1) (6.0.0)\n",
      "Downloading qiskit_braket_provider-0.1.1-py3-none-any.whl (32 kB)\n",
      "Downloading qiskit_ionq-0.5.0-py3-none-any.whl (37 kB)\n",
      "Using cached retry-0.9.2-py2.py3-none-any.whl (8.0 kB)\n",
      "Using cached py-1.11.0-py2.py3-none-any.whl (98 kB)\n",
      "Installing collected packages: py, retry, qiskit-ionq, qiskit-braket-provider\n",
      "Successfully installed py-1.11.0 qiskit-braket-provider-0.1.1 qiskit-ionq-0.5.0 retry-0.9.2\n"
     ]
    }
   ],
   "source": [
    "### To update the packages, just run this command in your terminal please\n",
    "\n",
    "!pip install amazon-braket-sdk==1.72.2 \n",
    "!pip install qiskit-braket-provider==0.1.1"
   ]
  },
  {
   "cell_type": "markdown",
   "metadata": {},
   "source": [
    "#### Running a bell circuit on different backends"
   ]
  },
  {
   "cell_type": "code",
   "execution_count": 3,
   "metadata": {},
   "outputs": [],
   "source": [
    "import numpy as np\n",
    "import time\n",
    "\n",
    "from braket.circuits import Circuit\n",
    "from qiskit_braket_provider import AWSBraketProvider\n",
    "from braket.aws import AwsSession\n",
    "\n",
    "from qiskit import QuantumCircuit\n",
    "from qiskit.primitives import BackendEstimator, Estimator\n",
    "from qiskit.quantum_info.operators import SparsePauliOp\n",
    "from qiskit.primitives import BackendEstimator\n",
    "\n",
    "import os\n",
    "os.environ[\"KMP_DUPLICATE_LIB_OK\"] = \"True\""
   ]
  },
  {
   "cell_type": "markdown",
   "metadata": {},
   "source": [
    "# TODO: Please adjust the S3 bucket to one of yours"
   ]
  },
  {
   "cell_type": "code",
   "execution_count": 4,
   "metadata": {},
   "outputs": [],
   "source": [
    "aws_session = AwsSession(default_bucket=\"xiufan-bucket-prgroup\") # TODO: Please replace with your S3 bucket"
   ]
  },
  {
   "cell_type": "code",
   "execution_count": 5,
   "metadata": {},
   "outputs": [],
   "source": [
    "batchsize = 50\n",
    "n_shots = 10_000"
   ]
  },
  {
   "cell_type": "markdown",
   "metadata": {},
   "source": [
    "#### Run with native Braket SV Backend"
   ]
  },
  {
   "cell_type": "code",
   "execution_count": 6,
   "metadata": {},
   "outputs": [
    {
     "data": {
      "text/plain": [
       "Device('name': SV1, 'arn': arn:aws:braket:::device/quantum-simulator/amazon/sv1)"
      ]
     },
     "execution_count": 6,
     "metadata": {},
     "output_type": "execute_result"
    }
   ],
   "source": [
    "backend = AWSBraketProvider().get_backend('SV1')\n",
    "\n",
    "device = backend._device\n",
    "device"
   ]
  },
  {
   "cell_type": "code",
   "execution_count": 7,
   "metadata": {},
   "outputs": [
    {
     "name": "stdout",
     "output_type": "stream",
     "text": [
      "T  : |0|1|\n",
      "          \n",
      "q0 : -H-C-\n",
      "        | \n",
      "q1 : ---X-\n",
      "\n",
      "T  : |0|1|\n"
     ]
    }
   ],
   "source": [
    "braket_bell_circ = Circuit().h(0).cnot(0, 1)\n",
    "print(braket_bell_circ)"
   ]
  },
  {
   "cell_type": "code",
   "execution_count": 8,
   "metadata": {},
   "outputs": [
    {
     "name": "stdout",
     "output_type": "stream",
     "text": [
      "--- 25.79 seconds ---\n",
      "Execution time per circuit: 0.52 seconds\n"
     ]
    }
   ],
   "source": [
    "start_time = time.time()\n",
    "job_braket_native = device.run_batch(\n",
    "    [braket_bell_circ] * batchsize,\n",
    "    shots=n_shots,\n",
    ")\n",
    "run_batch_time = time.time() - start_time\n",
    "print('--- {} seconds ---'.format(round(run_batch_time, 2)))\n",
    "print('Execution time per circuit:', round(run_batch_time / batchsize, 2), 'seconds')"
   ]
  },
  {
   "cell_type": "markdown",
   "metadata": {},
   "source": [
    "#### Run with Braket Provider + **Estimator Primitive**"
   ]
  },
  {
   "cell_type": "code",
   "execution_count": 9,
   "metadata": {},
   "outputs": [
    {
     "name": "stderr",
     "output_type": "stream",
     "text": [
      "D:\\Anaconda\\Lib\\site-packages\\qiskit\\visualization\\circuit\\matplotlib.py:266: FutureWarning: The default matplotlib drawer scheme will be changed to \"iqp\" in a following release. To silence this warning, specify the current default explicitly as style=\"clifford\", or the new default as style=\"iqp\".\n",
      "  self._style, def_font_ratio = load_style(self._style)\n"
     ]
    },
    {
     "data": {
      "image/png": "[encoded data removed]",
      "text/plain": [
       "<Figure size 287.294x200.667 with 1 Axes>"
      ]
     },
     "execution_count": 9,
     "metadata": {},
     "output_type": "execute_result"
    }
   ],
   "source": [
    "qiskit_bell_circ = QuantumCircuit(2)\n",
    "qiskit_bell_circ.h(0)\n",
    "qiskit_bell_circ.cx(0, 1)\n",
    "\n",
    "qiskit_bell_circ.draw(\"mpl\")"
   ]
  },
  {
   "cell_type": "markdown",
   "metadata": {},
   "source": [
    "Formerly took 532 secs to complete"
   ]
  },
  {
   "cell_type": "code",
   "execution_count": 10,
   "metadata": {},
   "outputs": [
    {
     "name": "stdout",
     "output_type": "stream",
     "text": [
      "--- 738.49 seconds ---\n",
      "Execution time per circuit: 4.92 seconds\n"
     ]
    }
   ],
   "source": [
    "backend = AWSBraketProvider().get_backend('SV1')\n",
    "estimator = BackendEstimator(backend)\n",
    "qiskit_observables = SparsePauliOp.from_list(([('XX', 0.25), (\"IZ\", 0.25), (\"ZZ\", 0.25), (\"XY\", 0.25)]))\n",
    "\n",
    "qiskit_start_time = time.time()\n",
    "job = estimator.run(\n",
    "    circuits=[qiskit_bell_circ] * batchsize,\n",
    "    observables=[qiskit_observables] * batchsize,\n",
    "    shots=n_shots\n",
    ")\n",
    "job.result().values # This is the time-consuming line\n",
    "\n",
    "qiskit_run_batch_time = time.time() - qiskit_start_time\n",
    "print('--- {} seconds ---'.format(round(qiskit_run_batch_time, 2)))\n",
    "print('Execution time per circuit:', round(qiskit_run_batch_time / (batchsize * 3), 2), 'seconds')"
   ]
  },
  {
   "cell_type": "code",
   "execution_count": 11,
   "metadata": {},
   "outputs": [],
   "source": [
    "qiskit_expvals = job.result().values"
   ]
  },
  {
   "cell_type": "markdown",
   "metadata": {},
   "source": [
    "#### Use ``Estimator`` from Qiskit"
   ]
  },
  {
   "cell_type": "code",
   "execution_count": 12,
   "metadata": {},
   "outputs": [
    {
     "name": "stdout",
     "output_type": "stream",
     "text": [
      "--- 0.05 seconds ---\n",
      "Execution time per circuit: 0.0 seconds\n"
     ]
    }
   ],
   "source": [
    "start_time = time.time()\n",
    "job = Estimator().run(\n",
    "    circuits=[qiskit_bell_circ] * batchsize,\n",
    "    observables=[qiskit_observables] * batchsize,\n",
    "    shots=n_shots\n",
    ")\n",
    "qiskit_expvals_2 = job.result().values\n",
    "run_batch_time = time.time() - start_time\n",
    "print('--- {} seconds ---'.format(round(run_batch_time, 2)))\n",
    "# Three non-commuting parts of the Hamiltonian lead to three measured circuits per Hamiltonian\n",
    "print('Execution time per circuit:', round(run_batch_time / (batchsize * 3), 2), 'seconds')"
   ]
  },
  {
   "cell_type": "code",
   "execution_count": 13,
   "metadata": {},
   "outputs": [
    {
     "data": {
      "text/plain": [
       "array([ 7.67110466e-03,  2.58415666e-03,  3.61985499e-03,  4.42866924e-03,\n",
       "       -2.46893913e-03, -1.11221964e-02,  2.26712347e-03,  2.46853783e-04,\n",
       "        6.43258209e-03, -2.26211228e-03,  5.33842066e-04, -4.65794072e-03,\n",
       "       -1.95281299e-03, -6.23364340e-03, -9.12855533e-04, -4.35090511e-03,\n",
       "       -5.15256435e-03, -8.87581587e-03,  6.25261189e-03,  3.82411133e-03,\n",
       "       -4.10180134e-04,  9.24700485e-04,  5.26876309e-03, -6.76792196e-03,\n",
       "        1.20318508e-03,  1.72565225e-04,  3.04426733e-03,  4.53873546e-03,\n",
       "        1.07839960e-03, -2.49713228e-03, -1.06106280e-03, -8.87506575e-03,\n",
       "       -6.09602532e-03, -1.84990558e-03,  5.44129848e-03,  5.70111903e-03,\n",
       "       -5.30992304e-03, -1.00768114e-03, -2.85305528e-04, -8.10302736e-03,\n",
       "        7.38356664e-03,  6.27542532e-04,  2.24005552e-03,  3.27422482e-03,\n",
       "        8.58477974e-04, -7.56000552e-04, -8.84480275e-03,  2.34205997e-04,\n",
       "       -5.30753701e-03, -3.33486964e-05])"
      ]
     },
     "execution_count": 13,
     "metadata": {},
     "output_type": "execute_result"
    }
   ],
   "source": [
    "qiskit_expvals_2 - qiskit_expvals"
   ]
  },
  {
   "cell_type": "code",
   "execution_count": 14,
   "metadata": {},
   "outputs": [
    {
     "data": {
      "text/plain": [
       "0.007671104663567796"
      ]
     },
     "execution_count": 14,
     "metadata": {},
     "output_type": "execute_result"
    }
   ],
   "source": [
    "max(qiskit_expvals_2 - qiskit_expvals)"
   ]
  },
  {
   "cell_type": "markdown",
   "metadata": {},
   "source": [
    "#### Running batch of qiskit circuits with SV1 backend provider"
   ]
  },
  {
   "cell_type": "code",
   "execution_count": 15,
   "metadata": {},
   "outputs": [],
   "source": [
    "backend = AWSBraketProvider().get_backend('SV1')"
   ]
  },
  {
   "cell_type": "code",
   "execution_count": 16,
   "metadata": {},
   "outputs": [
    {
     "name": "stdout",
     "output_type": "stream",
     "text": [
      "--- 222.57 seconds ---\n",
      "Execution time per batch: 4.45 seconds\n"
     ]
    }
   ],
   "source": [
    "qiskit_start_time = time.time()\n",
    "job = backend.run(\n",
    "    [qiskit_bell_circ] * batchsize,\n",
    "    shots=n_shots\n",
    ")\n",
    "result = job.result() # This is the time-consuming line\n",
    "\n",
    "qiskit_run_batch_time = time.time() - qiskit_start_time\n",
    "print('--- {} seconds ---'.format(round(qiskit_run_batch_time, 2)))\n",
    "print('Execution time per batch:', round(qiskit_run_batch_time / batchsize, 2), 'seconds')"
   ]
  }
 ],
 "metadata": {
  "kernelspec": {
   "display_name": "Python 3 (ipykernel)",
   "language": "python",
   "name": "python3"
  },
  "language_info": {
   "codemirror_mode": {
    "name": "ipython",
    "version": 3
   },
   "file_extension": ".py",
   "mimetype": "text/x-python",
   "name": "python",
   "nbconvert_exporter": "python",
   "pygments_lexer": "ipython3",
   "version": "3.11.5"
  }
 },
 "nbformat": 4,
 "nbformat_minor": 2
}
