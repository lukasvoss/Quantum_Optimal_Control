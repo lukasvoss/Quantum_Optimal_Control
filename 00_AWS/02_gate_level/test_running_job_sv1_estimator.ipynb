{
 "cells": [
  {
   "attachments": {},
   "cell_type": "markdown",
   "metadata": {},
   "source": [
    "#### Running a Bell circuit on different backends"
   ]
  },
  {
   "cell_type": "code",
   "execution_count": 1,
   "metadata": {},
   "outputs": [
    {
     "data": {
      "text/plain": [
       "[BraketBackend[Aria 1],\n",
       " BraketBackend[Aria 2],\n",
       " BraketBackend[Aspen-M-3],\n",
       " BraketBackend[Forte 1],\n",
       " BraketBackend[Harmony],\n",
       " BraketBackend[Lucy],\n",
       " BraketBackend[SV1],\n",
       " BraketBackend[dm1]]"
      ]
     },
     "execution_count": 1,
     "metadata": {},
     "output_type": "execute_result"
    }
   ],
   "source": [
    "from qiskit_braket_provider import AWSBraketProvider\n",
    "from qiskit_braket_provider.providers import adapter\n",
    "from braket.aws import AwsSession\n",
    "\n",
    "from qiskit import QuantumCircuit\n",
    "from qiskit.quantum_info.operators import SparsePauliOp\n",
    "from qiskit.primitives import BackendEstimator\n",
    "\n",
    "aws_session = AwsSession(default_bucket=\"amazon-braket-us-west-1-lukasvoss\")\n",
    "AWSBraketProvider().backends()"
   ]
  },
  {
   "attachments": {},
   "cell_type": "markdown",
   "metadata": {},
   "source": [
    "Qiskit Bell Circuit"
   ]
  },
  {
   "cell_type": "code",
   "execution_count": 2,
   "metadata": {},
   "outputs": [
    {
     "name": "stderr",
     "output_type": "stream",
     "text": [
      "/Users/lukasvoss/anaconda3/envs/braket/lib/python3.10/site-packages/qiskit/visualization/circuit/matplotlib.py:266: FutureWarning: The default matplotlib drawer scheme will be changed to \"iqp\" in a following release. To silence this warning, specify the current default explicitly as style=\"clifford\", or the new default as style=\"iqp\".\n",
      "  self._style, def_font_ratio = load_style(self._style)\n"
     ]
    },
    {
     "data": {
      "image/png": "[encoded data removed]",
      "text/plain": [
       "<Figure size 287.294x200.667 with 1 Axes>"
      ]
     },
     "execution_count": 2,
     "metadata": {},
     "output_type": "execute_result"
    }
   ],
   "source": [
    "qiskit_qc = QuantumCircuit(2)\n",
    "qiskit_qc.h(0)\n",
    "qiskit_qc.cx(0, 1)\n",
    "\n",
    "qiskit_qc.draw(\"mpl\")"
   ]
  },
  {
   "attachments": {},
   "cell_type": "markdown",
   "metadata": {},
   "source": [
    "Braket Circuit from Qiskit Circuit"
   ]
  },
  {
   "cell_type": "code",
   "execution_count": 3,
   "metadata": {},
   "outputs": [
    {
     "name": "stdout",
     "output_type": "stream",
     "text": [
      "T  : |0|1|\n",
      "          \n",
      "q0 : -H-C-\n",
      "        | \n",
      "q1 : ---X-\n",
      "\n",
      "T  : |0|1|\n"
     ]
    }
   ],
   "source": [
    "braket_qc = adapter.convert_qiskit_to_braket_circuit(qiskit_qc)\n",
    "print(braket_qc)"
   ]
  },
  {
   "attachments": {},
   "cell_type": "markdown",
   "metadata": {},
   "source": [
    "Set the backend to AWS Braket Provider SV1"
   ]
  },
  {
   "cell_type": "code",
   "execution_count": 4,
   "metadata": {},
   "outputs": [],
   "source": [
    "backend = AWSBraketProvider().get_backend('SV1')"
   ]
  },
  {
   "attachments": {},
   "cell_type": "markdown",
   "metadata": {},
   "source": [
    "Run on AWS Qiskit-Braket Provider"
   ]
  },
  {
   "cell_type": "code",
   "execution_count": 5,
   "metadata": {},
   "outputs": [],
   "source": [
    "# job = [backend.run(qiskit_qc, shots=100).result() for i in range(3)]"
   ]
  },
  {
   "cell_type": "code",
   "execution_count": 6,
   "metadata": {},
   "outputs": [
    {
     "data": {
      "text/plain": [
       "[{'11': 53, '00': 47}, {'11': 53, '00': 47}, {'00': 52, '11': 48}]"
      ]
     },
     "execution_count": 6,
     "metadata": {},
     "output_type": "execute_result"
    }
   ],
   "source": [
    "# counts = [j.results[0].data.counts for j in job]\n",
    "# counts"
   ]
  },
  {
   "attachments": {},
   "cell_type": "markdown",
   "metadata": {},
   "source": [
    "Run with native Braket SV Backend"
   ]
  },
  {
   "cell_type": "code",
   "execution_count": 7,
   "metadata": {},
   "outputs": [],
   "source": [
    "# device = backend._device\n",
    "# job_braket_native = device.run_batch(\n",
    "#     braket_qc,\n",
    "#     shots=100\n",
    "# )"
   ]
  },
  {
   "cell_type": "code",
   "execution_count": 8,
   "metadata": {},
   "outputs": [
    {
     "data": {
      "text/plain": [
       "Counter({'00': 56, '11': 44})"
      ]
     },
     "execution_count": 8,
     "metadata": {},
     "output_type": "execute_result"
    }
   ],
   "source": [
    "# job_braket_native.results()[0].measurement_counts"
   ]
  },
  {
   "attachments": {},
   "cell_type": "markdown",
   "metadata": {},
   "source": [
    "Run with Braket Provider + **Estimator Primitive**"
   ]
  },
  {
   "cell_type": "code",
   "execution_count": 21,
   "metadata": {},
   "outputs": [
    {
     "name": "stderr",
     "output_type": "stream",
     "text": [
      "/Users/lukasvoss/anaconda3/envs/braket/lib/python3.10/site-packages/qiskit/visualization/circuit/matplotlib.py:266: FutureWarning: The default matplotlib drawer scheme will be changed to \"iqp\" in a following release. To silence this warning, specify the current default explicitly as style=\"clifford\", or the new default as style=\"iqp\".\n",
      "  self._style, def_font_ratio = load_style(self._style)\n"
     ]
    },
    {
     "data": {
      "image/png": "[encoded data removed]",
      "text/plain": [
       "<Figure size 287.294x200.667 with 1 Axes>"
      ]
     },
     "execution_count": 21,
     "metadata": {},
     "output_type": "execute_result"
    }
   ],
   "source": [
    "qiskit_qc.draw(\"mpl\")"
   ]
  },
  {
   "cell_type": "code",
   "execution_count": 22,
   "metadata": {},
   "outputs": [
    {
     "name": "stderr",
     "output_type": "stream",
     "text": [
      "/Users/lukasvoss/anaconda3/envs/braket/lib/python3.10/site-packages/qiskit_braket_provider/providers/adapter.py:475: UserWarning: Device does not support global phase; global phase of 1.5707963267948966 will not be included in Braket circuit\n",
      "  warnings.warn(\n",
      "/Users/lukasvoss/anaconda3/envs/braket/lib/python3.10/site-packages/qiskit_braket_provider/providers/adapter.py:475: UserWarning: Device does not support global phase; global phase of 2.3561944901923457 will not be included in Braket circuit\n",
      "  warnings.warn(\n",
      "/Users/lukasvoss/anaconda3/envs/braket/lib/python3.10/site-packages/qiskit_braket_provider/providers/adapter.py:475: UserWarning: Device does not support global phase; global phase of 4.71238898038469 will not be included in Braket circuit\n",
      "  warnings.warn(\n"
     ]
    },
    {
     "data": {
      "text/plain": [
       "array([0.47])"
      ]
     },
     "execution_count": 22,
     "metadata": {},
     "output_type": "execute_result"
    }
   ],
   "source": [
    "backend = AWSBraketProvider().get_backend('SV1')\n",
    "estimator = BackendEstimator(backend)\n",
    "observables = SparsePauliOp.from_list(([('XX', 0.25), (\"IZ\", 0.25), (\"ZZ\", 0.25), (\"XY\", 0.25)]))\n",
    "job = estimator.run(\n",
    "    circuits=qiskit_qc,\n",
    "    observables=observables,\n",
    "    shots=100\n",
    ")\n",
    "job.result().values"
   ]
  },
  {
   "cell_type": "code",
   "execution_count": 10,
   "metadata": {},
   "outputs": [],
   "source": [
    "estimator = BackendEstimator(backend)"
   ]
  },
  {
   "cell_type": "code",
   "execution_count": 11,
   "metadata": {},
   "outputs": [],
   "source": [
    "observables = SparsePauliOp.from_list(([('ZZ', 1.0)]))"
   ]
  },
  {
   "cell_type": "code",
   "execution_count": 15,
   "metadata": {},
   "outputs": [],
   "source": [
    "job = estimator.run(\n",
    "    circuits=qiskit_qc,\n",
    "    observables=observables,\n",
    "    shots=100\n",
    ")"
   ]
  },
  {
   "cell_type": "code",
   "execution_count": 18,
   "metadata": {},
   "outputs": [
    {
     "name": "stdout",
     "output_type": "stream",
     "text": [
      "JobStatus.DONE\n"
     ]
    }
   ],
   "source": [
    "print(job.status())"
   ]
  },
  {
   "cell_type": "code",
   "execution_count": 19,
   "metadata": {},
   "outputs": [
    {
     "data": {
      "text/plain": [
       "array([1.])"
      ]
     },
     "execution_count": 19,
     "metadata": {},
     "output_type": "execute_result"
    }
   ],
   "source": [
    "job.result().values"
   ]
  },
  {
   "attachments": {},
   "cell_type": "markdown",
   "metadata": {},
   "source": [
    "#### Measuring a sum of scaled observables in native Braket"
   ]
  },
  {
   "cell_type": "code",
   "execution_count": null,
   "metadata": {},
   "outputs": [],
   "source": [
    "from braket.devices import LocalSimulator\n",
    "from braket.circuits import Circuit, Observable\n",
    "from braket.circuits.observables import TensorProduct\n",
    "from braket.quantum_information import PauliString"
   ]
  },
  {
   "cell_type": "code",
   "execution_count": null,
   "metadata": {},
   "outputs": [],
   "source": [
    "circuit = Circuit()\n",
    "circuit.x(0)\n",
    "\n",
    "observable_2q = TensorProduct([0.25*Observable.X(), 0.25*Observable.Z()])  # Observable.Z() @ Observable.Z() # + 0.25*Observable.Z() @ Observable.Z()\n",
    "\n",
    "circuit.expectation(observable=observable_2q, target=[0, 1])\n",
    "print(circuit)\n",
    "\n",
    "# Set the device to run your circuit\n",
    "device = LocalSimulator()\n",
    "\n",
    "# Run the circuit with the observable to measure the expectation value\n",
    "task = device.run(circuit, shots=1000)\n",
    "\n",
    "# Get the result\n",
    "result = task.result()\n",
    "\n",
    "# # Extract the expectation value from the result\n",
    "expectation_values = result.values\n",
    "\n",
    "print(f\"\\nExpectation value: {expectation_values}\")"
   ]
  },
  {
   "attachments": {},
   "cell_type": "markdown",
   "metadata": {},
   "source": [
    "A non-scaled (no prefactor) sum of pauli operators CAN be measured"
   ]
  },
  {
   "cell_type": "code",
   "execution_count": null,
   "metadata": {},
   "outputs": [],
   "source": [
    "circuit = Circuit()\n",
    "circuit.x(0)\n",
    "\n",
    "# Define observables for each qubit\n",
    "observable_2q = Observable.X()@Observable.X() + Observable.Z()@Observable.Z()\n",
    "\n",
    "# Measure the expectation value for 2-qubit observable\n",
    "circuit.expectation(observable=observable_2q, target=[[0, 1], [0, 1]])\n",
    "\n",
    "# Measure the expectation value for the observable on qubit 1\n",
    "# circuit.expectation(observable=observable_q1, target=[[1], [1]])\n",
    "\n",
    "print(circuit)\n",
    "\n",
    "# Set the device to run your circuit\n",
    "device = LocalSimulator()\n",
    "\n",
    "# Run the circuit with the observable to measure the expectation value\n",
    "task = device.run(circuit, shots=1000)\n",
    "\n",
    "# Get the result\n",
    "result = task.result()\n",
    "\n",
    "# # Extract the expectation value from the result\n",
    "expectation_values = result.values\n",
    "\n",
    "print(f\"\\nExpectation value: {expectation_values}\")"
   ]
  },
  {
   "cell_type": "code",
   "execution_count": null,
   "metadata": {},
   "outputs": [],
   "source": [
    "circuit = Circuit()\n",
    "circuit.x(0)\n",
    "\n",
    "# Pauli String without a prefactor works\n",
    "# observable_2q = PauliString(\"XX\").to_unsigned_observable()\n",
    "\n",
    "# Pauli String WITH a prefactor FAILS\n",
    "observable_2q = 0.25*PauliString(\"XX\").to_unsigned_observable()\n",
    "\n",
    "# Measure the expectation value for 2-qubit observable\n",
    "circuit.expectation(observable=observable_2q, target=[0, 1])\n",
    "\n",
    "# Measure the expectation value for the observable on qubit 1\n",
    "# circuit.expectation(observable=observable_q1, target=[[1], [1]])\n",
    "\n",
    "print(circuit)\n",
    "\n",
    "# Set the device to run your circuit\n",
    "device = LocalSimulator()\n",
    "\n",
    "# Run the circuit with the observable to measure the expectation value\n",
    "task = device.run(circuit, shots=1000)\n",
    "\n",
    "# Get the result\n",
    "result = task.result()\n",
    "\n",
    "# # Extract the expectation value from the result\n",
    "expectation_values = result.values\n",
    "\n",
    "print(f\"\\nExpectation value: {expectation_values}\")"
   ]
  }
 ],
 "metadata": {
  "kernelspec": {
   "display_name": "braket",
   "language": "python",
   "name": "python3"
  },
  "language_info": {
   "codemirror_mode": {
    "name": "ipython",
    "version": 3
   },
   "file_extension": ".py",
   "mimetype": "text/x-python",
   "name": "python",
   "nbconvert_exporter": "python",
   "pygments_lexer": "ipython3",
   "version": "3.10.13"
  },
  "orig_nbformat": 4
 },
 "nbformat": 4,
 "nbformat_minor": 2
}
