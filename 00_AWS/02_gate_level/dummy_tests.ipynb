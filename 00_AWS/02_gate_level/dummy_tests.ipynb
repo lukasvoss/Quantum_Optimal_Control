{
 "cells": [
  {
   "cell_type": "code",
   "execution_count": 394,
   "metadata": {},
   "outputs": [],
   "source": [
    "import numpy as np\n",
    "from braket.circuits import Circuit, Observable\n",
    "from braket.devices import LocalSimulator\n",
    "from braket.aws import AwsDevice\n",
    "import boto3\n",
    "from qiskit import QuantumCircuit\n",
    "from qiskit_aer.backends.qasm_simulator import QasmSimulator\n",
    "client = boto3.client(\"braket\", region_name='us-west-1')"
   ]
  },
  {
   "cell_type": "code",
   "execution_count": 2,
   "metadata": {},
   "outputs": [
    {
     "data": {
      "text/plain": [
       "Circuit('instructions': [Instruction('operator': Rx('angle': 1.0, 'qubit_count': 1), 'target': QubitSet([Qubit(0)]), 'control': QubitSet([]), 'control_state': (), 'power': 1), Instruction('operator': Ry('angle': 0.2, 'qubit_count': 1), 'target': QubitSet([Qubit(1)]), 'control': QubitSet([]), 'control_state': (), 'power': 1), Instruction('operator': CNot('qubit_count': 2), 'target': QubitSet([Qubit(0), Qubit(2)]), 'control': QubitSet([]), 'control_state': (), 'power': 1)], 'result_types': [Variance(observable=Z('qubit_count': 1), target=QubitSet([Qubit(0)])), Probability(target=QubitSet([Qubit(0), Qubit(2)]))])"
      ]
     },
     "execution_count": 2,
     "metadata": {},
     "output_type": "execute_result"
    }
   ],
   "source": [
    "# create a circuit with a result type\n",
    "circ = Circuit().rx(0, 1).ry(1, 0.2).cnot(0,2).variance(observable=Observable.Z(), target=0)\n",
    "# add another result type\n",
    "circ.probability(target=[0, 2])\n",
    "\n",
    "# set up S3 bucket (where results are stored)\n",
    "# my_bucket = \"amazon-braket-your-s3-bucket-name\" # the name of the bucket\n",
    "# my_prefix = \"your-folder-name\" # the name of the folder in the bucket\n",
    "# s3_location = (my_bucket, my_prefix)"
   ]
  },
  {
   "cell_type": "code",
   "execution_count": 3,
   "metadata": {},
   "outputs": [],
   "source": [
    "device = AwsDevice(\"arn:aws:braket:::device/quantum-simulator/amazon/sv1\")# submit the quantum task to run\n",
    "# my_task = device.run(circ, shots=1000, poll_timeout_seconds = 100, poll_interval_seconds = 10)\n",
    "# the positional argument for the S3 bucket is optional if you want to specify a bucket other than the default\n",
    "\n",
    "# get results of the quantum task\n",
    "# result = my_task.result()"
   ]
  },
  {
   "cell_type": "code",
   "execution_count": 5,
   "metadata": {},
   "outputs": [],
   "source": [
    "from pprint import pprint\n",
    "from qiskit_braket_provider import AWSBraketProvider"
   ]
  },
  {
   "cell_type": "code",
   "execution_count": 6,
   "metadata": {},
   "outputs": [
    {
     "data": {
      "text/plain": [
       "[BraketBackend[Aria 1],\n",
       " BraketBackend[Aria 2],\n",
       " BraketBackend[Aspen-10],\n",
       " BraketBackend[Aspen-11],\n",
       " BraketBackend[Aspen-8],\n",
       " BraketBackend[Aspen-9],\n",
       " BraketBackend[Aspen-M-1],\n",
       " BraketBackend[Aspen-M-2],\n",
       " BraketBackend[Aspen-M-3],\n",
       " BraketBackend[Forte 1],\n",
       " BraketBackend[Harmony],\n",
       " BraketBackend[Lucy],\n",
       " BraketBackend[SV1],\n",
       " BraketBackend[dm1]]"
      ]
     },
     "execution_count": 6,
     "metadata": {},
     "output_type": "execute_result"
    }
   ],
   "source": [
    "provider = AWSBraketProvider()\n",
    "backends = provider.backends()\n",
    "backends"
   ]
  },
  {
   "cell_type": "code",
   "execution_count": 7,
   "metadata": {},
   "outputs": [
    {
     "data": {
      "text/plain": [
       "BraketBackend[SV1]"
      ]
     },
     "execution_count": 7,
     "metadata": {},
     "output_type": "execute_result"
    }
   ],
   "source": [
    "# state vector simulator\n",
    "state_vector_simulator_backend = provider.get_backend(\"SV1\")\n",
    "state_vector_simulator_backend"
   ]
  },
  {
   "cell_type": "code",
   "execution_count": 241,
   "metadata": {},
   "outputs": [],
   "source": [
    "from braket.quantum_information.pauli_string import PauliString\n",
    "from qiskit.quantum_info.operators import SparsePauliOp"
   ]
  },
  {
   "cell_type": "code",
   "execution_count": 441,
   "metadata": {},
   "outputs": [],
   "source": [
    "pauli_list = ['II', 'IX', 'IY', 'IZ', 'XI', 'XX', 'XY', 'XZ', 'YI', 'YX', 'YY', 'YZ', 'ZI', 'ZX', 'ZY', 'ZZ']\n",
    "pauli_index = [0, 6, 11, 13]\n",
    "reward_factor = [0.25, 0.25, 0.25, -0.25]"
   ]
  },
  {
   "cell_type": "code",
   "execution_count": 442,
   "metadata": {},
   "outputs": [
    {
     "data": {
      "text/plain": [
       "True"
      ]
     },
     "execution_count": 442,
     "metadata": {},
     "output_type": "execute_result"
    }
   ],
   "source": [
    "isinstance(PauliString('IZ').to_unsigned_observable(), Observable)"
   ]
  },
  {
   "cell_type": "code",
   "execution_count": 443,
   "metadata": {},
   "outputs": [
    {
     "name": "stdout",
     "output_type": "stream",
     "text": [
      "CPU times: user 2 µs, sys: 1e+03 ns, total: 3 µs\n",
      "Wall time: 13.1 µs\n",
      "TensorProduct(I('qubit_count': 1), I('qubit_count': 1))\n",
      "TensorProduct(X('qubit_count': 1), Y('qubit_count': 1))\n",
      "TensorProduct(Y('qubit_count': 1), Z('qubit_count': 1))\n",
      "TensorProduct(Z('qubit_count': 1), X('qubit_count': 1))\n"
     ]
    }
   ],
   "source": [
    "from braket.circuits import Observable\n",
    "from braket.circuits.observables import TensorProduct\n",
    "\n",
    "%time\n",
    "def create_tensor_product(pauli_list):\n",
    "    tensor_products = []\n",
    "\n",
    "    for pauli_str in pauli_list:\n",
    "        # Initialize an empty list to hold the individual Pauli observables\n",
    "        observables = []\n",
    "        # Iterate over each character in the Pauli string\n",
    "        for char in pauli_str:\n",
    "            if char == 'I':\n",
    "                observables.append(Observable.I())\n",
    "            elif char == 'X':\n",
    "                observables.append(Observable.X())\n",
    "            elif char == 'Y':\n",
    "                observables.append(Observable.Y())\n",
    "            elif char == 'Z':\n",
    "                observables.append(Observable.Z())\n",
    "        # Create the tensor product from the list of observables\n",
    "        if len(observables) > 1:\n",
    "            tensor_product = TensorProduct(observables)\n",
    "        else:\n",
    "            tensor_product = observables[0]\n",
    "        tensor_products.append(tensor_product)\n",
    "    return tensor_products\n",
    "\n",
    "# Example usage\n",
    "ops_needed = [pauli_list[i] for i in pauli_index]\n",
    "pauli_ops = create_tensor_product(ops_needed)\n",
    "\n",
    "# Display the tensor products\n",
    "for tp in pauli_ops:\n",
    "    print(tp)\n"
   ]
  },
  {
   "cell_type": "code",
   "execution_count": 447,
   "metadata": {},
   "outputs": [],
   "source": [
    "sum_operator = sum([reward_factor[i] * pauli_ops[i].to_matrix() for i, _ in enumerate(pauli_index)])"
   ]
  },
  {
   "cell_type": "code",
   "execution_count": 448,
   "metadata": {},
   "outputs": [
    {
     "data": {
      "text/plain": [
       "array([[ 0.25+0.j  , -0.25+0.j  ,  0.  -0.25j,  0.  -0.25j],\n",
       "       [-0.25+0.j  ,  0.25+0.j  ,  0.  +0.25j,  0.  +0.25j],\n",
       "       [ 0.  +0.25j,  0.  -0.25j,  0.25+0.j  ,  0.25+0.j  ],\n",
       "       [ 0.  +0.25j,  0.  -0.25j,  0.25+0.j  ,  0.25+0.j  ]])"
      ]
     },
     "execution_count": 448,
     "metadata": {},
     "output_type": "execute_result"
    }
   ],
   "source": [
    "sum_operator"
   ]
  },
  {
   "cell_type": "code",
   "execution_count": 446,
   "metadata": {},
   "outputs": [],
   "source": [
    "observables_qiskit = SparsePauliOp.from_list(\n",
    "    [\n",
    "        (pauli_list[p], reward_factor[i])\n",
    "        for i, p in enumerate(pauli_index)\n",
    "    ]\n",
    ")"
   ]
  },
  {
   "cell_type": "code",
   "execution_count": 430,
   "metadata": {},
   "outputs": [
    {
     "data": {
      "text/plain": [
       "SparsePauliOp(['II', 'XY', 'YZ', 'ZX'],\n",
       "              coeffs=[0.25+0.j, 0.25+0.j, 0.25+0.j, 0.25+0.j])"
      ]
     },
     "execution_count": 430,
     "metadata": {},
     "output_type": "execute_result"
    }
   ],
   "source": [
    "observables_qiskit"
   ]
  },
  {
   "cell_type": "code",
   "execution_count": 431,
   "metadata": {},
   "outputs": [
    {
     "data": {
      "text/plain": [
       "array([[ True,  True,  True,  True],\n",
       "       [ True,  True,  True,  True],\n",
       "       [ True,  True,  True,  True],\n",
       "       [ True,  True,  True,  True]])"
      ]
     },
     "execution_count": 431,
     "metadata": {},
     "output_type": "execute_result"
    }
   ],
   "source": [
    "observables_qiskit.to_matrix() == sum_operator"
   ]
  },
  {
   "cell_type": "code",
   "execution_count": 415,
   "metadata": {},
   "outputs": [],
   "source": [
    "oberservable_braket = Observable.Hermitian(matrix=sum_operator)"
   ]
  },
  {
   "cell_type": "code",
   "execution_count": 416,
   "metadata": {},
   "outputs": [
    {
     "data": {
      "text/plain": [
       "array([[1.+0.j, 0.+0.j, 0.+0.j, 0.+0.j],\n",
       "       [0.+0.j, 0.+0.j, 0.+0.j, 0.+0.j],\n",
       "       [0.+0.j, 0.+0.j, 0.+0.j, 0.+0.j],\n",
       "       [0.+0.j, 0.+0.j, 0.+0.j, 0.+0.j]])"
      ]
     },
     "execution_count": 416,
     "metadata": {},
     "output_type": "execute_result"
    }
   ],
   "source": [
    "oberservable_braket.to_matrix()"
   ]
  },
  {
   "cell_type": "code",
   "execution_count": 399,
   "metadata": {},
   "outputs": [
    {
     "name": "stdout",
     "output_type": "stream",
     "text": [
      "T  : |0|1|\n",
      "          \n",
      "q0 : -X---\n",
      "          \n",
      "q1 : -X-X-\n",
      "\n",
      "T  : |0|1|\n"
     ]
    }
   ],
   "source": [
    "braket_circuit = Circuit().x(range(2)).x(1)\n",
    "print(braket_circuit)"
   ]
  },
  {
   "cell_type": "code",
   "execution_count": 400,
   "metadata": {},
   "outputs": [
    {
     "data": {
      "text/plain": [
       "Circuit('instructions': [Instruction('operator': X('qubit_count': 1), 'target': QubitSet([Qubit(0)]), 'control': QubitSet([]), 'control_state': (), 'power': 1), Instruction('operator': X('qubit_count': 1), 'target': QubitSet([Qubit(1)]), 'control': QubitSet([]), 'control_state': (), 'power': 1), Instruction('operator': X('qubit_count': 1), 'target': QubitSet([Qubit(1)]), 'control': QubitSet([]), 'control_state': (), 'power': 1)], 'result_types': [Sample(observable=Hermitian('qubit_count': 2, 'matrix': [[ 0.25+0.j    0.25+0.j    0.  +0.j    0.25-0.25j], [ 0.25+0.j    0.25+0.j    0.25-0.25j  0.  +0.j  ], [ 0.  +0.j    0.25+0.25j -0.25+0.j    0.25+0.j  ], [ 0.25+0.25j  0.  +0.j    0.25+0.j   -0.25+0.j  ]]), target=QubitSet([Qubit(0), Qubit(1)]))])"
      ]
     },
     "execution_count": 400,
     "metadata": {},
     "output_type": "execute_result"
    }
   ],
   "source": [
    "braket_circuit.sample(observable=oberservable_braket, target=[0, 1])"
   ]
  },
  {
   "cell_type": "code",
   "execution_count": 403,
   "metadata": {},
   "outputs": [
    {
     "data": {
      "text/plain": [
       "-0.24704929088613398"
      ]
     },
     "execution_count": 403,
     "metadata": {},
     "output_type": "execute_result"
    }
   ],
   "source": [
    "device = LocalSimulator()\n",
    "result = device.run(braket_circuit, shots=1000).result()\n",
    "np.mean(result.values)"
   ]
  },
  {
   "cell_type": "code",
   "execution_count": 404,
   "metadata": {},
   "outputs": [
    {
     "data": {
      "text/plain": [
       "Counter({'00': 397, '01': 390, '11': 113, '10': 100})"
      ]
     },
     "execution_count": 404,
     "metadata": {},
     "output_type": "execute_result"
    }
   ],
   "source": [
    "result.measurement_counts"
   ]
  },
  {
   "attachments": {},
   "cell_type": "markdown",
   "metadata": {},
   "source": [
    "AWS Braket Task Batching"
   ]
  },
  {
   "cell_type": "code",
   "execution_count": 449,
   "metadata": {},
   "outputs": [],
   "source": [
    "from braket.circuits import Circuit, FreeParameter, Observable\n",
    "from braket.aws import AwsQuantumTaskBatch"
   ]
  },
  {
   "cell_type": "code",
   "execution_count": 450,
   "metadata": {},
   "outputs": [],
   "source": [
    "# create the free parameters\n",
    "alpha = FreeParameter('alpha')\n",
    "beta = FreeParameter('beta')"
   ]
  },
  {
   "cell_type": "code",
   "execution_count": 451,
   "metadata": {},
   "outputs": [
    {
     "data": {
      "text/plain": [
       "Circuit('instructions': [Instruction('operator': Rx('angle': alpha, 'qubit_count': 1), 'target': QubitSet([Qubit(0)]), 'control': QubitSet([]), 'control_state': (), 'power': 1), Instruction('operator': Rz('angle': alpha, 'qubit_count': 1), 'target': QubitSet([Qubit(1)]), 'control': QubitSet([]), 'control_state': (), 'power': 1), Instruction('operator': CNot('qubit_count': 2), 'target': QubitSet([Qubit(0), Qubit(2)]), 'control': QubitSet([]), 'control_state': (), 'power': 1), Instruction('operator': ZZ('angle': beta, 'qubit_count': 2), 'target': QubitSet([Qubit(0), Qubit(2)]), 'control': QubitSet([]), 'control_state': (), 'power': 1)], 'result_types': [Expectation(observable=Z('qubit_count': 1), target=QubitSet([Qubit(2)]))])"
      ]
     },
     "execution_count": 451,
     "metadata": {},
     "output_type": "execute_result"
    }
   ],
   "source": [
    "# create two circuits\n",
    "circ_a = Circuit().rx(0, alpha).ry(1, alpha).cnot(0,2).xx(0, 2, beta)\n",
    "circ_a.variance(observable=Observable.Z(), target=0)\n",
    "\n",
    "circ_b = Circuit().rx(0, alpha).rz(1, alpha).cnot(0,2).zz(0, 2, beta)\n",
    "circ_b.expectation(observable=Observable.Z(), target=2)"
   ]
  },
  {
   "cell_type": "code",
   "execution_count": 453,
   "metadata": {},
   "outputs": [],
   "source": [
    "inputs_list = [{'alpha': 0.3,'beta':0.1}, {'alpha': 0.1,'beta':0.4}]\n",
    "\n",
    "tasks = device.run_batch([circ_a, circ_b], inputs=inputs_list)"
   ]
  },
  {
   "cell_type": "code",
   "execution_count": 458,
   "metadata": {},
   "outputs": [
    {
     "data": {
      "text/plain": [
       "[0.9950041652780257]"
      ]
     },
     "execution_count": 458,
     "metadata": {},
     "output_type": "execute_result"
    }
   ],
   "source": [
    "tasks.results()[1].values"
   ]
  },
  {
   "attachments": {},
   "cell_type": "markdown",
   "metadata": {},
   "source": [
    "Conversion of Circuits: From Qiskit to Braket"
   ]
  },
  {
   "cell_type": "code",
   "execution_count": 473,
   "metadata": {},
   "outputs": [],
   "source": [
    "from braket.circuits import (\n",
    "    Circuit,\n",
    "    FreeParameter,\n",
    "    Instruction,\n",
    "    gates,\n",
    "    result_types,\n",
    "    observables,\n",
    ")\n",
    "import warnings\n",
    "\n",
    "from qiskit import QuantumCircuit, transpile\n",
    "from qiskit.circuit import Measure, Parameter, ParameterVector\n",
    "from typing import Callable, Dict, Iterable, List, Optional, Tuple, Union"
   ]
  },
  {
   "cell_type": "code",
   "execution_count": 474,
   "metadata": {},
   "outputs": [],
   "source": [
    "qiskit_gate_names_to_braket_gates: Dict[str, Callable] = {\n",
    "    \"u1\": lambda lam: [gates.PhaseShift(lam)],\n",
    "    \"u2\": lambda phi, lam: [\n",
    "        gates.PhaseShift(lam),\n",
    "        gates.Ry(np.pi / 2),\n",
    "        gates.PhaseShift(phi),\n",
    "    ],\n",
    "    \"u3\": lambda theta, phi, lam: [\n",
    "        gates.PhaseShift(lam),\n",
    "        gates.Ry(theta),\n",
    "        gates.PhaseShift(phi),\n",
    "    ],\n",
    "    \"u\": lambda theta, phi, lam: [\n",
    "        gates.PhaseShift(lam),\n",
    "        gates.Ry(theta),\n",
    "        gates.PhaseShift(phi),\n",
    "    ],\n",
    "    \"p\": lambda angle: [gates.PhaseShift(angle)],\n",
    "    \"cp\": lambda angle: [gates.CPhaseShift(angle)],\n",
    "    \"cx\": lambda: [gates.CNot()],\n",
    "    \"x\": lambda: [gates.X()],\n",
    "    \"y\": lambda: [gates.Y()],\n",
    "    \"z\": lambda: [gates.Z()],\n",
    "    \"t\": lambda: [gates.T()],\n",
    "    \"tdg\": lambda: [gates.Ti()],\n",
    "    \"s\": lambda: [gates.S()],\n",
    "    \"sdg\": lambda: [gates.Si()],\n",
    "    \"sx\": lambda: [gates.V()],\n",
    "    \"sxdg\": lambda: [gates.Vi()],\n",
    "    \"swap\": lambda: [gates.Swap()],\n",
    "    \"rx\": lambda angle: [gates.Rx(angle)],\n",
    "    \"ry\": lambda angle: [gates.Ry(angle)],\n",
    "    \"rz\": lambda angle: [gates.Rz(angle)],\n",
    "    \"rzz\": lambda angle: [gates.ZZ(angle)],\n",
    "    \"id\": lambda: [gates.I()],\n",
    "    \"h\": lambda: [gates.H()],\n",
    "    \"cy\": lambda: [gates.CY()],\n",
    "    \"cz\": lambda: [gates.CZ()],\n",
    "    \"ccx\": lambda: [gates.CCNot()],\n",
    "    \"cswap\": lambda: [gates.CSwap()],\n",
    "    \"rxx\": lambda angle: [gates.XX(angle)],\n",
    "    \"ryy\": lambda angle: [gates.YY(angle)],\n",
    "    \"ecr\": lambda: [gates.ECR()],\n",
    "}\n",
    "\n",
    "\n",
    "translatable_qiskit_gates = set(qiskit_gate_names_to_braket_gates.keys()).union(\n",
    "    {\"measure\", \"barrier\", \"reset\"}\n",
    ")"
   ]
  },
  {
   "cell_type": "code",
   "execution_count": 475,
   "metadata": {},
   "outputs": [],
   "source": [
    "def convert_qiskit_to_braket_circuit(circuit: QuantumCircuit) -> Circuit:\n",
    "    \"\"\"Return a Braket quantum circuit from a Qiskit quantum circuit.\n",
    "     Args:\n",
    "            circuit (QuantumCircuit): Qiskit Quantum Cricuit\n",
    "\n",
    "    Returns:\n",
    "        Circuit: Braket circuit\n",
    "    \"\"\"\n",
    "    quantum_circuit = Circuit()\n",
    "    if not (\n",
    "        {gate.name for gate, _, _ in circuit.data}.issubset(translatable_qiskit_gates)\n",
    "    ):\n",
    "        circuit = transpile(circuit, basis_gates=translatable_qiskit_gates)\n",
    "    if circuit.global_phase > 1e-10:\n",
    "        warnings.warn(\"Circuit transpilation resulted in global phase shift\")\n",
    "    # handle qiskit to braket conversion\n",
    "    for qiskit_gates in circuit.data:\n",
    "        name = qiskit_gates[0].name\n",
    "        if name == \"measure\":\n",
    "            # TODO: change Probability result type for Sample for proper functioning # pylint:disable=fixme\n",
    "            # Getting the index from the bit mapping\n",
    "            quantum_circuit.add_result_type(\n",
    "                # pylint:disable=fixme\n",
    "                result_types.Sample(\n",
    "                    observable=observables.Z(),\n",
    "                    target=[\n",
    "                        circuit.find_bit(qiskit_gates[1][0]).index,\n",
    "                        circuit.find_bit(qiskit_gates[2][0]).index,\n",
    "                    ],\n",
    "                )\n",
    "            )\n",
    "        elif name == \"barrier\":\n",
    "            # This does not exist\n",
    "            pass\n",
    "        elif name == \"reset\":\n",
    "            raise NotImplementedError(\n",
    "                \"reset operation not supported by qiskit to braket adapter\"\n",
    "            )\n",
    "        else:\n",
    "            params = []\n",
    "            if hasattr(qiskit_gates[0], \"params\"):\n",
    "                params = qiskit_gates[0].params\n",
    "\n",
    "            for i, param in enumerate(params):\n",
    "                if isinstance(param, Parameter):\n",
    "                    params[i] = FreeParameter(param.name)\n",
    "\n",
    "            for gate in qiskit_gate_names_to_braket_gates[name](*params):\n",
    "                instruction = Instruction(\n",
    "                    # Getting the index from the bit mapping\n",
    "                    operator=gate,\n",
    "                    target=[circuit.find_bit(i).index for i in qiskit_gates[1]],\n",
    "                )\n",
    "                quantum_circuit += instruction\n",
    "    return quantum_circuit"
   ]
  },
  {
   "cell_type": "code",
   "execution_count": 485,
   "metadata": {},
   "outputs": [],
   "source": [
    "def apply_parametrized_circuit(qc: QuantumCircuit):\n",
    "    \"\"\"\n",
    "    Define ansatz circuit to be played on Quantum Computer. Should be parametrized with Qiskit ParameterVector\n",
    "    :param qc: Quantum Circuit instance to add the gates on\n",
    "    :return:\n",
    "    \"\"\"\n",
    "    # qc.num_qubits\n",
    "    global n_actions\n",
    "    params = ParameterVector('theta', n_actions)\n",
    "    qc.u(2 * np.pi * params[0], 2 * np.pi * params[1], 2 * np.pi * params[2], 0)\n",
    "    qc.u(2 * np.pi * params[3], 2 * np.pi * params[4], 2 * np.pi * params[5], 1)\n",
    "    qc.rzx(2 * np.pi * params[6], 0, 1)\n",
    "\n",
    "    return params"
   ]
  },
  {
   "cell_type": "code",
   "execution_count": 487,
   "metadata": {},
   "outputs": [],
   "source": [
    "n_actions = 7\n",
    "qiskit_circuit = QuantumCircuit(2)\n",
    "param_vec = apply_parametrized_circuit(qiskit_circuit)"
   ]
  },
  {
   "cell_type": "code",
   "execution_count": 491,
   "metadata": {},
   "outputs": [
    {
     "data": {
      "text/plain": [
       "True"
      ]
     },
     "execution_count": 491,
     "metadata": {},
     "output_type": "execute_result"
    }
   ],
   "source": [
    "isinstance(param_vec[0], Parameter)"
   ]
  },
  {
   "cell_type": "code",
   "execution_count": 483,
   "metadata": {},
   "outputs": [
    {
     "data": {
      "image/png": "[encoded data removed]",
      "text/plain": [
       "<Figure size 621.739x200.667 with 1 Axes>"
      ]
     },
     "execution_count": 483,
     "metadata": {},
     "output_type": "execute_result"
    }
   ],
   "source": [
    "qiskit_circuit.draw('mpl')"
   ]
  },
  {
   "cell_type": "code",
   "execution_count": 484,
   "metadata": {},
   "outputs": [
    {
     "ename": "TypeError",
     "evalue": "ParameterExpression with unbound parameters ({ParameterVectorElement(theta[2])}) cannot be cast to a float.",
     "output_type": "error",
     "traceback": [
      "\u001b[0;31m---------------------------------------------------------------------------\u001b[0m",
      "\u001b[0;31mTypeError\u001b[0m                                 Traceback (most recent call last)",
      "Cell \u001b[0;32mIn[484], line 1\u001b[0m\n\u001b[0;32m----> 1\u001b[0m convert_qiskit_to_braket_circuit(qiskit_circuit)\n",
      "Cell \u001b[0;32mIn[475], line 48\u001b[0m, in \u001b[0;36mconvert_qiskit_to_braket_circuit\u001b[0;34m(circuit)\u001b[0m\n\u001b[1;32m     45\u001b[0m     \u001b[39mif\u001b[39;00m \u001b[39misinstance\u001b[39m(param, Parameter):\n\u001b[1;32m     46\u001b[0m         params[i] \u001b[39m=\u001b[39m FreeParameter(param\u001b[39m.\u001b[39mname)\n\u001b[0;32m---> 48\u001b[0m \u001b[39mfor\u001b[39;00m gate \u001b[39min\u001b[39;00m qiskit_gate_names_to_braket_gates[name](\u001b[39m*\u001b[39;49mparams):\n\u001b[1;32m     49\u001b[0m     instruction \u001b[39m=\u001b[39m Instruction(\n\u001b[1;32m     50\u001b[0m         \u001b[39m# Getting the index from the bit mapping\u001b[39;00m\n\u001b[1;32m     51\u001b[0m         operator\u001b[39m=\u001b[39mgate,\n\u001b[1;32m     52\u001b[0m         target\u001b[39m=\u001b[39m[circuit\u001b[39m.\u001b[39mfind_bit(i)\u001b[39m.\u001b[39mindex \u001b[39mfor\u001b[39;00m i \u001b[39min\u001b[39;00m qiskit_gates[\u001b[39m1\u001b[39m]],\n\u001b[1;32m     53\u001b[0m     )\n\u001b[1;32m     54\u001b[0m     quantum_circuit \u001b[39m+\u001b[39m\u001b[39m=\u001b[39m instruction\n",
      "Cell \u001b[0;32mIn[474], line 14\u001b[0m, in \u001b[0;36m<lambda>\u001b[0;34m(theta, phi, lam)\u001b[0m\n\u001b[1;32m      1\u001b[0m qiskit_gate_names_to_braket_gates: Dict[\u001b[39mstr\u001b[39m, Callable] \u001b[39m=\u001b[39m {\n\u001b[1;32m      2\u001b[0m     \u001b[39m\"\u001b[39m\u001b[39mu1\u001b[39m\u001b[39m\"\u001b[39m: \u001b[39mlambda\u001b[39;00m lam: [gates\u001b[39m.\u001b[39mPhaseShift(lam)],\n\u001b[1;32m      3\u001b[0m     \u001b[39m\"\u001b[39m\u001b[39mu2\u001b[39m\u001b[39m\"\u001b[39m: \u001b[39mlambda\u001b[39;00m phi, lam: [\n\u001b[1;32m      4\u001b[0m         gates\u001b[39m.\u001b[39mPhaseShift(lam),\n\u001b[1;32m      5\u001b[0m         gates\u001b[39m.\u001b[39mRy(np\u001b[39m.\u001b[39mpi \u001b[39m/\u001b[39m \u001b[39m2\u001b[39m),\n\u001b[1;32m      6\u001b[0m         gates\u001b[39m.\u001b[39mPhaseShift(phi),\n\u001b[1;32m      7\u001b[0m     ],\n\u001b[1;32m      8\u001b[0m     \u001b[39m\"\u001b[39m\u001b[39mu3\u001b[39m\u001b[39m\"\u001b[39m: \u001b[39mlambda\u001b[39;00m theta, phi, lam: [\n\u001b[1;32m      9\u001b[0m         gates\u001b[39m.\u001b[39mPhaseShift(lam),\n\u001b[1;32m     10\u001b[0m         gates\u001b[39m.\u001b[39mRy(theta),\n\u001b[1;32m     11\u001b[0m         gates\u001b[39m.\u001b[39mPhaseShift(phi),\n\u001b[1;32m     12\u001b[0m     ],\n\u001b[1;32m     13\u001b[0m     \u001b[39m\"\u001b[39m\u001b[39mu\u001b[39m\u001b[39m\"\u001b[39m: \u001b[39mlambda\u001b[39;00m theta, phi, lam: [\n\u001b[0;32m---> 14\u001b[0m         gates\u001b[39m.\u001b[39;49mPhaseShift(lam),\n\u001b[1;32m     15\u001b[0m         gates\u001b[39m.\u001b[39mRy(theta),\n\u001b[1;32m     16\u001b[0m         gates\u001b[39m.\u001b[39mPhaseShift(phi),\n\u001b[1;32m     17\u001b[0m     ],\n\u001b[1;32m     18\u001b[0m     \u001b[39m\"\u001b[39m\u001b[39mp\u001b[39m\u001b[39m\"\u001b[39m: \u001b[39mlambda\u001b[39;00m angle: [gates\u001b[39m.\u001b[39mPhaseShift(angle)],\n\u001b[1;32m     19\u001b[0m     \u001b[39m\"\u001b[39m\u001b[39mcp\u001b[39m\u001b[39m\"\u001b[39m: \u001b[39mlambda\u001b[39;00m angle: [gates\u001b[39m.\u001b[39mCPhaseShift(angle)],\n\u001b[1;32m     20\u001b[0m     \u001b[39m\"\u001b[39m\u001b[39mcx\u001b[39m\u001b[39m\"\u001b[39m: \u001b[39mlambda\u001b[39;00m: [gates\u001b[39m.\u001b[39mCNot()],\n\u001b[1;32m     21\u001b[0m     \u001b[39m\"\u001b[39m\u001b[39mx\u001b[39m\u001b[39m\"\u001b[39m: \u001b[39mlambda\u001b[39;00m: [gates\u001b[39m.\u001b[39mX()],\n\u001b[1;32m     22\u001b[0m     \u001b[39m\"\u001b[39m\u001b[39my\u001b[39m\u001b[39m\"\u001b[39m: \u001b[39mlambda\u001b[39;00m: [gates\u001b[39m.\u001b[39mY()],\n\u001b[1;32m     23\u001b[0m     \u001b[39m\"\u001b[39m\u001b[39mz\u001b[39m\u001b[39m\"\u001b[39m: \u001b[39mlambda\u001b[39;00m: [gates\u001b[39m.\u001b[39mZ()],\n\u001b[1;32m     24\u001b[0m     \u001b[39m\"\u001b[39m\u001b[39mt\u001b[39m\u001b[39m\"\u001b[39m: \u001b[39mlambda\u001b[39;00m: [gates\u001b[39m.\u001b[39mT()],\n\u001b[1;32m     25\u001b[0m     \u001b[39m\"\u001b[39m\u001b[39mtdg\u001b[39m\u001b[39m\"\u001b[39m: \u001b[39mlambda\u001b[39;00m: [gates\u001b[39m.\u001b[39mTi()],\n\u001b[1;32m     26\u001b[0m     \u001b[39m\"\u001b[39m\u001b[39ms\u001b[39m\u001b[39m\"\u001b[39m: \u001b[39mlambda\u001b[39;00m: [gates\u001b[39m.\u001b[39mS()],\n\u001b[1;32m     27\u001b[0m     \u001b[39m\"\u001b[39m\u001b[39msdg\u001b[39m\u001b[39m\"\u001b[39m: \u001b[39mlambda\u001b[39;00m: [gates\u001b[39m.\u001b[39mSi()],\n\u001b[1;32m     28\u001b[0m     \u001b[39m\"\u001b[39m\u001b[39msx\u001b[39m\u001b[39m\"\u001b[39m: \u001b[39mlambda\u001b[39;00m: [gates\u001b[39m.\u001b[39mV()],\n\u001b[1;32m     29\u001b[0m     \u001b[39m\"\u001b[39m\u001b[39msxdg\u001b[39m\u001b[39m\"\u001b[39m: \u001b[39mlambda\u001b[39;00m: [gates\u001b[39m.\u001b[39mVi()],\n\u001b[1;32m     30\u001b[0m     \u001b[39m\"\u001b[39m\u001b[39mswap\u001b[39m\u001b[39m\"\u001b[39m: \u001b[39mlambda\u001b[39;00m: [gates\u001b[39m.\u001b[39mSwap()],\n\u001b[1;32m     31\u001b[0m     \u001b[39m\"\u001b[39m\u001b[39mrx\u001b[39m\u001b[39m\"\u001b[39m: \u001b[39mlambda\u001b[39;00m angle: [gates\u001b[39m.\u001b[39mRx(angle)],\n\u001b[1;32m     32\u001b[0m     \u001b[39m\"\u001b[39m\u001b[39mry\u001b[39m\u001b[39m\"\u001b[39m: \u001b[39mlambda\u001b[39;00m angle: [gates\u001b[39m.\u001b[39mRy(angle)],\n\u001b[1;32m     33\u001b[0m     \u001b[39m\"\u001b[39m\u001b[39mrz\u001b[39m\u001b[39m\"\u001b[39m: \u001b[39mlambda\u001b[39;00m angle: [gates\u001b[39m.\u001b[39mRz(angle)],\n\u001b[1;32m     34\u001b[0m     \u001b[39m\"\u001b[39m\u001b[39mrzz\u001b[39m\u001b[39m\"\u001b[39m: \u001b[39mlambda\u001b[39;00m angle: [gates\u001b[39m.\u001b[39mZZ(angle)],\n\u001b[1;32m     35\u001b[0m     \u001b[39m\"\u001b[39m\u001b[39mid\u001b[39m\u001b[39m\"\u001b[39m: \u001b[39mlambda\u001b[39;00m: [gates\u001b[39m.\u001b[39mI()],\n\u001b[1;32m     36\u001b[0m     \u001b[39m\"\u001b[39m\u001b[39mh\u001b[39m\u001b[39m\"\u001b[39m: \u001b[39mlambda\u001b[39;00m: [gates\u001b[39m.\u001b[39mH()],\n\u001b[1;32m     37\u001b[0m     \u001b[39m\"\u001b[39m\u001b[39mcy\u001b[39m\u001b[39m\"\u001b[39m: \u001b[39mlambda\u001b[39;00m: [gates\u001b[39m.\u001b[39mCY()],\n\u001b[1;32m     38\u001b[0m     \u001b[39m\"\u001b[39m\u001b[39mcz\u001b[39m\u001b[39m\"\u001b[39m: \u001b[39mlambda\u001b[39;00m: [gates\u001b[39m.\u001b[39mCZ()],\n\u001b[1;32m     39\u001b[0m     \u001b[39m\"\u001b[39m\u001b[39mccx\u001b[39m\u001b[39m\"\u001b[39m: \u001b[39mlambda\u001b[39;00m: [gates\u001b[39m.\u001b[39mCCNot()],\n\u001b[1;32m     40\u001b[0m     \u001b[39m\"\u001b[39m\u001b[39mcswap\u001b[39m\u001b[39m\"\u001b[39m: \u001b[39mlambda\u001b[39;00m: [gates\u001b[39m.\u001b[39mCSwap()],\n\u001b[1;32m     41\u001b[0m     \u001b[39m\"\u001b[39m\u001b[39mrxx\u001b[39m\u001b[39m\"\u001b[39m: \u001b[39mlambda\u001b[39;00m angle: [gates\u001b[39m.\u001b[39mXX(angle)],\n\u001b[1;32m     42\u001b[0m     \u001b[39m\"\u001b[39m\u001b[39mryy\u001b[39m\u001b[39m\"\u001b[39m: \u001b[39mlambda\u001b[39;00m angle: [gates\u001b[39m.\u001b[39mYY(angle)],\n\u001b[1;32m     43\u001b[0m     \u001b[39m\"\u001b[39m\u001b[39mecr\u001b[39m\u001b[39m\"\u001b[39m: \u001b[39mlambda\u001b[39;00m: [gates\u001b[39m.\u001b[39mECR()],\n\u001b[1;32m     44\u001b[0m }\n\u001b[1;32m     47\u001b[0m translatable_qiskit_gates \u001b[39m=\u001b[39m \u001b[39mset\u001b[39m(qiskit_gate_names_to_braket_gates\u001b[39m.\u001b[39mkeys())\u001b[39m.\u001b[39munion(\n\u001b[1;32m     48\u001b[0m     {\u001b[39m\"\u001b[39m\u001b[39mmeasure\u001b[39m\u001b[39m\"\u001b[39m, \u001b[39m\"\u001b[39m\u001b[39mbarrier\u001b[39m\u001b[39m\"\u001b[39m, \u001b[39m\"\u001b[39m\u001b[39mreset\u001b[39m\u001b[39m\"\u001b[39m}\n\u001b[1;32m     49\u001b[0m )\n",
      "File \u001b[0;32m~/Library/Python/3.9/lib/python/site-packages/braket/circuits/gates.py:1024\u001b[0m, in \u001b[0;36mPhaseShift.__init__\u001b[0;34m(self, angle)\u001b[0m\n\u001b[1;32m   1023\u001b[0m \u001b[39mdef\u001b[39;00m \u001b[39m__init__\u001b[39m(\u001b[39mself\u001b[39m, angle: Union[FreeParameterExpression, \u001b[39mfloat\u001b[39m]):\n\u001b[0;32m-> 1024\u001b[0m     \u001b[39msuper\u001b[39;49m()\u001b[39m.\u001b[39;49m\u001b[39m__init__\u001b[39;49m(\n\u001b[1;32m   1025\u001b[0m         angle\u001b[39m=\u001b[39;49mangle,\n\u001b[1;32m   1026\u001b[0m         qubit_count\u001b[39m=\u001b[39;49m\u001b[39mNone\u001b[39;49;00m,\n\u001b[1;32m   1027\u001b[0m         ascii_symbols\u001b[39m=\u001b[39;49m[angled_ascii_characters(\u001b[39m\"\u001b[39;49m\u001b[39mPHASE\u001b[39;49m\u001b[39m\"\u001b[39;49m, angle)],\n\u001b[1;32m   1028\u001b[0m     )\n",
      "File \u001b[0;32m~/Library/Python/3.9/lib/python/site-packages/braket/circuits/angled_gate.py:62\u001b[0m, in \u001b[0;36mAngledGate.__init__\u001b[0;34m(self, angle, qubit_count, ascii_symbols)\u001b[0m\n\u001b[1;32m     60\u001b[0m     \u001b[39mself\u001b[39m\u001b[39m.\u001b[39m_parameters \u001b[39m=\u001b[39m [angle]\n\u001b[1;32m     61\u001b[0m \u001b[39melse\u001b[39;00m:\n\u001b[0;32m---> 62\u001b[0m     \u001b[39mself\u001b[39m\u001b[39m.\u001b[39m_parameters \u001b[39m=\u001b[39m [\u001b[39mfloat\u001b[39;49m(angle)]\n",
      "File \u001b[0;32m~/Library/Python/3.9/lib/python/site-packages/qiskit/circuit/parameterexpression.py:480\u001b[0m, in \u001b[0;36mParameterExpression.__float__\u001b[0;34m(self)\u001b[0m\n\u001b[1;32m    478\u001b[0m \u001b[39mexcept\u001b[39;00m (\u001b[39mTypeError\u001b[39;00m, \u001b[39mRuntimeError\u001b[39;00m) \u001b[39mas\u001b[39;00m exc:\n\u001b[1;32m    479\u001b[0m     \u001b[39mif\u001b[39;00m \u001b[39mself\u001b[39m\u001b[39m.\u001b[39mparameters:\n\u001b[0;32m--> 480\u001b[0m         \u001b[39mraise\u001b[39;00m \u001b[39mTypeError\u001b[39;00m(\n\u001b[1;32m    481\u001b[0m             \u001b[39m\"\u001b[39m\u001b[39mParameterExpression with unbound parameters (\u001b[39m\u001b[39m{}\u001b[39;00m\u001b[39m) \u001b[39m\u001b[39m\"\u001b[39m\n\u001b[1;32m    482\u001b[0m             \u001b[39m\"\u001b[39m\u001b[39mcannot be cast to a float.\u001b[39m\u001b[39m\"\u001b[39m\u001b[39m.\u001b[39mformat(\u001b[39mself\u001b[39m\u001b[39m.\u001b[39mparameters)\n\u001b[1;32m    483\u001b[0m         ) \u001b[39mfrom\u001b[39;00m \u001b[39mNone\u001b[39;00m\n\u001b[1;32m    484\u001b[0m     \u001b[39mtry\u001b[39;00m:\n\u001b[1;32m    485\u001b[0m         \u001b[39m# In symengine, if an expression was complex at any time, its type is likely to have\u001b[39;00m\n\u001b[1;32m    486\u001b[0m         \u001b[39m# stayed \"complex\" even when the imaginary part symbolically (i.e. exactly)\u001b[39;00m\n\u001b[1;32m    487\u001b[0m         \u001b[39m# cancelled out.  Sympy tends to more aggressively recognise these as symbolically\u001b[39;00m\n\u001b[1;32m    488\u001b[0m         \u001b[39m# real.  This second attempt at a cast is a way of unifying the behaviour to the\u001b[39;00m\n\u001b[1;32m    489\u001b[0m         \u001b[39m# more expected form for our users.\u001b[39;00m\n\u001b[1;32m    490\u001b[0m         cval \u001b[39m=\u001b[39m \u001b[39mcomplex\u001b[39m(\u001b[39mself\u001b[39m)\n",
      "\u001b[0;31mTypeError\u001b[0m: ParameterExpression with unbound parameters ({ParameterVectorElement(theta[2])}) cannot be cast to a float."
     ]
    }
   ],
   "source": [
    "convert_qiskit_to_braket_circuit(qiskit_circuit)"
   ]
  },
  {
   "cell_type": "code",
   "execution_count": null,
   "metadata": {},
   "outputs": [],
   "source": []
  }
 ],
 "metadata": {
  "kernelspec": {
   "display_name": "braket",
   "language": "python",
   "name": "python3"
  },
  "language_info": {
   "codemirror_mode": {
    "name": "ipython",
    "version": 3
   },
   "file_extension": ".py",
   "mimetype": "text/x-python",
   "name": "python",
   "nbconvert_exporter": "python",
   "pygments_lexer": "ipython3",
   "version": "3.9.6"
  },
  "orig_nbformat": 4
 },
 "nbformat": 4,
 "nbformat_minor": 2
}
