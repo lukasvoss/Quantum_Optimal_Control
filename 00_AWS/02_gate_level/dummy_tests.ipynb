{
 "cells": [
  {
   "cell_type": "code",
   "execution_count": 394,
   "metadata": {},
   "outputs": [],
   "source": [
    "import numpy as np\n",
    "from braket.circuits import Circuit, Observable\n",
    "from braket.devices import LocalSimulator\n",
    "from braket.aws import AwsDevice\n",
    "import boto3\n",
    "from qiskit import QuantumCircuit\n",
    "from qiskit_aer.backends.qasm_simulator import QasmSimulator\n",
    "client = boto3.client(\"braket\", region_name='us-west-1')"
   ]
  },
  {
   "cell_type": "code",
   "execution_count": 2,
   "metadata": {},
   "outputs": [
    {
     "data": {
      "text/plain": [
       "Circuit('instructions': [Instruction('operator': Rx('angle': 1.0, 'qubit_count': 1), 'target': QubitSet([Qubit(0)]), 'control': QubitSet([]), 'control_state': (), 'power': 1), Instruction('operator': Ry('angle': 0.2, 'qubit_count': 1), 'target': QubitSet([Qubit(1)]), 'control': QubitSet([]), 'control_state': (), 'power': 1), Instruction('operator': CNot('qubit_count': 2), 'target': QubitSet([Qubit(0), Qubit(2)]), 'control': QubitSet([]), 'control_state': (), 'power': 1)], 'result_types': [Variance(observable=Z('qubit_count': 1), target=QubitSet([Qubit(0)])), Probability(target=QubitSet([Qubit(0), Qubit(2)]))])"
      ]
     },
     "execution_count": 2,
     "metadata": {},
     "output_type": "execute_result"
    }
   ],
   "source": [
    "# create a circuit with a result type\n",
    "circ = Circuit().rx(0, 1).ry(1, 0.2).cnot(0,2).variance(observable=Observable.Z(), target=0)\n",
    "# add another result type\n",
    "circ.probability(target=[0, 2])\n",
    "\n",
    "# set up S3 bucket (where results are stored)\n",
    "# my_bucket = \"amazon-braket-your-s3-bucket-name\" # the name of the bucket\n",
    "# my_prefix = \"your-folder-name\" # the name of the folder in the bucket\n",
    "# s3_location = (my_bucket, my_prefix)"
   ]
  },
  {
   "cell_type": "code",
   "execution_count": 3,
   "metadata": {},
   "outputs": [],
   "source": [
    "device = AwsDevice(\"arn:aws:braket:::device/quantum-simulator/amazon/sv1\")# submit the quantum task to run\n",
    "# my_task = device.run(circ, shots=1000, poll_timeout_seconds = 100, poll_interval_seconds = 10)\n",
    "# the positional argument for the S3 bucket is optional if you want to specify a bucket other than the default\n",
    "\n",
    "# get results of the quantum task\n",
    "# result = my_task.result()"
   ]
  },
  {
   "cell_type": "code",
   "execution_count": 5,
   "metadata": {},
   "outputs": [],
   "source": [
    "from pprint import pprint\n",
    "from qiskit_braket_provider import AWSBraketProvider"
   ]
  },
  {
   "cell_type": "code",
   "execution_count": 6,
   "metadata": {},
   "outputs": [
    {
     "data": {
      "text/plain": [
       "[BraketBackend[Aria 1],\n",
       " BraketBackend[Aria 2],\n",
       " BraketBackend[Aspen-10],\n",
       " BraketBackend[Aspen-11],\n",
       " BraketBackend[Aspen-8],\n",
       " BraketBackend[Aspen-9],\n",
       " BraketBackend[Aspen-M-1],\n",
       " BraketBackend[Aspen-M-2],\n",
       " BraketBackend[Aspen-M-3],\n",
       " BraketBackend[Forte 1],\n",
       " BraketBackend[Harmony],\n",
       " BraketBackend[Lucy],\n",
       " BraketBackend[SV1],\n",
       " BraketBackend[dm1]]"
      ]
     },
     "execution_count": 6,
     "metadata": {},
     "output_type": "execute_result"
    }
   ],
   "source": [
    "provider = AWSBraketProvider()\n",
    "backends = provider.backends()\n",
    "backends"
   ]
  },
  {
   "cell_type": "code",
   "execution_count": 7,
   "metadata": {},
   "outputs": [
    {
     "data": {
      "text/plain": [
       "BraketBackend[SV1]"
      ]
     },
     "execution_count": 7,
     "metadata": {},
     "output_type": "execute_result"
    }
   ],
   "source": [
    "# state vector simulator\n",
    "state_vector_simulator_backend = provider.get_backend(\"SV1\")\n",
    "state_vector_simulator_backend"
   ]
  },
  {
   "cell_type": "code",
   "execution_count": 241,
   "metadata": {},
   "outputs": [],
   "source": [
    "from braket.quantum_information.pauli_string import PauliString\n",
    "from qiskit.quantum_info.operators import SparsePauliOp"
   ]
  },
  {
   "cell_type": "code",
   "execution_count": 441,
   "metadata": {},
   "outputs": [],
   "source": [
    "pauli_list = ['II', 'IX', 'IY', 'IZ', 'XI', 'XX', 'XY', 'XZ', 'YI', 'YX', 'YY', 'YZ', 'ZI', 'ZX', 'ZY', 'ZZ']\n",
    "pauli_index = [0, 6, 11, 13]\n",
    "reward_factor = [0.25, 0.25, 0.25, -0.25]"
   ]
  },
  {
   "cell_type": "code",
   "execution_count": 442,
   "metadata": {},
   "outputs": [
    {
     "data": {
      "text/plain": [
       "True"
      ]
     },
     "execution_count": 442,
     "metadata": {},
     "output_type": "execute_result"
    }
   ],
   "source": [
    "isinstance(PauliString('IZ').to_unsigned_observable(), Observable)"
   ]
  },
  {
   "cell_type": "code",
   "execution_count": 443,
   "metadata": {},
   "outputs": [
    {
     "name": "stdout",
     "output_type": "stream",
     "text": [
      "CPU times: user 2 µs, sys: 1e+03 ns, total: 3 µs\n",
      "Wall time: 13.1 µs\n",
      "TensorProduct(I('qubit_count': 1), I('qubit_count': 1))\n",
      "TensorProduct(X('qubit_count': 1), Y('qubit_count': 1))\n",
      "TensorProduct(Y('qubit_count': 1), Z('qubit_count': 1))\n",
      "TensorProduct(Z('qubit_count': 1), X('qubit_count': 1))\n"
     ]
    }
   ],
   "source": [
    "from braket.circuits import Observable\n",
    "from braket.circuits.observables import TensorProduct\n",
    "\n",
    "%time\n",
    "def create_tensor_product(pauli_list):\n",
    "    tensor_products = []\n",
    "\n",
    "    for pauli_str in pauli_list:\n",
    "        # Initialize an empty list to hold the individual Pauli observables\n",
    "        observables = []\n",
    "        # Iterate over each character in the Pauli string\n",
    "        for char in pauli_str:\n",
    "            if char == 'I':\n",
    "                observables.append(Observable.I())\n",
    "            elif char == 'X':\n",
    "                observables.append(Observable.X())\n",
    "            elif char == 'Y':\n",
    "                observables.append(Observable.Y())\n",
    "            elif char == 'Z':\n",
    "                observables.append(Observable.Z())\n",
    "        # Create the tensor product from the list of observables\n",
    "        if len(observables) > 1:\n",
    "            tensor_product = TensorProduct(observables)\n",
    "        else:\n",
    "            tensor_product = observables[0]\n",
    "        tensor_products.append(tensor_product)\n",
    "    return tensor_products\n",
    "\n",
    "# Example usage\n",
    "ops_needed = [pauli_list[i] for i in pauli_index]\n",
    "pauli_ops = create_tensor_product(ops_needed)\n",
    "\n",
    "# Display the tensor products\n",
    "for tp in pauli_ops:\n",
    "    print(tp)\n"
   ]
  },
  {
   "cell_type": "code",
   "execution_count": 447,
   "metadata": {},
   "outputs": [],
   "source": [
    "sum_operator = sum([reward_factor[i] * pauli_ops[i].to_matrix() for i, _ in enumerate(pauli_index)])"
   ]
  },
  {
   "cell_type": "code",
   "execution_count": 448,
   "metadata": {},
   "outputs": [
    {
     "data": {
      "text/plain": [
       "array([[ 0.25+0.j  , -0.25+0.j  ,  0.  -0.25j,  0.  -0.25j],\n",
       "       [-0.25+0.j  ,  0.25+0.j  ,  0.  +0.25j,  0.  +0.25j],\n",
       "       [ 0.  +0.25j,  0.  -0.25j,  0.25+0.j  ,  0.25+0.j  ],\n",
       "       [ 0.  +0.25j,  0.  -0.25j,  0.25+0.j  ,  0.25+0.j  ]])"
      ]
     },
     "execution_count": 448,
     "metadata": {},
     "output_type": "execute_result"
    }
   ],
   "source": [
    "sum_operator"
   ]
  },
  {
   "cell_type": "code",
   "execution_count": 446,
   "metadata": {},
   "outputs": [],
   "source": [
    "observables_qiskit = SparsePauliOp.from_list(\n",
    "    [\n",
    "        (pauli_list[p], reward_factor[i])\n",
    "        for i, p in enumerate(pauli_index)\n",
    "    ]\n",
    ")"
   ]
  },
  {
   "cell_type": "code",
   "execution_count": 430,
   "metadata": {},
   "outputs": [
    {
     "data": {
      "text/plain": [
       "SparsePauliOp(['II', 'XY', 'YZ', 'ZX'],\n",
       "              coeffs=[0.25+0.j, 0.25+0.j, 0.25+0.j, 0.25+0.j])"
      ]
     },
     "execution_count": 430,
     "metadata": {},
     "output_type": "execute_result"
    }
   ],
   "source": [
    "observables_qiskit"
   ]
  },
  {
   "cell_type": "code",
   "execution_count": 431,
   "metadata": {},
   "outputs": [
    {
     "data": {
      "text/plain": [
       "array([[ True,  True,  True,  True],\n",
       "       [ True,  True,  True,  True],\n",
       "       [ True,  True,  True,  True],\n",
       "       [ True,  True,  True,  True]])"
      ]
     },
     "execution_count": 431,
     "metadata": {},
     "output_type": "execute_result"
    }
   ],
   "source": [
    "observables_qiskit.to_matrix() == sum_operator"
   ]
  },
  {
   "cell_type": "code",
   "execution_count": 415,
   "metadata": {},
   "outputs": [],
   "source": [
    "oberservable_braket = Observable.Hermitian(matrix=sum_operator)"
   ]
  },
  {
   "cell_type": "code",
   "execution_count": 416,
   "metadata": {},
   "outputs": [
    {
     "data": {
      "text/plain": [
       "array([[1.+0.j, 0.+0.j, 0.+0.j, 0.+0.j],\n",
       "       [0.+0.j, 0.+0.j, 0.+0.j, 0.+0.j],\n",
       "       [0.+0.j, 0.+0.j, 0.+0.j, 0.+0.j],\n",
       "       [0.+0.j, 0.+0.j, 0.+0.j, 0.+0.j]])"
      ]
     },
     "execution_count": 416,
     "metadata": {},
     "output_type": "execute_result"
    }
   ],
   "source": [
    "oberservable_braket.to_matrix()"
   ]
  },
  {
   "cell_type": "code",
   "execution_count": 399,
   "metadata": {},
   "outputs": [
    {
     "name": "stdout",
     "output_type": "stream",
     "text": [
      "T  : |0|1|\n",
      "          \n",
      "q0 : -X---\n",
      "          \n",
      "q1 : -X-X-\n",
      "\n",
      "T  : |0|1|\n"
     ]
    }
   ],
   "source": [
    "braket_circuit = Circuit().x(range(2)).x(1)\n",
    "print(braket_circuit)"
   ]
  },
  {
   "cell_type": "code",
   "execution_count": 400,
   "metadata": {},
   "outputs": [
    {
     "data": {
      "text/plain": [
       "Circuit('instructions': [Instruction('operator': X('qubit_count': 1), 'target': QubitSet([Qubit(0)]), 'control': QubitSet([]), 'control_state': (), 'power': 1), Instruction('operator': X('qubit_count': 1), 'target': QubitSet([Qubit(1)]), 'control': QubitSet([]), 'control_state': (), 'power': 1), Instruction('operator': X('qubit_count': 1), 'target': QubitSet([Qubit(1)]), 'control': QubitSet([]), 'control_state': (), 'power': 1)], 'result_types': [Sample(observable=Hermitian('qubit_count': 2, 'matrix': [[ 0.25+0.j    0.25+0.j    0.  +0.j    0.25-0.25j], [ 0.25+0.j    0.25+0.j    0.25-0.25j  0.  +0.j  ], [ 0.  +0.j    0.25+0.25j -0.25+0.j    0.25+0.j  ], [ 0.25+0.25j  0.  +0.j    0.25+0.j   -0.25+0.j  ]]), target=QubitSet([Qubit(0), Qubit(1)]))])"
      ]
     },
     "execution_count": 400,
     "metadata": {},
     "output_type": "execute_result"
    }
   ],
   "source": [
    "braket_circuit.sample(observable=oberservable_braket, target=[0, 1])"
   ]
  },
  {
   "cell_type": "code",
   "execution_count": 403,
   "metadata": {},
   "outputs": [
    {
     "data": {
      "text/plain": [
       "-0.24704929088613398"
      ]
     },
     "execution_count": 403,
     "metadata": {},
     "output_type": "execute_result"
    }
   ],
   "source": [
    "device = LocalSimulator()\n",
    "result = device.run(braket_circuit, shots=1000).result()\n",
    "np.mean(result.values)"
   ]
  },
  {
   "cell_type": "code",
   "execution_count": 404,
   "metadata": {},
   "outputs": [
    {
     "data": {
      "text/plain": [
       "Counter({'00': 397, '01': 390, '11': 113, '10': 100})"
      ]
     },
     "execution_count": 404,
     "metadata": {},
     "output_type": "execute_result"
    }
   ],
   "source": [
    "result.measurement_counts"
   ]
  },
  {
   "attachments": {},
   "cell_type": "markdown",
   "metadata": {},
   "source": [
    "AWS Braket Task Batching"
   ]
  },
  {
   "cell_type": "code",
   "execution_count": 449,
   "metadata": {},
   "outputs": [],
   "source": [
    "from braket.circuits import Circuit, FreeParameter, Observable\n",
    "from braket.aws import AwsQuantumTaskBatch"
   ]
  },
  {
   "cell_type": "code",
   "execution_count": 450,
   "metadata": {},
   "outputs": [],
   "source": [
    "# create the free parameters\n",
    "alpha = FreeParameter('alpha')\n",
    "beta = FreeParameter('beta')"
   ]
  },
  {
   "cell_type": "code",
   "execution_count": 451,
   "metadata": {},
   "outputs": [
    {
     "data": {
      "text/plain": [
       "Circuit('instructions': [Instruction('operator': Rx('angle': alpha, 'qubit_count': 1), 'target': QubitSet([Qubit(0)]), 'control': QubitSet([]), 'control_state': (), 'power': 1), Instruction('operator': Rz('angle': alpha, 'qubit_count': 1), 'target': QubitSet([Qubit(1)]), 'control': QubitSet([]), 'control_state': (), 'power': 1), Instruction('operator': CNot('qubit_count': 2), 'target': QubitSet([Qubit(0), Qubit(2)]), 'control': QubitSet([]), 'control_state': (), 'power': 1), Instruction('operator': ZZ('angle': beta, 'qubit_count': 2), 'target': QubitSet([Qubit(0), Qubit(2)]), 'control': QubitSet([]), 'control_state': (), 'power': 1)], 'result_types': [Expectation(observable=Z('qubit_count': 1), target=QubitSet([Qubit(2)]))])"
      ]
     },
     "execution_count": 451,
     "metadata": {},
     "output_type": "execute_result"
    }
   ],
   "source": [
    "# create two circuits\n",
    "circ_a = Circuit().rx(0, alpha).ry(1, alpha).cnot(0,2).xx(0, 2, beta)\n",
    "circ_a.variance(observable=Observable.Z(), target=0)\n",
    "\n",
    "circ_b = Circuit().rx(0, alpha).rz(1, alpha).cnot(0,2).zz(0, 2, beta)\n",
    "circ_b.expectation(observable=Observable.Z(), target=2)"
   ]
  },
  {
   "cell_type": "code",
   "execution_count": 453,
   "metadata": {},
   "outputs": [],
   "source": [
    "inputs_list = [{'alpha': 0.3,'beta':0.1}, {'alpha': 0.1,'beta':0.4}]\n",
    "\n",
    "tasks = device.run_batch([circ_a, circ_b], inputs=inputs_list)"
   ]
  },
  {
   "cell_type": "code",
   "execution_count": 458,
   "metadata": {},
   "outputs": [
    {
     "data": {
      "text/plain": [
       "[0.9950041652780257]"
      ]
     },
     "execution_count": 458,
     "metadata": {},
     "output_type": "execute_result"
    }
   ],
   "source": [
    "tasks.results()[1].values"
   ]
  }
 ],
 "metadata": {
  "kernelspec": {
   "display_name": "braket",
   "language": "python",
   "name": "python3"
  },
  "language_info": {
   "codemirror_mode": {
    "name": "ipython",
    "version": 3
   },
   "file_extension": ".py",
   "mimetype": "text/x-python",
   "name": "python",
   "nbconvert_exporter": "python",
   "pygments_lexer": "ipython3",
   "version": "3.9.6"
  },
  "orig_nbformat": 4
 },
 "nbformat": 4,
 "nbformat_minor": 2
}
