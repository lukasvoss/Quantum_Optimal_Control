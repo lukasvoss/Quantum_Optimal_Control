{
 "cells": [
  {
   "attachments": {},
   "cell_type": "markdown",
   "metadata": {},
   "source": [
    "## Running a bell circuit on different backends"
   ]
  },
  {
   "cell_type": "code",
   "execution_count": 33,
   "metadata": {},
   "outputs": [
    {
     "data": {
      "text/plain": [
       "[BraketBackend[Aria 1],\n",
       " BraketBackend[Aria 2],\n",
       " BraketBackend[Aspen-M-3],\n",
       " BraketBackend[Forte 1],\n",
       " BraketBackend[Harmony],\n",
       " BraketBackend[Lucy],\n",
       " BraketBackend[SV1],\n",
       " BraketBackend[dm1]]"
      ]
     },
     "execution_count": 33,
     "metadata": {},
     "output_type": "execute_result"
    }
   ],
   "source": [
    "import numpy as np\n",
    "import time\n",
    "\n",
    "from braket.circuits import Circuit\n",
    "from braket.devices import LocalSimulator\n",
    "from qiskit_braket_provider import AWSBraketProvider\n",
    "from qiskit_braket_provider.providers import adapter\n",
    "from braket.aws import AwsSession\n",
    "\n",
    "from qiskit import QuantumCircuit, QuantumRegister\n",
    "from qiskit.primitives import BackendEstimator, Estimator\n",
    "from qiskit.quantum_info.operators import SparsePauliOp\n",
    "from qiskit.primitives import BackendEstimator\n",
    "from qiskit.circuit import ParameterVector, Parameter\n",
    "\n",
    "import sys\n",
    "import os\n",
    "os.environ[\"KMP_DUPLICATE_LIB_OK\"] = \"True\"\n",
    "module_path = os.path.abspath(os.path.join('/Users/lukasvoss/Documents/Master Wirtschaftsphysik/Masterarbeit Yale-NUS CQT/Quantum_Optimal_Control'))\n",
    "if module_path not in sys.path:\n",
    "    sys.path.append(module_path)\n",
    "\n",
    "from braket_estimator import BraketEstimator\n",
    "\n",
    "aws_session = AwsSession(default_bucket=\"amazon-braket-us-west-1-lukasvoss\")\n",
    "AWSBraketProvider().backends()"
   ]
  },
  {
   "cell_type": "code",
   "execution_count": 96,
   "metadata": {},
   "outputs": [],
   "source": [
    "n_shots = 10_000"
   ]
  },
  {
   "attachments": {},
   "cell_type": "markdown",
   "metadata": {},
   "source": [
    "#### Run with native Braket SV Backend"
   ]
  },
  {
   "cell_type": "code",
   "execution_count": 10,
   "metadata": {},
   "outputs": [],
   "source": [
    "backend = AWSBraketProvider().get_backend('SV1')\n",
    "\n",
    "device = backend._device\n",
    "device"
   ]
  },
  {
   "cell_type": "code",
   "execution_count": 20,
   "metadata": {},
   "outputs": [
    {
     "name": "stdout",
     "output_type": "stream",
     "text": [
      "T  : |0|1|\n",
      "          \n",
      "q0 : -H-C-\n",
      "        | \n",
      "q1 : ---X-\n",
      "\n",
      "T  : |0|1|\n"
     ]
    }
   ],
   "source": [
    "braket_bell_circ = Circuit().h(0).cnot(0, 1)\n",
    "print(braket_bell_circ)"
   ]
  },
  {
   "cell_type": "code",
   "execution_count": 24,
   "metadata": {},
   "outputs": [
    {
     "name": "stdout",
     "output_type": "stream",
     "text": [
      "--- 14.032721281051636 seconds ---\n",
      "Execution time per batch: 0.28\n"
     ]
    }
   ],
   "source": [
    "start_time = time.time()\n",
    "job_braket_native = device.run_batch(\n",
    "    [braket_bell_circ] * batchsize,\n",
    "    # inputs = [bound_parameters] * batchsize,\n",
    "    shots=n_shots,\n",
    ")\n",
    "run_batch_time = time.time() - start_time\n",
    "print('--- {} seconds ---'.format(round(run_batch_time, 2)))\n",
    "print('Execution time per batch:', round(run_batch_time / batchsize, 2), 'seconds')"
   ]
  },
  {
   "attachments": {},
   "cell_type": "markdown",
   "metadata": {},
   "source": [
    "#### Run with Braket Provider + **Estimator Primitive**"
   ]
  },
  {
   "cell_type": "code",
   "execution_count": 25,
   "metadata": {},
   "outputs": [
    {
     "data": {
      "text/plain": [
       "<qiskit.circuit.instructionset.InstructionSet at 0x2c0059390>"
      ]
     },
     "execution_count": 25,
     "metadata": {},
     "output_type": "execute_result"
    }
   ],
   "source": [
    "qiskit_bell_circ = QuantumCircuit(2)\n",
    "qiskit_bell_circ.h(0)\n",
    "qiskit_bell_circ.cx(0, 1)\n",
    "\n",
    "qiskit_bell_circ.draw(\"mpl\")"
   ]
  },
  {
   "cell_type": "code",
   "execution_count": 55,
   "metadata": {},
   "outputs": [
    {
     "name": "stdout",
     "output_type": "stream",
     "text": [
      "--- 511.51 seconds ---\n",
      "Execution time per batch: 10.23 seconds\n"
     ]
    }
   ],
   "source": [
    "backend = AWSBraketProvider().get_backend('SV1')\n",
    "estimator = BackendEstimator(backend)\n",
    "qiskit_observables = SparsePauliOp.from_list(([('XX', 0.25), (\"IZ\", 0.25), (\"ZZ\", 0.25), (\"XY\", 0.25)]))\n",
    "\n",
    "qiskit_start_time = time.time()\n",
    "job = estimator.run(\n",
    "    circuits=[qiskit_bell_circ] * batchsize,\n",
    "    observables=[qiskit_observables] * batchsize,\n",
    "    shots=n_shots\n",
    ")\n",
    "job.result().values # This is the time-consuming line\n",
    "\n",
    "qiskit_run_batch_time = time.time() - qiskit_start_time\n",
    "print('--- {} seconds ---'.format(round(qiskit_run_batch_time, 2)))\n",
    "print('Execution time per batch:', round(qiskit_run_batch_time / batchsize, 2), 'seconds')"
   ]
  },
  {
   "cell_type": "code",
   "execution_count": 56,
   "metadata": {},
   "outputs": [],
   "source": [
    "qiskit_expvals = job.result().values"
   ]
  },
  {
   "attachments": {},
   "cell_type": "markdown",
   "metadata": {},
   "source": [
    "#### Use ``Estimator`` from Qiskit"
   ]
  },
  {
   "cell_type": "code",
   "execution_count": 73,
   "metadata": {},
   "outputs": [
    {
     "name": "stdout",
     "output_type": "stream",
     "text": [
      "--- 0.02 seconds ---\n",
      "Execution time per batch: 0.0 seconds\n"
     ]
    }
   ],
   "source": [
    "start_time = time.time()\n",
    "job = Estimator().run(\n",
    "    circuits=[qiskit_bell_circ] * batchsize,\n",
    "    observables=[qiskit_observables] * batchsize,\n",
    "    shots=n_shots\n",
    ")\n",
    "qiskit_expvals_2 = job.result().values\n",
    "run_batch_time = time.time() - start_time\n",
    "print('--- {} seconds ---'.format(round(run_batch_time, 2)))\n",
    "print('Execution time per batch:', round(run_batch_time / batchsize, 2), 'seconds')"
   ]
  },
  {
   "cell_type": "code",
   "execution_count": 93,
   "metadata": {},
   "outputs": [
    {
     "data": {
      "text/plain": [
       "array([ 5.24114113e-03, -7.88743167e-03,  5.08701419e-03,  1.76689323e-03,\n",
       "       -9.63843671e-04,  1.68695896e-03, -2.58888419e-03, -6.66856608e-03,\n",
       "        5.86150076e-04, -2.31681255e-03,  4.66755497e-03, -2.01877144e-03,\n",
       "        5.28116699e-03, -8.93541060e-03, -3.14745355e-03,  2.49434169e-03,\n",
       "       -2.84772076e-03,  4.38220672e-03,  2.50710385e-03,  2.97318855e-03,\n",
       "        1.45903786e-02,  1.13617448e-04,  6.96880763e-03, -7.07208498e-03,\n",
       "        1.10526030e-02, -2.10099309e-03,  1.95981763e-03, -1.34841878e-02,\n",
       "       -6.13131788e-04, -2.78217183e-03, -1.56774213e-02,  9.59081887e-03,\n",
       "       -2.41544184e-03, -4.88744183e-03, -2.40772335e-03, -1.58772304e-03,\n",
       "       -1.16462414e-02,  9.25145759e-05,  2.65408283e-03,  9.74644321e-04,\n",
       "        8.94780071e-03, -7.42534855e-03,  6.73199679e-03, -2.96371375e-03,\n",
       "       -7.17149421e-04, -4.75080901e-03,  4.23577630e-03,  7.37570691e-03,\n",
       "       -6.72249946e-03,  3.11197895e-03])"
      ]
     },
     "execution_count": 93,
     "metadata": {},
     "output_type": "execute_result"
    }
   ],
   "source": [
    "qiskit_expvals_2 - qiskit_expvals"
   ]
  },
  {
   "cell_type": "code",
   "execution_count": 94,
   "metadata": {},
   "outputs": [
    {
     "data": {
      "text/plain": [
       "0.014590378597244824"
      ]
     },
     "execution_count": 94,
     "metadata": {},
     "output_type": "execute_result"
    }
   ],
   "source": [
    "max(qiskit_expvals_2 - qiskit_expvals)"
   ]
  },
  {
   "attachments": {},
   "cell_type": "markdown",
   "metadata": {},
   "source": [
    "#### Run Circuit and Measure observables on own ``BraketEstimator``"
   ]
  },
  {
   "cell_type": "code",
   "execution_count": 57,
   "metadata": {},
   "outputs": [],
   "source": [
    "backend = LocalSimulator()\n",
    "estimator = BraketEstimator(backend)\n",
    "\n",
    "braket_observables = qiskit_observables.to_list()"
   ]
  },
  {
   "cell_type": "code",
   "execution_count": 58,
   "metadata": {},
   "outputs": [
    {
     "name": "stdout",
     "output_type": "stream",
     "text": [
      "--- 5.04 seconds ---\n",
      "Execution time per batch: 0.1 seconds\n"
     ]
    }
   ],
   "source": [
    "start_time = time.time()\n",
    "expvals = estimator.run(\n",
    "    circuit=[braket_bell_circ] * batchsize,\n",
    "    observables=[braket_observables] * batchsize,\n",
    "    target_register=[[0, 1]] * batchsize,\n",
    "    shots=n_shots\n",
    ")\n",
    "run_braket_estimator_time = time.time() - start_time\n",
    "print('--- {} seconds ---'.format(round(run_braket_estimator_time, 2)))\n",
    "print('Execution time per batch:', round(run_braket_estimator_time / batchsize, 2), 'seconds')"
   ]
  },
  {
   "cell_type": "code",
   "execution_count": 70,
   "metadata": {},
   "outputs": [
    {
     "name": "stderr",
     "output_type": "stream",
     "text": [
      "/var/folders/6b/76tj41f506g7_0dg_k15w_d80000gn/T/ipykernel_11078/798129361.py:1: ComplexWarning: Casting complex values to real discards the imaginary part\n",
      "  expvals.astype(float) - qiskit_expvals\n"
     ]
    },
    {
     "data": {
      "text/plain": [
       "array([ 3.250e-03,  6.000e-04,  7.500e-03,  6.000e-04,  6.550e-03,\n",
       "       -2.450e-03, -5.500e-03, -1.215e-02, -1.140e-02, -1.250e-03,\n",
       "        6.250e-03,  5.150e-03,  5.950e-03, -1.000e-02,  3.150e-03,\n",
       "        7.550e-03, -9.550e-03, -5.250e-03,  1.750e-03, -1.500e-03,\n",
       "        9.700e-03, -8.500e-04, -3.250e-03,  1.550e-03, -1.300e-03,\n",
       "       -2.500e-04, -5.250e-03, -1.025e-02,  7.300e-03,  7.000e-04,\n",
       "       -1.065e-02,  3.500e-03,  4.000e-04, -4.150e-03,  1.900e-03,\n",
       "        6.150e-03, -1.100e-02, -1.500e-03,  1.800e-03, -4.500e-03,\n",
       "        4.800e-03, -2.250e-03,  5.500e-04, -5.000e-04,  3.550e-03,\n",
       "        2.600e-03, -1.700e-03,  3.900e-03, -5.000e-05, -4.000e-03])"
      ]
     },
     "execution_count": 70,
     "metadata": {},
     "output_type": "execute_result"
    }
   ],
   "source": [
    "expvals.astype(float) - qiskit_expvals"
   ]
  },
  {
   "cell_type": "code",
   "execution_count": 69,
   "metadata": {},
   "outputs": [
    {
     "name": "stderr",
     "output_type": "stream",
     "text": [
      "/var/folders/6b/76tj41f506g7_0dg_k15w_d80000gn/T/ipykernel_11078/3208180139.py:1: ComplexWarning: Casting complex values to real discards the imaginary part\n",
      "  max(expvals.astype(float) - qiskit_expvals)\n"
     ]
    },
    {
     "data": {
      "text/plain": [
       "0.009699999999999931"
      ]
     },
     "execution_count": 69,
     "metadata": {},
     "output_type": "execute_result"
    }
   ],
   "source": [
    "max(expvals.astype(float) - qiskit_expvals)"
   ]
  },
  {
   "attachments": {},
   "cell_type": "markdown",
   "metadata": {},
   "source": [
    "#### Running batch of qiskit circuits with SV1 backend provider"
   ]
  },
  {
   "cell_type": "code",
   "execution_count": 74,
   "metadata": {},
   "outputs": [],
   "source": [
    "backend = AWSBraketProvider().get_backend('SV1')"
   ]
  },
  {
   "cell_type": "code",
   "execution_count": 86,
   "metadata": {},
   "outputs": [
    {
     "name": "stdout",
     "output_type": "stream",
     "text": [
      "--- 150.02 seconds ---\n",
      "Execution time per batch: 3.0 seconds\n"
     ]
    }
   ],
   "source": [
    "qiskit_start_time = time.time()\n",
    "job = backend.run(\n",
    "    [qiskit_bell_circ] * batchsize,\n",
    "    shots=n_shots\n",
    ")\n",
    "result = job.result() # This is the time-consuming line\n",
    "\n",
    "qiskit_run_batch_time = time.time() - qiskit_start_time\n",
    "print('--- {} seconds ---'.format(round(qiskit_run_batch_time, 2)))\n",
    "print('Execution time per batch:', round(qiskit_run_batch_time / batchsize, 2), 'seconds')"
   ]
  }
 ],
 "metadata": {
  "kernelspec": {
   "display_name": "braket",
   "language": "python",
   "name": "python3"
  },
  "language_info": {
   "codemirror_mode": {
    "name": "ipython",
    "version": 3
   },
   "file_extension": ".py",
   "mimetype": "text/x-python",
   "name": "python",
   "nbconvert_exporter": "python",
   "pygments_lexer": "ipython3",
   "version": "3.10.13"
  },
  "orig_nbformat": 4
 },
 "nbformat": 4,
 "nbformat_minor": 2
}
