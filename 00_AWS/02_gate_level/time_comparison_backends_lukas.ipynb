{
 "cells": [
  {
   "attachments": {},
   "cell_type": "markdown",
   "metadata": {},
   "source": [
    "## Running a bell circuit on different backends"
   ]
  },
  {
   "cell_type": "code",
   "execution_count": 1,
   "metadata": {},
   "outputs": [
    {
     "name": "stdout",
     "output_type": "stream",
     "text": [
      "Requirement already satisfied: qiskit-braket-provider==0.2.0 in /Users/lukasvoss/anaconda3/envs/braket/lib/python3.10/site-packages (0.2.0)\n",
      "Requirement already satisfied: certifi>=2021.5.30 in /Users/lukasvoss/anaconda3/envs/braket/lib/python3.10/site-packages (from qiskit-braket-provider==0.2.0) (2023.11.17)\n",
      "Requirement already satisfied: qiskit>=0.34.2 in /Users/lukasvoss/anaconda3/envs/braket/lib/python3.10/site-packages (from qiskit-braket-provider==0.2.0) (0.45.1)\n",
      "Requirement already satisfied: qiskit-ionq<=0.5.0,>=0.4.7 in /Users/lukasvoss/anaconda3/envs/braket/lib/python3.10/site-packages (from qiskit-braket-provider==0.2.0) (0.4.7)\n",
      "Requirement already satisfied: amazon-braket-sdk>=1.65.0 in /Users/lukasvoss/anaconda3/envs/braket/lib/python3.10/site-packages (from qiskit-braket-provider==0.2.0) (1.72.2)\n",
      "Requirement already satisfied: setuptools>=40.1.0 in /Users/lukasvoss/anaconda3/envs/braket/lib/python3.10/site-packages (from qiskit-braket-provider==0.2.0) (69.0.2)\n",
      "Requirement already satisfied: numpy>=1.3 in /Users/lukasvoss/anaconda3/envs/braket/lib/python3.10/site-packages (from qiskit-braket-provider==0.2.0) (1.23.5)\n",
      "Requirement already satisfied: amazon-braket-schemas>=1.20.2 in /Users/lukasvoss/anaconda3/envs/braket/lib/python3.10/site-packages (from amazon-braket-sdk>=1.65.0->qiskit-braket-provider==0.2.0) (1.20.2)\n",
      "Requirement already satisfied: amazon-braket-default-simulator>=1.19.1 in /Users/lukasvoss/anaconda3/envs/braket/lib/python3.10/site-packages (from amazon-braket-sdk>=1.65.0->qiskit-braket-provider==0.2.0) (1.20.1)\n",
      "Requirement already satisfied: oqpy~=0.3.5 in /Users/lukasvoss/anaconda3/envs/braket/lib/python3.10/site-packages (from amazon-braket-sdk>=1.65.0->qiskit-braket-provider==0.2.0) (0.3.5)\n",
      "Requirement already satisfied: backoff in /Users/lukasvoss/anaconda3/envs/braket/lib/python3.10/site-packages (from amazon-braket-sdk>=1.65.0->qiskit-braket-provider==0.2.0) (2.2.1)\n",
      "Requirement already satisfied: boltons in /Users/lukasvoss/anaconda3/envs/braket/lib/python3.10/site-packages (from amazon-braket-sdk>=1.65.0->qiskit-braket-provider==0.2.0) (23.1.1)\n",
      "Requirement already satisfied: boto3>=1.28.53 in /Users/lukasvoss/anaconda3/envs/braket/lib/python3.10/site-packages (from amazon-braket-sdk>=1.65.0->qiskit-braket-provider==0.2.0) (1.34.45)\n",
      "Requirement already satisfied: cloudpickle==2.2.1 in /Users/lukasvoss/anaconda3/envs/braket/lib/python3.10/site-packages (from amazon-braket-sdk>=1.65.0->qiskit-braket-provider==0.2.0) (2.2.1)\n",
      "Requirement already satisfied: nest-asyncio in /Users/lukasvoss/anaconda3/envs/braket/lib/python3.10/site-packages (from amazon-braket-sdk>=1.65.0->qiskit-braket-provider==0.2.0) (1.5.8)\n",
      "Requirement already satisfied: networkx in /Users/lukasvoss/anaconda3/envs/braket/lib/python3.10/site-packages (from amazon-braket-sdk>=1.65.0->qiskit-braket-provider==0.2.0) (3.2.1)\n",
      "Requirement already satisfied: openpulse in /Users/lukasvoss/anaconda3/envs/braket/lib/python3.10/site-packages (from amazon-braket-sdk>=1.65.0->qiskit-braket-provider==0.2.0) (0.5.0)\n",
      "Requirement already satisfied: openqasm3 in /Users/lukasvoss/anaconda3/envs/braket/lib/python3.10/site-packages (from amazon-braket-sdk>=1.65.0->qiskit-braket-provider==0.2.0) (0.5.0)\n",
      "Requirement already satisfied: sympy in /Users/lukasvoss/anaconda3/envs/braket/lib/python3.10/site-packages (from amazon-braket-sdk>=1.65.0->qiskit-braket-provider==0.2.0) (1.12)\n",
      "Requirement already satisfied: qiskit-terra==0.45.1 in /Users/lukasvoss/anaconda3/envs/braket/lib/python3.10/site-packages (from qiskit>=0.34.2->qiskit-braket-provider==0.2.0) (0.45.1)\n",
      "Requirement already satisfied: rustworkx>=0.13.0 in /Users/lukasvoss/anaconda3/envs/braket/lib/python3.10/site-packages (from qiskit-terra==0.45.1->qiskit>=0.34.2->qiskit-braket-provider==0.2.0) (0.13.2)\n",
      "Requirement already satisfied: ply>=3.10 in /Users/lukasvoss/anaconda3/envs/braket/lib/python3.10/site-packages (from qiskit-terra==0.45.1->qiskit>=0.34.2->qiskit-braket-provider==0.2.0) (3.11)\n",
      "Requirement already satisfied: psutil>=5 in /Users/lukasvoss/anaconda3/envs/braket/lib/python3.10/site-packages (from qiskit-terra==0.45.1->qiskit>=0.34.2->qiskit-braket-provider==0.2.0) (5.9.0)\n",
      "Requirement already satisfied: scipy>=1.5 in /Users/lukasvoss/anaconda3/envs/braket/lib/python3.10/site-packages (from qiskit-terra==0.45.1->qiskit>=0.34.2->qiskit-braket-provider==0.2.0) (1.11.4)\n",
      "Requirement already satisfied: dill>=0.3 in /Users/lukasvoss/anaconda3/envs/braket/lib/python3.10/site-packages (from qiskit-terra==0.45.1->qiskit>=0.34.2->qiskit-braket-provider==0.2.0) (0.3.7)\n",
      "Requirement already satisfied: python-dateutil>=2.8.0 in /Users/lukasvoss/anaconda3/envs/braket/lib/python3.10/site-packages (from qiskit-terra==0.45.1->qiskit>=0.34.2->qiskit-braket-provider==0.2.0) (2.8.2)\n",
      "Requirement already satisfied: stevedore>=3.0.0 in /Users/lukasvoss/anaconda3/envs/braket/lib/python3.10/site-packages (from qiskit-terra==0.45.1->qiskit>=0.34.2->qiskit-braket-provider==0.2.0) (5.1.0)\n",
      "Requirement already satisfied: symengine!=0.10.0,>=0.9 in /Users/lukasvoss/anaconda3/envs/braket/lib/python3.10/site-packages (from qiskit-terra==0.45.1->qiskit>=0.34.2->qiskit-braket-provider==0.2.0) (0.11.0)\n",
      "Requirement already satisfied: typing-extensions in /Users/lukasvoss/anaconda3/envs/braket/lib/python3.10/site-packages (from qiskit-terra==0.45.1->qiskit>=0.34.2->qiskit-braket-provider==0.2.0) (4.9.0)\n",
      "Requirement already satisfied: decorator>=5.1.0 in /Users/lukasvoss/anaconda3/envs/braket/lib/python3.10/site-packages (from qiskit-ionq<=0.5.0,>=0.4.7->qiskit-braket-provider==0.2.0) (5.1.1)\n",
      "Requirement already satisfied: requests>=2.24.0 in /Users/lukasvoss/anaconda3/envs/braket/lib/python3.10/site-packages (from qiskit-ionq<=0.5.0,>=0.4.7->qiskit-braket-provider==0.2.0) (2.31.0)\n",
      "Requirement already satisfied: retry>=0.9.0 in /Users/lukasvoss/anaconda3/envs/braket/lib/python3.10/site-packages (from qiskit-ionq<=0.5.0,>=0.4.7->qiskit-braket-provider==0.2.0) (0.9.2)\n",
      "Requirement already satisfied: importlib-metadata>=4.11.4 in /Users/lukasvoss/anaconda3/envs/braket/lib/python3.10/site-packages (from qiskit-ionq<=0.5.0,>=0.4.7->qiskit-braket-provider==0.2.0) (7.0.0)\n",
      "Requirement already satisfied: opt-einsum in /Users/lukasvoss/anaconda3/envs/braket/lib/python3.10/site-packages (from amazon-braket-default-simulator>=1.19.1->amazon-braket-sdk>=1.65.0->qiskit-braket-provider==0.2.0) (3.3.0)\n",
      "Requirement already satisfied: pydantic<2.0,>=1.9 in /Users/lukasvoss/anaconda3/envs/braket/lib/python3.10/site-packages (from amazon-braket-default-simulator>=1.19.1->amazon-braket-sdk>=1.65.0->qiskit-braket-provider==0.2.0) (1.10.13)\n",
      "Requirement already satisfied: antlr4-python3-runtime==4.9.2 in /Users/lukasvoss/anaconda3/envs/braket/lib/python3.10/site-packages (from amazon-braket-default-simulator>=1.19.1->amazon-braket-sdk>=1.65.0->qiskit-braket-provider==0.2.0) (4.9.2)\n",
      "Requirement already satisfied: botocore<1.35.0,>=1.34.45 in /Users/lukasvoss/anaconda3/envs/braket/lib/python3.10/site-packages (from boto3>=1.28.53->amazon-braket-sdk>=1.65.0->qiskit-braket-provider==0.2.0) (1.34.45)\n",
      "Requirement already satisfied: jmespath<2.0.0,>=0.7.1 in /Users/lukasvoss/anaconda3/envs/braket/lib/python3.10/site-packages (from boto3>=1.28.53->amazon-braket-sdk>=1.65.0->qiskit-braket-provider==0.2.0) (1.0.1)\n",
      "Requirement already satisfied: s3transfer<0.11.0,>=0.10.0 in /Users/lukasvoss/anaconda3/envs/braket/lib/python3.10/site-packages (from boto3>=1.28.53->amazon-braket-sdk>=1.65.0->qiskit-braket-provider==0.2.0) (0.10.0)\n",
      "Requirement already satisfied: zipp>=0.5 in /Users/lukasvoss/anaconda3/envs/braket/lib/python3.10/site-packages (from importlib-metadata>=4.11.4->qiskit-ionq<=0.5.0,>=0.4.7->qiskit-braket-provider==0.2.0) (3.17.0)\n",
      "Requirement already satisfied: mypy-extensions>=0.2.0 in /Users/lukasvoss/anaconda3/envs/braket/lib/python3.10/site-packages (from oqpy~=0.3.5->amazon-braket-sdk>=1.65.0->qiskit-braket-provider==0.2.0) (1.0.0)\n",
      "Requirement already satisfied: charset-normalizer<4,>=2 in /Users/lukasvoss/anaconda3/envs/braket/lib/python3.10/site-packages (from requests>=2.24.0->qiskit-ionq<=0.5.0,>=0.4.7->qiskit-braket-provider==0.2.0) (3.3.2)\n",
      "Requirement already satisfied: idna<4,>=2.5 in /Users/lukasvoss/anaconda3/envs/braket/lib/python3.10/site-packages (from requests>=2.24.0->qiskit-ionq<=0.5.0,>=0.4.7->qiskit-braket-provider==0.2.0) (3.6)\n",
      "Requirement already satisfied: urllib3<3,>=1.21.1 in /Users/lukasvoss/anaconda3/envs/braket/lib/python3.10/site-packages (from requests>=2.24.0->qiskit-ionq<=0.5.0,>=0.4.7->qiskit-braket-provider==0.2.0) (2.0.7)\n",
      "Requirement already satisfied: py<2.0.0,>=1.4.26 in /Users/lukasvoss/anaconda3/envs/braket/lib/python3.10/site-packages (from retry>=0.9.0->qiskit-ionq<=0.5.0,>=0.4.7->qiskit-braket-provider==0.2.0) (1.11.0)\n",
      "Requirement already satisfied: mpmath>=0.19 in /Users/lukasvoss/anaconda3/envs/braket/lib/python3.10/site-packages (from sympy->amazon-braket-sdk>=1.65.0->qiskit-braket-provider==0.2.0) (1.3.0)\n",
      "Requirement already satisfied: six>=1.5 in /Users/lukasvoss/anaconda3/envs/braket/lib/python3.10/site-packages (from python-dateutil>=2.8.0->qiskit-terra==0.45.1->qiskit>=0.34.2->qiskit-braket-provider==0.2.0) (1.16.0)\n",
      "Requirement already satisfied: pbr!=2.1.0,>=2.0.0 in /Users/lukasvoss/anaconda3/envs/braket/lib/python3.10/site-packages (from stevedore>=3.0.0->qiskit-terra==0.45.1->qiskit>=0.34.2->qiskit-braket-provider==0.2.0) (6.0.0)\n"
     ]
    }
   ],
   "source": [
    "!pip install qiskit-braket-provider==0.2.0"
   ]
  },
  {
   "cell_type": "code",
   "execution_count": 2,
   "metadata": {},
   "outputs": [
    {
     "data": {
      "text/plain": [
       "[BraketBackend[Aria 1],\n",
       " BraketBackend[Aria 2],\n",
       " BraketBackend[Aspen-M-3],\n",
       " BraketBackend[Forte 1],\n",
       " BraketBackend[Harmony],\n",
       " BraketBackend[Lucy],\n",
       " BraketBackend[SV1],\n",
       " BraketBackend[dm1]]"
      ]
     },
     "execution_count": 2,
     "metadata": {},
     "output_type": "execute_result"
    }
   ],
   "source": [
    "import numpy as np\n",
    "import time\n",
    "\n",
    "from braket.circuits import Circuit\n",
    "from braket.devices import LocalSimulator\n",
    "from qiskit_braket_provider import BraketProvider\n",
    "from qiskit_braket_provider.providers import adapter\n",
    "from braket.aws import AwsSession\n",
    "\n",
    "from qiskit import QuantumCircuit, QuantumRegister\n",
    "from qiskit.primitives import BackendEstimator, Estimator\n",
    "from qiskit.quantum_info.operators import SparsePauliOp\n",
    "from qiskit.primitives import BackendEstimator\n",
    "from qiskit.circuit import ParameterVector, Parameter\n",
    "\n",
    "import sys\n",
    "import os\n",
    "os.environ[\"KMP_DUPLICATE_LIB_OK\"] = \"True\"\n",
    "module_path = os.path.abspath(os.path.join('/Users/lukasvoss/Documents/Master Wirtschaftsphysik/Masterarbeit Yale-NUS CQT/Quantum_Optimal_Control'))\n",
    "if module_path not in sys.path:\n",
    "    sys.path.append(module_path)\n",
    "\n",
    "from braket_estimator import BraketEstimator\n",
    "\n",
    "aws_session = AwsSession(default_bucket=\"amazon-braket-us-west-1-lukasvoss\")\n",
    "BraketProvider().backends()"
   ]
  },
  {
   "cell_type": "code",
   "execution_count": 3,
   "metadata": {},
   "outputs": [],
   "source": [
    "batchsize = 50\n",
    "n_shots = 10_000"
   ]
  },
  {
   "attachments": {},
   "cell_type": "markdown",
   "metadata": {},
   "source": [
    "#### Run with native Braket SV Backend"
   ]
  },
  {
   "cell_type": "code",
   "execution_count": 4,
   "metadata": {},
   "outputs": [
    {
     "data": {
      "text/plain": [
       "Device('name': SV1, 'arn': arn:aws:braket:::device/quantum-simulator/amazon/sv1)"
      ]
     },
     "execution_count": 4,
     "metadata": {},
     "output_type": "execute_result"
    }
   ],
   "source": [
    "backend = BraketProvider().get_backend('SV1')\n",
    "\n",
    "device = backend._device\n",
    "device"
   ]
  },
  {
   "cell_type": "code",
   "execution_count": 5,
   "metadata": {},
   "outputs": [
    {
     "name": "stdout",
     "output_type": "stream",
     "text": [
      "T  : |0|1|\n",
      "          \n",
      "q0 : -H-C-\n",
      "        | \n",
      "q1 : ---X-\n",
      "\n",
      "T  : |0|1|\n"
     ]
    }
   ],
   "source": [
    "braket_bell_circ = Circuit().h(0).cnot(0, 1)\n",
    "print(braket_bell_circ)"
   ]
  },
  {
   "cell_type": "code",
   "execution_count": 6,
   "metadata": {},
   "outputs": [
    {
     "name": "stdout",
     "output_type": "stream",
     "text": [
      "--- 32.71 seconds ---\n",
      "Execution time per circuit: 0.65 seconds\n"
     ]
    }
   ],
   "source": [
    "start_time = time.time()\n",
    "job_braket_native = device.run_batch(\n",
    "    [braket_bell_circ] * batchsize,\n",
    "    shots=n_shots,\n",
    ")\n",
    "job_braket_native.results()\n",
    "run_batch_time = time.time() - start_time\n",
    "print('--- {} seconds ---'.format(round(run_batch_time, 2)))\n",
    "print('Execution time per circuit:', round(run_batch_time / batchsize, 2), 'seconds')"
   ]
  },
  {
   "attachments": {},
   "cell_type": "markdown",
   "metadata": {},
   "source": [
    "#### Run with Braket Provider + **Estimator Primitive**"
   ]
  },
  {
   "cell_type": "code",
   "execution_count": 7,
   "metadata": {},
   "outputs": [
    {
     "name": "stderr",
     "output_type": "stream",
     "text": [
      "/Users/lukasvoss/anaconda3/envs/braket/lib/python3.10/site-packages/qiskit/visualization/circuit/matplotlib.py:266: FutureWarning: The default matplotlib drawer scheme will be changed to \"iqp\" in a following release. To silence this warning, specify the current default explicitly as style=\"clifford\", or the new default as style=\"iqp\".\n",
      "  self._style, def_font_ratio = load_style(self._style)\n"
     ]
    },
    {
     "data": {
      "image/png": "[encoded data removed]",
      "text/plain": [
       "<Figure size 287.294x200.667 with 1 Axes>"
      ]
     },
     "execution_count": 7,
     "metadata": {},
     "output_type": "execute_result"
    }
   ],
   "source": [
    "qiskit_bell_circ = QuantumCircuit(2)\n",
    "qiskit_bell_circ.h(0)\n",
    "qiskit_bell_circ.cx(0, 1)\n",
    "\n",
    "qiskit_bell_circ.draw(\"mpl\")"
   ]
  },
  {
   "attachments": {},
   "cell_type": "markdown",
   "metadata": {},
   "source": [
    "Before the improvement in downloading results from Estimator, the below cell took 532 secs to complete"
   ]
  },
  {
   "cell_type": "code",
   "execution_count": 8,
   "metadata": {},
   "outputs": [
    {
     "name": "stderr",
     "output_type": "stream",
     "text": [
      "WARNING: All log messages before absl::InitializeLog() is called are written to STDERR\n",
      "I0000 00:00:1710138413.609247       1 tfrt_cpu_pjrt_client.cc:349] TfrtCpuClient created.\n",
      "/Users/lukasvoss/anaconda3/envs/braket/lib/python3.10/site-packages/qiskit_braket_provider/providers/adapter.py:481: UserWarning: Device does not support global phase; global phase of 1.5707963267948966 will not be included in Braket circuit\n",
      "  warnings.warn(\n",
      "/Users/lukasvoss/anaconda3/envs/braket/lib/python3.10/site-packages/qiskit_braket_provider/providers/adapter.py:481: UserWarning: Device does not support global phase; global phase of 2.3561944901923457 will not be included in Braket circuit\n",
      "  warnings.warn(\n",
      "/Users/lukasvoss/anaconda3/envs/braket/lib/python3.10/site-packages/qiskit_braket_provider/providers/adapter.py:481: UserWarning: Device does not support global phase; global phase of 4.71238898038469 will not be included in Braket circuit\n",
      "  warnings.warn(\n"
     ]
    },
    {
     "name": "stdout",
     "output_type": "stream",
     "text": [
      "--- 83.67 seconds ---\n",
      "Execution time per circuit: 0.56 seconds\n"
     ]
    }
   ],
   "source": [
    "backend = BraketProvider().get_backend('SV1')\n",
    "estimator = BackendEstimator(backend)\n",
    "qiskit_observables = SparsePauliOp.from_list(([('XX', 0.25), (\"IZ\", 0.25), (\"ZZ\", 0.25), (\"XY\", 0.25)]))\n",
    "\n",
    "qiskit_start_time = time.time()\n",
    "job = estimator.run(\n",
    "    circuits=[qiskit_bell_circ] * batchsize,\n",
    "    observables=[qiskit_observables] * batchsize,\n",
    "    shots=n_shots\n",
    ")\n",
    "job.result().values # This is the time-consuming line\n",
    "\n",
    "qiskit_run_batch_time = time.time() - qiskit_start_time\n",
    "print('--- {} seconds ---'.format(round(qiskit_run_batch_time, 2)))\n",
    "print('Execution time per circuit:', round(qiskit_run_batch_time / (batchsize * 3), 2), 'seconds')"
   ]
  },
  {
   "cell_type": "code",
   "execution_count": 9,
   "metadata": {},
   "outputs": [],
   "source": [
    "qiskit_expvals = job.result().values"
   ]
  },
  {
   "attachments": {},
   "cell_type": "markdown",
   "metadata": {},
   "source": [
    "#### Use ``Estimator`` from Qiskit"
   ]
  },
  {
   "cell_type": "code",
   "execution_count": 10,
   "metadata": {},
   "outputs": [
    {
     "name": "stdout",
     "output_type": "stream",
     "text": [
      "--- 0.03 seconds ---\n",
      "Execution time per circuit: 0.0 seconds\n"
     ]
    }
   ],
   "source": [
    "start_time = time.time()\n",
    "job = Estimator().run(\n",
    "    circuits=[qiskit_bell_circ] * batchsize,\n",
    "    observables=[qiskit_observables] * batchsize,\n",
    "    shots=n_shots\n",
    ")\n",
    "qiskit_expvals_2 = job.result().values\n",
    "run_batch_time = time.time() - start_time\n",
    "print('--- {} seconds ---'.format(round(run_batch_time, 2)))\n",
    "# Three non-commuting parts of the Hamiltonian lead to three measured circuits per Hamiltonian\n",
    "print('Execution time per circuit:', round(run_batch_time / (batchsize * 3), 2), 'seconds')"
   ]
  },
  {
   "cell_type": "code",
   "execution_count": 11,
   "metadata": {},
   "outputs": [
    {
     "data": {
      "text/plain": [
       "array([-0.00525878,  0.00543803, -0.00119444, -0.00161656,  0.00203959,\n",
       "        0.00190078, -0.0023187 ,  0.00092939, -0.00334703,  0.0096579 ,\n",
       "       -0.00748801,  0.00354296, -0.0088413 ,  0.00609355,  0.00303315,\n",
       "        0.00049845,  0.00091414, -0.00495264,  0.01341821,  0.00408252,\n",
       "        0.00534098,  0.00841487, -0.0028021 ,  0.00440317,  0.00016878,\n",
       "        0.00276217, -0.00801259, -0.00196247,  0.00680259, -0.001227  ,\n",
       "       -0.00168874,  0.00244386, -0.005714  ,  0.00152023,  0.00430649,\n",
       "       -0.00026036, -0.00498654,  0.00145354, -0.00628134,  0.0029091 ,\n",
       "       -0.00143538, -0.00142802,  0.00818742, -0.00512188, -0.00100402,\n",
       "        0.00229352,  0.00779831,  0.00124121, -0.00339006,  0.00788146])"
      ]
     },
     "execution_count": 11,
     "metadata": {},
     "output_type": "execute_result"
    }
   ],
   "source": [
    "qiskit_expvals_2 - qiskit_expvals"
   ]
  },
  {
   "cell_type": "code",
   "execution_count": 12,
   "metadata": {},
   "outputs": [
    {
     "data": {
      "text/plain": [
       "0.013418214612043733"
      ]
     },
     "execution_count": 12,
     "metadata": {},
     "output_type": "execute_result"
    }
   ],
   "source": [
    "max(qiskit_expvals_2 - qiskit_expvals)"
   ]
  },
  {
   "attachments": {},
   "cell_type": "markdown",
   "metadata": {},
   "source": [
    "#### Run Circuit and Measure observables on own ``BraketEstimator``"
   ]
  },
  {
   "cell_type": "code",
   "execution_count": 13,
   "metadata": {},
   "outputs": [],
   "source": [
    "backend = LocalSimulator()\n",
    "estimator = BraketEstimator(backend)\n",
    "\n",
    "braket_observables = qiskit_observables.to_list()"
   ]
  },
  {
   "cell_type": "code",
   "execution_count": 14,
   "metadata": {},
   "outputs": [
    {
     "name": "stdout",
     "output_type": "stream",
     "text": [
      "--- 5.1 seconds ---\n",
      "Execution time per circuit: 0.03 seconds\n"
     ]
    }
   ],
   "source": [
    "start_time = time.time()\n",
    "expvals = estimator.run(\n",
    "    circuit=[braket_bell_circ] * batchsize,\n",
    "    observables=[braket_observables] * batchsize,\n",
    "    target_register=[[0, 1]] * batchsize,\n",
    "    shots=n_shots\n",
    ")\n",
    "run_braket_estimator_time = time.time() - start_time\n",
    "print('--- {} seconds ---'.format(round(run_braket_estimator_time, 2)))\n",
    "print('Execution time per circuit:', round(run_braket_estimator_time / (batchsize * 3), 2), 'seconds')"
   ]
  },
  {
   "cell_type": "code",
   "execution_count": 15,
   "metadata": {},
   "outputs": [
    {
     "name": "stderr",
     "output_type": "stream",
     "text": [
      "/var/folders/6b/76tj41f506g7_0dg_k15w_d80000gn/T/ipykernel_35425/798129361.py:1: ComplexWarning: Casting complex values to real discards the imaginary part\n",
      "  expvals.astype(float) - qiskit_expvals\n"
     ]
    },
    {
     "data": {
      "text/plain": [
       "array([-6.75e-03,  8.50e-04,  3.25e-03, -2.30e-03, -2.90e-03, -5.55e-03,\n",
       "        2.50e-04, -2.40e-03, -7.00e-04, -3.50e-03,  1.80e-03,  1.60e-03,\n",
       "       -7.05e-03,  7.50e-04,  4.20e-03, -3.80e-03, -4.60e-03, -4.75e-03,\n",
       "        4.90e-03, -5.00e-05,  4.30e-03, -7.00e-03, -1.70e-03,  5.60e-03,\n",
       "       -5.50e-03, -5.25e-03, -9.45e-03, -1.00e-03,  2.70e-03,  2.00e-03,\n",
       "        4.55e-03,  9.75e-03, -2.95e-03,  3.55e-03,  6.90e-03,  3.50e-04,\n",
       "       -2.85e-03, -1.85e-03, -2.50e-03, -3.00e-03, -3.90e-03, -5.10e-03,\n",
       "       -9.50e-04, -4.65e-03,  2.60e-03,  4.10e-03,  2.80e-03,  4.95e-03,\n",
       "        6.05e-03, -3.05e-03])"
      ]
     },
     "execution_count": 15,
     "metadata": {},
     "output_type": "execute_result"
    }
   ],
   "source": [
    "expvals.astype(float) - qiskit_expvals"
   ]
  },
  {
   "cell_type": "code",
   "execution_count": 16,
   "metadata": {},
   "outputs": [
    {
     "name": "stderr",
     "output_type": "stream",
     "text": [
      "/var/folders/6b/76tj41f506g7_0dg_k15w_d80000gn/T/ipykernel_35425/3208180139.py:1: ComplexWarning: Casting complex values to real discards the imaginary part\n",
      "  max(expvals.astype(float) - qiskit_expvals)\n"
     ]
    },
    {
     "data": {
      "text/plain": [
       "0.009750000000000147"
      ]
     },
     "execution_count": 16,
     "metadata": {},
     "output_type": "execute_result"
    }
   ],
   "source": [
    "max(expvals.astype(float) - qiskit_expvals)"
   ]
  },
  {
   "attachments": {},
   "cell_type": "markdown",
   "metadata": {},
   "source": [
    "#### Running batch of qiskit circuits with SV1 backend provider"
   ]
  },
  {
   "cell_type": "code",
   "execution_count": 18,
   "metadata": {},
   "outputs": [],
   "source": [
    "backend = BraketProvider().get_backend('SV1')"
   ]
  },
  {
   "cell_type": "code",
   "execution_count": 19,
   "metadata": {},
   "outputs": [
    {
     "name": "stdout",
     "output_type": "stream",
     "text": [
      "--- 29.77 seconds ---\n",
      "Execution time per batch: 0.6 seconds\n"
     ]
    }
   ],
   "source": [
    "qiskit_start_time = time.time()\n",
    "job = backend.run(\n",
    "    [qiskit_bell_circ] * batchsize,\n",
    "    shots=n_shots\n",
    ")\n",
    "result = job.result() # This is the time-consuming line\n",
    "\n",
    "qiskit_run_batch_time = time.time() - qiskit_start_time\n",
    "print('--- {} seconds ---'.format(round(qiskit_run_batch_time, 2)))\n",
    "print('Execution time per batch:', round(qiskit_run_batch_time / batchsize, 2), 'seconds')"
   ]
  }
 ],
 "metadata": {
  "kernelspec": {
   "display_name": "braket",
   "language": "python",
   "name": "python3"
  },
  "language_info": {
   "codemirror_mode": {
    "name": "ipython",
    "version": 3
   },
   "file_extension": ".py",
   "mimetype": "text/x-python",
   "name": "python",
   "nbconvert_exporter": "python",
   "pygments_lexer": "ipython3",
   "version": "3.10.13"
  },
  "orig_nbformat": 4
 },
 "nbformat": 4,
 "nbformat_minor": 2
}
