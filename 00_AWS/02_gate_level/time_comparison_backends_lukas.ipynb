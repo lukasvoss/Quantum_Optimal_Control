{
 "cells": [
  {
   "attachments": {},
   "cell_type": "markdown",
   "metadata": {},
   "source": [
    "## Running a bell circuit on different backends"
   ]
  },
  {
   "cell_type": "code",
   "execution_count": 1,
   "metadata": {},
   "outputs": [
    {
     "name": "stdout",
     "output_type": "stream",
     "text": [
      "Collecting qiskit-braket-provider==0.2.0\n",
      "  Downloading qiskit_braket_provider-0.2.0-py3-none-any.whl.metadata (3.6 kB)\n",
      "Requirement already satisfied: certifi>=2021.5.30 in /Users/lukasvoss/anaconda3/envs/braket/lib/python3.10/site-packages (from qiskit-braket-provider==0.2.0) (2023.11.17)\n",
      "Requirement already satisfied: qiskit>=0.34.2 in /Users/lukasvoss/anaconda3/envs/braket/lib/python3.10/site-packages (from qiskit-braket-provider==0.2.0) (0.45.1)\n",
      "Requirement already satisfied: qiskit-ionq<=0.5.0,>=0.4.7 in /Users/lukasvoss/anaconda3/envs/braket/lib/python3.10/site-packages (from qiskit-braket-provider==0.2.0) (0.4.7)\n",
      "Requirement already satisfied: amazon-braket-sdk>=1.65.0 in /Users/lukasvoss/anaconda3/envs/braket/lib/python3.10/site-packages (from qiskit-braket-provider==0.2.0) (1.72.2)\n",
      "Requirement already satisfied: setuptools>=40.1.0 in /Users/lukasvoss/anaconda3/envs/braket/lib/python3.10/site-packages (from qiskit-braket-provider==0.2.0) (69.0.2)\n",
      "Requirement already satisfied: numpy>=1.3 in /Users/lukasvoss/anaconda3/envs/braket/lib/python3.10/site-packages (from qiskit-braket-provider==0.2.0) (1.23.5)\n",
      "Requirement already satisfied: amazon-braket-schemas>=1.20.2 in /Users/lukasvoss/anaconda3/envs/braket/lib/python3.10/site-packages (from amazon-braket-sdk>=1.65.0->qiskit-braket-provider==0.2.0) (1.20.2)\n",
      "Requirement already satisfied: amazon-braket-default-simulator>=1.19.1 in /Users/lukasvoss/anaconda3/envs/braket/lib/python3.10/site-packages (from amazon-braket-sdk>=1.65.0->qiskit-braket-provider==0.2.0) (1.20.1)\n",
      "Requirement already satisfied: oqpy~=0.3.5 in /Users/lukasvoss/anaconda3/envs/braket/lib/python3.10/site-packages (from amazon-braket-sdk>=1.65.0->qiskit-braket-provider==0.2.0) (0.3.5)\n",
      "Requirement already satisfied: backoff in /Users/lukasvoss/anaconda3/envs/braket/lib/python3.10/site-packages (from amazon-braket-sdk>=1.65.0->qiskit-braket-provider==0.2.0) (2.2.1)\n",
      "Requirement already satisfied: boltons in /Users/lukasvoss/anaconda3/envs/braket/lib/python3.10/site-packages (from amazon-braket-sdk>=1.65.0->qiskit-braket-provider==0.2.0) (23.1.1)\n",
      "Requirement already satisfied: boto3>=1.28.53 in /Users/lukasvoss/anaconda3/envs/braket/lib/python3.10/site-packages (from amazon-braket-sdk>=1.65.0->qiskit-braket-provider==0.2.0) (1.34.45)\n",
      "Requirement already satisfied: cloudpickle==2.2.1 in /Users/lukasvoss/anaconda3/envs/braket/lib/python3.10/site-packages (from amazon-braket-sdk>=1.65.0->qiskit-braket-provider==0.2.0) (2.2.1)\n",
      "Requirement already satisfied: nest-asyncio in /Users/lukasvoss/anaconda3/envs/braket/lib/python3.10/site-packages (from amazon-braket-sdk>=1.65.0->qiskit-braket-provider==0.2.0) (1.5.8)\n",
      "Requirement already satisfied: networkx in /Users/lukasvoss/anaconda3/envs/braket/lib/python3.10/site-packages (from amazon-braket-sdk>=1.65.0->qiskit-braket-provider==0.2.0) (3.2.1)\n",
      "Requirement already satisfied: openpulse in /Users/lukasvoss/anaconda3/envs/braket/lib/python3.10/site-packages (from amazon-braket-sdk>=1.65.0->qiskit-braket-provider==0.2.0) (0.5.0)\n",
      "Requirement already satisfied: openqasm3 in /Users/lukasvoss/anaconda3/envs/braket/lib/python3.10/site-packages (from amazon-braket-sdk>=1.65.0->qiskit-braket-provider==0.2.0) (0.5.0)\n",
      "Requirement already satisfied: sympy in /Users/lukasvoss/anaconda3/envs/braket/lib/python3.10/site-packages (from amazon-braket-sdk>=1.65.0->qiskit-braket-provider==0.2.0) (1.12)\n",
      "Requirement already satisfied: qiskit-terra==0.45.1 in /Users/lukasvoss/anaconda3/envs/braket/lib/python3.10/site-packages (from qiskit>=0.34.2->qiskit-braket-provider==0.2.0) (0.45.1)\n",
      "Requirement already satisfied: rustworkx>=0.13.0 in /Users/lukasvoss/anaconda3/envs/braket/lib/python3.10/site-packages (from qiskit-terra==0.45.1->qiskit>=0.34.2->qiskit-braket-provider==0.2.0) (0.13.2)\n",
      "Requirement already satisfied: ply>=3.10 in /Users/lukasvoss/anaconda3/envs/braket/lib/python3.10/site-packages (from qiskit-terra==0.45.1->qiskit>=0.34.2->qiskit-braket-provider==0.2.0) (3.11)\n",
      "Requirement already satisfied: psutil>=5 in /Users/lukasvoss/anaconda3/envs/braket/lib/python3.10/site-packages (from qiskit-terra==0.45.1->qiskit>=0.34.2->qiskit-braket-provider==0.2.0) (5.9.0)\n",
      "Requirement already satisfied: scipy>=1.5 in /Users/lukasvoss/anaconda3/envs/braket/lib/python3.10/site-packages (from qiskit-terra==0.45.1->qiskit>=0.34.2->qiskit-braket-provider==0.2.0) (1.11.4)\n",
      "Requirement already satisfied: dill>=0.3 in /Users/lukasvoss/anaconda3/envs/braket/lib/python3.10/site-packages (from qiskit-terra==0.45.1->qiskit>=0.34.2->qiskit-braket-provider==0.2.0) (0.3.7)\n",
      "Requirement already satisfied: python-dateutil>=2.8.0 in /Users/lukasvoss/anaconda3/envs/braket/lib/python3.10/site-packages (from qiskit-terra==0.45.1->qiskit>=0.34.2->qiskit-braket-provider==0.2.0) (2.8.2)\n",
      "Requirement already satisfied: stevedore>=3.0.0 in /Users/lukasvoss/anaconda3/envs/braket/lib/python3.10/site-packages (from qiskit-terra==0.45.1->qiskit>=0.34.2->qiskit-braket-provider==0.2.0) (5.1.0)\n",
      "Requirement already satisfied: symengine!=0.10.0,>=0.9 in /Users/lukasvoss/anaconda3/envs/braket/lib/python3.10/site-packages (from qiskit-terra==0.45.1->qiskit>=0.34.2->qiskit-braket-provider==0.2.0) (0.11.0)\n",
      "Requirement already satisfied: typing-extensions in /Users/lukasvoss/anaconda3/envs/braket/lib/python3.10/site-packages (from qiskit-terra==0.45.1->qiskit>=0.34.2->qiskit-braket-provider==0.2.0) (4.9.0)\n",
      "Requirement already satisfied: decorator>=5.1.0 in /Users/lukasvoss/anaconda3/envs/braket/lib/python3.10/site-packages (from qiskit-ionq<=0.5.0,>=0.4.7->qiskit-braket-provider==0.2.0) (5.1.1)\n",
      "Requirement already satisfied: requests>=2.24.0 in /Users/lukasvoss/anaconda3/envs/braket/lib/python3.10/site-packages (from qiskit-ionq<=0.5.0,>=0.4.7->qiskit-braket-provider==0.2.0) (2.31.0)\n",
      "Requirement already satisfied: retry>=0.9.0 in /Users/lukasvoss/anaconda3/envs/braket/lib/python3.10/site-packages (from qiskit-ionq<=0.5.0,>=0.4.7->qiskit-braket-provider==0.2.0) (0.9.2)\n",
      "Requirement already satisfied: importlib-metadata>=4.11.4 in /Users/lukasvoss/anaconda3/envs/braket/lib/python3.10/site-packages (from qiskit-ionq<=0.5.0,>=0.4.7->qiskit-braket-provider==0.2.0) (7.0.0)\n",
      "Requirement already satisfied: opt-einsum in /Users/lukasvoss/anaconda3/envs/braket/lib/python3.10/site-packages (from amazon-braket-default-simulator>=1.19.1->amazon-braket-sdk>=1.65.0->qiskit-braket-provider==0.2.0) (3.3.0)\n",
      "Requirement already satisfied: pydantic<2.0,>=1.9 in /Users/lukasvoss/anaconda3/envs/braket/lib/python3.10/site-packages (from amazon-braket-default-simulator>=1.19.1->amazon-braket-sdk>=1.65.0->qiskit-braket-provider==0.2.0) (1.10.13)\n",
      "Requirement already satisfied: antlr4-python3-runtime==4.9.2 in /Users/lukasvoss/anaconda3/envs/braket/lib/python3.10/site-packages (from amazon-braket-default-simulator>=1.19.1->amazon-braket-sdk>=1.65.0->qiskit-braket-provider==0.2.0) (4.9.2)\n",
      "Requirement already satisfied: botocore<1.35.0,>=1.34.45 in /Users/lukasvoss/anaconda3/envs/braket/lib/python3.10/site-packages (from boto3>=1.28.53->amazon-braket-sdk>=1.65.0->qiskit-braket-provider==0.2.0) (1.34.45)\n",
      "Requirement already satisfied: jmespath<2.0.0,>=0.7.1 in /Users/lukasvoss/anaconda3/envs/braket/lib/python3.10/site-packages (from boto3>=1.28.53->amazon-braket-sdk>=1.65.0->qiskit-braket-provider==0.2.0) (1.0.1)\n",
      "Requirement already satisfied: s3transfer<0.11.0,>=0.10.0 in /Users/lukasvoss/anaconda3/envs/braket/lib/python3.10/site-packages (from boto3>=1.28.53->amazon-braket-sdk>=1.65.0->qiskit-braket-provider==0.2.0) (0.10.0)\n",
      "Requirement already satisfied: zipp>=0.5 in /Users/lukasvoss/anaconda3/envs/braket/lib/python3.10/site-packages (from importlib-metadata>=4.11.4->qiskit-ionq<=0.5.0,>=0.4.7->qiskit-braket-provider==0.2.0) (3.17.0)\n",
      "Requirement already satisfied: mypy-extensions>=0.2.0 in /Users/lukasvoss/anaconda3/envs/braket/lib/python3.10/site-packages (from oqpy~=0.3.5->amazon-braket-sdk>=1.65.0->qiskit-braket-provider==0.2.0) (1.0.0)\n",
      "Requirement already satisfied: charset-normalizer<4,>=2 in /Users/lukasvoss/anaconda3/envs/braket/lib/python3.10/site-packages (from requests>=2.24.0->qiskit-ionq<=0.5.0,>=0.4.7->qiskit-braket-provider==0.2.0) (3.3.2)\n",
      "Requirement already satisfied: idna<4,>=2.5 in /Users/lukasvoss/anaconda3/envs/braket/lib/python3.10/site-packages (from requests>=2.24.0->qiskit-ionq<=0.5.0,>=0.4.7->qiskit-braket-provider==0.2.0) (3.6)\n",
      "Requirement already satisfied: urllib3<3,>=1.21.1 in /Users/lukasvoss/anaconda3/envs/braket/lib/python3.10/site-packages (from requests>=2.24.0->qiskit-ionq<=0.5.0,>=0.4.7->qiskit-braket-provider==0.2.0) (2.0.7)\n",
      "Requirement already satisfied: py<2.0.0,>=1.4.26 in /Users/lukasvoss/anaconda3/envs/braket/lib/python3.10/site-packages (from retry>=0.9.0->qiskit-ionq<=0.5.0,>=0.4.7->qiskit-braket-provider==0.2.0) (1.11.0)\n",
      "Requirement already satisfied: mpmath>=0.19 in /Users/lukasvoss/anaconda3/envs/braket/lib/python3.10/site-packages (from sympy->amazon-braket-sdk>=1.65.0->qiskit-braket-provider==0.2.0) (1.3.0)\n",
      "Requirement already satisfied: six>=1.5 in /Users/lukasvoss/anaconda3/envs/braket/lib/python3.10/site-packages (from python-dateutil>=2.8.0->qiskit-terra==0.45.1->qiskit>=0.34.2->qiskit-braket-provider==0.2.0) (1.16.0)\n",
      "Requirement already satisfied: pbr!=2.1.0,>=2.0.0 in /Users/lukasvoss/anaconda3/envs/braket/lib/python3.10/site-packages (from stevedore>=3.0.0->qiskit-terra==0.45.1->qiskit>=0.34.2->qiskit-braket-provider==0.2.0) (6.0.0)\n",
      "Downloading qiskit_braket_provider-0.2.0-py3-none-any.whl (33 kB)\n",
      "Installing collected packages: qiskit-braket-provider\n",
      "  Attempting uninstall: qiskit-braket-provider\n",
      "    Found existing installation: qiskit-braket-provider 0.1.1\n",
      "    Uninstalling qiskit-braket-provider-0.1.1:\n",
      "      Successfully uninstalled qiskit-braket-provider-0.1.1\n",
      "Successfully installed qiskit-braket-provider-0.2.0\n"
     ]
    }
   ],
   "source": [
    "!pip install qiskit-braket-provider==0.2.0"
   ]
  },
  {
   "cell_type": "code",
   "execution_count": 1,
   "metadata": {},
   "outputs": [
    {
     "data": {
      "text/plain": [
       "[BraketBackend[Aria 1],\n",
       " BraketBackend[Aria 2],\n",
       " BraketBackend[Aspen-M-3],\n",
       " BraketBackend[Forte 1],\n",
       " BraketBackend[Harmony],\n",
       " BraketBackend[Lucy],\n",
       " BraketBackend[SV1],\n",
       " BraketBackend[dm1]]"
      ]
     },
     "execution_count": 1,
     "metadata": {},
     "output_type": "execute_result"
    }
   ],
   "source": [
    "import numpy as np\n",
    "import time\n",
    "\n",
    "from braket.circuits import Circuit\n",
    "from braket.devices import LocalSimulator\n",
    "from qiskit_braket_provider import BraketProvider\n",
    "from qiskit_braket_provider.providers import adapter\n",
    "from braket.aws import AwsSession\n",
    "\n",
    "from qiskit import QuantumCircuit, QuantumRegister\n",
    "from qiskit.primitives import BackendEstimator, Estimator\n",
    "from qiskit.quantum_info.operators import SparsePauliOp\n",
    "from qiskit.primitives import BackendEstimator\n",
    "from qiskit.circuit import ParameterVector, Parameter\n",
    "\n",
    "import sys\n",
    "import os\n",
    "os.environ[\"KMP_DUPLICATE_LIB_OK\"] = \"True\"\n",
    "module_path = os.path.abspath(os.path.join('/Users/lukasvoss/Documents/Master Wirtschaftsphysik/Masterarbeit Yale-NUS CQT/Quantum_Optimal_Control'))\n",
    "if module_path not in sys.path:\n",
    "    sys.path.append(module_path)\n",
    "\n",
    "from braket_estimator import BraketEstimator\n",
    "\n",
    "aws_session = AwsSession(default_bucket=\"amazon-braket-us-west-1-lukasvoss\")\n",
    "BraketProvider().backends()"
   ]
  },
  {
   "cell_type": "code",
   "execution_count": 2,
   "metadata": {},
   "outputs": [],
   "source": [
    "batchsize = 50\n",
    "n_shots = 10_000"
   ]
  },
  {
   "attachments": {},
   "cell_type": "markdown",
   "metadata": {},
   "source": [
    "#### Run with native Braket SV Backend"
   ]
  },
  {
   "cell_type": "code",
   "execution_count": 3,
   "metadata": {},
   "outputs": [
    {
     "data": {
      "text/plain": [
       "Device('name': SV1, 'arn': arn:aws:braket:::device/quantum-simulator/amazon/sv1)"
      ]
     },
     "execution_count": 3,
     "metadata": {},
     "output_type": "execute_result"
    }
   ],
   "source": [
    "backend = BraketProvider().get_backend('SV1')\n",
    "\n",
    "device = backend._device\n",
    "device"
   ]
  },
  {
   "cell_type": "code",
   "execution_count": 4,
   "metadata": {},
   "outputs": [
    {
     "name": "stdout",
     "output_type": "stream",
     "text": [
      "T  : |0|1|\n",
      "          \n",
      "q0 : -H-C-\n",
      "        | \n",
      "q1 : ---X-\n",
      "\n",
      "T  : |0|1|\n"
     ]
    }
   ],
   "source": [
    "braket_bell_circ = Circuit().h(0).cnot(0, 1)\n",
    "print(braket_bell_circ)"
   ]
  },
  {
   "cell_type": "code",
   "execution_count": 5,
   "metadata": {},
   "outputs": [
    {
     "name": "stdout",
     "output_type": "stream",
     "text": [
      "--- 61.14 seconds ---\n",
      "Execution time per circuit: 1.22 seconds\n"
     ]
    }
   ],
   "source": [
    "start_time = time.time()\n",
    "job_braket_native = device.run_batch(\n",
    "    [braket_bell_circ] * batchsize,\n",
    "    shots=n_shots,\n",
    ")\n",
    "job_braket_native.results()\n",
    "run_batch_time = time.time() - start_time\n",
    "print('--- {} seconds ---'.format(round(run_batch_time, 2)))\n",
    "print('Execution time per circuit:', round(run_batch_time / batchsize, 2), 'seconds')"
   ]
  },
  {
   "attachments": {},
   "cell_type": "markdown",
   "metadata": {},
   "source": [
    "#### Run with Braket Provider + **Estimator Primitive**"
   ]
  },
  {
   "cell_type": "code",
   "execution_count": 6,
   "metadata": {},
   "outputs": [
    {
     "name": "stderr",
     "output_type": "stream",
     "text": [
      "/Users/lukasvoss/anaconda3/envs/braket/lib/python3.10/site-packages/qiskit/visualization/circuit/matplotlib.py:266: FutureWarning: The default matplotlib drawer scheme will be changed to \"iqp\" in a following release. To silence this warning, specify the current default explicitly as style=\"clifford\", or the new default as style=\"iqp\".\n",
      "  self._style, def_font_ratio = load_style(self._style)\n"
     ]
    },
    {
     "data": {
      "image/png": "[encoded data removed]",
      "text/plain": [
       "<Figure size 287.294x200.667 with 1 Axes>"
      ]
     },
     "execution_count": 6,
     "metadata": {},
     "output_type": "execute_result"
    }
   ],
   "source": [
    "qiskit_bell_circ = QuantumCircuit(2)\n",
    "qiskit_bell_circ.h(0)\n",
    "qiskit_bell_circ.cx(0, 1)\n",
    "\n",
    "qiskit_bell_circ.draw(\"mpl\")"
   ]
  },
  {
   "attachments": {},
   "cell_type": "markdown",
   "metadata": {},
   "source": [
    "Before the improvement in downloading results from Estimator, the below cell took 532 secs to complete"
   ]
  },
  {
   "cell_type": "code",
   "execution_count": 7,
   "metadata": {},
   "outputs": [
    {
     "name": "stderr",
     "output_type": "stream",
     "text": [
      "WARNING: All log messages before absl::InitializeLog() is called are written to STDERR\n",
      "I0000 00:00:1709776814.798733       1 tfrt_cpu_pjrt_client.cc:349] TfrtCpuClient created.\n",
      "/Users/lukasvoss/anaconda3/envs/braket/lib/python3.10/site-packages/qiskit_braket_provider/providers/adapter.py:481: UserWarning: Device does not support global phase; global phase of 1.5707963267948966 will not be included in Braket circuit\n",
      "  warnings.warn(\n",
      "/Users/lukasvoss/anaconda3/envs/braket/lib/python3.10/site-packages/qiskit_braket_provider/providers/adapter.py:481: UserWarning: Device does not support global phase; global phase of 2.3561944901923457 will not be included in Braket circuit\n",
      "  warnings.warn(\n",
      "/Users/lukasvoss/anaconda3/envs/braket/lib/python3.10/site-packages/qiskit_braket_provider/providers/adapter.py:481: UserWarning: Device does not support global phase; global phase of 4.71238898038469 will not be included in Braket circuit\n",
      "  warnings.warn(\n"
     ]
    },
    {
     "ename": "ReadTimeoutError",
     "evalue": "Read timeout on endpoint URL: \"None\"",
     "output_type": "error",
     "traceback": [
      "\u001b[0;31m---------------------------------------------------------------------------\u001b[0m",
      "\u001b[0;31mTimeoutError\u001b[0m                              Traceback (most recent call last)",
      "File \u001b[0;32m~/anaconda3/envs/braket/lib/python3.10/site-packages/urllib3/response.py:710\u001b[0m, in \u001b[0;36mHTTPResponse._error_catcher\u001b[0;34m(self)\u001b[0m\n\u001b[1;32m    709\u001b[0m \u001b[39mtry\u001b[39;00m:\n\u001b[0;32m--> 710\u001b[0m     \u001b[39myield\u001b[39;00m\n\u001b[1;32m    712\u001b[0m \u001b[39mexcept\u001b[39;00m SocketTimeout \u001b[39mas\u001b[39;00m e:\n\u001b[1;32m    713\u001b[0m     \u001b[39m# FIXME: Ideally we'd like to include the url in the ReadTimeoutError but\u001b[39;00m\n\u001b[1;32m    714\u001b[0m     \u001b[39m# there is yet no clean way to get at it from this context.\u001b[39;00m\n",
      "File \u001b[0;32m~/anaconda3/envs/braket/lib/python3.10/site-packages/urllib3/response.py:814\u001b[0m, in \u001b[0;36mHTTPResponse._raw_read\u001b[0;34m(self, amt)\u001b[0m\n\u001b[1;32m    813\u001b[0m \u001b[39mwith\u001b[39;00m \u001b[39mself\u001b[39m\u001b[39m.\u001b[39m_error_catcher():\n\u001b[0;32m--> 814\u001b[0m     data \u001b[39m=\u001b[39m \u001b[39mself\u001b[39;49m\u001b[39m.\u001b[39;49m_fp_read(amt) \u001b[39mif\u001b[39;00m \u001b[39mnot\u001b[39;00m fp_closed \u001b[39melse\u001b[39;00m \u001b[39mb\u001b[39m\u001b[39m\"\u001b[39m\u001b[39m\"\u001b[39m\n\u001b[1;32m    815\u001b[0m     \u001b[39mif\u001b[39;00m amt \u001b[39mis\u001b[39;00m \u001b[39mnot\u001b[39;00m \u001b[39mNone\u001b[39;00m \u001b[39mand\u001b[39;00m amt \u001b[39m!=\u001b[39m \u001b[39m0\u001b[39m \u001b[39mand\u001b[39;00m \u001b[39mnot\u001b[39;00m data:\n\u001b[1;32m    816\u001b[0m         \u001b[39m# Platform-specific: Buggy versions of Python.\u001b[39;00m\n\u001b[1;32m    817\u001b[0m         \u001b[39m# Close the connection when no data is returned\u001b[39;00m\n\u001b[0;32m   (...)\u001b[0m\n\u001b[1;32m    822\u001b[0m         \u001b[39m# not properly close the connection in all cases. There is\u001b[39;00m\n\u001b[1;32m    823\u001b[0m         \u001b[39m# no harm in redundantly calling close.\u001b[39;00m\n",
      "File \u001b[0;32m~/anaconda3/envs/braket/lib/python3.10/site-packages/urllib3/response.py:799\u001b[0m, in \u001b[0;36mHTTPResponse._fp_read\u001b[0;34m(self, amt)\u001b[0m\n\u001b[1;32m    797\u001b[0m \u001b[39melse\u001b[39;00m:\n\u001b[1;32m    798\u001b[0m     \u001b[39m# StringIO doesn't like amt=None\u001b[39;00m\n\u001b[0;32m--> 799\u001b[0m     \u001b[39mreturn\u001b[39;00m \u001b[39mself\u001b[39m\u001b[39m.\u001b[39m_fp\u001b[39m.\u001b[39mread(amt) \u001b[39mif\u001b[39;00m amt \u001b[39mis\u001b[39;00m \u001b[39mnot\u001b[39;00m \u001b[39mNone\u001b[39;00m \u001b[39melse\u001b[39;00m \u001b[39mself\u001b[39;49m\u001b[39m.\u001b[39;49m_fp\u001b[39m.\u001b[39;49mread()\n",
      "File \u001b[0;32m~/anaconda3/envs/braket/lib/python3.10/http/client.py:482\u001b[0m, in \u001b[0;36mHTTPResponse.read\u001b[0;34m(self, amt)\u001b[0m\n\u001b[1;32m    481\u001b[0m \u001b[39mtry\u001b[39;00m:\n\u001b[0;32m--> 482\u001b[0m     s \u001b[39m=\u001b[39m \u001b[39mself\u001b[39;49m\u001b[39m.\u001b[39;49m_safe_read(\u001b[39mself\u001b[39;49m\u001b[39m.\u001b[39;49mlength)\n\u001b[1;32m    483\u001b[0m \u001b[39mexcept\u001b[39;00m IncompleteRead:\n",
      "File \u001b[0;32m~/anaconda3/envs/braket/lib/python3.10/http/client.py:631\u001b[0m, in \u001b[0;36mHTTPResponse._safe_read\u001b[0;34m(self, amt)\u001b[0m\n\u001b[1;32m    625\u001b[0m \u001b[39m\u001b[39m\u001b[39m\"\"\"Read the number of bytes requested.\u001b[39;00m\n\u001b[1;32m    626\u001b[0m \n\u001b[1;32m    627\u001b[0m \u001b[39mThis function should be used when <amt> bytes \"should\" be present for\u001b[39;00m\n\u001b[1;32m    628\u001b[0m \u001b[39mreading. If the bytes are truly not available (due to EOF), then the\u001b[39;00m\n\u001b[1;32m    629\u001b[0m \u001b[39mIncompleteRead exception can be used to detect the problem.\u001b[39;00m\n\u001b[1;32m    630\u001b[0m \u001b[39m\"\"\"\u001b[39;00m\n\u001b[0;32m--> 631\u001b[0m data \u001b[39m=\u001b[39m \u001b[39mself\u001b[39;49m\u001b[39m.\u001b[39;49mfp\u001b[39m.\u001b[39;49mread(amt)\n\u001b[1;32m    632\u001b[0m \u001b[39mif\u001b[39;00m \u001b[39mlen\u001b[39m(data) \u001b[39m<\u001b[39m amt:\n",
      "File \u001b[0;32m~/anaconda3/envs/braket/lib/python3.10/socket.py:705\u001b[0m, in \u001b[0;36mSocketIO.readinto\u001b[0;34m(self, b)\u001b[0m\n\u001b[1;32m    704\u001b[0m \u001b[39mtry\u001b[39;00m:\n\u001b[0;32m--> 705\u001b[0m     \u001b[39mreturn\u001b[39;00m \u001b[39mself\u001b[39;49m\u001b[39m.\u001b[39;49m_sock\u001b[39m.\u001b[39;49mrecv_into(b)\n\u001b[1;32m    706\u001b[0m \u001b[39mexcept\u001b[39;00m timeout:\n",
      "File \u001b[0;32m~/anaconda3/envs/braket/lib/python3.10/ssl.py:1307\u001b[0m, in \u001b[0;36mSSLSocket.recv_into\u001b[0;34m(self, buffer, nbytes, flags)\u001b[0m\n\u001b[1;32m   1304\u001b[0m         \u001b[39mraise\u001b[39;00m \u001b[39mValueError\u001b[39;00m(\n\u001b[1;32m   1305\u001b[0m           \u001b[39m\"\u001b[39m\u001b[39mnon-zero flags not allowed in calls to recv_into() on \u001b[39m\u001b[39m%s\u001b[39;00m\u001b[39m\"\u001b[39m \u001b[39m%\u001b[39m\n\u001b[1;32m   1306\u001b[0m           \u001b[39mself\u001b[39m\u001b[39m.\u001b[39m\u001b[39m__class__\u001b[39m)\n\u001b[0;32m-> 1307\u001b[0m     \u001b[39mreturn\u001b[39;00m \u001b[39mself\u001b[39;49m\u001b[39m.\u001b[39;49mread(nbytes, buffer)\n\u001b[1;32m   1308\u001b[0m \u001b[39melse\u001b[39;00m:\n",
      "File \u001b[0;32m~/anaconda3/envs/braket/lib/python3.10/ssl.py:1163\u001b[0m, in \u001b[0;36mSSLSocket.read\u001b[0;34m(self, len, buffer)\u001b[0m\n\u001b[1;32m   1162\u001b[0m \u001b[39mif\u001b[39;00m buffer \u001b[39mis\u001b[39;00m \u001b[39mnot\u001b[39;00m \u001b[39mNone\u001b[39;00m:\n\u001b[0;32m-> 1163\u001b[0m     \u001b[39mreturn\u001b[39;00m \u001b[39mself\u001b[39;49m\u001b[39m.\u001b[39;49m_sslobj\u001b[39m.\u001b[39;49mread(\u001b[39mlen\u001b[39;49m, buffer)\n\u001b[1;32m   1164\u001b[0m \u001b[39melse\u001b[39;00m:\n",
      "\u001b[0;31mTimeoutError\u001b[0m: The read operation timed out",
      "\nThe above exception was the direct cause of the following exception:\n",
      "\u001b[0;31mReadTimeoutError\u001b[0m                          Traceback (most recent call last)",
      "File \u001b[0;32m~/anaconda3/envs/braket/lib/python3.10/site-packages/botocore/response.py:99\u001b[0m, in \u001b[0;36mStreamingBody.read\u001b[0;34m(self, amt)\u001b[0m\n\u001b[1;32m     98\u001b[0m \u001b[39mtry\u001b[39;00m:\n\u001b[0;32m---> 99\u001b[0m     chunk \u001b[39m=\u001b[39m \u001b[39mself\u001b[39;49m\u001b[39m.\u001b[39;49m_raw_stream\u001b[39m.\u001b[39;49mread(amt)\n\u001b[1;32m    100\u001b[0m \u001b[39mexcept\u001b[39;00m URLLib3ReadTimeoutError \u001b[39mas\u001b[39;00m e:\n\u001b[1;32m    101\u001b[0m     \u001b[39m# TODO: the url will be None as urllib3 isn't setting it yet\u001b[39;00m\n",
      "File \u001b[0;32m~/anaconda3/envs/braket/lib/python3.10/site-packages/urllib3/response.py:879\u001b[0m, in \u001b[0;36mHTTPResponse.read\u001b[0;34m(self, amt, decode_content, cache_content)\u001b[0m\n\u001b[1;32m    877\u001b[0m         \u001b[39mreturn\u001b[39;00m \u001b[39mself\u001b[39m\u001b[39m.\u001b[39m_decoded_buffer\u001b[39m.\u001b[39mget(amt)\n\u001b[0;32m--> 879\u001b[0m data \u001b[39m=\u001b[39m \u001b[39mself\u001b[39;49m\u001b[39m.\u001b[39;49m_raw_read(amt)\n\u001b[1;32m    881\u001b[0m flush_decoder \u001b[39m=\u001b[39m amt \u001b[39mis\u001b[39;00m \u001b[39mNone\u001b[39;00m \u001b[39mor\u001b[39;00m (amt \u001b[39m!=\u001b[39m \u001b[39m0\u001b[39m \u001b[39mand\u001b[39;00m \u001b[39mnot\u001b[39;00m data)\n",
      "File \u001b[0;32m~/anaconda3/envs/braket/lib/python3.10/site-packages/urllib3/response.py:813\u001b[0m, in \u001b[0;36mHTTPResponse._raw_read\u001b[0;34m(self, amt)\u001b[0m\n\u001b[1;32m    811\u001b[0m fp_closed \u001b[39m=\u001b[39m \u001b[39mgetattr\u001b[39m(\u001b[39mself\u001b[39m\u001b[39m.\u001b[39m_fp, \u001b[39m\"\u001b[39m\u001b[39mclosed\u001b[39m\u001b[39m\"\u001b[39m, \u001b[39mFalse\u001b[39;00m)\n\u001b[0;32m--> 813\u001b[0m \u001b[39mwith\u001b[39;00m \u001b[39mself\u001b[39m\u001b[39m.\u001b[39m_error_catcher():\n\u001b[1;32m    814\u001b[0m     data \u001b[39m=\u001b[39m \u001b[39mself\u001b[39m\u001b[39m.\u001b[39m_fp_read(amt) \u001b[39mif\u001b[39;00m \u001b[39mnot\u001b[39;00m fp_closed \u001b[39melse\u001b[39;00m \u001b[39mb\u001b[39m\u001b[39m\"\u001b[39m\u001b[39m\"\u001b[39m\n",
      "File \u001b[0;32m~/anaconda3/envs/braket/lib/python3.10/contextlib.py:153\u001b[0m, in \u001b[0;36m_GeneratorContextManager.__exit__\u001b[0;34m(self, typ, value, traceback)\u001b[0m\n\u001b[1;32m    152\u001b[0m \u001b[39mtry\u001b[39;00m:\n\u001b[0;32m--> 153\u001b[0m     \u001b[39mself\u001b[39;49m\u001b[39m.\u001b[39;49mgen\u001b[39m.\u001b[39;49mthrow(typ, value, traceback)\n\u001b[1;32m    154\u001b[0m \u001b[39mexcept\u001b[39;00m \u001b[39mStopIteration\u001b[39;00m \u001b[39mas\u001b[39;00m exc:\n\u001b[1;32m    155\u001b[0m     \u001b[39m# Suppress StopIteration *unless* it's the same exception that\u001b[39;00m\n\u001b[1;32m    156\u001b[0m     \u001b[39m# was passed to throw().  This prevents a StopIteration\u001b[39;00m\n\u001b[1;32m    157\u001b[0m     \u001b[39m# raised inside the \"with\" statement from being suppressed.\u001b[39;00m\n",
      "File \u001b[0;32m~/anaconda3/envs/braket/lib/python3.10/site-packages/urllib3/response.py:715\u001b[0m, in \u001b[0;36mHTTPResponse._error_catcher\u001b[0;34m(self)\u001b[0m\n\u001b[1;32m    712\u001b[0m \u001b[39mexcept\u001b[39;00m SocketTimeout \u001b[39mas\u001b[39;00m e:\n\u001b[1;32m    713\u001b[0m     \u001b[39m# FIXME: Ideally we'd like to include the url in the ReadTimeoutError but\u001b[39;00m\n\u001b[1;32m    714\u001b[0m     \u001b[39m# there is yet no clean way to get at it from this context.\u001b[39;00m\n\u001b[0;32m--> 715\u001b[0m     \u001b[39mraise\u001b[39;00m ReadTimeoutError(\u001b[39mself\u001b[39m\u001b[39m.\u001b[39m_pool, \u001b[39mNone\u001b[39;00m, \u001b[39m\"\u001b[39m\u001b[39mRead timed out.\u001b[39m\u001b[39m\"\u001b[39m) \u001b[39mfrom\u001b[39;00m \u001b[39me\u001b[39;00m  \u001b[39m# type: ignore[arg-type]\u001b[39;00m\n\u001b[1;32m    717\u001b[0m \u001b[39mexcept\u001b[39;00m BaseSSLError \u001b[39mas\u001b[39;00m e:\n\u001b[1;32m    718\u001b[0m     \u001b[39m# FIXME: Is there a better way to differentiate between SSLErrors?\u001b[39;00m\n",
      "\u001b[0;31mReadTimeoutError\u001b[0m: AWSHTTPSConnectionPool(host='amazon-braket-us-west-1-229406906664.s3.us-west-1.amazonaws.com', port=443): Read timed out.",
      "\nDuring handling of the above exception, another exception occurred:\n",
      "\u001b[0;31mReadTimeoutError\u001b[0m                          Traceback (most recent call last)",
      "Cell \u001b[0;32mIn[7], line 11\u001b[0m\n\u001b[1;32m      5\u001b[0m qiskit_start_time \u001b[39m=\u001b[39m time\u001b[39m.\u001b[39mtime()\n\u001b[1;32m      6\u001b[0m job \u001b[39m=\u001b[39m estimator\u001b[39m.\u001b[39mrun(\n\u001b[1;32m      7\u001b[0m     circuits\u001b[39m=\u001b[39m[qiskit_bell_circ] \u001b[39m*\u001b[39m batchsize,\n\u001b[1;32m      8\u001b[0m     observables\u001b[39m=\u001b[39m[qiskit_observables] \u001b[39m*\u001b[39m batchsize,\n\u001b[1;32m      9\u001b[0m     shots\u001b[39m=\u001b[39mn_shots\n\u001b[1;32m     10\u001b[0m )\n\u001b[0;32m---> 11\u001b[0m job\u001b[39m.\u001b[39;49mresult()\u001b[39m.\u001b[39mvalues \u001b[39m# This is the time-consuming line\u001b[39;00m\n\u001b[1;32m     13\u001b[0m qiskit_run_batch_time \u001b[39m=\u001b[39m time\u001b[39m.\u001b[39mtime() \u001b[39m-\u001b[39m qiskit_start_time\n\u001b[1;32m     14\u001b[0m \u001b[39mprint\u001b[39m(\u001b[39m'\u001b[39m\u001b[39m--- \u001b[39m\u001b[39m{}\u001b[39;00m\u001b[39m seconds ---\u001b[39m\u001b[39m'\u001b[39m\u001b[39m.\u001b[39mformat(\u001b[39mround\u001b[39m(qiskit_run_batch_time, \u001b[39m2\u001b[39m)))\n",
      "File \u001b[0;32m~/anaconda3/envs/braket/lib/python3.10/site-packages/qiskit/primitives/primitive_job.py:55\u001b[0m, in \u001b[0;36mPrimitiveJob.result\u001b[0;34m(self)\u001b[0m\n\u001b[1;32m     53\u001b[0m \u001b[39m\u001b[39m\u001b[39m\"\"\"Return the results of the job.\"\"\"\u001b[39;00m\n\u001b[1;32m     54\u001b[0m \u001b[39mself\u001b[39m\u001b[39m.\u001b[39m_check_submitted()\n\u001b[0;32m---> 55\u001b[0m \u001b[39mreturn\u001b[39;00m \u001b[39mself\u001b[39;49m\u001b[39m.\u001b[39;49m_future\u001b[39m.\u001b[39;49mresult()\n",
      "File \u001b[0;32m~/anaconda3/envs/braket/lib/python3.10/concurrent/futures/_base.py:458\u001b[0m, in \u001b[0;36mFuture.result\u001b[0;34m(self, timeout)\u001b[0m\n\u001b[1;32m    456\u001b[0m     \u001b[39mraise\u001b[39;00m CancelledError()\n\u001b[1;32m    457\u001b[0m \u001b[39melif\u001b[39;00m \u001b[39mself\u001b[39m\u001b[39m.\u001b[39m_state \u001b[39m==\u001b[39m FINISHED:\n\u001b[0;32m--> 458\u001b[0m     \u001b[39mreturn\u001b[39;00m \u001b[39mself\u001b[39;49m\u001b[39m.\u001b[39;49m__get_result()\n\u001b[1;32m    459\u001b[0m \u001b[39melse\u001b[39;00m:\n\u001b[1;32m    460\u001b[0m     \u001b[39mraise\u001b[39;00m \u001b[39mTimeoutError\u001b[39;00m()\n",
      "File \u001b[0;32m~/anaconda3/envs/braket/lib/python3.10/concurrent/futures/_base.py:403\u001b[0m, in \u001b[0;36mFuture.__get_result\u001b[0;34m(self)\u001b[0m\n\u001b[1;32m    401\u001b[0m \u001b[39mif\u001b[39;00m \u001b[39mself\u001b[39m\u001b[39m.\u001b[39m_exception:\n\u001b[1;32m    402\u001b[0m     \u001b[39mtry\u001b[39;00m:\n\u001b[0;32m--> 403\u001b[0m         \u001b[39mraise\u001b[39;00m \u001b[39mself\u001b[39m\u001b[39m.\u001b[39m_exception\n\u001b[1;32m    404\u001b[0m     \u001b[39mfinally\u001b[39;00m:\n\u001b[1;32m    405\u001b[0m         \u001b[39m# Break a reference cycle with the exception in self._exception\u001b[39;00m\n\u001b[1;32m    406\u001b[0m         \u001b[39mself\u001b[39m \u001b[39m=\u001b[39m \u001b[39mNone\u001b[39;00m\n",
      "File \u001b[0;32m~/anaconda3/envs/braket/lib/python3.10/concurrent/futures/thread.py:58\u001b[0m, in \u001b[0;36m_WorkItem.run\u001b[0;34m(self)\u001b[0m\n\u001b[1;32m     55\u001b[0m     \u001b[39mreturn\u001b[39;00m\n\u001b[1;32m     57\u001b[0m \u001b[39mtry\u001b[39;00m:\n\u001b[0;32m---> 58\u001b[0m     result \u001b[39m=\u001b[39m \u001b[39mself\u001b[39;49m\u001b[39m.\u001b[39;49mfn(\u001b[39m*\u001b[39;49m\u001b[39mself\u001b[39;49m\u001b[39m.\u001b[39;49margs, \u001b[39m*\u001b[39;49m\u001b[39m*\u001b[39;49m\u001b[39mself\u001b[39;49m\u001b[39m.\u001b[39;49mkwargs)\n\u001b[1;32m     59\u001b[0m \u001b[39mexcept\u001b[39;00m \u001b[39mBaseException\u001b[39;00m \u001b[39mas\u001b[39;00m exc:\n\u001b[1;32m     60\u001b[0m     \u001b[39mself\u001b[39m\u001b[39m.\u001b[39mfuture\u001b[39m.\u001b[39mset_exception(exc)\n",
      "File \u001b[0;32m~/anaconda3/envs/braket/lib/python3.10/site-packages/qiskit/primitives/backend_estimator.py:269\u001b[0m, in \u001b[0;36mBackendEstimator._call\u001b[0;34m(self, circuits, observables, parameter_values, **run_options)\u001b[0m\n\u001b[1;32m    266\u001b[0m bound_circuits \u001b[39m=\u001b[39m \u001b[39mself\u001b[39m\u001b[39m.\u001b[39m_bound_pass_manager_run(bound_circuits)\n\u001b[1;32m    268\u001b[0m \u001b[39m# Run\u001b[39;00m\n\u001b[0;32m--> 269\u001b[0m result, metadata \u001b[39m=\u001b[39m _run_circuits(bound_circuits, \u001b[39mself\u001b[39;49m\u001b[39m.\u001b[39;49m_backend, \u001b[39m*\u001b[39;49m\u001b[39m*\u001b[39;49mrun_options)\n\u001b[1;32m    271\u001b[0m \u001b[39mreturn\u001b[39;00m \u001b[39mself\u001b[39m\u001b[39m.\u001b[39m_postprocessing(result, accum, metadata)\n",
      "File \u001b[0;32m~/anaconda3/envs/braket/lib/python3.10/site-packages/qiskit/primitives/backend_estimator.py:79\u001b[0m, in \u001b[0;36m_run_circuits\u001b[0;34m(circuits, backend, **run_options)\u001b[0m\n\u001b[1;32m     77\u001b[0m     result \u001b[39m=\u001b[39m [x\u001b[39m.\u001b[39mresult() \u001b[39mfor\u001b[39;00m x \u001b[39min\u001b[39;00m jobs]\n\u001b[1;32m     78\u001b[0m \u001b[39melse\u001b[39;00m:\n\u001b[0;32m---> 79\u001b[0m     result \u001b[39m=\u001b[39m [backend\u001b[39m.\u001b[39;49mrun(circuits, \u001b[39m*\u001b[39;49m\u001b[39m*\u001b[39;49mrun_options)\u001b[39m.\u001b[39;49mresult()]\n\u001b[1;32m     80\u001b[0m \u001b[39mreturn\u001b[39;00m result, metadata\n",
      "File \u001b[0;32m~/anaconda3/envs/braket/lib/python3.10/site-packages/qiskit_braket_provider/providers/braket_job.py:161\u001b[0m, in \u001b[0;36mAmazonBraketTask.result\u001b[0;34m(self)\u001b[0m\n\u001b[1;32m    160\u001b[0m \u001b[39mdef\u001b[39;00m \u001b[39mresult\u001b[39m(\u001b[39mself\u001b[39m) \u001b[39m-\u001b[39m\u001b[39m>\u001b[39m Result:\n\u001b[0;32m--> 161\u001b[0m     experiment_results \u001b[39m=\u001b[39m _get_result_from_aws_tasks(tasks\u001b[39m=\u001b[39;49m\u001b[39mself\u001b[39;49m\u001b[39m.\u001b[39;49m_tasks)\n\u001b[1;32m    162\u001b[0m     status \u001b[39m=\u001b[39m \u001b[39mself\u001b[39m\u001b[39m.\u001b[39mstatus(use_cached_value\u001b[39m=\u001b[39m\u001b[39mTrue\u001b[39;00m)\n\u001b[1;32m    164\u001b[0m     \u001b[39mreturn\u001b[39;00m Result(\n\u001b[1;32m    165\u001b[0m         backend_name\u001b[39m=\u001b[39m\u001b[39mself\u001b[39m\u001b[39m.\u001b[39m_backend,\n\u001b[1;32m    166\u001b[0m         backend_version\u001b[39m=\u001b[39m\u001b[39mself\u001b[39m\u001b[39m.\u001b[39m_backend\u001b[39m.\u001b[39mversion,\n\u001b[0;32m   (...)\u001b[0m\n\u001b[1;32m    171\u001b[0m         status\u001b[39m=\u001b[39mstatus,\n\u001b[1;32m    172\u001b[0m     )\n",
      "File \u001b[0;32m~/anaconda3/envs/braket/lib/python3.10/site-packages/qiskit_braket_provider/providers/braket_job.py:35\u001b[0m, in \u001b[0;36m_get_result_from_aws_tasks\u001b[0;34m(tasks)\u001b[0m\n\u001b[1;32m     24\u001b[0m \u001b[39m\u001b[39m\u001b[39m\"\"\"Returns experiment results of AWS tasks.\u001b[39;00m\n\u001b[1;32m     25\u001b[0m \n\u001b[1;32m     26\u001b[0m \u001b[39mArgs:\u001b[39;00m\n\u001b[0;32m   (...)\u001b[0m\n\u001b[1;32m     31\u001b[0m \u001b[39m    List of experiment results.\u001b[39;00m\n\u001b[1;32m     32\u001b[0m \u001b[39m\"\"\"\u001b[39;00m\n\u001b[1;32m     33\u001b[0m experiment_results: List[ExperimentResult] \u001b[39m=\u001b[39m []\n\u001b[0;32m---> 35\u001b[0m results \u001b[39m=\u001b[39m AwsQuantumTaskBatch\u001b[39m.\u001b[39;49m_retrieve_results(\n\u001b[1;32m     36\u001b[0m     tasks, AwsQuantumTaskBatch\u001b[39m.\u001b[39;49mMAX_CONNECTIONS_DEFAULT\n\u001b[1;32m     37\u001b[0m )\n\u001b[1;32m     39\u001b[0m \u001b[39m# For each task we create an ExperimentResult object with the downloaded results.\u001b[39;00m\n\u001b[1;32m     40\u001b[0m \u001b[39mfor\u001b[39;00m task, result \u001b[39min\u001b[39;00m \u001b[39mzip\u001b[39m(tasks, results):\n",
      "File \u001b[0;32m~/anaconda3/envs/braket/lib/python3.10/site-packages/braket/aws/aws_quantum_task_batch.py:342\u001b[0m, in \u001b[0;36mAwsQuantumTaskBatch._retrieve_results\u001b[0;34m(tasks, max_workers)\u001b[0m\n\u001b[1;32m    340\u001b[0m \u001b[39mwith\u001b[39;00m ThreadPoolExecutor(max_workers\u001b[39m=\u001b[39mmax_workers) \u001b[39mas\u001b[39;00m executor:\n\u001b[1;32m    341\u001b[0m     result_futures \u001b[39m=\u001b[39m [executor\u001b[39m.\u001b[39msubmit(task\u001b[39m.\u001b[39mresult) \u001b[39mfor\u001b[39;00m task \u001b[39min\u001b[39;00m tasks]\n\u001b[0;32m--> 342\u001b[0m \u001b[39mreturn\u001b[39;00m [future\u001b[39m.\u001b[39mresult() \u001b[39mfor\u001b[39;00m future \u001b[39min\u001b[39;00m result_futures]\n",
      "File \u001b[0;32m~/anaconda3/envs/braket/lib/python3.10/site-packages/braket/aws/aws_quantum_task_batch.py:342\u001b[0m, in \u001b[0;36m<listcomp>\u001b[0;34m(.0)\u001b[0m\n\u001b[1;32m    340\u001b[0m \u001b[39mwith\u001b[39;00m ThreadPoolExecutor(max_workers\u001b[39m=\u001b[39mmax_workers) \u001b[39mas\u001b[39;00m executor:\n\u001b[1;32m    341\u001b[0m     result_futures \u001b[39m=\u001b[39m [executor\u001b[39m.\u001b[39msubmit(task\u001b[39m.\u001b[39mresult) \u001b[39mfor\u001b[39;00m task \u001b[39min\u001b[39;00m tasks]\n\u001b[0;32m--> 342\u001b[0m \u001b[39mreturn\u001b[39;00m [future\u001b[39m.\u001b[39;49mresult() \u001b[39mfor\u001b[39;00m future \u001b[39min\u001b[39;00m result_futures]\n",
      "File \u001b[0;32m~/anaconda3/envs/braket/lib/python3.10/concurrent/futures/_base.py:451\u001b[0m, in \u001b[0;36mFuture.result\u001b[0;34m(self, timeout)\u001b[0m\n\u001b[1;32m    449\u001b[0m     \u001b[39mraise\u001b[39;00m CancelledError()\n\u001b[1;32m    450\u001b[0m \u001b[39melif\u001b[39;00m \u001b[39mself\u001b[39m\u001b[39m.\u001b[39m_state \u001b[39m==\u001b[39m FINISHED:\n\u001b[0;32m--> 451\u001b[0m     \u001b[39mreturn\u001b[39;00m \u001b[39mself\u001b[39;49m\u001b[39m.\u001b[39;49m__get_result()\n\u001b[1;32m    453\u001b[0m \u001b[39mself\u001b[39m\u001b[39m.\u001b[39m_condition\u001b[39m.\u001b[39mwait(timeout)\n\u001b[1;32m    455\u001b[0m \u001b[39mif\u001b[39;00m \u001b[39mself\u001b[39m\u001b[39m.\u001b[39m_state \u001b[39min\u001b[39;00m [CANCELLED, CANCELLED_AND_NOTIFIED]:\n",
      "File \u001b[0;32m~/anaconda3/envs/braket/lib/python3.10/concurrent/futures/_base.py:403\u001b[0m, in \u001b[0;36mFuture.__get_result\u001b[0;34m(self)\u001b[0m\n\u001b[1;32m    401\u001b[0m \u001b[39mif\u001b[39;00m \u001b[39mself\u001b[39m\u001b[39m.\u001b[39m_exception:\n\u001b[1;32m    402\u001b[0m     \u001b[39mtry\u001b[39;00m:\n\u001b[0;32m--> 403\u001b[0m         \u001b[39mraise\u001b[39;00m \u001b[39mself\u001b[39m\u001b[39m.\u001b[39m_exception\n\u001b[1;32m    404\u001b[0m     \u001b[39mfinally\u001b[39;00m:\n\u001b[1;32m    405\u001b[0m         \u001b[39m# Break a reference cycle with the exception in self._exception\u001b[39;00m\n\u001b[1;32m    406\u001b[0m         \u001b[39mself\u001b[39m \u001b[39m=\u001b[39m \u001b[39mNone\u001b[39;00m\n",
      "File \u001b[0;32m~/anaconda3/envs/braket/lib/python3.10/concurrent/futures/thread.py:58\u001b[0m, in \u001b[0;36m_WorkItem.run\u001b[0;34m(self)\u001b[0m\n\u001b[1;32m     55\u001b[0m     \u001b[39mreturn\u001b[39;00m\n\u001b[1;32m     57\u001b[0m \u001b[39mtry\u001b[39;00m:\n\u001b[0;32m---> 58\u001b[0m     result \u001b[39m=\u001b[39m \u001b[39mself\u001b[39;49m\u001b[39m.\u001b[39;49mfn(\u001b[39m*\u001b[39;49m\u001b[39mself\u001b[39;49m\u001b[39m.\u001b[39;49margs, \u001b[39m*\u001b[39;49m\u001b[39m*\u001b[39;49m\u001b[39mself\u001b[39;49m\u001b[39m.\u001b[39;49mkwargs)\n\u001b[1;32m     59\u001b[0m \u001b[39mexcept\u001b[39;00m \u001b[39mBaseException\u001b[39;00m \u001b[39mas\u001b[39;00m exc:\n\u001b[1;32m     60\u001b[0m     \u001b[39mself\u001b[39m\u001b[39m.\u001b[39mfuture\u001b[39m.\u001b[39mset_exception(exc)\n",
      "File \u001b[0;32m~/anaconda3/envs/braket/lib/python3.10/site-packages/braket/aws/aws_quantum_task.py:421\u001b[0m, in \u001b[0;36mAwsQuantumTask.result\u001b[0;34m(self)\u001b[0m\n\u001b[1;32m    419\u001b[0m     \u001b[39mreturn\u001b[39;00m \u001b[39mself\u001b[39m\u001b[39m.\u001b[39m_result\n\u001b[1;32m    420\u001b[0m \u001b[39mif\u001b[39;00m \u001b[39mself\u001b[39m\u001b[39m.\u001b[39m_metadata \u001b[39mand\u001b[39;00m \u001b[39mself\u001b[39m\u001b[39m.\u001b[39m_status(\u001b[39mTrue\u001b[39;00m) \u001b[39min\u001b[39;00m \u001b[39mself\u001b[39m\u001b[39m.\u001b[39mRESULTS_READY_STATES:\n\u001b[0;32m--> 421\u001b[0m     \u001b[39mreturn\u001b[39;00m \u001b[39mself\u001b[39;49m\u001b[39m.\u001b[39;49m_download_result()\n\u001b[1;32m    422\u001b[0m \u001b[39mtry\u001b[39;00m:\n\u001b[1;32m    423\u001b[0m     async_result \u001b[39m=\u001b[39m \u001b[39mself\u001b[39m\u001b[39m.\u001b[39masync_result()\n",
      "File \u001b[0;32m~/anaconda3/envs/braket/lib/python3.10/site-packages/braket/aws/aws_quantum_task.py:523\u001b[0m, in \u001b[0;36mAwsQuantumTask._download_result\u001b[0;34m(self)\u001b[0m\n\u001b[1;32m    517\u001b[0m \u001b[39mdef\u001b[39;00m \u001b[39m_download_result\u001b[39m(\n\u001b[1;32m    518\u001b[0m     \u001b[39mself\u001b[39m,\n\u001b[1;32m    519\u001b[0m ) \u001b[39m-\u001b[39m\u001b[39m>\u001b[39m Union[\n\u001b[1;32m    520\u001b[0m     GateModelQuantumTaskResult, AnnealingQuantumTaskResult, PhotonicModelQuantumTaskResult\n\u001b[1;32m    521\u001b[0m ]:\n\u001b[1;32m    522\u001b[0m     current_metadata \u001b[39m=\u001b[39m \u001b[39mself\u001b[39m\u001b[39m.\u001b[39mmetadata(\u001b[39mTrue\u001b[39;00m)\n\u001b[0;32m--> 523\u001b[0m     result_string \u001b[39m=\u001b[39m \u001b[39mself\u001b[39;49m\u001b[39m.\u001b[39;49m_aws_session\u001b[39m.\u001b[39;49mretrieve_s3_object_body(\n\u001b[1;32m    524\u001b[0m         current_metadata[\u001b[39m\"\u001b[39;49m\u001b[39moutputS3Bucket\u001b[39;49m\u001b[39m\"\u001b[39;49m],\n\u001b[1;32m    525\u001b[0m         current_metadata[\u001b[39m\"\u001b[39;49m\u001b[39moutputS3Directory\u001b[39;49m\u001b[39m\"\u001b[39;49m] \u001b[39m+\u001b[39;49m \u001b[39mf\u001b[39;49m\u001b[39m\"\u001b[39;49m\u001b[39m/\u001b[39;49m\u001b[39m{\u001b[39;49;00mAwsQuantumTask\u001b[39m.\u001b[39;49mRESULTS_FILENAME\u001b[39m}\u001b[39;49;00m\u001b[39m\"\u001b[39;49m,\n\u001b[1;32m    526\u001b[0m     )\n\u001b[1;32m    527\u001b[0m     \u001b[39mself\u001b[39m\u001b[39m.\u001b[39m_result \u001b[39m=\u001b[39m _format_result(BraketSchemaBase\u001b[39m.\u001b[39mparse_raw_schema(result_string))\n\u001b[1;32m    528\u001b[0m     task_event \u001b[39m=\u001b[39m {\n\u001b[1;32m    529\u001b[0m         \u001b[39m\"\u001b[39m\u001b[39marn\u001b[39m\u001b[39m\"\u001b[39m: \u001b[39mself\u001b[39m\u001b[39m.\u001b[39mid,\n\u001b[1;32m    530\u001b[0m         \u001b[39m\"\u001b[39m\u001b[39mstatus\u001b[39m\u001b[39m\"\u001b[39m: \u001b[39mself\u001b[39m\u001b[39m.\u001b[39mstate(),\n\u001b[1;32m    531\u001b[0m         \u001b[39m\"\u001b[39m\u001b[39mexecution_duration\u001b[39m\u001b[39m\"\u001b[39m: \u001b[39mNone\u001b[39;00m,\n\u001b[1;32m    532\u001b[0m         \u001b[39m\"\u001b[39m\u001b[39mhas_reservation_arn\u001b[39m\u001b[39m\"\u001b[39m: \u001b[39mself\u001b[39m\u001b[39m.\u001b[39m_has_reservation_arn_from_metadata(current_metadata),\n\u001b[1;32m    533\u001b[0m     }\n",
      "File \u001b[0;32m~/anaconda3/envs/braket/lib/python3.10/site-packages/braket/aws/aws_session.py:355\u001b[0m, in \u001b[0;36mAwsSession.retrieve_s3_object_body\u001b[0;34m(self, s3_bucket, s3_object_key)\u001b[0m\n\u001b[1;32m    353\u001b[0m s3 \u001b[39m=\u001b[39m \u001b[39mself\u001b[39m\u001b[39m.\u001b[39mboto_session\u001b[39m.\u001b[39mresource(\u001b[39m\"\u001b[39m\u001b[39ms3\u001b[39m\u001b[39m\"\u001b[39m, config\u001b[39m=\u001b[39m\u001b[39mself\u001b[39m\u001b[39m.\u001b[39m_config)\n\u001b[1;32m    354\u001b[0m obj \u001b[39m=\u001b[39m s3\u001b[39m.\u001b[39mObject(s3_bucket, s3_object_key)\n\u001b[0;32m--> 355\u001b[0m \u001b[39mreturn\u001b[39;00m obj\u001b[39m.\u001b[39;49mget()[\u001b[39m\"\u001b[39;49m\u001b[39mBody\u001b[39;49m\u001b[39m\"\u001b[39;49m]\u001b[39m.\u001b[39;49mread()\u001b[39m.\u001b[39mdecode(\u001b[39m\"\u001b[39m\u001b[39mutf-8\u001b[39m\u001b[39m\"\u001b[39m)\n",
      "File \u001b[0;32m~/anaconda3/envs/braket/lib/python3.10/site-packages/botocore/response.py:102\u001b[0m, in \u001b[0;36mStreamingBody.read\u001b[0;34m(self, amt)\u001b[0m\n\u001b[1;32m     99\u001b[0m     chunk \u001b[39m=\u001b[39m \u001b[39mself\u001b[39m\u001b[39m.\u001b[39m_raw_stream\u001b[39m.\u001b[39mread(amt)\n\u001b[1;32m    100\u001b[0m \u001b[39mexcept\u001b[39;00m URLLib3ReadTimeoutError \u001b[39mas\u001b[39;00m e:\n\u001b[1;32m    101\u001b[0m     \u001b[39m# TODO: the url will be None as urllib3 isn't setting it yet\u001b[39;00m\n\u001b[0;32m--> 102\u001b[0m     \u001b[39mraise\u001b[39;00m ReadTimeoutError(endpoint_url\u001b[39m=\u001b[39me\u001b[39m.\u001b[39murl, error\u001b[39m=\u001b[39me)\n\u001b[1;32m    103\u001b[0m \u001b[39mexcept\u001b[39;00m URLLib3ProtocolError \u001b[39mas\u001b[39;00m e:\n\u001b[1;32m    104\u001b[0m     \u001b[39mraise\u001b[39;00m ResponseStreamingError(error\u001b[39m=\u001b[39me)\n",
      "\u001b[0;31mReadTimeoutError\u001b[0m: Read timeout on endpoint URL: \"None\""
     ]
    }
   ],
   "source": [
    "backend = BraketProvider().get_backend('SV1')\n",
    "estimator = BackendEstimator(backend)\n",
    "qiskit_observables = SparsePauliOp.from_list(([('XX', 0.25), (\"IZ\", 0.25), (\"ZZ\", 0.25), (\"XY\", 0.25)]))\n",
    "\n",
    "qiskit_start_time = time.time()\n",
    "job = estimator.run(\n",
    "    circuits=[qiskit_bell_circ] * batchsize,\n",
    "    observables=[qiskit_observables] * batchsize,\n",
    "    shots=n_shots\n",
    ")\n",
    "job.result().values # This is the time-consuming line\n",
    "\n",
    "qiskit_run_batch_time = time.time() - qiskit_start_time\n",
    "print('--- {} seconds ---'.format(round(qiskit_run_batch_time, 2)))\n",
    "print('Execution time per circuit:', round(qiskit_run_batch_time / (batchsize * 3), 2), 'seconds')"
   ]
  },
  {
   "cell_type": "code",
   "execution_count": 8,
   "metadata": {},
   "outputs": [],
   "source": [
    "qiskit_expvals = job.result().values"
   ]
  },
  {
   "attachments": {},
   "cell_type": "markdown",
   "metadata": {},
   "source": [
    "#### Use ``Estimator`` from Qiskit"
   ]
  },
  {
   "cell_type": "code",
   "execution_count": 9,
   "metadata": {},
   "outputs": [
    {
     "name": "stdout",
     "output_type": "stream",
     "text": [
      "--- 0.03 seconds ---\n",
      "Execution time per circuit: 0.0 seconds\n"
     ]
    }
   ],
   "source": [
    "start_time = time.time()\n",
    "job = Estimator().run(\n",
    "    circuits=[qiskit_bell_circ] * batchsize,\n",
    "    observables=[qiskit_observables] * batchsize,\n",
    "    shots=n_shots\n",
    ")\n",
    "qiskit_expvals_2 = job.result().values\n",
    "run_batch_time = time.time() - start_time\n",
    "print('--- {} seconds ---'.format(round(run_batch_time, 2)))\n",
    "# Three non-commuting parts of the Hamiltonian lead to three measured circuits per Hamiltonian\n",
    "print('Execution time per circuit:', round(run_batch_time / (batchsize * 3), 2), 'seconds')"
   ]
  },
  {
   "cell_type": "code",
   "execution_count": 10,
   "metadata": {},
   "outputs": [
    {
     "data": {
      "text/plain": [
       "array([ 0.00016161,  0.00358023, -0.00255551,  0.00491985,  0.00400244,\n",
       "       -0.0002622 ,  0.00053505,  0.00290151,  0.00057174,  0.00555233,\n",
       "        0.00183546,  0.00056526, -0.00361244, -0.00052993, -0.00459969,\n",
       "       -0.00127279, -0.00189426, -0.00431203,  0.01369667, -0.00973266,\n",
       "        0.00063961,  0.00187942, -0.00651264,  0.00535101,  0.00448897,\n",
       "       -0.0084201 ,  0.00042543,  0.00141005, -0.00016355,  0.00480554,\n",
       "        0.00182727,  0.0048105 , -0.00499586, -0.00218026, -0.00495539,\n",
       "        0.00674686,  0.00413243,  0.00074122, -0.0047872 ,  0.00890319,\n",
       "       -0.00308411, -0.00607406,  0.0026444 , -0.0093078 , -0.00191608,\n",
       "        0.00539644,  0.00210285,  0.00996703,  0.00131701,  0.01625742])"
      ]
     },
     "execution_count": 10,
     "metadata": {},
     "output_type": "execute_result"
    }
   ],
   "source": [
    "qiskit_expvals_2 - qiskit_expvals"
   ]
  },
  {
   "cell_type": "code",
   "execution_count": 11,
   "metadata": {},
   "outputs": [
    {
     "data": {
      "text/plain": [
       "0.01625742095246796"
      ]
     },
     "execution_count": 11,
     "metadata": {},
     "output_type": "execute_result"
    }
   ],
   "source": [
    "max(qiskit_expvals_2 - qiskit_expvals)"
   ]
  },
  {
   "attachments": {},
   "cell_type": "markdown",
   "metadata": {},
   "source": [
    "#### Run Circuit and Measure observables on own ``BraketEstimator``"
   ]
  },
  {
   "cell_type": "code",
   "execution_count": 12,
   "metadata": {},
   "outputs": [],
   "source": [
    "backend = LocalSimulator()\n",
    "estimator = BraketEstimator(backend)\n",
    "\n",
    "braket_observables = qiskit_observables.to_list()"
   ]
  },
  {
   "cell_type": "code",
   "execution_count": 13,
   "metadata": {},
   "outputs": [
    {
     "name": "stdout",
     "output_type": "stream",
     "text": [
      "--- 5.24 seconds ---\n",
      "Execution time per circuit: 0.03 seconds\n"
     ]
    }
   ],
   "source": [
    "start_time = time.time()\n",
    "expvals = estimator.run(\n",
    "    circuit=[braket_bell_circ] * batchsize,\n",
    "    observables=[braket_observables] * batchsize,\n",
    "    target_register=[[0, 1]] * batchsize,\n",
    "    shots=n_shots\n",
    ")\n",
    "run_braket_estimator_time = time.time() - start_time\n",
    "print('--- {} seconds ---'.format(round(run_braket_estimator_time, 2)))\n",
    "print('Execution time per circuit:', round(run_braket_estimator_time / (batchsize * 3), 2), 'seconds')"
   ]
  },
  {
   "cell_type": "code",
   "execution_count": 14,
   "metadata": {},
   "outputs": [
    {
     "name": "stderr",
     "output_type": "stream",
     "text": [
      "/var/folders/6b/76tj41f506g7_0dg_k15w_d80000gn/T/ipykernel_6231/798129361.py:1: ComplexWarning: Casting complex values to real discards the imaginary part\n",
      "  expvals.astype(float) - qiskit_expvals\n"
     ]
    },
    {
     "data": {
      "text/plain": [
       "array([-0.00085, -0.0061 , -0.0008 , -0.00075,  0.00175, -0.0062 ,\n",
       "        0.00635, -0.00325, -0.0022 ,  0.0014 ,  0.0004 ,  0.0002 ,\n",
       "        0.002  ,  0.00785, -0.0018 , -0.00235,  0.00135,  0.0034 ,\n",
       "        0.00575, -0.0035 ,  0.00225, -0.00175, -0.0064 ,  0.0004 ,\n",
       "       -0.00055, -0.0037 ,  0.00765,  0.00055,  0.00115, -0.00265,\n",
       "       -0.0011 ,  0.0009 ,  0.0026 ,  0.0043 , -0.0035 ,  0.00625,\n",
       "        0.0024 , -0.00345, -0.00285,  0.0023 , -0.0037 , -0.0103 ,\n",
       "        0.00225, -0.00835, -0.00865, -0.00045, -0.0019 ,  0.00605,\n",
       "       -0.0017 ,  0.00705])"
      ]
     },
     "execution_count": 14,
     "metadata": {},
     "output_type": "execute_result"
    }
   ],
   "source": [
    "expvals.astype(float) - qiskit_expvals"
   ]
  },
  {
   "cell_type": "code",
   "execution_count": 15,
   "metadata": {},
   "outputs": [
    {
     "name": "stderr",
     "output_type": "stream",
     "text": [
      "/var/folders/6b/76tj41f506g7_0dg_k15w_d80000gn/T/ipykernel_6231/3208180139.py:1: ComplexWarning: Casting complex values to real discards the imaginary part\n",
      "  max(expvals.astype(float) - qiskit_expvals)\n"
     ]
    },
    {
     "data": {
      "text/plain": [
       "0.007849999999999968"
      ]
     },
     "execution_count": 15,
     "metadata": {},
     "output_type": "execute_result"
    }
   ],
   "source": [
    "max(expvals.astype(float) - qiskit_expvals)"
   ]
  },
  {
   "attachments": {},
   "cell_type": "markdown",
   "metadata": {},
   "source": [
    "#### Running batch of qiskit circuits with SV1 backend provider"
   ]
  },
  {
   "cell_type": "code",
   "execution_count": 16,
   "metadata": {},
   "outputs": [],
   "source": [
    "backend = AWSBraketProvider().get_backend('SV1')"
   ]
  },
  {
   "cell_type": "code",
   "execution_count": 17,
   "metadata": {},
   "outputs": [
    {
     "name": "stdout",
     "output_type": "stream",
     "text": [
      "--- 164.2 seconds ---\n",
      "Execution time per batch: 3.28 seconds\n"
     ]
    }
   ],
   "source": [
    "qiskit_start_time = time.time()\n",
    "job = backend.run(\n",
    "    [qiskit_bell_circ] * batchsize,\n",
    "    shots=n_shots\n",
    ")\n",
    "result = job.result() # This is the time-consuming line\n",
    "\n",
    "qiskit_run_batch_time = time.time() - qiskit_start_time\n",
    "print('--- {} seconds ---'.format(round(qiskit_run_batch_time, 2)))\n",
    "print('Execution time per batch:', round(qiskit_run_batch_time / batchsize, 2), 'seconds')"
   ]
  }
 ],
 "metadata": {
  "kernelspec": {
   "display_name": "braket",
   "language": "python",
   "name": "python3"
  },
  "language_info": {
   "codemirror_mode": {
    "name": "ipython",
    "version": 3
   },
   "file_extension": ".py",
   "mimetype": "text/x-python",
   "name": "python",
   "nbconvert_exporter": "python",
   "pygments_lexer": "ipython3",
   "version": "3.10.13"
  },
  "orig_nbformat": 4
 },
 "nbformat": 4,
 "nbformat_minor": 2
}
