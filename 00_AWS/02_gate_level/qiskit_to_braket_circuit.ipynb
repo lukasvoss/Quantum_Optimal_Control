{
 "cells": [
  {
   "cell_type": "code",
   "execution_count": 1,
   "metadata": {},
   "outputs": [],
   "source": [
    "import numpy as np\n",
    "import re\n",
    "\n",
    "from qiskit import QuantumCircuit, QuantumRegister\n",
    "from qiskit.circuit import ParameterVector\n",
    "from qiskit.primitives import BackendEstimator, Estimator, Sampler, BackendSampler\n",
    "\n",
    "from braket.devices import LocalSimulator\n",
    "from braket.circuits import Circuit, Gate, Instruction, QubitSet, AngledGate, Observable\n",
    "from braket.circuits import noises\n",
    "from braket.circuits.gates import X, Rx, Rz, CNot, XY, PulseGate, U\n",
    "from braket.quantum_information import PauliString\n",
    "from braket.parametric import FreeParameter, FreeParameterExpression\n",
    "\n",
    "from qiskit_braket_provider.providers import adapter\n",
    "from qiskit_braket_provider import AWSBraketProvider\n"
   ]
  },
  {
   "cell_type": "code",
   "execution_count": 43,
   "metadata": {},
   "outputs": [],
   "source": [
    "action_vector = np.random.uniform(-np.pi, np.pi, 7) # np.array([0.0, 0.0, 0.5, 0.5, -0.5, 0.5, -0.5]) # np.random.uniform(-np.pi, np.pi, 7)"
   ]
  },
  {
   "attachments": {},
   "cell_type": "markdown",
   "metadata": {},
   "source": [
    "##### Parametrized qiskit circuit"
   ]
  },
  {
   "cell_type": "code",
   "execution_count": 22,
   "metadata": {},
   "outputs": [
    {
     "data": {
      "image/png": "[encoded data removed]",
      "text/plain": [
       "<Figure size 640.171x200.667 with 1 Axes>"
      ]
     },
     "execution_count": 22,
     "metadata": {},
     "output_type": "execute_result"
    }
   ],
   "source": [
    "q_reg = QuantumRegister(2)\n",
    "baseline = np.pi * np.array([0.0, 0.0, 0.5, 0.5, -0.5, 0.5, -0.5])\n",
    "params = ParameterVector(\"a\", 7)\n",
    "qiskit_circuit = QuantumCircuit(q_reg, name=\"custom_cx\")\n",
    "# optimal_params = np.pi * np.array([0.0, 0.0, 0.5, 0.5, -0.5, 0.5, -0.5])\n",
    "optimal_params = np.pi * np.zeros(7)\n",
    "\n",
    "qiskit_circuit.u(\n",
    "    baseline[0] + params[0],\n",
    "    baseline[1] + params[1],\n",
    "    baseline[2] + params[2],\n",
    "    q_reg[0],\n",
    ")\n",
    "qiskit_circuit.u(\n",
    "    baseline[3] + params[3],\n",
    "    baseline[4] + params[4],\n",
    "    baseline[5] + params[5],\n",
    "    q_reg[1],\n",
    ")\n",
    "\n",
    "qiskit_circuit.rzx(baseline[6] + params[6], q_reg[0], q_reg[1])\n",
    "\n",
    "qiskit_circuit.draw(\"mpl\")"
   ]
  },
  {
   "attachments": {},
   "cell_type": "markdown",
   "metadata": {},
   "source": [
    "#### Convert the qiskit circuit to a braket circuit"
   ]
  },
  {
   "cell_type": "code",
   "execution_count": 23,
   "metadata": {},
   "outputs": [
    {
     "name": "stdout",
     "output_type": "stream",
     "text": [
      "T  : |             0             |           1            |             2             |3|4|           5            |6|7|\n",
      "                                                                                                                        \n",
      "q0 : -PHASE(a2 + 1.5707963267949)-Ry(a0)-------------------PHASE(a1)---------------------C--------------------------C---\n",
      "                                                                                         |                          |   \n",
      "q1 : -PHASE(a5 + 1.5707963267949)-Ry(a3 + 1.5707963267949)-PHASE(a4 - 1.5707963267949)-H-X-Rz(a6 - 1.5707963267949)-X-H-\n",
      "\n",
      "T  : |             0             |           1            |             2             |3|4|           5            |6|7|\n",
      "\n",
      "Unassigned parameters: [a0, a1, a2, a3, a4, a5, a6].\n"
     ]
    }
   ],
   "source": [
    "braket_circuit = adapter.convert_qiskit_to_braket_circuit(qiskit_circuit)\n",
    "print(braket_circuit)"
   ]
  },
  {
   "attachments": {},
   "cell_type": "markdown",
   "metadata": {},
   "source": [
    "### Run the circuit"
   ]
  },
  {
   "cell_type": "code",
   "execution_count": 24,
   "metadata": {},
   "outputs": [],
   "source": [
    "device = LocalSimulator()"
   ]
  },
  {
   "cell_type": "code",
   "execution_count": 44,
   "metadata": {},
   "outputs": [],
   "source": [
    "param_names = [str(param) for param in params]\n",
    "# Regular expression pattern to match any of the parentheses: {}, [], ()\n",
    "pattern = r'[\\[\\]\\{\\}\\(\\)]'\n",
    "\n",
    "# Remove the parentheses from each string in the list\n",
    "param_names = [re.sub(pattern, '', string) for string in param_names]"
   ]
  },
  {
   "cell_type": "code",
   "execution_count": 45,
   "metadata": {},
   "outputs": [],
   "source": [
    "bound_parameters = dict(zip(param_names, action_vector))"
   ]
  },
  {
   "cell_type": "code",
   "execution_count": 46,
   "metadata": {},
   "outputs": [
    {
     "data": {
      "text/plain": [
       "{'a0': -3.0967997864902985,\n",
       " 'a1': 0.4438477469988382,\n",
       " 'a2': 2.866425109034777,\n",
       " 'a3': 1.7000038977106522,\n",
       " 'a4': 2.783798141912297,\n",
       " 'a5': 0.47395466913795126,\n",
       " 'a6': 1.8022278772774305}"
      ]
     },
     "execution_count": 46,
     "metadata": {},
     "output_type": "execute_result"
    }
   ],
   "source": [
    "bound_parameters"
   ]
  },
  {
   "cell_type": "code",
   "execution_count": 58,
   "metadata": {},
   "outputs": [
    {
     "data": {
      "text/latex": [
       "$\\displaystyle 2.5707963267949$"
      ],
      "text/plain": [
       "2.57079632679490"
      ]
     },
     "execution_count": 58,
     "metadata": {},
     "output_type": "execute_result"
    }
   ],
   "source": [
    "braket_circuit.instructions[0].operator.parameters[0].subs(parameter_values={'a2': 1.0})"
   ]
  },
  {
   "cell_type": "code",
   "execution_count": 48,
   "metadata": {},
   "outputs": [
    {
     "name": "stdout",
     "output_type": "stream",
     "text": [
      "measurement results: Counter({'11': 977, '10': 23})\n"
     ]
    }
   ],
   "source": [
    "# run the circuit on the local simulator\n",
    "task = device.run(braket_circuit, shots=1000, inputs=bound_parameters)\n",
    "\n",
    "# visualize the results\n",
    "result = task.result()\n",
    "measurement = result.measurement_counts\n",
    "print('measurement results:', measurement)"
   ]
  },
  {
   "cell_type": "code",
   "execution_count": 32,
   "metadata": {},
   "outputs": [],
   "source": [
    "from sympy import sympify"
   ]
  },
  {
   "cell_type": "code",
   "execution_count": 35,
   "metadata": {},
   "outputs": [],
   "source": [
    "test_expession = sympify('a0 + 1.0')"
   ]
  },
  {
   "cell_type": "code",
   "execution_count": 38,
   "metadata": {},
   "outputs": [
    {
     "data": {
      "text/latex": [
       "$\\displaystyle 4.0$"
      ],
      "text/plain": [
       "4.00000000000000"
      ]
     },
     "execution_count": 38,
     "metadata": {},
     "output_type": "execute_result"
    }
   ],
   "source": [
    "test_expession.evalf(subs={'a0': 1.0})"
   ]
  },
  {
   "attachments": {},
   "cell_type": "markdown",
   "metadata": {},
   "source": [
    "#### Test if binding of parameters works for ``FreeParameterExpression``"
   ]
  },
  {
   "cell_type": "code",
   "execution_count": 71,
   "metadata": {},
   "outputs": [
    {
     "name": "stderr",
     "output_type": "stream",
     "text": [
      "/Users/lukasvoss/anaconda3/envs/braket/lib/python3.10/site-packages/qiskit/visualization/circuit/matplotlib.py:266: FutureWarning: The default matplotlib drawer scheme will be changed to \"iqp\" in a following release. To silence this warning, specify the current default explicitly as style=\"clifford\", or the new default as style=\"iqp\".\n",
      "  self._style, def_font_ratio = load_style(self._style)\n"
     ]
    },
    {
     "data": {
      "image/png": "[encoded data removed]",
      "text/plain": [
       "<Figure size 221.914x117.056 with 1 Axes>"
      ]
     },
     "execution_count": 71,
     "metadata": {},
     "output_type": "execute_result"
    }
   ],
   "source": [
    "params = ParameterVector(\"a\", 1)\n",
    "qiskit_circuit = QuantumCircuit(QuantumRegister(1), name=\"test_param_binding\")\n",
    "qiskit_circuit.rx(np.pi + params[0], 0)\n",
    "\n",
    "qiskit_circuit.draw(\"mpl\")"
   ]
  },
  {
   "cell_type": "code",
   "execution_count": 72,
   "metadata": {},
   "outputs": [
    {
     "name": "stdout",
     "output_type": "stream",
     "text": [
      "T  : |            0            |\n",
      "                                \n",
      "q0 : -Rx(a0 + 3.14159265358979)-\n",
      "\n",
      "T  : |            0            |\n",
      "\n",
      "Unassigned parameters: [a0].\n"
     ]
    }
   ],
   "source": [
    "braket_circ = adapter.convert_qiskit_to_braket_circuit(qiskit_circuit)\n",
    "print(braket_circ)"
   ]
  },
  {
   "cell_type": "code",
   "execution_count": 75,
   "metadata": {},
   "outputs": [
    {
     "name": "stdout",
     "output_type": "stream",
     "text": [
      "measurement results: Counter({'1': 1000})\n"
     ]
    }
   ],
   "source": [
    "# run the circuit on the local simulator\n",
    "task = device.run(braket_circ, shots=1000, inputs={'a0': 0.0})\n",
    "\n",
    "# visualize the results\n",
    "result = task.result()\n",
    "measurement = result.measurement_counts\n",
    "print('measurement results:', measurement)"
   ]
  }
 ],
 "metadata": {
  "kernelspec": {
   "display_name": "braket",
   "language": "python",
   "name": "python3"
  },
  "language_info": {
   "codemirror_mode": {
    "name": "ipython",
    "version": 3
   },
   "file_extension": ".py",
   "mimetype": "text/x-python",
   "name": "python",
   "nbconvert_exporter": "python",
   "pygments_lexer": "ipython3",
   "version": "3.10.13"
  },
  "orig_nbformat": 4
 },
 "nbformat": 4,
 "nbformat_minor": 2
}
