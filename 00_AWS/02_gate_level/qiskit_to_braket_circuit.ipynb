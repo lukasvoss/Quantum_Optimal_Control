{
 "cells": [
  {
   "cell_type": "code",
   "execution_count": 1,
   "metadata": {},
   "outputs": [
    {
     "name": "stderr",
     "output_type": "stream",
     "text": [
      "/Users/lukasvoss/anaconda3/envs/braket/lib/python3.10/site-packages/qiskit_dynamics/dispatch/backends/jax.py:34: UserWarning: The functionality in the perturbation module of Qiskit Dynamics requires a JAX version <= 0.4.6, due to a bug in JAX versions > 0.4.6. For versions 0.4.4, 0.4.5, and 0.4.6, using the perturbation module functionality requires setting os.environ['JAX_JIT_PJIT_API_MERGE'] = '0' before importing JAX or Dynamics.\n",
      "  warnings.warn(\n",
      "WARNING: All log messages before absl::InitializeLog() is called are written to STDERR\n",
      "I0000 00:00:1706510993.338264       1 tfrt_cpu_pjrt_client.cc:349] TfrtCpuClient created.\n"
     ]
    }
   ],
   "source": [
    "import os\n",
    "import sys\n",
    "\n",
    "from braket.aws import AwsQuantumJob, AwsSession\n",
    "from braket.jobs.local import LocalQuantumJob\n",
    "from braket.jobs.image_uris import Framework, retrieve_image\n",
    "from qiskit_braket_provider.providers import adapter\n",
    "from braket.circuits import Gate, Instruction, Circuit\n",
    "\n",
    "aws_session = AwsSession(default_bucket=\"amazon-braket-us-west-1-lukasvoss\")\n",
    "\n",
    "module_path = os.path.abspath(os.path.join('/Users/lukasvoss/Documents/Master Wirtschaftsphysik/Masterarbeit Yale-NUS CQT/Quantum_Optimal_Control'))\n",
    "if module_path not in sys.path:\n",
    "    sys.path.append(module_path)\n",
    "\n",
    "from needed_files.quantumenvironment import QuantumEnvironment\n",
    "from needed_files.helper_functions import load_agent_from_yaml_file\n",
    "from needed_files.ppo import make_train_ppo\n",
    "from needed_files.q_env_config import q_env_config as gate_q_env_config\n",
    "\n",
    "import time"
   ]
  },
  {
   "cell_type": "code",
   "execution_count": 2,
   "metadata": {},
   "outputs": [
    {
     "name": "stdout",
     "output_type": "stream",
     "text": [
      "SparsePauliOp(['II', 'IY', 'XI', 'XY'],\n",
      "              coeffs=[0.25+0.j, 0.25+0.j, 0.25+0.j, 0.25+0.j])\n"
     ]
    }
   ],
   "source": [
    "q_env = QuantumEnvironment(gate_q_env_config)"
   ]
  },
  {
   "attachments": {},
   "cell_type": "markdown",
   "metadata": {},
   "source": [
    "##### Parametrized qiskit circuit"
   ]
  },
  {
   "cell_type": "code",
   "execution_count": 3,
   "metadata": {},
   "outputs": [
    {
     "name": "stderr",
     "output_type": "stream",
     "text": [
      "/Users/lukasvoss/anaconda3/envs/braket/lib/python3.10/site-packages/qiskit/visualization/circuit/matplotlib.py:266: FutureWarning: The default matplotlib drawer scheme will be changed to \"iqp\" in a following release. To silence this warning, specify the current default explicitly as style=\"clifford\", or the new default as style=\"iqp\".\n",
      "  self._style, def_font_ratio = load_style(self._style)\n"
     ]
    },
    {
     "data": {
      "image/png": "[encoded data removed]",
      "text/plain": [
       "<Figure size 472.949x200.667 with 1 Axes>"
      ]
     },
     "execution_count": 3,
     "metadata": {},
     "output_type": "execute_result"
    }
   ],
   "source": [
    "qiskit_circuit = q_env.circuit_truncations[0]\n",
    "qiskit_circuit.draw(output='mpl')"
   ]
  },
  {
   "attachments": {},
   "cell_type": "markdown",
   "metadata": {},
   "source": [
    "#### Convert the qiskit circuit to a braket circuit"
   ]
  },
  {
   "cell_type": "code",
   "execution_count": 4,
   "metadata": {},
   "outputs": [],
   "source": [
    "braket_circuit = adapter.convert_qiskit_to_braket_circuit(qiskit_circuit)"
   ]
  },
  {
   "cell_type": "code",
   "execution_count": 5,
   "metadata": {},
   "outputs": [],
   "source": [
    "from qiskit.circuit import QuantumCircuit, ParameterVector, QuantumRegister\n",
    "from qiskit.circuit.parametervector import ParameterVectorElement\n",
    "import numpy as np"
   ]
  },
  {
   "cell_type": "code",
   "execution_count": 6,
   "metadata": {},
   "outputs": [],
   "source": [
    "q_reg = QuantumRegister(2)\n",
    "params = ParameterVector(name='a', length=7)"
   ]
  },
  {
   "cell_type": "code",
   "execution_count": 7,
   "metadata": {},
   "outputs": [
    {
     "data": {
      "text/plain": [
       "<qiskit.circuit.instructionset.InstructionSet at 0x2dea644c0>"
      ]
     },
     "execution_count": 7,
     "metadata": {},
     "output_type": "execute_result"
    }
   ],
   "source": [
    "my_qc = QuantumCircuit(q_reg, name=\"custom_cx\")\n",
    "optimal_params = np.pi * np.zeros(7)\n",
    "\n",
    "my_qc.u(\n",
    "    optimal_params[0] + params[0],\n",
    "    optimal_params[1] + params[1],\n",
    "    optimal_params[2] + params[2],\n",
    "    q_reg[0],\n",
    ")\n",
    "my_qc.u(\n",
    "    optimal_params[3] + params[3],\n",
    "    optimal_params[4] + params[4],\n",
    "    optimal_params[5] + params[5],\n",
    "    q_reg[1],\n",
    ")\n",
    "my_qc.rzx(optimal_params[6] + params[6], q_reg[0], q_reg[1])"
   ]
  },
  {
   "cell_type": "code",
   "execution_count": 8,
   "metadata": {},
   "outputs": [
    {
     "data": {
      "image/png": "[encoded data removed]",
      "text/plain": [
       "<Figure size 389.136x200.667 with 1 Axes>"
      ]
     },
     "execution_count": 8,
     "metadata": {},
     "output_type": "execute_result"
    }
   ],
   "source": [
    "my_qc.draw(output='mpl')"
   ]
  },
  {
   "cell_type": "code",
   "execution_count": 9,
   "metadata": {},
   "outputs": [],
   "source": [
    "braket_circuit = adapter.convert_qiskit_to_braket_circuit(my_qc)"
   ]
  },
  {
   "cell_type": "code",
   "execution_count": 10,
   "metadata": {},
   "outputs": [
    {
     "name": "stdout",
     "output_type": "stream",
     "text": [
      "T  : |     0     |   1    |     2     |3|4|   5    |6|7|\n",
      "                                                        \n",
      "q0 : -PHASE(a[2])-Ry(a[0])-PHASE(a[1])---C----------C---\n",
      "                                         |          |   \n",
      "q1 : -PHASE(a[5])-Ry(a[3])-PHASE(a[4])-H-X-Rz(a[6])-X-H-\n",
      "\n",
      "T  : |     0     |   1    |     2     |3|4|   5    |6|7|\n",
      "\n",
      "Unassigned parameters: [a[0], a[1], a[2], a[3], a[4], a[5], a[6]].\n"
     ]
    }
   ],
   "source": [
    "print(braket_circuit)"
   ]
  },
  {
   "cell_type": "code",
   "execution_count": 11,
   "metadata": {},
   "outputs": [
    {
     "name": "stdout",
     "output_type": "stream",
     "text": [
      "Instruction('operator': PhaseShift('angle': a[2], 'qubit_count': 1), 'target': QubitSet([Qubit(0)]), 'control': QubitSet([]), 'control_state': (), 'power': 1) \n",
      "\n",
      "Instruction('operator': Ry('angle': a[0], 'qubit_count': 1), 'target': QubitSet([Qubit(0)]), 'control': QubitSet([]), 'control_state': (), 'power': 1) \n",
      "\n",
      "Instruction('operator': PhaseShift('angle': a[1], 'qubit_count': 1), 'target': QubitSet([Qubit(0)]), 'control': QubitSet([]), 'control_state': (), 'power': 1) \n",
      "\n",
      "Instruction('operator': PhaseShift('angle': a[5], 'qubit_count': 1), 'target': QubitSet([Qubit(1)]), 'control': QubitSet([]), 'control_state': (), 'power': 1) \n",
      "\n",
      "Instruction('operator': Ry('angle': a[3], 'qubit_count': 1), 'target': QubitSet([Qubit(1)]), 'control': QubitSet([]), 'control_state': (), 'power': 1) \n",
      "\n",
      "Instruction('operator': PhaseShift('angle': a[4], 'qubit_count': 1), 'target': QubitSet([Qubit(1)]), 'control': QubitSet([]), 'control_state': (), 'power': 1) \n",
      "\n",
      "Instruction('operator': H('qubit_count': 1), 'target': QubitSet([Qubit(1)]), 'control': QubitSet([]), 'control_state': (), 'power': 1) \n",
      "\n",
      "Instruction('operator': CNot('qubit_count': 2), 'target': QubitSet([Qubit(0), Qubit(1)]), 'control': QubitSet([]), 'control_state': (), 'power': 1) \n",
      "\n",
      "Instruction('operator': Rz('angle': a[6], 'qubit_count': 1), 'target': QubitSet([Qubit(1)]), 'control': QubitSet([]), 'control_state': (), 'power': 1) \n",
      "\n",
      "Instruction('operator': CNot('qubit_count': 2), 'target': QubitSet([Qubit(0), Qubit(1)]), 'control': QubitSet([]), 'control_state': (), 'power': 1) \n",
      "\n",
      "Instruction('operator': H('qubit_count': 1), 'target': QubitSet([Qubit(1)]), 'control': QubitSet([]), 'control_state': (), 'power': 1) \n",
      "\n"
     ]
    }
   ],
   "source": [
    "moments = braket_circuit.moments\n",
    "list_instructions = []\n",
    "for key, value in moments.items():\n",
    "    #print(key)\n",
    "    print(value, \"\\n\")\n",
    "    list_instructions.append(value)"
   ]
  },
  {
   "cell_type": "code",
   "execution_count": 12,
   "metadata": {},
   "outputs": [
    {
     "name": "stdout",
     "output_type": "stream",
     "text": [
      "T  : |     0     |   1    |     2     |3|4|   5    |6|7|\n",
      "                                                        \n",
      "q0 : -PHASE(a[2])-Ry(a[0])-PHASE(a[1])---C----------C---\n",
      "                                         |          |   \n",
      "q1 : -PHASE(a[5])-Ry(a[3])-PHASE(a[4])-H-X-Rz(a[6])-X-H-\n",
      "\n",
      "T  : |     0     |   1    |     2     |3|4|   5    |6|7| \n",
      "\n",
      "True\n"
     ]
    }
   ],
   "source": [
    "new_circ = Circuit()\n",
    "new_circ.moments.add(list_instructions)\n",
    "print(new_circ, \"\\n\")\n",
    "print(new_circ == braket_circuit)"
   ]
  }
 ],
 "metadata": {
  "kernelspec": {
   "display_name": "braket",
   "language": "python",
   "name": "python3"
  },
  "language_info": {
   "codemirror_mode": {
    "name": "ipython",
    "version": 3
   },
   "file_extension": ".py",
   "mimetype": "text/x-python",
   "name": "python",
   "nbconvert_exporter": "python",
   "pygments_lexer": "ipython3",
   "version": "3.10.13"
  },
  "orig_nbformat": 4
 },
 "nbformat": 4,
 "nbformat_minor": 2
}
