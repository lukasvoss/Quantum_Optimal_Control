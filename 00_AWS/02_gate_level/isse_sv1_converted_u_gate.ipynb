{
 "cells": [
  {
   "attachments": {},
   "cell_type": "markdown",
   "metadata": {},
   "source": [
    "### Bug Report: Running Unitary gate $U(\\theta, \\phi, \\lambda)$ with SV1 does not work"
   ]
  },
  {
   "cell_type": "code",
   "execution_count": 25,
   "metadata": {},
   "outputs": [],
   "source": [
    "from braket.aws import AwsDevice\n",
    "from braket.circuits import Circuit\n",
    "from braket.devices import LocalSimulator"
   ]
  },
  {
   "cell_type": "code",
   "execution_count": 28,
   "metadata": {},
   "outputs": [
    {
     "name": "stdout",
     "output_type": "stream",
     "text": [
      "Results with LocalSimulator: Counter({'0': 993, '1': 7})\n"
     ]
    },
    {
     "ename": "ValidationException",
     "evalue": "An error occurred (ValidationException) when calling the CreateQuantumTask operation: [line 4] uses Stmt. Stmt is not supported",
     "output_type": "error",
     "traceback": [
      "\u001b[0;31m---------------------------------------------------------------------------\u001b[0m",
      "\u001b[0;31mValidationException\u001b[0m                       Traceback (most recent call last)",
      "Cell \u001b[0;32mIn[28], line 10\u001b[0m\n\u001b[1;32m      8\u001b[0m \u001b[39m### FAILS\u001b[39;00m\n\u001b[1;32m      9\u001b[0m device \u001b[39m=\u001b[39m AwsDevice(\u001b[39m\"\u001b[39m\u001b[39marn:aws:braket:::device/quantum-simulator/amazon/sv1\u001b[39m\u001b[39m\"\u001b[39m)\n\u001b[0;32m---> 10\u001b[0m result \u001b[39m=\u001b[39m device\u001b[39m.\u001b[39;49mrun(circ, shots\u001b[39m=\u001b[39;49m\u001b[39m1000\u001b[39;49m)\u001b[39m.\u001b[39mresult() \n",
      "File \u001b[0;32m~/anaconda3/envs/braket/lib/python3.10/site-packages/braket/aws/aws_device.py:206\u001b[0m, in \u001b[0;36mAwsDevice.run\u001b[0;34m(self, task_specification, s3_destination_folder, shots, poll_timeout_seconds, poll_interval_seconds, inputs, gate_definitions, reservation_arn, *aws_quantum_task_args, **aws_quantum_task_kwargs)\u001b[0m\n\u001b[1;32m    204\u001b[0m \u001b[39mif\u001b[39;00m \u001b[39mself\u001b[39m\u001b[39m.\u001b[39m_noise_model:\n\u001b[1;32m    205\u001b[0m     task_specification \u001b[39m=\u001b[39m \u001b[39mself\u001b[39m\u001b[39m.\u001b[39m_apply_noise_model_to_circuit(task_specification)\n\u001b[0;32m--> 206\u001b[0m \u001b[39mreturn\u001b[39;00m AwsQuantumTask\u001b[39m.\u001b[39;49mcreate(\n\u001b[1;32m    207\u001b[0m     \u001b[39mself\u001b[39;49m\u001b[39m.\u001b[39;49m_aws_session,\n\u001b[1;32m    208\u001b[0m     \u001b[39mself\u001b[39;49m\u001b[39m.\u001b[39;49m_arn,\n\u001b[1;32m    209\u001b[0m     task_specification,\n\u001b[1;32m    210\u001b[0m     s3_destination_folder\n\u001b[1;32m    211\u001b[0m     \u001b[39mor\u001b[39;49;00m (\n\u001b[1;32m    212\u001b[0m         AwsSession\u001b[39m.\u001b[39;49mparse_s3_uri(os\u001b[39m.\u001b[39;49menviron\u001b[39m.\u001b[39;49mget(\u001b[39m\"\u001b[39;49m\u001b[39mAMZN_BRAKET_TASK_RESULTS_S3_URI\u001b[39;49m\u001b[39m\"\u001b[39;49m))\n\u001b[1;32m    213\u001b[0m         \u001b[39mif\u001b[39;49;00m \u001b[39m\"\u001b[39;49m\u001b[39mAMZN_BRAKET_TASK_RESULTS_S3_URI\u001b[39;49m\u001b[39m\"\u001b[39;49m \u001b[39min\u001b[39;49;00m os\u001b[39m.\u001b[39;49menviron\n\u001b[1;32m    214\u001b[0m         \u001b[39melse\u001b[39;49;00m \u001b[39mNone\u001b[39;49;00m\n\u001b[1;32m    215\u001b[0m     )\n\u001b[1;32m    216\u001b[0m     \u001b[39mor\u001b[39;49;00m (\u001b[39mself\u001b[39;49m\u001b[39m.\u001b[39;49m_aws_session\u001b[39m.\u001b[39;49mdefault_bucket(), \u001b[39m\"\u001b[39;49m\u001b[39mtasks\u001b[39;49m\u001b[39m\"\u001b[39;49m),\n\u001b[1;32m    217\u001b[0m     shots \u001b[39mif\u001b[39;49;00m shots \u001b[39mis\u001b[39;49;00m \u001b[39mnot\u001b[39;49;00m \u001b[39mNone\u001b[39;49;00m \u001b[39melse\u001b[39;49;00m \u001b[39mself\u001b[39;49m\u001b[39m.\u001b[39;49m_default_shots,\n\u001b[1;32m    218\u001b[0m     poll_timeout_seconds\u001b[39m=\u001b[39;49mpoll_timeout_seconds,\n\u001b[1;32m    219\u001b[0m     poll_interval_seconds\u001b[39m=\u001b[39;49mpoll_interval_seconds \u001b[39mor\u001b[39;49;00m \u001b[39mself\u001b[39;49m\u001b[39m.\u001b[39;49m_poll_interval_seconds,\n\u001b[1;32m    220\u001b[0m     inputs\u001b[39m=\u001b[39;49minputs,\n\u001b[1;32m    221\u001b[0m     gate_definitions\u001b[39m=\u001b[39;49mgate_definitions,\n\u001b[1;32m    222\u001b[0m     reservation_arn\u001b[39m=\u001b[39;49mreservation_arn,\n\u001b[1;32m    223\u001b[0m     \u001b[39m*\u001b[39;49maws_quantum_task_args,\n\u001b[1;32m    224\u001b[0m     \u001b[39m*\u001b[39;49m\u001b[39m*\u001b[39;49maws_quantum_task_kwargs,\n\u001b[1;32m    225\u001b[0m )\n",
      "File \u001b[0;32m~/anaconda3/envs/braket/lib/python3.10/site-packages/braket/aws/aws_quantum_task.py:213\u001b[0m, in \u001b[0;36mAwsQuantumTask.create\u001b[0;34m(aws_session, device_arn, task_specification, s3_destination_folder, shots, device_parameters, disable_qubit_rewiring, tags, inputs, gate_definitions, quiet, reservation_arn, *args, **kwargs)\u001b[0m\n\u001b[1;32m    208\u001b[0m     \u001b[39mif\u001b[39;00m unbounded_parameters:\n\u001b[1;32m    209\u001b[0m         \u001b[39mraise\u001b[39;00m \u001b[39mValueError\u001b[39;00m(\n\u001b[1;32m    210\u001b[0m             \u001b[39mf\u001b[39m\u001b[39m\"\u001b[39m\u001b[39mCannot execute circuit with unbound parameters: \u001b[39m\u001b[39m\"\u001b[39m \u001b[39mf\u001b[39m\u001b[39m\"\u001b[39m\u001b[39m{\u001b[39;00munbounded_parameters\u001b[39m}\u001b[39;00m\u001b[39m\"\u001b[39m\n\u001b[1;32m    211\u001b[0m         )\n\u001b[0;32m--> 213\u001b[0m \u001b[39mreturn\u001b[39;00m _create_internal(\n\u001b[1;32m    214\u001b[0m     task_specification,\n\u001b[1;32m    215\u001b[0m     aws_session,\n\u001b[1;32m    216\u001b[0m     create_task_kwargs,\n\u001b[1;32m    217\u001b[0m     device_arn,\n\u001b[1;32m    218\u001b[0m     device_parameters \u001b[39mor\u001b[39;49;00m {},\n\u001b[1;32m    219\u001b[0m     disable_qubit_rewiring,\n\u001b[1;32m    220\u001b[0m     inputs,\n\u001b[1;32m    221\u001b[0m     gate_definitions\u001b[39m=\u001b[39;49mgate_definitions,\n\u001b[1;32m    222\u001b[0m     quiet\u001b[39m=\u001b[39;49mquiet,\n\u001b[1;32m    223\u001b[0m     \u001b[39m*\u001b[39;49margs,\n\u001b[1;32m    224\u001b[0m     \u001b[39m*\u001b[39;49m\u001b[39m*\u001b[39;49mkwargs,\n\u001b[1;32m    225\u001b[0m )\n",
      "File \u001b[0;32m~/anaconda3/envs/braket/lib/python3.10/functools.py:889\u001b[0m, in \u001b[0;36msingledispatch.<locals>.wrapper\u001b[0;34m(*args, **kw)\u001b[0m\n\u001b[1;32m    885\u001b[0m \u001b[39mif\u001b[39;00m \u001b[39mnot\u001b[39;00m args:\n\u001b[1;32m    886\u001b[0m     \u001b[39mraise\u001b[39;00m \u001b[39mTypeError\u001b[39;00m(\u001b[39mf\u001b[39m\u001b[39m'\u001b[39m\u001b[39m{\u001b[39;00mfuncname\u001b[39m}\u001b[39;00m\u001b[39m requires at least \u001b[39m\u001b[39m'\u001b[39m\n\u001b[1;32m    887\u001b[0m                     \u001b[39m'\u001b[39m\u001b[39m1 positional argument\u001b[39m\u001b[39m'\u001b[39m)\n\u001b[0;32m--> 889\u001b[0m \u001b[39mreturn\u001b[39;00m dispatch(args[\u001b[39m0\u001b[39;49m]\u001b[39m.\u001b[39;49m\u001b[39m__class__\u001b[39;49m)(\u001b[39m*\u001b[39;49margs, \u001b[39m*\u001b[39;49m\u001b[39m*\u001b[39;49mkw)\n",
      "File \u001b[0;32m~/anaconda3/envs/braket/lib/python3.10/site-packages/braket/aws/aws_quantum_task.py:712\u001b[0m, in \u001b[0;36m_\u001b[0;34m(circuit, aws_session, create_task_kwargs, device_arn, device_parameters, disable_qubit_rewiring, inputs, gate_definitions, *args, **kwargs)\u001b[0m\n\u001b[1;32m    701\u001b[0m     openqasm_program \u001b[39m=\u001b[39m OpenQASMProgram(\n\u001b[1;32m    702\u001b[0m         source\u001b[39m=\u001b[39mopenqasm_program\u001b[39m.\u001b[39msource,\n\u001b[1;32m    703\u001b[0m         inputs\u001b[39m=\u001b[39minputs_copy,\n\u001b[1;32m    704\u001b[0m     )\n\u001b[1;32m    706\u001b[0m create_task_kwargs\u001b[39m.\u001b[39mupdate(\n\u001b[1;32m    707\u001b[0m     {\n\u001b[1;32m    708\u001b[0m         \u001b[39m\"\u001b[39m\u001b[39maction\u001b[39m\u001b[39m\"\u001b[39m: openqasm_program\u001b[39m.\u001b[39mjson(),\n\u001b[1;32m    709\u001b[0m         \u001b[39m\"\u001b[39m\u001b[39mdeviceParameters\u001b[39m\u001b[39m\"\u001b[39m: final_device_parameters\u001b[39m.\u001b[39mjson(exclude_none\u001b[39m=\u001b[39m\u001b[39mTrue\u001b[39;00m),\n\u001b[1;32m    710\u001b[0m     }\n\u001b[1;32m    711\u001b[0m )\n\u001b[0;32m--> 712\u001b[0m task_arn \u001b[39m=\u001b[39m aws_session\u001b[39m.\u001b[39;49mcreate_quantum_task(\u001b[39m*\u001b[39;49m\u001b[39m*\u001b[39;49mcreate_task_kwargs)\n\u001b[1;32m    713\u001b[0m \u001b[39mreturn\u001b[39;00m AwsQuantumTask(task_arn, aws_session, \u001b[39m*\u001b[39margs, \u001b[39m*\u001b[39m\u001b[39m*\u001b[39mkwargs)\n",
      "File \u001b[0;32m~/anaconda3/envs/braket/lib/python3.10/site-packages/braket/aws/aws_session.py:231\u001b[0m, in \u001b[0;36mAwsSession.create_quantum_task\u001b[0;34m(self, **boto3_kwargs)\u001b[0m\n\u001b[1;32m    229\u001b[0m \u001b[39mif\u001b[39;00m job_token:\n\u001b[1;32m    230\u001b[0m     boto3_kwargs\u001b[39m.\u001b[39mupdate({\u001b[39m\"\u001b[39m\u001b[39mjobToken\u001b[39m\u001b[39m\"\u001b[39m: job_token})\n\u001b[0;32m--> 231\u001b[0m response \u001b[39m=\u001b[39m \u001b[39mself\u001b[39;49m\u001b[39m.\u001b[39;49mbraket_client\u001b[39m.\u001b[39;49mcreate_quantum_task(\u001b[39m*\u001b[39;49m\u001b[39m*\u001b[39;49mboto3_kwargs)\n\u001b[1;32m    232\u001b[0m broadcast_event(\n\u001b[1;32m    233\u001b[0m     _TaskCreationEvent(\n\u001b[1;32m    234\u001b[0m         arn\u001b[39m=\u001b[39mresponse[\u001b[39m\"\u001b[39m\u001b[39mquantumTaskArn\u001b[39m\u001b[39m\"\u001b[39m],\n\u001b[0;32m   (...)\u001b[0m\n\u001b[1;32m    238\u001b[0m     )\n\u001b[1;32m    239\u001b[0m )\n\u001b[1;32m    240\u001b[0m \u001b[39mreturn\u001b[39;00m response[\u001b[39m\"\u001b[39m\u001b[39mquantumTaskArn\u001b[39m\u001b[39m\"\u001b[39m]\n",
      "File \u001b[0;32m~/anaconda3/envs/braket/lib/python3.10/site-packages/botocore/client.py:553\u001b[0m, in \u001b[0;36mClientCreator._create_api_method.<locals>._api_call\u001b[0;34m(self, *args, **kwargs)\u001b[0m\n\u001b[1;32m    549\u001b[0m     \u001b[39mraise\u001b[39;00m \u001b[39mTypeError\u001b[39;00m(\n\u001b[1;32m    550\u001b[0m         \u001b[39mf\u001b[39m\u001b[39m\"\u001b[39m\u001b[39m{\u001b[39;00mpy_operation_name\u001b[39m}\u001b[39;00m\u001b[39m() only accepts keyword arguments.\u001b[39m\u001b[39m\"\u001b[39m\n\u001b[1;32m    551\u001b[0m     )\n\u001b[1;32m    552\u001b[0m \u001b[39m# The \"self\" in this scope is referring to the BaseClient.\u001b[39;00m\n\u001b[0;32m--> 553\u001b[0m \u001b[39mreturn\u001b[39;00m \u001b[39mself\u001b[39;49m\u001b[39m.\u001b[39;49m_make_api_call(operation_name, kwargs)\n",
      "File \u001b[0;32m~/anaconda3/envs/braket/lib/python3.10/site-packages/botocore/client.py:1009\u001b[0m, in \u001b[0;36mBaseClient._make_api_call\u001b[0;34m(self, operation_name, api_params)\u001b[0m\n\u001b[1;32m   1005\u001b[0m     error_code \u001b[39m=\u001b[39m error_info\u001b[39m.\u001b[39mget(\u001b[39m\"\u001b[39m\u001b[39mQueryErrorCode\u001b[39m\u001b[39m\"\u001b[39m) \u001b[39mor\u001b[39;00m error_info\u001b[39m.\u001b[39mget(\n\u001b[1;32m   1006\u001b[0m         \u001b[39m\"\u001b[39m\u001b[39mCode\u001b[39m\u001b[39m\"\u001b[39m\n\u001b[1;32m   1007\u001b[0m     )\n\u001b[1;32m   1008\u001b[0m     error_class \u001b[39m=\u001b[39m \u001b[39mself\u001b[39m\u001b[39m.\u001b[39mexceptions\u001b[39m.\u001b[39mfrom_code(error_code)\n\u001b[0;32m-> 1009\u001b[0m     \u001b[39mraise\u001b[39;00m error_class(parsed_response, operation_name)\n\u001b[1;32m   1010\u001b[0m \u001b[39melse\u001b[39;00m:\n\u001b[1;32m   1011\u001b[0m     \u001b[39mreturn\u001b[39;00m parsed_response\n",
      "\u001b[0;31mValidationException\u001b[0m: An error occurred (ValidationException) when calling the CreateQuantumTask operation: [line 4] uses Stmt. Stmt is not supported"
     ]
    }
   ],
   "source": [
    "circ = Circuit().u(0, 0.15, 0.34, 0.52)\n",
    "\n",
    "### WORKS\n",
    "device = LocalSimulator()\n",
    "result = device.run(circ, shots=1000).result()\n",
    "print('Results with LocalSimulator:', result.measurement_counts) \n",
    "\n",
    "### FAILS\n",
    "device = AwsDevice(\"arn:aws:braket:::device/quantum-simulator/amazon/sv1\")\n",
    "result = device.run(circ, shots=1000).result() "
   ]
  }
 ],
 "metadata": {
  "kernelspec": {
   "display_name": "braket",
   "language": "python",
   "name": "python3"
  },
  "language_info": {
   "codemirror_mode": {
    "name": "ipython",
    "version": 3
   },
   "file_extension": ".py",
   "mimetype": "text/x-python",
   "name": "python",
   "nbconvert_exporter": "python",
   "pygments_lexer": "ipython3",
   "version": "3.10.13"
  },
  "orig_nbformat": 4
 },
 "nbformat": 4,
 "nbformat_minor": 2
}
