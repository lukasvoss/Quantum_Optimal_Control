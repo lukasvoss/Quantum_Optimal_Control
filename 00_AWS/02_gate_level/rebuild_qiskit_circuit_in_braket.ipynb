{
 "cells": [
  {
   "attachments": {},
   "cell_type": "markdown",
   "metadata": {},
   "source": [
    "## Rebuild the parametrized circuit in AWS Braket"
   ]
  },
  {
   "cell_type": "code",
   "execution_count": 5,
   "metadata": {},
   "outputs": [],
   "source": [
    "import numpy as np\n",
    "\n",
    "from qiskit import QuantumCircuit, QuantumRegister\n",
    "from qiskit.circuit import ParameterVector\n",
    "from qiskit.primitives import BackendEstimator, Estimator, Sampler, BackendSampler\n",
    "\n",
    "from braket.devices import LocalSimulator\n",
    "from braket.circuits import Circuit, Gate, Instruction, QubitSet, AngledGate, Observable\n",
    "from braket.circuits import noises\n",
    "from braket.circuits.gates import X, Y, Z, Rx, Rz, CNot, XY, PulseGate, U, XX, ZZ\n",
    "from braket.quantum_information import PauliString\n",
    "from braket.parametric import FreeParameter, FreeParameterExpression\n",
    "from braket.circuits.observables import TensorProduct\n",
    "\n",
    "from qiskit_braket_provider.providers import adapter\n",
    "from qiskit_braket_provider import AWSBraketProvider\n"
   ]
  },
  {
   "cell_type": "code",
   "execution_count": 6,
   "metadata": {},
   "outputs": [],
   "source": [
    "action_vector = np.pi * np.array([0.0, 0.0, 0.5, 0.5, -0.5, 0.5, -0.5]) # np.random.uniform(-np.pi, np.pi, 7)"
   ]
  },
  {
   "attachments": {},
   "cell_type": "markdown",
   "metadata": {},
   "source": [
    "Qiskit implementation of ``parametrized_circuit``"
   ]
  },
  {
   "cell_type": "code",
   "execution_count": 7,
   "metadata": {},
   "outputs": [
    {
     "data": {
      "image/png": "[encoded data removed]",
      "text/plain": [
       "<Figure size 389.338x200.667 with 1 Axes>"
      ]
     },
     "execution_count": 7,
     "metadata": {},
     "output_type": "execute_result"
    }
   ],
   "source": [
    "q_reg = QuantumRegister(2)\n",
    "baseline = np.pi * np.zeros(len(action_vector))\n",
    "params = ParameterVector(\"a\", 7)\n",
    "qiskit_circuit = QuantumCircuit(q_reg, name=\"custom_cx\")\n",
    "# optimal_params = np.pi * np.array([0.0, 0.0, 0.5, 0.5, -0.5, 0.5, -0.5])\n",
    "optimal_params = np.pi * np.zeros(7)\n",
    "\n",
    "qiskit_circuit.u(\n",
    "    baseline[0] + params[0],\n",
    "    baseline[1] + params[1],\n",
    "    baseline[2] + params[2],\n",
    "    q_reg[0],\n",
    ")\n",
    "qiskit_circuit.u(\n",
    "    baseline[3] + params[3],\n",
    "    baseline[4] + params[4],\n",
    "    baseline[5] + params[5],\n",
    "    q_reg[1],\n",
    ")\n",
    "\n",
    "qiskit_circuit.rzx(baseline[6] + params[6], q_reg[0], q_reg[1])\n",
    "qiskit_circuit.draw(\"mpl\")"
   ]
  },
  {
   "attachments": {},
   "cell_type": "markdown",
   "metadata": {},
   "source": [
    "Conversion of Qiskit circuit to Braket circuit"
   ]
  },
  {
   "cell_type": "code",
   "execution_count": 8,
   "metadata": {},
   "outputs": [
    {
     "name": "stdout",
     "output_type": "stream",
     "text": [
      "T  : |       0        |1|2|   3   |4|5|\n",
      "                                       \n",
      "q0 : -U(a_0, a_1, a_2)---C---------C---\n",
      "                         |         |   \n",
      "q1 : -U(a_3, a_4, a_5)-H-X-Rz(a_6)-X-H-\n",
      "\n",
      "T  : |       0        |1|2|   3   |4|5|\n",
      "\n",
      "Unassigned parameters: [a_0, a_1, a_2, a_3, a_4, a_5, a_6].\n"
     ]
    }
   ],
   "source": [
    "braket_circuit_converted = adapter.convert_qiskit_to_braket_circuit(qiskit_circuit)\n",
    "\n",
    "print(braket_circuit_converted)"
   ]
  },
  {
   "attachments": {},
   "cell_type": "markdown",
   "metadata": {},
   "source": [
    "#### Braket Version"
   ]
  },
  {
   "cell_type": "code",
   "execution_count": 9,
   "metadata": {},
   "outputs": [
    {
     "name": "stdout",
     "output_type": "stream",
     "text": [
      "T  : |      0      |\n",
      "                    \n",
      "q0 : -U(a0, a1, a2)-\n",
      "                    \n",
      "q1 : -U(a3, a4, a5)-\n",
      "\n",
      "T  : |      0      |\n",
      "\n",
      "Unassigned parameters: [a0, a1, a2, a3, a4, a5].\n"
     ]
    }
   ],
   "source": [
    "braket_circuit = Circuit()\n",
    "\n",
    "baseline = np.pi * np.zeros(len(action_vector))\n",
    "params = [FreeParameter(f\"a{i}\") for i in range(0, len(action_vector))]\n",
    "\n",
    "u1 = U(\n",
    "    baseline[0] + params[0], \n",
    "    baseline[1] + params[1], \n",
    "    baseline[1] + params[2],\n",
    ")\n",
    "u2 = U(\n",
    "    baseline[3] + params[3], \n",
    "    baseline[4] + params[4], \n",
    "    baseline[5] + params[5],\n",
    ")\n",
    "\n",
    "# rzx = RZX(\n",
    "#     baseline[6] + params[6]\n",
    "# )\n",
    "\n",
    "braket_circuit.add_instruction(Instruction(u1, [0]))\n",
    "braket_circuit.add_instruction(Instruction(u2, [1]))\n",
    "print(braket_circuit)"
   ]
  },
  {
   "cell_type": "code",
   "execution_count": 10,
   "metadata": {},
   "outputs": [
    {
     "name": "stdout",
     "output_type": "stream",
     "text": [
      "T  : |      0      |1|2|  3   |4|5|\n",
      "                                   \n",
      "q0 : -U(a0, a1, a2)---C--------C---\n",
      "                      |        |   \n",
      "q1 : -U(a3, a4, a5)-H-X-Rz(a6)-X-H-\n",
      "\n",
      "T  : |      0      |1|2|  3   |4|5|\n",
      "\n",
      "Unassigned parameters: [a0, a1, a2, a3, a4, a5, a6].\n"
     ]
    }
   ],
   "source": [
    "def rzx(theta, register):\n",
    "    \"\"\"\n",
    "    RZX gate decomposition for angle theta\n",
    "    \"\"\"\n",
    "    q1, q2 = register\n",
    "    qc = Circuit()\n",
    "\n",
    "    # Step 1: Apply Hadamard gate to the target qubit\n",
    "    qc.h(q2)\n",
    "\n",
    "    # Step 2: Apply CNOT gate with q1 as control and q2 as target\n",
    "    qc.cnot(q1, q2)\n",
    "\n",
    "    # Step 3: Apply RZ gate with angle theta to the target qubit\n",
    "    # Since Braket's RZ gate uses full angle, there's no need to divide theta by 2\n",
    "    qc.rz(q2, angle=theta)\n",
    "\n",
    "    # Step 4: Apply another CNOT gate with q1 as control and q2 as target\n",
    "    qc.cnot(q1, q2)\n",
    "\n",
    "    # Step 5: Apply Hadamard gate to the target qubit again\n",
    "    qc.h(q2)\n",
    "    \n",
    "    return qc\n",
    "\n",
    "Circuit.register_subroutine(rzx)\n",
    "\n",
    "braket_circuit.rzx(baseline[6] + params[6], [0, 1])\n",
    "\n",
    "print(braket_circuit)"
   ]
  },
  {
   "attachments": {},
   "cell_type": "markdown",
   "metadata": {},
   "source": [
    "Sanity Checks if RZX was correclty implemented"
   ]
  },
  {
   "cell_type": "code",
   "execution_count": 11,
   "metadata": {},
   "outputs": [
    {
     "name": "stdout",
     "output_type": "stream",
     "text": [
      "RZX gate is implemented correctly!\n"
     ]
    }
   ],
   "source": [
    "sigma_x = np.array([[0, 1], [1, 0]])\n",
    "sigma_z = np.array([[1, 0], [0, -1]])\n",
    "\n",
    "new_circ = Circuit()\n",
    "check1 = np.isclose(new_circ.rzx(0, [0, 1]).to_unitary(), np.eye(4), atol=1e-8)\n",
    "new_circ = Circuit()\n",
    "check2 = np.isclose(new_circ.rzx(2*np.pi, [0, 1]).to_unitary(), -np.eye(4), atol=1e-8)\n",
    "new_circ = Circuit()\n",
    "check3 = np.isclose(new_circ.rzx(np.pi, [0, 1]).to_unitary(), -1j * np.kron(sigma_z, sigma_x), atol=1e-8)\n",
    "\n",
    "if check1.all() and check2.all() and check3.all():\n",
    "    print(\"RZX gate is implemented correctly!\")"
   ]
  },
  {
   "cell_type": "code",
   "execution_count": 12,
   "metadata": {},
   "outputs": [],
   "source": [
    "device = LocalSimulator() # Noise-Free statevector simulation\n",
    "n_shots = 1000\n",
    "\n",
    "# device = LocalSimulator(backend=\"braket_dm\") # For simulations with noise"
   ]
  },
  {
   "cell_type": "code",
   "execution_count": 13,
   "metadata": {},
   "outputs": [
    {
     "name": "stdout",
     "output_type": "stream",
     "text": [
      "Braket Circuit: \n",
      "\n",
      " T  : |      0      |1|2|  3   |4|5|\n",
      "                                   \n",
      "q0 : -U(a0, a1, a2)---C--------C---\n",
      "                      |        |   \n",
      "q1 : -U(a3, a4, a5)-H-X-Rz(a6)-X-H-\n",
      "\n",
      "T  : |      0      |1|2|  3   |4|5|\n",
      "\n",
      "Unassigned parameters: [a0, a1, a2, a3, a4, a5, a6].\n",
      "\n",
      "\n",
      "Qiskit to Braket Circuit Conversion: \n",
      "\n",
      " T  : |       0        |1|2|   3   |4|5|\n",
      "                                       \n",
      "q0 : -U(a_0, a_1, a_2)---C---------C---\n",
      "                         |         |   \n",
      "q1 : -U(a_3, a_4, a_5)-H-X-Rz(a_6)-X-H-\n",
      "\n",
      "T  : |       0        |1|2|   3   |4|5|\n",
      "\n",
      "Unassigned parameters: [a_0, a_1, a_2, a_3, a_4, a_5, a_6].\n",
      "\n",
      "\n",
      "Converted circuit and native Braket circuit are equivalent: False\n"
     ]
    },
    {
     "ename": "ValueError",
     "evalue": "Circuit conversion failed",
     "output_type": "error",
     "traceback": [
      "\u001b[0;31m---------------------------------------------------------------------------\u001b[0m",
      "\u001b[0;31mValueError\u001b[0m                                Traceback (most recent call last)",
      "Cell \u001b[0;32mIn[13], line 8\u001b[0m\n\u001b[1;32m      6\u001b[0m \u001b[39mprint\u001b[39m(\u001b[39m'\u001b[39m\u001b[39m\\n\u001b[39;00m\u001b[39m\\n\u001b[39;00m\u001b[39mConverted circuit and native Braket circuit are equivalent:\u001b[39m\u001b[39m'\u001b[39m, braket_circuit \u001b[39m==\u001b[39m braket_circuit_converted)\n\u001b[1;32m      7\u001b[0m \u001b[39mif\u001b[39;00m braket_circuit \u001b[39m!=\u001b[39m braket_circuit_converted:\n\u001b[0;32m----> 8\u001b[0m     \u001b[39mraise\u001b[39;00m \u001b[39mValueError\u001b[39;00m(\u001b[39m'\u001b[39m\u001b[39mCircuit conversion failed\u001b[39m\u001b[39m'\u001b[39m)\n",
      "\u001b[0;31mValueError\u001b[0m: Circuit conversion failed"
     ]
    }
   ],
   "source": [
    "param_names = [str(param) for param in params]\n",
    "bound_parameters = dict(zip(param_names, action_vector))\n",
    "\n",
    "print('Braket Circuit: \\n\\n', braket_circuit)\n",
    "print('\\n\\nQiskit to Braket Circuit Conversion: \\n\\n', braket_circuit_converted)\n",
    "print('\\n\\nConverted circuit and native Braket circuit are equivalent:', braket_circuit == braket_circuit_converted)\n",
    "if braket_circuit != braket_circuit_converted:\n",
    "    raise ValueError('Circuit conversion failed')"
   ]
  },
  {
   "cell_type": "code",
   "execution_count": 14,
   "metadata": {},
   "outputs": [
    {
     "data": {
      "text/plain": [
       "{a0, a1, a2, a3, a4, a5, a6}"
      ]
     },
     "execution_count": 14,
     "metadata": {},
     "output_type": "execute_result"
    }
   ],
   "source": [
    "braket_circuit.parameters"
   ]
  },
  {
   "cell_type": "code",
   "execution_count": 15,
   "metadata": {},
   "outputs": [
    {
     "name": "stdout",
     "output_type": "stream",
     "text": [
      "measurement results: Counter({'00': 1000})\n"
     ]
    }
   ],
   "source": [
    "# run the circuit on the local simulator\n",
    "task = device.run(\n",
    "    braket_circuit, \n",
    "    shots=n_shots, \n",
    "    inputs=bound_parameters\n",
    ")\n",
    "\n",
    "# visualize the results\n",
    "result = task.result()\n",
    "measurement = result.measurement_counts\n",
    "print('measurement results:', measurement)"
   ]
  },
  {
   "cell_type": "code",
   "execution_count": 16,
   "metadata": {},
   "outputs": [
    {
     "data": {
      "text/plain": [
       "0.5"
      ]
     },
     "execution_count": 16,
     "metadata": {},
     "output_type": "execute_result"
    }
   ],
   "source": [
    "obs = 0.5*Observable.Z()\n",
    "obs.coefficient"
   ]
  },
  {
   "attachments": {},
   "cell_type": "markdown",
   "metadata": {},
   "source": [
    "### AWSEstimator"
   ]
  },
  {
   "cell_type": "code",
   "execution_count": 17,
   "metadata": {},
   "outputs": [],
   "source": [
    "class AWSEstimator:\n",
    "    def __init__(self, backend):\n",
    "        self.backend = backend\n",
    "\n",
    "    def _validate_inputs(self, circuit, bound_parameters):\n",
    "        \"\"\"\n",
    "        Validate the inputs to ensure the number of circuits matches the number of bound_parameters.\n",
    "\n",
    "        :param circuit: A single QuantumCircuit or a list of QuantumCircuits.\n",
    "        :param bound_parameters: A single dictionary of parameters or a list of dictionaries.\n",
    "        :raises ValueError: If the number of circuits and parameter dictionaries do not match.\n",
    "        \"\"\"\n",
    "        # Check if inputs are lists; if not, wrap them in a list\n",
    "        if not isinstance(circuit, list):\n",
    "            circuit = [circuit]\n",
    "        if not isinstance(bound_parameters, list):\n",
    "            bound_parameters = [bound_parameters]\n",
    "\n",
    "        # Check if the number of circuits matches the number of parameter dictionaries\n",
    "        if len(circuit) != len(bound_parameters):\n",
    "            raise ValueError(\"The number of circuits must match the number of dictionaries of bound parameters.\")\n",
    "\n",
    "        \n",
    "    def post_process(self, result, observables, coefficients=None):\n",
    "        \"\"\"\n",
    "        Process the result from the quantum computation to extract and optionally scale the expectation values.\n",
    "\n",
    "        :param result: The result object returned by the quantum computation.\n",
    "        :param observables: A list of observables for which the expectation values were measured.\n",
    "        :param coefficients: Optional list of coefficients to scale the expectation values of the observables.\n",
    "                            This should be in the same order as the observables list.\n",
    "        :return: A list of processed expectation values.\n",
    "        \"\"\"\n",
    "        if not isinstance(result, list):\n",
    "            expectation_values = []\n",
    "\n",
    "            # If coefficients are provided, they must match the number of observables\n",
    "            if coefficients and len([observables]) != len([coefficients]):\n",
    "                raise ValueError(\"The number of coefficients must match the number of observables.\")\n",
    "\n",
    "            for i, observable in enumerate([observables]):\n",
    "                # Extract the raw expectation value from the result object\n",
    "                raw_expectation_value = result.values[i]  # Assuming result.values is a list of expectation values\n",
    "            \n",
    "                # Apply the coefficient if provided, else use the raw value\n",
    "                if coefficients:\n",
    "                    processed_value = coefficients[i] * raw_expectation_value\n",
    "                else:\n",
    "                    processed_value = raw_expectation_value\n",
    "\n",
    "                expectation_values.append(processed_value)\n",
    "\n",
    "            return expectation_values\n",
    "        \n",
    "        elif isinstance(result, list) and len(result) > 1:\n",
    "            expectation_values = []\n",
    "            for res in result:\n",
    "                expectation_values.append(self.post_process(res, observables, coefficients))\n",
    "            return expectation_values\n",
    "\n",
    "    def run(\n",
    "        self, \n",
    "        circuit, \n",
    "        observables,\n",
    "        op_coefficients: complex | list[complex] = [1.0],\n",
    "        target_register: int | list[int] = [0],\n",
    "        bound_parameters: dict = None,\n",
    "        shots: int = 1000, \n",
    "        ):\n",
    "\n",
    "        self._validate_inputs(circuit, bound_parameters)\n",
    "\n",
    "        if isinstance(circuit, list) and len(circuit) > 1: # Batch execution\n",
    "            for circ in circuit:\n",
    "                circ.expectation(observable=observables, target=target_register)\n",
    "            \n",
    "            print('Running batch...')\n",
    "            job = device.run_batch(circuit, inputs=bound_parameters, shots=n_shots)\n",
    "            print('Finished running batch.')\n",
    "            \n",
    "            return list(job.results()), self.post_process(list(job.results()), observables, op_coefficients)\n",
    "        \n",
    "        else:\n",
    "            circuit.expectation(observable=observables, target=target_register)\n",
    "            \n",
    "            if circuit.parameters:    \n",
    "                job = self.backend.run(circuit, inputs=bound_parameters, shots=shots)\n",
    "            else:\n",
    "                job = self.backend.run(circuit, shots=shots)\n",
    "\n",
    "            return job.result(), self.post_process(job.result(), observables, op_coefficients)\n"
   ]
  },
  {
   "cell_type": "code",
   "execution_count": 18,
   "metadata": {},
   "outputs": [
    {
     "data": {
      "text/plain": [
       "2"
      ]
     },
     "execution_count": 18,
     "metadata": {},
     "output_type": "execute_result"
    }
   ],
   "source": [
    "obs = Observable.Z() @ Observable.Z()\n",
    "obs.qubit_count"
   ]
  },
  {
   "cell_type": "code",
   "execution_count": 80,
   "metadata": {},
   "outputs": [],
   "source": [
    "estimator = AWSEstimator(device)\n",
    "result, expvals = estimator.run(\n",
    "    circuit=braket_circuit, \n",
    "    observables=Observable.X()@Observable.Y(),\n",
    "    op_coefficients=[0.5], \n",
    "    target_register=[0, 1], \n",
    "    bound_parameters=bound_parameters, \n",
    "    shots=n_shots,\n",
    ")"
   ]
  },
  {
   "cell_type": "code",
   "execution_count": 81,
   "metadata": {},
   "outputs": [
    {
     "data": {
      "text/plain": [
       "[0.019]"
      ]
     },
     "execution_count": 81,
     "metadata": {},
     "output_type": "execute_result"
    }
   ],
   "source": [
    "expvals"
   ]
  },
  {
   "attachments": {},
   "cell_type": "markdown",
   "metadata": {},
   "source": [
    "### Running Test Cases for the AWSEstimator"
   ]
  },
  {
   "cell_type": "code",
   "execution_count": 90,
   "metadata": {},
   "outputs": [],
   "source": [
    "def test_post_process(estimator, circuit, observables, coefficients, correct_expval):\n",
    "\n",
    "    _, estimator_expvals = estimator.run(\n",
    "        circuit=circuit, \n",
    "        observables=observables,\n",
    "        op_coefficients=coefficients,\n",
    "        target_register=list(range(observables.qubit_count)),  # Assuming each observable targets one qubit\n",
    "        shots=0,\n",
    "    )\n",
    "\n",
    "    # processed_values = estimator.post_process(result, observables, coefficients)\n",
    "    correct_expval = [coeff * expval for coeff, expval in zip(coefficients, correct_expval)]\n",
    "\n",
    "    assert estimator_expvals == correct_expval, \"Processed values do not match expected output\"\n"
   ]
  },
  {
   "cell_type": "code",
   "execution_count": 94,
   "metadata": {},
   "outputs": [],
   "source": [
    "def run_test_cases(test_device = LocalSimulator()):\n",
    "    estimator = AWSEstimator(backend=test_device)\n",
    "\n",
    "    # Configuration for each test case: Circuit, Observable, Coefficients, Correct Expectation Value\n",
    "    configurations = [\n",
    "        # Test Case 1\n",
    "        (\n",
    "            Circuit().x(0),\n",
    "            Observable.Z(),\n",
    "            [-2.0],\n",
    "            test_device.run(Circuit().x(0).expectation(Observable.Z(), target=0), shots=0).result().values\n",
    "        ),\n",
    "        # Test Case 2\n",
    "        (\n",
    "            Circuit().x(0).x(1),\n",
    "            Observable.Z() @ Observable.Z(),\n",
    "            [-1.0],  # Coefficient for this test case\n",
    "            test_device.run(Circuit().x(0).x(1).expectation(Observable.Z() @ Observable.Z(), target=[0, 1]), shots=0).result().values\n",
    "        ),\n",
    "        # Test Case 3\n",
    "        (\n",
    "            Circuit().h(0).z(1),\n",
    "            Observable.X() @ Observable.Y(),\n",
    "            [1.0],  # Coefficient for this test case\n",
    "            test_device.run(Circuit().h(0).z(1).expectation(Observable.X() @ Observable.Y(), target=[0, 1]), shots=0).result().values\n",
    "        )\n",
    "    ]\n",
    "\n",
    "    # Iterate over each configuration and run the test\n",
    "    for circuit, observables, coefficients, correct_expval in configurations:\n",
    "        test_post_process(estimator, circuit, observables, coefficients, correct_expval)\n",
    "\n",
    "run_test_cases()"
   ]
  },
  {
   "cell_type": "code",
   "execution_count": 66,
   "metadata": {},
   "outputs": [],
   "source": [
    "# Native Braket Simulator result\n",
    "test_device = LocalSimulator()\n",
    "test_circuit = Circuit().x(0).x(1)\n",
    "test_observable = Observable.Z()@Observable.Z()\n",
    "test_circuit.expectation(observable=test_observable, target=[0, 1])\n",
    "correct_expval = test_device.run(test_circuit, shots=0).result().values"
   ]
  },
  {
   "cell_type": "code",
   "execution_count": null,
   "metadata": {},
   "outputs": [],
   "source": [
    "def test_post_process_with_coefficients():\n",
    "\n",
    "    # Native Braket Simulator result\n",
    "    test_device = LocalSimulator()\n",
    "    test_circuit = Circuit().x(0)\n",
    "    test_observable = Observable.Z()\n",
    "    test_circuit.expectation(observable=test_observable, target=0)\n",
    "    correct_expval = test_device.run(test_circuit, shots=0).result().values\n",
    "\n",
    "\n",
    "    # Own Estimator result\n",
    "    estimator = AWSEstimator(backend=test_device)\n",
    "    coefficients = [-2.0]\n",
    "\n",
    "    estimator_result, estimator_expvals = estimator.run(\n",
    "        circuit=test_circuit, \n",
    "        observables=test_observable,\n",
    "        op_coefficients=coefficients,\n",
    "        target_register=[0],\n",
    "        shots=0,\n",
    "    )\n",
    "\n",
    "    # processed_values = estimator.post_process(result, observables, coefficients)\n",
    "\n",
    "    assert estimator_expvals == [correct_expval[0]*coefficients[0]], \"Processed values do not match expected output\"\n",
    "\n",
    "test_post_process_with_coefficients()\n"
   ]
  },
  {
   "attachments": {},
   "cell_type": "markdown",
   "metadata": {},
   "source": [
    "### Measuring expectation values"
   ]
  },
  {
   "cell_type": "code",
   "execution_count": 11,
   "metadata": {},
   "outputs": [],
   "source": [
    "from braket.circuits.observables import Sum"
   ]
  },
  {
   "cell_type": "code",
   "execution_count": 12,
   "metadata": {},
   "outputs": [],
   "source": [
    "# TODO: Create a weighted sum of pauli observables\n",
    "\n",
    "observable_string_xx = \"XX\"\n",
    "observable_string_zz = \"ZZ\""
   ]
  },
  {
   "cell_type": "code",
   "execution_count": 13,
   "metadata": {},
   "outputs": [
    {
     "data": {
      "text/plain": [
       "Sum(TensorProduct(X('qubit_count': 1), X('qubit_count': 1)), TensorProduct(Z('qubit_count': 1), Z('qubit_count': 1)))"
      ]
     },
     "execution_count": 13,
     "metadata": {},
     "output_type": "execute_result"
    }
   ],
   "source": [
    "PauliString(observable_string_xx).to_unsigned_observable() + PauliString(observable_string_zz).to_unsigned_observable()"
   ]
  },
  {
   "cell_type": "code",
   "execution_count": 14,
   "metadata": {},
   "outputs": [],
   "source": [
    "pauli_operator = Sum(observables=[0.5 * PauliString(observable_string_xx).to_unsigned_observable(), 0.5 * PauliString(observable_string_zz).to_unsigned_observable()], display_name='0.5XX + 0.5ZZ')"
   ]
  },
  {
   "cell_type": "code",
   "execution_count": 15,
   "metadata": {},
   "outputs": [
    {
     "data": {
      "text/plain": [
       "('0.5XX + 0.5ZZ', '0.5XX + 0.5ZZ')"
      ]
     },
     "execution_count": 15,
     "metadata": {},
     "output_type": "execute_result"
    }
   ],
   "source": [
    "pauli_operator.ascii_symbols"
   ]
  },
  {
   "cell_type": "code",
   "execution_count": 16,
   "metadata": {},
   "outputs": [
    {
     "data": {
      "text/plain": [
       "0.5"
      ]
     },
     "execution_count": 16,
     "metadata": {},
     "output_type": "execute_result"
    }
   ],
   "source": [
    "list(pauli_operator.summands)[0].coefficient"
   ]
  },
  {
   "attachments": {},
   "cell_type": "markdown",
   "metadata": {},
   "source": [
    "#### Measure expectation values on the native braket circuit"
   ]
  },
  {
   "cell_type": "code",
   "execution_count": 17,
   "metadata": {},
   "outputs": [],
   "source": [
    "# paulis = ExtendedPauliString(pauli_strings=['XX', 'ZZ'], coefficients=[0.5, 0.5])\n",
    "# paulis.to_tensor_product()"
   ]
  },
  {
   "cell_type": "code",
   "execution_count": 18,
   "metadata": {},
   "outputs": [
    {
     "data": {
      "text/plain": [
       "('0.5X',)"
      ]
     },
     "execution_count": 18,
     "metadata": {},
     "output_type": "execute_result"
    }
   ],
   "source": [
    "temp = 0.5*Observable.X()\n",
    "temp.ascii_symbols"
   ]
  },
  {
   "cell_type": "code",
   "execution_count": 19,
   "metadata": {},
   "outputs": [
    {
     "name": "stdout",
     "output_type": "stream",
     "text": [
      "('0.5X',)\n",
      "('0.5Z',)\n"
     ]
    },
    {
     "data": {
      "text/plain": [
       "array([[ 0.5+0.j,  0. +0.j],\n",
       "       [ 0. +0.j, -0.5+0.j]])"
      ]
     },
     "execution_count": 19,
     "metadata": {},
     "output_type": "execute_result"
    }
   ],
   "source": [
    "t1 = 0.5 * Observable.X()\n",
    "print(t1.ascii_symbols)\n",
    "t1.to_matrix()\n",
    "\n",
    "\n",
    "t2 = 0.5 * Observable.Z()\n",
    "print(t2.ascii_symbols)\n",
    "t2.to_matrix()"
   ]
  },
  {
   "cell_type": "code",
   "execution_count": 20,
   "metadata": {},
   "outputs": [],
   "source": [
    "observable = TensorProduct([t1, t2])"
   ]
  },
  {
   "cell_type": "code",
   "execution_count": 21,
   "metadata": {},
   "outputs": [
    {
     "data": {
      "text/plain": [
       "array([[ 0.  +0.j,  0.  +0.j,  0.25+0.j,  0.  +0.j],\n",
       "       [ 0.  +0.j, -0.  +0.j,  0.  +0.j, -0.25+0.j],\n",
       "       [ 0.25+0.j,  0.  +0.j,  0.  +0.j,  0.  +0.j],\n",
       "       [ 0.  +0.j, -0.25+0.j,  0.  +0.j, -0.  +0.j]])"
      ]
     },
     "execution_count": 21,
     "metadata": {},
     "output_type": "execute_result"
    }
   ],
   "source": [
    "TensorProduct([t1, t2]).to_matrix()"
   ]
  },
  {
   "cell_type": "code",
   "execution_count": 22,
   "metadata": {},
   "outputs": [
    {
     "data": {
      "text/plain": [
       "('X@Z', 'X@Z')"
      ]
     },
     "execution_count": 22,
     "metadata": {},
     "output_type": "execute_result"
    }
   ],
   "source": [
    "op = TensorProduct([Observable.X(), Observable.Z()])\n",
    "# op = TensorProduct([Observable.X(), Observable.Z()])\n",
    "op.ascii_symbols"
   ]
  },
  {
   "cell_type": "code",
   "execution_count": 23,
   "metadata": {},
   "outputs": [
    {
     "name": "stdout",
     "output_type": "stream",
     "text": [
      "T  : |      0      |1|2|  3   |4|5|    Result Types    |\n",
      "                                                        \n",
      "q0 : -U(a0, a1, a2)---C--------C---Expectation(0.25X@Z)-\n",
      "                      |        |   |                    \n",
      "q1 : -U(a3, a4, a5)-H-X-Rz(a6)-X-H-Expectation(0.25X@Z)-\n",
      "\n",
      "T  : |      0      |1|2|  3   |4|5|    Result Types    |\n",
      "\n",
      "Unassigned parameters: [a0, a1, a2, a3, a4, a5, a6].\n"
     ]
    }
   ],
   "source": [
    "# Create a small circuit with a free parameter theta\n",
    "pauli_string = PauliString(observable_string_xx)\n",
    "pauli_operator = pauli_string.to_unsigned_observable()\n",
    "\n",
    "# braket_circuit.state_vector() # Get the state vector of the circuit # Can only be determined for shots=0\n",
    "braket_circuit.expectation(observable=observable, target=[0, 1]) # Get the expectation value of the Pauli operator\n",
    "\n",
    "# pauli_string = PauliString(observable_string_xx)\n",
    "# pauli_operator = 0.5*pauli_string.to_unsigned_observable()\n",
    "# braket_circuit.expectation(observable=pauli_operator, target=[0, 1]) \n",
    "print(braket_circuit)\n",
    "\n",
    "# Small value for test purposes\n",
    "# batchsize = 5\n",
    "# batch_circuits = [circ] * batchsize"
   ]
  },
  {
   "cell_type": "code",
   "execution_count": 24,
   "metadata": {},
   "outputs": [
    {
     "data": {
      "text/plain": [
       "{'a0': 0.0,\n",
       " 'a1': 0.0,\n",
       " 'a2': 1.5707963267948966,\n",
       " 'a3': 1.5707963267948966,\n",
       " 'a4': -1.5707963267948966,\n",
       " 'a5': 1.5707963267948966,\n",
       " 'a6': -1.5707963267948966}"
      ]
     },
     "execution_count": 24,
     "metadata": {},
     "output_type": "execute_result"
    }
   ],
   "source": [
    "bound_parameters"
   ]
  },
  {
   "cell_type": "code",
   "execution_count": 25,
   "metadata": {},
   "outputs": [
    {
     "name": "stderr",
     "output_type": "stream",
     "text": [
      "line 1:26 mismatched input '0.25' expecting {'x', 'y', 'z', 'i', 'h', 'hermitian'}\n"
     ]
    },
    {
     "ename": "TypeError",
     "evalue": "cannot unpack non-iterable NoneType object",
     "output_type": "error",
     "traceback": [
      "\u001b[0;31m---------------------------------------------------------------------------\u001b[0m",
      "\u001b[0;31mTypeError\u001b[0m                                 Traceback (most recent call last)",
      "Cell \u001b[0;32mIn[25], line 1\u001b[0m\n\u001b[0;32m----> 1\u001b[0m job \u001b[39m=\u001b[39m device\u001b[39m.\u001b[39;49mrun(braket_circuit, shots\u001b[39m=\u001b[39;49mn_shots, inputs\u001b[39m=\u001b[39;49mbound_parameters)\n\u001b[1;32m      3\u001b[0m \u001b[39m# Run multiple circuits at once\u001b[39;00m\n\u001b[1;32m      4\u001b[0m \u001b[39m# job = device.run_batch(\u001b[39;00m\n\u001b[1;32m      5\u001b[0m \u001b[39m#     batch_circuits,\u001b[39;00m\n\u001b[1;32m      6\u001b[0m \u001b[39m#     inputs={'theta': thetas}, \u001b[39;00m\n\u001b[1;32m      7\u001b[0m \u001b[39m#     shots=100\u001b[39;00m\n\u001b[1;32m      8\u001b[0m \u001b[39m# )\u001b[39;00m\n\u001b[1;32m     10\u001b[0m \u001b[39mprint\u001b[39m(\u001b[39m'\u001b[39m\u001b[39mMeasurement Counts:\u001b[39m\u001b[39m'\u001b[39m, job\u001b[39m.\u001b[39mresult()\u001b[39m.\u001b[39mmeasurement_counts)\n",
      "File \u001b[0;32m~/anaconda3/envs/braket/lib/python3.10/site-packages/braket/devices/local_simulator.py:114\u001b[0m, in \u001b[0;36mLocalSimulator.run\u001b[0;34m(self, task_specification, shots, inputs, *args, **kwargs)\u001b[0m\n\u001b[1;32m    112\u001b[0m \u001b[39mif\u001b[39;00m \u001b[39mself\u001b[39m\u001b[39m.\u001b[39m_noise_model:\n\u001b[1;32m    113\u001b[0m     task_specification \u001b[39m=\u001b[39m \u001b[39mself\u001b[39m\u001b[39m.\u001b[39m_apply_noise_model_to_circuit(task_specification)\n\u001b[0;32m--> 114\u001b[0m result \u001b[39m=\u001b[39m \u001b[39mself\u001b[39;49m\u001b[39m.\u001b[39;49m_run_internal(task_specification, shots, inputs\u001b[39m=\u001b[39;49minputs, \u001b[39m*\u001b[39;49margs, \u001b[39m*\u001b[39;49m\u001b[39m*\u001b[39;49mkwargs)\n\u001b[1;32m    115\u001b[0m \u001b[39mreturn\u001b[39;00m LocalQuantumTask(result)\n",
      "File \u001b[0;32m~/anaconda3/envs/braket/lib/python3.10/functools.py:926\u001b[0m, in \u001b[0;36msingledispatchmethod.__get__.<locals>._method\u001b[0;34m(*args, **kwargs)\u001b[0m\n\u001b[1;32m    924\u001b[0m \u001b[39mdef\u001b[39;00m \u001b[39m_method\u001b[39m(\u001b[39m*\u001b[39margs, \u001b[39m*\u001b[39m\u001b[39m*\u001b[39mkwargs):\n\u001b[1;32m    925\u001b[0m     method \u001b[39m=\u001b[39m \u001b[39mself\u001b[39m\u001b[39m.\u001b[39mdispatcher\u001b[39m.\u001b[39mdispatch(args[\u001b[39m0\u001b[39m]\u001b[39m.\u001b[39m\u001b[39m__class__\u001b[39m)\n\u001b[0;32m--> 926\u001b[0m     \u001b[39mreturn\u001b[39;00m method\u001b[39m.\u001b[39;49m\u001b[39m__get__\u001b[39;49m(obj, \u001b[39mcls\u001b[39;49m)(\u001b[39m*\u001b[39;49margs, \u001b[39m*\u001b[39;49m\u001b[39m*\u001b[39;49mkwargs)\n",
      "File \u001b[0;32m~/anaconda3/envs/braket/lib/python3.10/site-packages/braket/devices/local_simulator.py:274\u001b[0m, in \u001b[0;36mLocalSimulator._\u001b[0;34m(self, circuit, shots, inputs, *args, **kwargs)\u001b[0m\n\u001b[1;32m    272\u001b[0m     program \u001b[39m=\u001b[39m circuit\u001b[39m.\u001b[39mto_ir(ir_type\u001b[39m=\u001b[39mIRType\u001b[39m.\u001b[39mOPENQASM)\n\u001b[1;32m    273\u001b[0m     program\u001b[39m.\u001b[39minputs\u001b[39m.\u001b[39mupdate(inputs \u001b[39mor\u001b[39;00m {})\n\u001b[0;32m--> 274\u001b[0m     results \u001b[39m=\u001b[39m simulator\u001b[39m.\u001b[39;49mrun(program, shots, \u001b[39m*\u001b[39;49margs, \u001b[39m*\u001b[39;49m\u001b[39m*\u001b[39;49mkwargs)\n\u001b[1;32m    275\u001b[0m     \u001b[39mreturn\u001b[39;00m GateModelQuantumTaskResult\u001b[39m.\u001b[39mfrom_object(results)\n\u001b[1;32m    276\u001b[0m \u001b[39melif\u001b[39;00m DeviceActionType\u001b[39m.\u001b[39mJAQCD \u001b[39min\u001b[39;00m simulator\u001b[39m.\u001b[39mproperties\u001b[39m.\u001b[39maction:\n",
      "File \u001b[0;32m~/anaconda3/envs/braket/lib/python3.10/site-packages/braket/default_simulator/simulator.py:148\u001b[0m, in \u001b[0;36mBaseLocalSimulator.run\u001b[0;34m(self, circuit_ir, *args, **kwargs)\u001b[0m\n\u001b[1;32m    125\u001b[0m \u001b[39m\u001b[39m\u001b[39m\"\"\"\u001b[39;00m\n\u001b[1;32m    126\u001b[0m \u001b[39mSimulate a circuit using either OpenQASM or Jaqcd.\u001b[39;00m\n\u001b[1;32m    127\u001b[0m \n\u001b[0;32m   (...)\u001b[0m\n\u001b[1;32m    145\u001b[0m \u001b[39m        are requested when shots>0.\u001b[39;00m\n\u001b[1;32m    146\u001b[0m \u001b[39m\"\"\"\u001b[39;00m\n\u001b[1;32m    147\u001b[0m \u001b[39mif\u001b[39;00m \u001b[39misinstance\u001b[39m(circuit_ir, OpenQASMProgram):\n\u001b[0;32m--> 148\u001b[0m     \u001b[39mreturn\u001b[39;00m \u001b[39mself\u001b[39;49m\u001b[39m.\u001b[39;49mrun_openqasm(circuit_ir, \u001b[39m*\u001b[39;49margs, \u001b[39m*\u001b[39;49m\u001b[39m*\u001b[39;49mkwargs)\n\u001b[1;32m    149\u001b[0m \u001b[39mreturn\u001b[39;00m \u001b[39mself\u001b[39m\u001b[39m.\u001b[39mrun_jaqcd(circuit_ir, \u001b[39m*\u001b[39margs, \u001b[39m*\u001b[39m\u001b[39m*\u001b[39mkwargs)\n",
      "File \u001b[0;32m~/anaconda3/envs/braket/lib/python3.10/site-packages/braket/default_simulator/simulator.py:427\u001b[0m, in \u001b[0;36mBaseLocalSimulator.run_openqasm\u001b[0;34m(self, openqasm_ir, shots, batch_size)\u001b[0m\n\u001b[1;32m    401\u001b[0m \u001b[39mdef\u001b[39;00m \u001b[39mrun_openqasm\u001b[39m(\n\u001b[1;32m    402\u001b[0m     \u001b[39mself\u001b[39m,\n\u001b[1;32m    403\u001b[0m     openqasm_ir: OpenQASMProgram,\n\u001b[0;32m   (...)\u001b[0m\n\u001b[1;32m    406\u001b[0m     batch_size: \u001b[39mint\u001b[39m \u001b[39m=\u001b[39m \u001b[39m1\u001b[39m,\n\u001b[1;32m    407\u001b[0m ) \u001b[39m-\u001b[39m\u001b[39m>\u001b[39m GateModelTaskResult:\n\u001b[1;32m    408\u001b[0m \u001b[39m    \u001b[39m\u001b[39m\"\"\"Executes the circuit specified by the supplied `circuit_ir` on the simulator.\u001b[39;00m\n\u001b[1;32m    409\u001b[0m \n\u001b[1;32m    410\u001b[0m \u001b[39m    Args:\u001b[39;00m\n\u001b[0;32m   (...)\u001b[0m\n\u001b[1;32m    425\u001b[0m \u001b[39m            are requested when shots>0.\u001b[39;00m\n\u001b[1;32m    426\u001b[0m \u001b[39m    \"\"\"\u001b[39;00m\n\u001b[0;32m--> 427\u001b[0m     circuit \u001b[39m=\u001b[39m \u001b[39mself\u001b[39;49m\u001b[39m.\u001b[39;49mparse_program(openqasm_ir)\u001b[39m.\u001b[39mcircuit\n\u001b[1;32m    428\u001b[0m     qubit_count \u001b[39m=\u001b[39m circuit\u001b[39m.\u001b[39mnum_qubits\n\u001b[1;32m    430\u001b[0m     \u001b[39mself\u001b[39m\u001b[39m.\u001b[39m_validate_ir_results_compatibility(\n\u001b[1;32m    431\u001b[0m         circuit\u001b[39m.\u001b[39mresults,\n\u001b[1;32m    432\u001b[0m         device_action_type\u001b[39m=\u001b[39mDeviceActionType\u001b[39m.\u001b[39mOPENQASM,\n\u001b[1;32m    433\u001b[0m     )\n",
      "File \u001b[0;32m~/anaconda3/envs/braket/lib/python3.10/site-packages/braket/default_simulator/simulator.py:114\u001b[0m, in \u001b[0;36mOpenQASMSimulator.parse_program\u001b[0;34m(self, program)\u001b[0m\n\u001b[1;32m    112\u001b[0m is_file \u001b[39m=\u001b[39m program\u001b[39m.\u001b[39msource\u001b[39m.\u001b[39mendswith(\u001b[39m\"\u001b[39m\u001b[39m.qasm\u001b[39m\u001b[39m\"\u001b[39m)\n\u001b[1;32m    113\u001b[0m interpreter \u001b[39m=\u001b[39m Interpreter(\u001b[39mself\u001b[39m\u001b[39m.\u001b[39mcreate_program_context())\n\u001b[0;32m--> 114\u001b[0m \u001b[39mreturn\u001b[39;00m interpreter\u001b[39m.\u001b[39;49mrun(\n\u001b[1;32m    115\u001b[0m     source\u001b[39m=\u001b[39;49mprogram\u001b[39m.\u001b[39;49msource,\n\u001b[1;32m    116\u001b[0m     inputs\u001b[39m=\u001b[39;49mprogram\u001b[39m.\u001b[39;49minputs,\n\u001b[1;32m    117\u001b[0m     is_file\u001b[39m=\u001b[39;49mis_file,\n\u001b[1;32m    118\u001b[0m )\n",
      "File \u001b[0;32m~/anaconda3/envs/braket/lib/python3.10/site-packages/braket/default_simulator/openqasm/interpreter.py:145\u001b[0m, in \u001b[0;36mInterpreter.run\u001b[0;34m(self, source, inputs, is_file)\u001b[0m\n\u001b[1;32m    143\u001b[0m program \u001b[39m=\u001b[39m parse(source)\n\u001b[1;32m    144\u001b[0m \u001b[39mself\u001b[39m\u001b[39m.\u001b[39m_uses_advanced_language_features \u001b[39m=\u001b[39m \u001b[39mFalse\u001b[39;00m\n\u001b[0;32m--> 145\u001b[0m \u001b[39mself\u001b[39;49m\u001b[39m.\u001b[39;49mvisit(program)\n\u001b[1;32m    146\u001b[0m \u001b[39mif\u001b[39;00m \u001b[39mself\u001b[39m\u001b[39m.\u001b[39m_uses_advanced_language_features:\n\u001b[1;32m    147\u001b[0m     \u001b[39mself\u001b[39m\u001b[39m.\u001b[39mlogger\u001b[39m.\u001b[39mwarning(\n\u001b[1;32m    148\u001b[0m         \u001b[39m\"\u001b[39m\u001b[39mThis program uses OpenQASM language features that may \u001b[39m\u001b[39m\"\u001b[39m\n\u001b[1;32m    149\u001b[0m         \u001b[39m\"\u001b[39m\u001b[39mnot be supported on QPUs or on-demand simulators.\u001b[39m\u001b[39m\"\u001b[39m\n\u001b[1;32m    150\u001b[0m     )\n",
      "File \u001b[0;32m~/anaconda3/envs/braket/lib/python3.10/functools.py:926\u001b[0m, in \u001b[0;36msingledispatchmethod.__get__.<locals>._method\u001b[0;34m(*args, **kwargs)\u001b[0m\n\u001b[1;32m    924\u001b[0m \u001b[39mdef\u001b[39;00m \u001b[39m_method\u001b[39m(\u001b[39m*\u001b[39margs, \u001b[39m*\u001b[39m\u001b[39m*\u001b[39mkwargs):\n\u001b[1;32m    925\u001b[0m     method \u001b[39m=\u001b[39m \u001b[39mself\u001b[39m\u001b[39m.\u001b[39mdispatcher\u001b[39m.\u001b[39mdispatch(args[\u001b[39m0\u001b[39m]\u001b[39m.\u001b[39m\u001b[39m__class__\u001b[39m)\n\u001b[0;32m--> 926\u001b[0m     \u001b[39mreturn\u001b[39;00m method\u001b[39m.\u001b[39;49m\u001b[39m__get__\u001b[39;49m(obj, \u001b[39mcls\u001b[39;49m)(\u001b[39m*\u001b[39;49margs, \u001b[39m*\u001b[39;49m\u001b[39m*\u001b[39;49mkwargs)\n",
      "File \u001b[0;32m~/anaconda3/envs/braket/lib/python3.10/site-packages/braket/default_simulator/openqasm/interpreter.py:172\u001b[0m, in \u001b[0;36mInterpreter._\u001b[0;34m(self, node)\u001b[0m\n\u001b[1;32m    170\u001b[0m \u001b[39m@visit\u001b[39m\u001b[39m.\u001b[39mregister\n\u001b[1;32m    171\u001b[0m \u001b[39mdef\u001b[39;00m \u001b[39m_\u001b[39m(\u001b[39mself\u001b[39m, node: Program) \u001b[39m-\u001b[39m\u001b[39m>\u001b[39m \u001b[39mNone\u001b[39;00m:\n\u001b[0;32m--> 172\u001b[0m     \u001b[39mself\u001b[39;49m\u001b[39m.\u001b[39;49mvisit(node\u001b[39m.\u001b[39;49mstatements)\n",
      "File \u001b[0;32m~/anaconda3/envs/braket/lib/python3.10/functools.py:926\u001b[0m, in \u001b[0;36msingledispatchmethod.__get__.<locals>._method\u001b[0;34m(*args, **kwargs)\u001b[0m\n\u001b[1;32m    924\u001b[0m \u001b[39mdef\u001b[39;00m \u001b[39m_method\u001b[39m(\u001b[39m*\u001b[39margs, \u001b[39m*\u001b[39m\u001b[39m*\u001b[39mkwargs):\n\u001b[1;32m    925\u001b[0m     method \u001b[39m=\u001b[39m \u001b[39mself\u001b[39m\u001b[39m.\u001b[39mdispatcher\u001b[39m.\u001b[39mdispatch(args[\u001b[39m0\u001b[39m]\u001b[39m.\u001b[39m\u001b[39m__class__\u001b[39m)\n\u001b[0;32m--> 926\u001b[0m     \u001b[39mreturn\u001b[39;00m method\u001b[39m.\u001b[39;49m\u001b[39m__get__\u001b[39;49m(obj, \u001b[39mcls\u001b[39;49m)(\u001b[39m*\u001b[39;49margs, \u001b[39m*\u001b[39;49m\u001b[39m*\u001b[39;49mkwargs)\n",
      "File \u001b[0;32m~/anaconda3/envs/braket/lib/python3.10/site-packages/braket/default_simulator/openqasm/interpreter.py:168\u001b[0m, in \u001b[0;36mInterpreter._\u001b[0;34m(self, node_list)\u001b[0m\n\u001b[1;32m    165\u001b[0m \u001b[39m@visit\u001b[39m\u001b[39m.\u001b[39mregister\n\u001b[1;32m    166\u001b[0m \u001b[39mdef\u001b[39;00m \u001b[39m_\u001b[39m(\u001b[39mself\u001b[39m, node_list: \u001b[39mlist\u001b[39m) \u001b[39m-\u001b[39m\u001b[39m>\u001b[39m \u001b[39mlist\u001b[39m[QASMNode]:\n\u001b[1;32m    167\u001b[0m \u001b[39m    \u001b[39m\u001b[39m\"\"\"Generic visit function for a list of AST nodes\"\"\"\u001b[39;00m\n\u001b[0;32m--> 168\u001b[0m     \u001b[39mreturn\u001b[39;00m [n \u001b[39mfor\u001b[39;00m n \u001b[39min\u001b[39;00m [\u001b[39mself\u001b[39m\u001b[39m.\u001b[39mvisit(node) \u001b[39mfor\u001b[39;00m node \u001b[39min\u001b[39;00m node_list] \u001b[39mif\u001b[39;00m n \u001b[39mis\u001b[39;00m \u001b[39mnot\u001b[39;00m \u001b[39mNone\u001b[39;00m]\n",
      "File \u001b[0;32m~/anaconda3/envs/braket/lib/python3.10/site-packages/braket/default_simulator/openqasm/interpreter.py:168\u001b[0m, in \u001b[0;36m<listcomp>\u001b[0;34m(.0)\u001b[0m\n\u001b[1;32m    165\u001b[0m \u001b[39m@visit\u001b[39m\u001b[39m.\u001b[39mregister\n\u001b[1;32m    166\u001b[0m \u001b[39mdef\u001b[39;00m \u001b[39m_\u001b[39m(\u001b[39mself\u001b[39m, node_list: \u001b[39mlist\u001b[39m) \u001b[39m-\u001b[39m\u001b[39m>\u001b[39m \u001b[39mlist\u001b[39m[QASMNode]:\n\u001b[1;32m    167\u001b[0m \u001b[39m    \u001b[39m\u001b[39m\"\"\"Generic visit function for a list of AST nodes\"\"\"\u001b[39;00m\n\u001b[0;32m--> 168\u001b[0m     \u001b[39mreturn\u001b[39;00m [n \u001b[39mfor\u001b[39;00m n \u001b[39min\u001b[39;00m [\u001b[39mself\u001b[39;49m\u001b[39m.\u001b[39;49mvisit(node) \u001b[39mfor\u001b[39;00m node \u001b[39min\u001b[39;00m node_list] \u001b[39mif\u001b[39;00m n \u001b[39mis\u001b[39;00m \u001b[39mnot\u001b[39;00m \u001b[39mNone\u001b[39;00m]\n",
      "File \u001b[0;32m~/anaconda3/envs/braket/lib/python3.10/functools.py:926\u001b[0m, in \u001b[0;36msingledispatchmethod.__get__.<locals>._method\u001b[0;34m(*args, **kwargs)\u001b[0m\n\u001b[1;32m    924\u001b[0m \u001b[39mdef\u001b[39;00m \u001b[39m_method\u001b[39m(\u001b[39m*\u001b[39margs, \u001b[39m*\u001b[39m\u001b[39m*\u001b[39mkwargs):\n\u001b[1;32m    925\u001b[0m     method \u001b[39m=\u001b[39m \u001b[39mself\u001b[39m\u001b[39m.\u001b[39mdispatcher\u001b[39m.\u001b[39mdispatch(args[\u001b[39m0\u001b[39m]\u001b[39m.\u001b[39m\u001b[39m__class__\u001b[39m)\n\u001b[0;32m--> 926\u001b[0m     \u001b[39mreturn\u001b[39;00m method\u001b[39m.\u001b[39;49m\u001b[39m__get__\u001b[39;49m(obj, \u001b[39mcls\u001b[39;49m)(\u001b[39m*\u001b[39;49margs, \u001b[39m*\u001b[39;49m\u001b[39m*\u001b[39;49mkwargs)\n",
      "File \u001b[0;32m~/anaconda3/envs/braket/lib/python3.10/site-packages/braket/default_simulator/openqasm/interpreter.py:543\u001b[0m, in \u001b[0;36mInterpreter._\u001b[0;34m(self, node)\u001b[0m\n\u001b[1;32m    541\u001b[0m \u001b[39m@visit\u001b[39m\u001b[39m.\u001b[39mregister\n\u001b[1;32m    542\u001b[0m \u001b[39mdef\u001b[39;00m \u001b[39m_\u001b[39m(\u001b[39mself\u001b[39m, node: Pragma) \u001b[39m-\u001b[39m\u001b[39m>\u001b[39m \u001b[39mNone\u001b[39;00m:\n\u001b[0;32m--> 543\u001b[0m     parsed \u001b[39m=\u001b[39m \u001b[39mself\u001b[39;49m\u001b[39m.\u001b[39;49mcontext\u001b[39m.\u001b[39;49mparse_pragma(node\u001b[39m.\u001b[39;49mcommand)\n\u001b[1;32m    544\u001b[0m     \u001b[39mif\u001b[39;00m node\u001b[39m.\u001b[39mcommand\u001b[39m.\u001b[39mstartswith(\u001b[39m\"\u001b[39m\u001b[39mbraket result\u001b[39m\u001b[39m\"\u001b[39m):\n\u001b[1;32m    545\u001b[0m         \u001b[39mif\u001b[39;00m \u001b[39mnot\u001b[39;00m parsed:\n",
      "File \u001b[0;32m~/anaconda3/envs/braket/lib/python3.10/site-packages/braket/default_simulator/openqasm/program_context.py:444\u001b[0m, in \u001b[0;36mAbstractProgramContext.parse_pragma\u001b[0;34m(self, pragma_body)\u001b[0m\n\u001b[1;32m    437\u001b[0m \u001b[39mdef\u001b[39;00m \u001b[39mparse_pragma\u001b[39m(\u001b[39mself\u001b[39m, pragma_body: \u001b[39mstr\u001b[39m):\n\u001b[1;32m    438\u001b[0m \u001b[39m    \u001b[39m\u001b[39m\"\"\"\u001b[39;00m\n\u001b[1;32m    439\u001b[0m \u001b[39m    Parse pragma\u001b[39;00m\n\u001b[1;32m    440\u001b[0m \n\u001b[1;32m    441\u001b[0m \u001b[39m    Args:\u001b[39;00m\n\u001b[1;32m    442\u001b[0m \u001b[39m        pragma_body (str): The body of the pragma statement.\u001b[39;00m\n\u001b[1;32m    443\u001b[0m \u001b[39m    \"\"\"\u001b[39;00m\n\u001b[0;32m--> 444\u001b[0m     \u001b[39mreturn\u001b[39;00m parse_braket_pragma(pragma_body, \u001b[39mself\u001b[39;49m\u001b[39m.\u001b[39;49mqubit_mapping)\n",
      "File \u001b[0;32m~/anaconda3/envs/braket/lib/python3.10/site-packages/braket/default_simulator/openqasm/parser/braket_pragmas.py:216\u001b[0m, in \u001b[0;36mparse_braket_pragma\u001b[0;34m(pragma_body, qubit_table)\u001b[0m\n\u001b[1;32m    214\u001b[0m parser \u001b[39m=\u001b[39m BraketPragmasParser(stream)\n\u001b[1;32m    215\u001b[0m tree \u001b[39m=\u001b[39m parser\u001b[39m.\u001b[39mbraketPragma()\n\u001b[0;32m--> 216\u001b[0m visited \u001b[39m=\u001b[39m BraketPragmaNodeVisitor(qubit_table)\u001b[39m.\u001b[39;49mvisit(tree)\n\u001b[1;32m    217\u001b[0m \u001b[39mreturn\u001b[39;00m visited\n",
      "File \u001b[0;32m~/anaconda3/envs/braket/lib/python3.10/site-packages/antlr4/tree/Tree.py:34\u001b[0m, in \u001b[0;36mParseTreeVisitor.visit\u001b[0;34m(self, tree)\u001b[0m\n\u001b[1;32m     33\u001b[0m \u001b[39mdef\u001b[39;00m \u001b[39mvisit\u001b[39m(\u001b[39mself\u001b[39m, tree):\n\u001b[0;32m---> 34\u001b[0m     \u001b[39mreturn\u001b[39;00m tree\u001b[39m.\u001b[39;49maccept(\u001b[39mself\u001b[39;49m)\n",
      "File \u001b[0;32m~/anaconda3/envs/braket/lib/python3.10/site-packages/braket/default_simulator/openqasm/parser/generated/BraketPragmasParser.py:861\u001b[0m, in \u001b[0;36mBraketPragmasParser.BraketPragmaContext.accept\u001b[0;34m(self, visitor)\u001b[0m\n\u001b[1;32m    859\u001b[0m \u001b[39mdef\u001b[39;00m \u001b[39maccept\u001b[39m(\u001b[39mself\u001b[39m, visitor:ParseTreeVisitor):\n\u001b[1;32m    860\u001b[0m     \u001b[39mif\u001b[39;00m \u001b[39mhasattr\u001b[39m( visitor, \u001b[39m\"\u001b[39m\u001b[39mvisitBraketPragma\u001b[39m\u001b[39m\"\u001b[39m ):\n\u001b[0;32m--> 861\u001b[0m         \u001b[39mreturn\u001b[39;00m visitor\u001b[39m.\u001b[39;49mvisitBraketPragma(\u001b[39mself\u001b[39;49m)\n\u001b[1;32m    862\u001b[0m     \u001b[39melse\u001b[39;00m:\n\u001b[1;32m    863\u001b[0m         \u001b[39mreturn\u001b[39;00m visitor\u001b[39m.\u001b[39mvisitChildren(\u001b[39mself\u001b[39m)\n",
      "File \u001b[0;32m~/anaconda3/envs/braket/lib/python3.10/site-packages/braket/default_simulator/openqasm/parser/generated/BraketPragmasParserVisitor.py:14\u001b[0m, in \u001b[0;36mBraketPragmasParserVisitor.visitBraketPragma\u001b[0;34m(self, ctx)\u001b[0m\n\u001b[1;32m     13\u001b[0m \u001b[39mdef\u001b[39;00m \u001b[39mvisitBraketPragma\u001b[39m(\u001b[39mself\u001b[39m, ctx:BraketPragmasParser\u001b[39m.\u001b[39mBraketPragmaContext):\n\u001b[0;32m---> 14\u001b[0m     \u001b[39mreturn\u001b[39;00m \u001b[39mself\u001b[39;49m\u001b[39m.\u001b[39;49mvisitChildren(ctx)\n",
      "File \u001b[0;32m~/anaconda3/envs/braket/lib/python3.10/site-packages/antlr4/tree/Tree.py:44\u001b[0m, in \u001b[0;36mParseTreeVisitor.visitChildren\u001b[0;34m(self, node)\u001b[0m\n\u001b[1;32m     41\u001b[0m         \u001b[39mreturn\u001b[39;00m result\n\u001b[1;32m     43\u001b[0m     c \u001b[39m=\u001b[39m node\u001b[39m.\u001b[39mgetChild(i)\n\u001b[0;32m---> 44\u001b[0m     childResult \u001b[39m=\u001b[39m c\u001b[39m.\u001b[39;49maccept(\u001b[39mself\u001b[39;49m)\n\u001b[1;32m     45\u001b[0m     result \u001b[39m=\u001b[39m \u001b[39mself\u001b[39m\u001b[39m.\u001b[39maggregateResult(result, childResult)\n\u001b[1;32m     47\u001b[0m \u001b[39mreturn\u001b[39;00m result\n",
      "File \u001b[0;32m~/anaconda3/envs/braket/lib/python3.10/site-packages/braket/default_simulator/openqasm/parser/generated/BraketPragmasParser.py:1226\u001b[0m, in \u001b[0;36mBraketPragmasParser.BraketResultPragmaContext.accept\u001b[0;34m(self, visitor)\u001b[0m\n\u001b[1;32m   1224\u001b[0m \u001b[39mdef\u001b[39;00m \u001b[39maccept\u001b[39m(\u001b[39mself\u001b[39m, visitor:ParseTreeVisitor):\n\u001b[1;32m   1225\u001b[0m     \u001b[39mif\u001b[39;00m \u001b[39mhasattr\u001b[39m( visitor, \u001b[39m\"\u001b[39m\u001b[39mvisitBraketResultPragma\u001b[39m\u001b[39m\"\u001b[39m ):\n\u001b[0;32m-> 1226\u001b[0m         \u001b[39mreturn\u001b[39;00m visitor\u001b[39m.\u001b[39;49mvisitBraketResultPragma(\u001b[39mself\u001b[39;49m)\n\u001b[1;32m   1227\u001b[0m     \u001b[39melse\u001b[39;00m:\n\u001b[1;32m   1228\u001b[0m         \u001b[39mreturn\u001b[39;00m visitor\u001b[39m.\u001b[39mvisitChildren(\u001b[39mself\u001b[39m)\n",
      "File \u001b[0;32m~/anaconda3/envs/braket/lib/python3.10/site-packages/braket/default_simulator/openqasm/parser/generated/BraketPragmasParserVisitor.py:39\u001b[0m, in \u001b[0;36mBraketPragmasParserVisitor.visitBraketResultPragma\u001b[0;34m(self, ctx)\u001b[0m\n\u001b[1;32m     38\u001b[0m \u001b[39mdef\u001b[39;00m \u001b[39mvisitBraketResultPragma\u001b[39m(\u001b[39mself\u001b[39m, ctx:BraketPragmasParser\u001b[39m.\u001b[39mBraketResultPragmaContext):\n\u001b[0;32m---> 39\u001b[0m     \u001b[39mreturn\u001b[39;00m \u001b[39mself\u001b[39;49m\u001b[39m.\u001b[39;49mvisitChildren(ctx)\n",
      "File \u001b[0;32m~/anaconda3/envs/braket/lib/python3.10/site-packages/antlr4/tree/Tree.py:44\u001b[0m, in \u001b[0;36mParseTreeVisitor.visitChildren\u001b[0;34m(self, node)\u001b[0m\n\u001b[1;32m     41\u001b[0m         \u001b[39mreturn\u001b[39;00m result\n\u001b[1;32m     43\u001b[0m     c \u001b[39m=\u001b[39m node\u001b[39m.\u001b[39mgetChild(i)\n\u001b[0;32m---> 44\u001b[0m     childResult \u001b[39m=\u001b[39m c\u001b[39m.\u001b[39;49maccept(\u001b[39mself\u001b[39;49m)\n\u001b[1;32m     45\u001b[0m     result \u001b[39m=\u001b[39m \u001b[39mself\u001b[39m\u001b[39m.\u001b[39maggregateResult(result, childResult)\n\u001b[1;32m     47\u001b[0m \u001b[39mreturn\u001b[39;00m result\n",
      "File \u001b[0;32m~/anaconda3/envs/braket/lib/python3.10/site-packages/braket/default_simulator/openqasm/parser/generated/BraketPragmasParser.py:1290\u001b[0m, in \u001b[0;36mBraketPragmasParser.ResultTypeContext.accept\u001b[0;34m(self, visitor)\u001b[0m\n\u001b[1;32m   1288\u001b[0m \u001b[39mdef\u001b[39;00m \u001b[39maccept\u001b[39m(\u001b[39mself\u001b[39m, visitor:ParseTreeVisitor):\n\u001b[1;32m   1289\u001b[0m     \u001b[39mif\u001b[39;00m \u001b[39mhasattr\u001b[39m( visitor, \u001b[39m\"\u001b[39m\u001b[39mvisitResultType\u001b[39m\u001b[39m\"\u001b[39m ):\n\u001b[0;32m-> 1290\u001b[0m         \u001b[39mreturn\u001b[39;00m visitor\u001b[39m.\u001b[39;49mvisitResultType(\u001b[39mself\u001b[39;49m)\n\u001b[1;32m   1291\u001b[0m     \u001b[39melse\u001b[39;00m:\n\u001b[1;32m   1292\u001b[0m         \u001b[39mreturn\u001b[39;00m visitor\u001b[39m.\u001b[39mvisitChildren(\u001b[39mself\u001b[39m)\n",
      "File \u001b[0;32m~/anaconda3/envs/braket/lib/python3.10/site-packages/braket/default_simulator/openqasm/parser/generated/BraketPragmasParserVisitor.py:44\u001b[0m, in \u001b[0;36mBraketPragmasParserVisitor.visitResultType\u001b[0;34m(self, ctx)\u001b[0m\n\u001b[1;32m     43\u001b[0m \u001b[39mdef\u001b[39;00m \u001b[39mvisitResultType\u001b[39m(\u001b[39mself\u001b[39m, ctx:BraketPragmasParser\u001b[39m.\u001b[39mResultTypeContext):\n\u001b[0;32m---> 44\u001b[0m     \u001b[39mreturn\u001b[39;00m \u001b[39mself\u001b[39;49m\u001b[39m.\u001b[39;49mvisitChildren(ctx)\n",
      "File \u001b[0;32m~/anaconda3/envs/braket/lib/python3.10/site-packages/antlr4/tree/Tree.py:44\u001b[0m, in \u001b[0;36mParseTreeVisitor.visitChildren\u001b[0;34m(self, node)\u001b[0m\n\u001b[1;32m     41\u001b[0m         \u001b[39mreturn\u001b[39;00m result\n\u001b[1;32m     43\u001b[0m     c \u001b[39m=\u001b[39m node\u001b[39m.\u001b[39mgetChild(i)\n\u001b[0;32m---> 44\u001b[0m     childResult \u001b[39m=\u001b[39m c\u001b[39m.\u001b[39;49maccept(\u001b[39mself\u001b[39;49m)\n\u001b[1;32m     45\u001b[0m     result \u001b[39m=\u001b[39m \u001b[39mself\u001b[39m\u001b[39m.\u001b[39maggregateResult(result, childResult)\n\u001b[1;32m     47\u001b[0m \u001b[39mreturn\u001b[39;00m result\n",
      "File \u001b[0;32m~/anaconda3/envs/braket/lib/python3.10/site-packages/braket/default_simulator/openqasm/parser/generated/BraketPragmasParser.py:1867\u001b[0m, in \u001b[0;36mBraketPragmasParser.ObservableResultTypeContext.accept\u001b[0;34m(self, visitor)\u001b[0m\n\u001b[1;32m   1865\u001b[0m \u001b[39mdef\u001b[39;00m \u001b[39maccept\u001b[39m(\u001b[39mself\u001b[39m, visitor:ParseTreeVisitor):\n\u001b[1;32m   1866\u001b[0m     \u001b[39mif\u001b[39;00m \u001b[39mhasattr\u001b[39m( visitor, \u001b[39m\"\u001b[39m\u001b[39mvisitObservableResultType\u001b[39m\u001b[39m\"\u001b[39m ):\n\u001b[0;32m-> 1867\u001b[0m         \u001b[39mreturn\u001b[39;00m visitor\u001b[39m.\u001b[39;49mvisitObservableResultType(\u001b[39mself\u001b[39;49m)\n\u001b[1;32m   1868\u001b[0m     \u001b[39melse\u001b[39;00m:\n\u001b[1;32m   1869\u001b[0m         \u001b[39mreturn\u001b[39;00m visitor\u001b[39m.\u001b[39mvisitChildren(\u001b[39mself\u001b[39m)\n",
      "File \u001b[0;32m~/anaconda3/envs/braket/lib/python3.10/site-packages/braket/default_simulator/openqasm/parser/braket_pragmas.py:98\u001b[0m, in \u001b[0;36mBraketPragmaNodeVisitor.visitObservableResultType\u001b[0;34m(self, ctx)\u001b[0m\n\u001b[1;32m     92\u001b[0m result_type \u001b[39m=\u001b[39m ctx\u001b[39m.\u001b[39mobservableResultTypeName()\u001b[39m.\u001b[39mgetText()\n\u001b[1;32m     93\u001b[0m observable_result_type_map \u001b[39m=\u001b[39m {\n\u001b[1;32m     94\u001b[0m     \u001b[39m\"\u001b[39m\u001b[39mexpectation\u001b[39m\u001b[39m\"\u001b[39m: Expectation,\n\u001b[1;32m     95\u001b[0m     \u001b[39m\"\u001b[39m\u001b[39msample\u001b[39m\u001b[39m\"\u001b[39m: Sample,\n\u001b[1;32m     96\u001b[0m     \u001b[39m\"\u001b[39m\u001b[39mvariance\u001b[39m\u001b[39m\"\u001b[39m: Variance,\n\u001b[1;32m     97\u001b[0m }\n\u001b[0;32m---> 98\u001b[0m observables, targets \u001b[39m=\u001b[39m \u001b[39mself\u001b[39m\u001b[39m.\u001b[39mvisit(ctx\u001b[39m.\u001b[39mobservable())\n\u001b[1;32m     99\u001b[0m obs \u001b[39m=\u001b[39m observable_result_type_map[result_type](targets\u001b[39m=\u001b[39mtargets, observable\u001b[39m=\u001b[39mobservables)\n\u001b[1;32m    100\u001b[0m \u001b[39mreturn\u001b[39;00m obs\n",
      "\u001b[0;31mTypeError\u001b[0m: cannot unpack non-iterable NoneType object"
     ]
    }
   ],
   "source": [
    "job = device.run(braket_circuit, shots=n_shots, inputs=bound_parameters)\n",
    "\n",
    "# Run multiple circuits at once\n",
    "# job = device.run_batch(\n",
    "#     batch_circuits,\n",
    "#     inputs={'theta': thetas}, \n",
    "#     shots=100\n",
    "# )\n",
    "\n",
    "print('Measurement Counts:', job.result().measurement_counts)\n",
    "print('Measurement Probabilities:', job.result().measurement_probabilities)\n",
    "\n",
    "# print(\"Final EXACT state vector:\\n\", job.result().values[0])\n",
    "print(f\"Expectation value <XZ>:\", np.round(job.result().values[0], 5))"
   ]
  },
  {
   "cell_type": "code",
   "execution_count": null,
   "metadata": {},
   "outputs": [
    {
     "data": {
      "text/plain": [
       "Circuit('instructions': [Instruction('operator': X('qubit_count': 1), 'target': QubitSet([Qubit(0)]), 'control': QubitSet([]), 'control_state': (), 'power': 1)])"
      ]
     },
     "execution_count": 58,
     "metadata": {},
     "output_type": "execute_result"
    }
   ],
   "source": [
    "from braket.circuits import Circuit, Observable\n",
    "from braket.devices import LocalSimulator\n",
    "\n",
    "# Define your Hamiltonian\n",
    "observable = 0.25 * Observable.X() @ Observable.X() + 0.5 * Observable.Z() @ Observable.Z()\n",
    "\n",
    "# Initialize your quantum circuit as needed\n",
    "circuit = Circuit()\n",
    "circuit.x(0)\n",
    "# circuit.h(0).cnot(0, 1)"
   ]
  },
  {
   "cell_type": "code",
   "execution_count": null,
   "metadata": {},
   "outputs": [
    {
     "name": "stdout",
     "output_type": "stream",
     "text": [
      "T  : |0|      Result Types      |\n",
      "                                 \n",
      "q0 : -X-Expectation(Hamiltonian)-\n",
      "                                 \n",
      "q1 : ---Expectation(Hamiltonian)-\n",
      "\n",
      "T  : |0|      Result Types      |\n",
      "\n",
      "Expectation value: [-0.01, 1.0]\n"
     ]
    }
   ],
   "source": [
    "# Define observables for each qubit\n",
    "observable_q0 = Observable.X() + Observable.X()\n",
    "observable_q1 = Observable.Z() + Observable.Z()\n",
    "\n",
    "# Measure the expectation value for the observable on qubit 0\n",
    "circuit.expectation(observable=observable_q0, target=[[0], [0]])\n",
    "\n",
    "# Measure the expectation value for the observable on qubit 1\n",
    "circuit.expectation(observable=observable_q1, target=[[1], [1]])\n",
    "print(circuit)\n",
    "\n",
    "# Add your quantum gates to prepare the state |psi>\n",
    "# For example, circuit.h(0).cnot(0, 1) to prepare an entangled state\n",
    "\n",
    "\n",
    "# Set the device to run your circuit\n",
    "device = LocalSimulator()\n",
    "\n",
    "# Run the circuit with the observable to measure the expectation value\n",
    "task = device.run(circuit, shots=1000)\n",
    "\n",
    "# Get the result\n",
    "result = task.result()\n",
    "\n",
    "# # Extract the expectation value from the result\n",
    "expectation_values = result.values\n",
    "\n",
    "print(f\"\\nExpectation value: {expectation_values}\")"
   ]
  },
  {
   "attachments": {},
   "cell_type": "markdown",
   "metadata": {},
   "source": [
    "#### Run a small batch of braket cirucits with ``run_batch``"
   ]
  },
  {
   "cell_type": "code",
   "execution_count": 26,
   "metadata": {},
   "outputs": [],
   "source": [
    "from braket.circuits import noises"
   ]
  },
  {
   "cell_type": "code",
   "execution_count": 27,
   "metadata": {},
   "outputs": [
    {
     "ename": "AttributeError",
     "evalue": "'LocalSimulator' object has no attribute '_validate_device_noise_model_support'",
     "output_type": "error",
     "traceback": [
      "\u001b[0;31m---------------------------------------------------------------------------\u001b[0m",
      "\u001b[0;31mAttributeError\u001b[0m                            Traceback (most recent call last)",
      "Cell \u001b[0;32mIn[27], line 1\u001b[0m\n\u001b[0;32m----> 1\u001b[0m device \u001b[39m=\u001b[39m LocalSimulator(backend\u001b[39m=\u001b[39;49m\u001b[39m'\u001b[39;49m\u001b[39mbraket_dm\u001b[39;49m\u001b[39m'\u001b[39;49m, noise_model\u001b[39m=\u001b[39;49mnoises\u001b[39m.\u001b[39;49mBitFlip(probability\u001b[39m=\u001b[39;49m\u001b[39m0.1\u001b[39;49m))\n",
      "File \u001b[0;32m~/anaconda3/envs/braket/lib/python3.10/site-packages/braket/devices/local_simulator.py:75\u001b[0m, in \u001b[0;36mLocalSimulator.__init__\u001b[0;34m(self, backend, noise_model)\u001b[0m\n\u001b[1;32m     73\u001b[0m \u001b[39mself\u001b[39m\u001b[39m.\u001b[39m_delegate \u001b[39m=\u001b[39m delegate\n\u001b[1;32m     74\u001b[0m \u001b[39mif\u001b[39;00m noise_model:\n\u001b[0;32m---> 75\u001b[0m     \u001b[39mself\u001b[39;49m\u001b[39m.\u001b[39;49m_validate_device_noise_model_support(noise_model)\n\u001b[1;32m     76\u001b[0m \u001b[39mself\u001b[39m\u001b[39m.\u001b[39m_noise_model \u001b[39m=\u001b[39m noise_model\n",
      "\u001b[0;31mAttributeError\u001b[0m: 'LocalSimulator' object has no attribute '_validate_device_noise_model_support'"
     ]
    }
   ],
   "source": [
    "device = LocalSimulator(backend='braket_dm', noise_model=noises.BitFlip(probability=0.1))"
   ]
  },
  {
   "cell_type": "code",
   "execution_count": 19,
   "metadata": {},
   "outputs": [],
   "source": [
    "batchsize = 5\n",
    "\n",
    "# Create a list of circuits\n",
    "batch_circuits = [braket_circuit] * batchsize\n",
    "\n",
    "# Create a list of parameter dicts\n",
    "batch_bound_parameters = [bound_parameters] * batchsize"
   ]
  },
  {
   "cell_type": "code",
   "execution_count": 126,
   "metadata": {},
   "outputs": [
    {
     "data": {
      "text/plain": [
       "5"
      ]
     },
     "execution_count": 126,
     "metadata": {},
     "output_type": "execute_result"
    }
   ],
   "source": [
    "len(batch_bound_parameters)"
   ]
  },
  {
   "cell_type": "code",
   "execution_count": 127,
   "metadata": {},
   "outputs": [
    {
     "data": {
      "text/plain": [
       "5"
      ]
     },
     "execution_count": 127,
     "metadata": {},
     "output_type": "execute_result"
    }
   ],
   "source": [
    "len(batch_circuits)"
   ]
  },
  {
   "cell_type": "code",
   "execution_count": 123,
   "metadata": {},
   "outputs": [
    {
     "ename": "ValueError",
     "evalue": "The number of circuits must match the number of dictionaries of bound parameters.",
     "output_type": "error",
     "traceback": [
      "\u001b[0;31m---------------------------------------------------------------------------\u001b[0m",
      "\u001b[0;31mValueError\u001b[0m                                Traceback (most recent call last)",
      "Cell \u001b[0;32mIn[123], line 2\u001b[0m\n\u001b[1;32m      1\u001b[0m estimator \u001b[39m=\u001b[39m AWSEstimator(device)\n\u001b[0;32m----> 2\u001b[0m batch_results \u001b[39m=\u001b[39m estimator\u001b[39m.\u001b[39;49mrun(batch_circuits, Observable\u001b[39m.\u001b[39;49mZ(), [\u001b[39m0\u001b[39;49m], batch_bound_parameters, n_shots)\n",
      "Cell \u001b[0;32mIn[119], line 69\u001b[0m, in \u001b[0;36mAWSEstimator.run\u001b[0;34m(self, circuit, observables, op_coefficients, target_register, bound_parameters, shots)\u001b[0m\n\u001b[1;32m     56\u001b[0m \u001b[39mdef\u001b[39;00m \u001b[39mrun\u001b[39m(\n\u001b[1;32m     57\u001b[0m     \u001b[39mself\u001b[39m, \n\u001b[1;32m     58\u001b[0m     circuit, \n\u001b[0;32m   (...)\u001b[0m\n\u001b[1;32m     66\u001b[0m     \u001b[39m# assert len(circuit.parameters) == len(bound_parameters), \"Number of parameters and bound parameters must match.\"\u001b[39;00m\n\u001b[1;32m     67\u001b[0m     \u001b[39m# assert observables.qubit_count == len(target_register), \"Number of target qubits and observable qubits must match.\"\u001b[39;00m\n\u001b[0;32m---> 69\u001b[0m     \u001b[39mself\u001b[39;49m\u001b[39m.\u001b[39;49m_validate_inputs(circuit, bound_parameters)\n\u001b[1;32m     71\u001b[0m     \u001b[39mif\u001b[39;00m \u001b[39misinstance\u001b[39m(circuit, \u001b[39mlist\u001b[39m) \u001b[39mand\u001b[39;00m \u001b[39mlen\u001b[39m(circuit) \u001b[39m>\u001b[39m \u001b[39m1\u001b[39m: \u001b[39m# Batch execution\u001b[39;00m\n\u001b[1;32m     72\u001b[0m         \u001b[39mfor\u001b[39;00m circ \u001b[39min\u001b[39;00m circuit:\n",
      "Cell \u001b[0;32mIn[119], line 21\u001b[0m, in \u001b[0;36mAWSEstimator._validate_inputs\u001b[0;34m(self, circuit, bound_parameters)\u001b[0m\n\u001b[1;32m     19\u001b[0m \u001b[39m# Check if the number of circuits matches the number of parameter dictionaries\u001b[39;00m\n\u001b[1;32m     20\u001b[0m \u001b[39mif\u001b[39;00m \u001b[39mlen\u001b[39m(circuit) \u001b[39m!=\u001b[39m \u001b[39mlen\u001b[39m(bound_parameters):\n\u001b[0;32m---> 21\u001b[0m     \u001b[39mraise\u001b[39;00m \u001b[39mValueError\u001b[39;00m(\u001b[39m\"\u001b[39m\u001b[39mThe number of circuits must match the number of dictionaries of bound parameters.\u001b[39m\u001b[39m\"\u001b[39m)\n",
      "\u001b[0;31mValueError\u001b[0m: The number of circuits must match the number of dictionaries of bound parameters."
     ]
    }
   ],
   "source": [
    "estimator = AWSEstimator(device)\n",
    "batch_results = estimator.run(batch_circuits, Observable.Z(), [0], batch_bound_parameters, n_shots)"
   ]
  },
  {
   "cell_type": "code",
   "execution_count": null,
   "metadata": {},
   "outputs": [],
   "source": [
    "batch_results = device.run_batch(batch_circuits, inputs=batch_bound_parameters, shots=n_shots)"
   ]
  },
  {
   "cell_type": "code",
   "execution_count": null,
   "metadata": {},
   "outputs": [
    {
     "name": "stdout",
     "output_type": "stream",
     "text": [
      "Batch Number: 0\n",
      "Measurement Counts: Counter({'10': 505, '00': 495})\n",
      "Measurement Probabilities: {'00': 0.495, '10': 0.505}\n",
      "Expectation value <XZ>: -0.01 \n",
      "\n",
      "Batch Number: 1\n",
      "Measurement Counts: Counter({'00': 509, '10': 491})\n",
      "Measurement Probabilities: {'00': 0.509, '10': 0.491}\n",
      "Expectation value <XZ>: 0.018 \n",
      "\n",
      "Batch Number: 2\n",
      "Measurement Counts: Counter({'00': 538, '10': 462})\n",
      "Measurement Probabilities: {'00': 0.538, '10': 0.462}\n",
      "Expectation value <XZ>: 0.076 \n",
      "\n",
      "Batch Number: 3\n",
      "Measurement Counts: Counter({'00': 512, '10': 488})\n",
      "Measurement Probabilities: {'10': 0.488, '00': 0.512}\n",
      "Expectation value <XZ>: 0.024 \n",
      "\n",
      "Batch Number: 4\n",
      "Measurement Counts: Counter({'00': 505, '10': 495})\n",
      "Measurement Probabilities: {'10': 0.495, '00': 0.505}\n",
      "Expectation value <XZ>: 0.01 \n",
      "\n"
     ]
    }
   ],
   "source": [
    "for ind, result in enumerate(batch_results.results()):\n",
    "    print('Batch Number:', ind+1)\n",
    "    print('Measurement Counts:', result.measurement_counts)\n",
    "    print('Measurement Probabilities:', result.measurement_probabilities)\n",
    "    print(f\"Expectation value <XZ>:\", np.round(result.values[0], 5), '\\n')"
   ]
  },
  {
   "attachments": {},
   "cell_type": "markdown",
   "metadata": {},
   "source": [
    "#### Run same circuit with Qiskit Statevector Estimator"
   ]
  },
  {
   "cell_type": "code",
   "execution_count": null,
   "metadata": {},
   "outputs": [],
   "source": [
    "from qiskit.primitives import Estimator\n",
    "from qiskit.quantum_info.operators import SparsePauliOp\n",
    "\n",
    "estimator = Estimator()\n",
    "observable = SparsePauliOp(\n",
    "    [observable_string_xx], # , observable_string_zz], \n",
    "    coeffs=[1.0] #, 1.0]\n",
    ")"
   ]
  },
  {
   "cell_type": "code",
   "execution_count": null,
   "metadata": {},
   "outputs": [],
   "source": [
    "qiskit_circuit.draw('mpl')"
   ]
  },
  {
   "cell_type": "code",
   "execution_count": null,
   "metadata": {},
   "outputs": [],
   "source": [
    "qiskit_job = estimator.run(\n",
    "    circuits=qiskit_circuit, \n",
    "    observables=observable, \n",
    "    parameter_values=action_vector,\n",
    "    shots=n_shots\n",
    ")"
   ]
  },
  {
   "cell_type": "code",
   "execution_count": null,
   "metadata": {},
   "outputs": [],
   "source": [
    "def create_expectation_string(prefactors, observable_strings):\n",
    "    if len(prefactors) != len(observable_strings):\n",
    "        raise ValueError(\"The lengths of prefactors and observable_strings should be the same.\")\n",
    "\n",
    "    expectation_string = \"Expectation value \"\n",
    "    for i in range(len(prefactors)):\n",
    "        expectation_string += f\"{prefactors[i]}*<{observable_strings[i]}>\"\n",
    "        if i < len(prefactors) - 1:\n",
    "            expectation_string += \" + \"\n",
    "\n",
    "    expectation_string += \":\"\n",
    "\n",
    "    return expectation_string"
   ]
  },
  {
   "cell_type": "code",
   "execution_count": null,
   "metadata": {},
   "outputs": [],
   "source": [
    "print(create_expectation_string(observable.coeffs, observable.settings['data']), qiskit_job.result().values)"
   ]
  },
  {
   "attachments": {},
   "cell_type": "markdown",
   "metadata": {},
   "source": [
    "#### Create BackendEstimator out of Qiskit-Braket-Provider backend"
   ]
  },
  {
   "cell_type": "code",
   "execution_count": null,
   "metadata": {},
   "outputs": [],
   "source": [
    "# backend = AWSBraketProvider().get_backend('SV1')\n",
    "# qiskit_estimator_from_braket = BackendEstimator(backend)\n",
    "\n",
    "# job = qiskit_estimator_from_braket.run(\n",
    "#     circuits=qiskit_circuit, \n",
    "#     observables=observable, \n",
    "#     parameter_values=action_vector,\n",
    "#     shots=n_shots\n",
    "# )"
   ]
  },
  {
   "cell_type": "code",
   "execution_count": null,
   "metadata": {},
   "outputs": [],
   "source": [
    "# job = qiskit_estimator_from_braket.run(\n",
    "#     circuits=qiskit_circuit, \n",
    "#     observables=observable, \n",
    "#     parameter_values=action_vector,\n",
    "#     shots=n_shots\n",
    "# )"
   ]
  },
  {
   "cell_type": "code",
   "execution_count": null,
   "metadata": {},
   "outputs": [],
   "source": [
    "# job.result().values"
   ]
  },
  {
   "attachments": {},
   "cell_type": "markdown",
   "metadata": {},
   "source": [
    "## Qiskit-Braket Provider Properties"
   ]
  },
  {
   "cell_type": "code",
   "execution_count": 85,
   "metadata": {},
   "outputs": [],
   "source": [
    "backend = AWSBraketProvider().get_backend('SV1')"
   ]
  },
  {
   "cell_type": "code",
   "execution_count": 79,
   "metadata": {},
   "outputs": [],
   "source": [
    "from qiskit.providers import BackendV2\n",
    "from qiskit.providers.fake_provider import FakeJakartaV2"
   ]
  },
  {
   "cell_type": "code",
   "execution_count": 82,
   "metadata": {},
   "outputs": [
    {
     "data": {
      "text/plain": [
       "True"
      ]
     },
     "execution_count": 82,
     "metadata": {},
     "output_type": "execute_result"
    }
   ],
   "source": [
    "isinstance(backend, BackendV2)"
   ]
  },
  {
   "cell_type": "code",
   "execution_count": 84,
   "metadata": {},
   "outputs": [
    {
     "data": {
      "text/plain": [
       "{}"
      ]
     },
     "execution_count": 84,
     "metadata": {},
     "output_type": "execute_result"
    }
   ],
   "source": [
    "backend.instruction_durations.duration_by_name_qubits"
   ]
  },
  {
   "cell_type": "code",
   "execution_count": 86,
   "metadata": {},
   "outputs": [
    {
     "data": {
      "text/plain": [
       "{('id', (0,)): (3.5555555555555554e-08, 's'),\n",
       " ('id', (1,)): (3.5555555555555554e-08, 's'),\n",
       " ('id', (2,)): (3.5555555555555554e-08, 's'),\n",
       " ('id', (3,)): (3.5555555555555554e-08, 's'),\n",
       " ('id', (4,)): (3.5555555555555554e-08, 's'),\n",
       " ('id', (5,)): (3.5555555555555554e-08, 's'),\n",
       " ('id', (6,)): (3.5555555555555554e-08, 's'),\n",
       " ('rz', (0,)): (0.0, 's'),\n",
       " ('rz', (1,)): (0.0, 's'),\n",
       " ('rz', (2,)): (0.0, 's'),\n",
       " ('rz', (3,)): (0.0, 's'),\n",
       " ('rz', (4,)): (0.0, 's'),\n",
       " ('rz', (5,)): (0.0, 's'),\n",
       " ('rz', (6,)): (0.0, 's'),\n",
       " ('sx', (0,)): (3.5555555555555554e-08, 's'),\n",
       " ('sx', (1,)): (3.5555555555555554e-08, 's'),\n",
       " ('sx', (2,)): (3.5555555555555554e-08, 's'),\n",
       " ('sx', (3,)): (3.5555555555555554e-08, 's'),\n",
       " ('sx', (4,)): (3.5555555555555554e-08, 's'),\n",
       " ('sx', (5,)): (3.5555555555555554e-08, 's'),\n",
       " ('sx', (6,)): (3.5555555555555554e-08, 's'),\n",
       " ('x', (0,)): (3.5555555555555554e-08, 's'),\n",
       " ('x', (1,)): (3.5555555555555554e-08, 's'),\n",
       " ('x', (2,)): (3.5555555555555554e-08, 's'),\n",
       " ('x', (3,)): (3.5555555555555554e-08, 's'),\n",
       " ('x', (4,)): (3.5555555555555554e-08, 's'),\n",
       " ('x', (5,)): (3.5555555555555554e-08, 's'),\n",
       " ('x', (6,)): (3.5555555555555554e-08, 's'),\n",
       " ('cx', (5, 4)): (3.697777777777778e-07, 's'),\n",
       " ('cx', (4, 5)): (4.053333333333333e-07, 's'),\n",
       " ('cx', (1, 3)): (3.84e-07, 's'),\n",
       " ('cx', (3, 1)): (4.195555555555555e-07, 's'),\n",
       " ('cx', (6, 5)): (2.7733333333333333e-07, 's'),\n",
       " ('cx', (5, 6)): (3.1288888888888885e-07, 's'),\n",
       " ('cx', (3, 5)): (3.413333333333333e-07, 's'),\n",
       " ('cx', (5, 3)): (3.7688888888888884e-07, 's'),\n",
       " ('cx', (2, 1)): (2.488888888888889e-07, 's'),\n",
       " ('cx', (1, 2)): (2.8444444444444443e-07, 's'),\n",
       " ('cx', (0, 1)): (2.3466666666666665e-07, 's'),\n",
       " ('cx', (1, 0)): (2.702222222222222e-07, 's'),\n",
       " ('reset', (0,)): (7.342222222222222e-06, 's'),\n",
       " ('reset', (1,)): (7.342222222222222e-06, 's'),\n",
       " ('reset', (2,)): (7.342222222222222e-06, 's'),\n",
       " ('reset', (3,)): (7.342222222222222e-06, 's'),\n",
       " ('reset', (4,)): (7.342222222222222e-06, 's'),\n",
       " ('reset', (5,)): (7.342222222222222e-06, 's'),\n",
       " ('reset', (6,)): (7.342222222222222e-06, 's'),\n",
       " ('measure', (0,)): (5.35111111111111e-06, 's'),\n",
       " ('measure', (1,)): (5.35111111111111e-06, 's'),\n",
       " ('measure', (2,)): (5.35111111111111e-06, 's'),\n",
       " ('measure', (3,)): (5.35111111111111e-06, 's'),\n",
       " ('measure', (4,)): (5.35111111111111e-06, 's'),\n",
       " ('measure', (5,)): (5.35111111111111e-06, 's'),\n",
       " ('measure', (6,)): (5.35111111111111e-06, 's')}"
      ]
     },
     "execution_count": 86,
     "metadata": {},
     "output_type": "execute_result"
    }
   ],
   "source": [
    "backend_2 = FakeJakartaV2()\n",
    "backend_2.instruction_durations.duration_by_name_qubits"
   ]
  }
 ],
 "metadata": {
  "kernelspec": {
   "display_name": "braket",
   "language": "python",
   "name": "python3"
  },
  "language_info": {
   "codemirror_mode": {
    "name": "ipython",
    "version": 3
   },
   "file_extension": ".py",
   "mimetype": "text/x-python",
   "name": "python",
   "nbconvert_exporter": "python",
   "pygments_lexer": "ipython3",
   "version": "3.10.13"
  },
  "orig_nbformat": 4
 },
 "nbformat": 4,
 "nbformat_minor": 2
}
