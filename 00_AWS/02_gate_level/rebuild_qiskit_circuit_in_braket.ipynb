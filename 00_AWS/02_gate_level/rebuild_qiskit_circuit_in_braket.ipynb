{
 "cells": [
  {
   "attachments": {},
   "cell_type": "markdown",
   "metadata": {},
   "source": [
    "## Rebuild the parametrized circuit in AWS Braket"
   ]
  },
  {
   "cell_type": "code",
   "execution_count": 1,
   "metadata": {},
   "outputs": [],
   "source": [
    "import numpy as np\n",
    "\n",
    "from qiskit import QuantumCircuit, QuantumRegister\n",
    "from qiskit.circuit import ParameterVector\n",
    "from qiskit.primitives import BackendEstimator, Estimator, Sampler, BackendSampler\n",
    "\n",
    "from braket.devices import LocalSimulator\n",
    "from braket.circuits import Circuit, Gate, Instruction, QubitSet, AngledGate, Observable\n",
    "from braket.circuits import noises\n",
    "from braket.circuits.gates import X, Y, Z, Rx, Rz, CNot, XY, PulseGate, U, XX, ZZ\n",
    "from braket.quantum_information import PauliString, ExtendedPauliString\n",
    "from braket.parametric import FreeParameter, FreeParameterExpression\n",
    "from braket.circuits.observables import TensorProduct\n",
    "\n",
    "from qiskit_braket_provider.providers import adapter\n",
    "from qiskit_braket_provider import AWSBraketProvider\n"
   ]
  },
  {
   "cell_type": "code",
   "execution_count": 2,
   "metadata": {},
   "outputs": [],
   "source": [
    "action_vector = np.pi * np.array([0.0, 0.0, 0.5, 0.5, -0.5, 0.5, -0.5]) # np.random.uniform(-np.pi, np.pi, 7)"
   ]
  },
  {
   "attachments": {},
   "cell_type": "markdown",
   "metadata": {},
   "source": [
    "Qiskit implementation of ``parametrized_circuit``"
   ]
  },
  {
   "cell_type": "code",
   "execution_count": 3,
   "metadata": {},
   "outputs": [
    {
     "name": "stderr",
     "output_type": "stream",
     "text": [
      "/Users/lukasvoss/anaconda3/envs/braket/lib/python3.10/site-packages/qiskit/visualization/circuit/matplotlib.py:266: FutureWarning: The default matplotlib drawer scheme will be changed to \"iqp\" in a following release. To silence this warning, specify the current default explicitly as style=\"clifford\", or the new default as style=\"iqp\".\n",
      "  self._style, def_font_ratio = load_style(self._style)\n"
     ]
    },
    {
     "data": {
      "image/png": "[encoded data removed]",
      "text/plain": [
       "<Figure size 388.934x200.667 with 1 Axes>"
      ]
     },
     "execution_count": 3,
     "metadata": {},
     "output_type": "execute_result"
    }
   ],
   "source": [
    "q_reg = QuantumRegister(2)\n",
    "baseline = np.pi * np.zeros(len(action_vector))\n",
    "params = ParameterVector(\"a\", 7)\n",
    "qiskit_circuit = QuantumCircuit(q_reg, name=\"custom_cx\")\n",
    "# optimal_params = np.pi * np.array([0.0, 0.0, 0.5, 0.5, -0.5, 0.5, -0.5])\n",
    "optimal_params = np.pi * np.zeros(7)\n",
    "\n",
    "qiskit_circuit.u(\n",
    "    baseline[0] + params[0],\n",
    "    baseline[1] + params[1],\n",
    "    baseline[2] + params[2],\n",
    "    q_reg[0],\n",
    ")\n",
    "qiskit_circuit.u(\n",
    "    baseline[3] + params[3],\n",
    "    baseline[4] + params[4],\n",
    "    baseline[5] + params[5],\n",
    "    q_reg[1],\n",
    ")\n",
    "\n",
    "qiskit_circuit.rzx(baseline[6] + params[6], q_reg[0], q_reg[1])\n",
    "qiskit_circuit.draw(\"mpl\")"
   ]
  },
  {
   "attachments": {},
   "cell_type": "markdown",
   "metadata": {},
   "source": [
    "Conversion of Qiskit circuit to Braket circuit"
   ]
  },
  {
   "cell_type": "code",
   "execution_count": 4,
   "metadata": {},
   "outputs": [
    {
     "name": "stdout",
     "output_type": "stream",
     "text": [
      "T  : |      0      |1|2|  3   |4|5|\n",
      "                                   \n",
      "q0 : -U(a0, a1, a2)---C--------C---\n",
      "                      |        |   \n",
      "q1 : -U(a3, a4, a5)-H-X-Rz(a6)-X-H-\n",
      "\n",
      "T  : |      0      |1|2|  3   |4|5|\n",
      "\n",
      "Unassigned parameters: [a0, a1, a2, a3, a4, a5, a6].\n"
     ]
    }
   ],
   "source": [
    "braket_circuit_converted = adapter.convert_qiskit_to_braket_circuit(qiskit_circuit)\n",
    "\n",
    "print(braket_circuit_converted)"
   ]
  },
  {
   "attachments": {},
   "cell_type": "markdown",
   "metadata": {},
   "source": [
    "#### Braket Version"
   ]
  },
  {
   "cell_type": "code",
   "execution_count": 5,
   "metadata": {},
   "outputs": [
    {
     "name": "stdout",
     "output_type": "stream",
     "text": [
      "T  : |      0      |\n",
      "                    \n",
      "q0 : -U(a0, a1, a2)-\n",
      "                    \n",
      "q1 : -U(a3, a4, a5)-\n",
      "\n",
      "T  : |      0      |\n",
      "\n",
      "Unassigned parameters: [a0, a1, a2, a3, a4, a5].\n"
     ]
    }
   ],
   "source": [
    "braket_circuit = Circuit()\n",
    "\n",
    "baseline = np.pi * np.zeros(len(action_vector))\n",
    "params = [FreeParameter(f\"a{i}\") for i in range(0, len(action_vector))]\n",
    "\n",
    "u1 = U(\n",
    "    baseline[0] + params[0], \n",
    "    baseline[1] + params[1], \n",
    "    baseline[1] + params[2],\n",
    ")\n",
    "u2 = U(\n",
    "    baseline[3] + params[3], \n",
    "    baseline[4] + params[4], \n",
    "    baseline[5] + params[5],\n",
    ")\n",
    "\n",
    "# rzx = RZX(\n",
    "#     baseline[6] + params[6]\n",
    "# )\n",
    "\n",
    "braket_circuit.add_instruction(Instruction(u1, [0]))\n",
    "braket_circuit.add_instruction(Instruction(u2, [1]))\n",
    "print(braket_circuit)"
   ]
  },
  {
   "cell_type": "code",
   "execution_count": 6,
   "metadata": {},
   "outputs": [
    {
     "name": "stdout",
     "output_type": "stream",
     "text": [
      "T  : |      0      |1|2|  3   |4|5|\n",
      "                                   \n",
      "q0 : -U(a0, a1, a2)---C--------C---\n",
      "                      |        |   \n",
      "q1 : -U(a3, a4, a5)-H-X-Rz(a6)-X-H-\n",
      "\n",
      "T  : |      0      |1|2|  3   |4|5|\n",
      "\n",
      "Unassigned parameters: [a0, a1, a2, a3, a4, a5, a6].\n"
     ]
    }
   ],
   "source": [
    "def rzx(theta, register):\n",
    "    \"\"\"\n",
    "    RZX gate decomposition for angle theta\n",
    "    \"\"\"\n",
    "    q1, q2 = register\n",
    "    qc = Circuit()\n",
    "\n",
    "    # Step 1: Apply Hadamard gate to the target qubit\n",
    "    qc.h(q2)\n",
    "\n",
    "    # Step 2: Apply CNOT gate with q1 as control and q2 as target\n",
    "    qc.cnot(q1, q2)\n",
    "\n",
    "    # Step 3: Apply RZ gate with angle theta to the target qubit\n",
    "    # Since Braket's RZ gate uses full angle, there's no need to divide theta by 2\n",
    "    qc.rz(q2, angle=theta)\n",
    "\n",
    "    # Step 4: Apply another CNOT gate with q1 as control and q2 as target\n",
    "    qc.cnot(q1, q2)\n",
    "\n",
    "    # Step 5: Apply Hadamard gate to the target qubit again\n",
    "    qc.h(q2)\n",
    "    \n",
    "    return qc\n",
    "\n",
    "Circuit.register_subroutine(rzx)\n",
    "\n",
    "braket_circuit.rzx(baseline[6] + params[6], [0, 1])\n",
    "\n",
    "print(braket_circuit)"
   ]
  },
  {
   "attachments": {},
   "cell_type": "markdown",
   "metadata": {},
   "source": [
    "Sanity Checks if RZX was correclty implemented"
   ]
  },
  {
   "cell_type": "code",
   "execution_count": 7,
   "metadata": {},
   "outputs": [
    {
     "name": "stdout",
     "output_type": "stream",
     "text": [
      "RZX gate is implemented correctly!\n"
     ]
    }
   ],
   "source": [
    "sigma_x = np.array([[0, 1], [1, 0]])\n",
    "sigma_z = np.array([[1, 0], [0, -1]])\n",
    "\n",
    "new_circ = Circuit()\n",
    "check1 = np.isclose(new_circ.rzx(0, [0, 1]).to_unitary(), np.eye(4), atol=1e-8)\n",
    "new_circ = Circuit()\n",
    "check2 = np.isclose(new_circ.rzx(2*np.pi, [0, 1]).to_unitary(), -np.eye(4), atol=1e-8)\n",
    "new_circ = Circuit()\n",
    "check3 = np.isclose(new_circ.rzx(np.pi, [0, 1]).to_unitary(), -1j * np.kron(sigma_z, sigma_x), atol=1e-8)\n",
    "\n",
    "if check1.all() and check2.all() and check3.all():\n",
    "    print(\"RZX gate is implemented correctly!\")"
   ]
  },
  {
   "cell_type": "code",
   "execution_count": 8,
   "metadata": {},
   "outputs": [],
   "source": [
    "device = LocalSimulator() # Noise-Free statevector simulation\n",
    "n_shots = 1000\n",
    "\n",
    "# device = LocalSimulator(backend=\"braket_dm\") # For simulations with noise"
   ]
  },
  {
   "cell_type": "code",
   "execution_count": 9,
   "metadata": {},
   "outputs": [
    {
     "name": "stdout",
     "output_type": "stream",
     "text": [
      "Braket Circuit: \n",
      "\n",
      " T  : |      0      |1|2|  3   |4|5|\n",
      "                                   \n",
      "q0 : -U(a0, a1, a2)---C--------C---\n",
      "                      |        |   \n",
      "q1 : -U(a3, a4, a5)-H-X-Rz(a6)-X-H-\n",
      "\n",
      "T  : |      0      |1|2|  3   |4|5|\n",
      "\n",
      "Unassigned parameters: [a0, a1, a2, a3, a4, a5, a6].\n",
      "\n",
      "\n",
      "Qiskit to Braket Circuit Conversion: \n",
      "\n",
      " T  : |      0      |1|2|  3   |4|5|\n",
      "                                   \n",
      "q0 : -U(a0, a1, a2)---C--------C---\n",
      "                      |        |   \n",
      "q1 : -U(a3, a4, a5)-H-X-Rz(a6)-X-H-\n",
      "\n",
      "T  : |      0      |1|2|  3   |4|5|\n",
      "\n",
      "Unassigned parameters: [a0, a1, a2, a3, a4, a5, a6].\n",
      "\n",
      "\n",
      "Converted circuit and native Braket circuit are equivalent: True\n"
     ]
    }
   ],
   "source": [
    "param_names = [str(param) for param in params]\n",
    "bound_parameters = dict(zip(param_names, action_vector))\n",
    "\n",
    "print('Braket Circuit: \\n\\n', braket_circuit)\n",
    "print('\\n\\nQiskit to Braket Circuit Conversion: \\n\\n', braket_circuit_converted)\n",
    "print('\\n\\nConverted circuit and native Braket circuit are equivalent:', braket_circuit == braket_circuit_converted)\n",
    "if braket_circuit != braket_circuit_converted:\n",
    "    raise ValueError('Circuit conversion failed')"
   ]
  },
  {
   "cell_type": "code",
   "execution_count": 10,
   "metadata": {},
   "outputs": [
    {
     "name": "stdout",
     "output_type": "stream",
     "text": [
      "measurement results: Counter({'00': 1000})\n"
     ]
    }
   ],
   "source": [
    "# run the circuit on the local simulator\n",
    "task = device.run(braket_circuit, shots=n_shots, inputs=bound_parameters)\n",
    "\n",
    "# visualize the results\n",
    "result = task.result()\n",
    "measurement = result.measurement_counts\n",
    "print('measurement results:', measurement)"
   ]
  },
  {
   "attachments": {},
   "cell_type": "markdown",
   "metadata": {},
   "source": [
    "### Measuring expectation values"
   ]
  },
  {
   "cell_type": "code",
   "execution_count": 11,
   "metadata": {},
   "outputs": [],
   "source": [
    "from braket.circuits.observables import Sum"
   ]
  },
  {
   "cell_type": "code",
   "execution_count": 12,
   "metadata": {},
   "outputs": [],
   "source": [
    "# TODO: Create a weighted sum of pauli observables\n",
    "\n",
    "observable_string_xx = \"XX\"\n",
    "observable_string_zz = \"ZZ\""
   ]
  },
  {
   "cell_type": "code",
   "execution_count": 13,
   "metadata": {},
   "outputs": [
    {
     "data": {
      "text/plain": [
       "Sum(TensorProduct(X('qubit_count': 1), X('qubit_count': 1)), TensorProduct(Z('qubit_count': 1), Z('qubit_count': 1)))"
      ]
     },
     "execution_count": 13,
     "metadata": {},
     "output_type": "execute_result"
    }
   ],
   "source": [
    "PauliString(observable_string_xx).to_unsigned_observable() + PauliString(observable_string_zz).to_unsigned_observable()"
   ]
  },
  {
   "cell_type": "code",
   "execution_count": 14,
   "metadata": {},
   "outputs": [],
   "source": [
    "pauli_operator = Sum(observables=[0.5 * PauliString(observable_string_xx).to_unsigned_observable(), 0.5 * PauliString(observable_string_zz).to_unsigned_observable()], display_name='0.5XX + 0.5ZZ')"
   ]
  },
  {
   "cell_type": "code",
   "execution_count": 15,
   "metadata": {},
   "outputs": [
    {
     "data": {
      "text/plain": [
       "('0.5XX + 0.5ZZ', '0.5XX + 0.5ZZ')"
      ]
     },
     "execution_count": 15,
     "metadata": {},
     "output_type": "execute_result"
    }
   ],
   "source": [
    "pauli_operator.ascii_symbols"
   ]
  },
  {
   "cell_type": "code",
   "execution_count": 16,
   "metadata": {},
   "outputs": [
    {
     "data": {
      "text/plain": [
       "0.5"
      ]
     },
     "execution_count": 16,
     "metadata": {},
     "output_type": "execute_result"
    }
   ],
   "source": [
    "list(pauli_operator.summands)[0].coefficient"
   ]
  },
  {
   "attachments": {},
   "cell_type": "markdown",
   "metadata": {},
   "source": [
    "#### Measure expectation values on the native braket circuit"
   ]
  },
  {
   "cell_type": "code",
   "execution_count": 17,
   "metadata": {},
   "outputs": [],
   "source": [
    "# paulis = ExtendedPauliString(pauli_strings=['XX', 'ZZ'], coefficients=[0.5, 0.5])\n",
    "# paulis.to_tensor_product()"
   ]
  },
  {
   "cell_type": "code",
   "execution_count": 18,
   "metadata": {},
   "outputs": [
    {
     "data": {
      "text/plain": [
       "('0.5X',)"
      ]
     },
     "execution_count": 18,
     "metadata": {},
     "output_type": "execute_result"
    }
   ],
   "source": [
    "temp = 0.5*Observable.X()\n",
    "temp.ascii_symbols"
   ]
  },
  {
   "cell_type": "code",
   "execution_count": 19,
   "metadata": {},
   "outputs": [
    {
     "name": "stdout",
     "output_type": "stream",
     "text": [
      "('0.5X',)\n",
      "('0.5Z',)\n"
     ]
    },
    {
     "data": {
      "text/plain": [
       "array([[ 0.5+0.j,  0. +0.j],\n",
       "       [ 0. +0.j, -0.5+0.j]])"
      ]
     },
     "execution_count": 19,
     "metadata": {},
     "output_type": "execute_result"
    }
   ],
   "source": [
    "t1 = 0.5 * Observable.X()\n",
    "print(t1.ascii_symbols)\n",
    "t1.to_matrix()\n",
    "\n",
    "\n",
    "t2 = 0.5 * Observable.Z()\n",
    "print(t2.ascii_symbols)\n",
    "t2.to_matrix()"
   ]
  },
  {
   "cell_type": "code",
   "execution_count": 20,
   "metadata": {},
   "outputs": [],
   "source": [
    "observable = TensorProduct([t1, t2])"
   ]
  },
  {
   "cell_type": "code",
   "execution_count": 21,
   "metadata": {},
   "outputs": [
    {
     "data": {
      "text/plain": [
       "array([[ 0.  +0.j,  0.  +0.j,  0.25+0.j,  0.  +0.j],\n",
       "       [ 0.  +0.j, -0.  +0.j,  0.  +0.j, -0.25+0.j],\n",
       "       [ 0.25+0.j,  0.  +0.j,  0.  +0.j,  0.  +0.j],\n",
       "       [ 0.  +0.j, -0.25+0.j,  0.  +0.j, -0.  +0.j]])"
      ]
     },
     "execution_count": 21,
     "metadata": {},
     "output_type": "execute_result"
    }
   ],
   "source": [
    "TensorProduct([t1, t2]).to_matrix()"
   ]
  },
  {
   "cell_type": "code",
   "execution_count": 22,
   "metadata": {},
   "outputs": [
    {
     "data": {
      "text/plain": [
       "('X@Z', 'X@Z')"
      ]
     },
     "execution_count": 22,
     "metadata": {},
     "output_type": "execute_result"
    }
   ],
   "source": [
    "op = TensorProduct([Observable.X(), Observable.Z()])\n",
    "# op = TensorProduct([Observable.X(), Observable.Z()])\n",
    "op.ascii_symbols"
   ]
  },
  {
   "cell_type": "code",
   "execution_count": 23,
   "metadata": {},
   "outputs": [
    {
     "name": "stdout",
     "output_type": "stream",
     "text": [
      "T  : |      0      |1|2|  3   |4|5|    Result Types    |\n",
      "                                                        \n",
      "q0 : -U(a0, a1, a2)---C--------C---Expectation(0.25X@Z)-\n",
      "                      |        |   |                    \n",
      "q1 : -U(a3, a4, a5)-H-X-Rz(a6)-X-H-Expectation(0.25X@Z)-\n",
      "\n",
      "T  : |      0      |1|2|  3   |4|5|    Result Types    |\n",
      "\n",
      "Unassigned parameters: [a0, a1, a2, a3, a4, a5, a6].\n"
     ]
    }
   ],
   "source": [
    "# Create a small circuit with a free parameter theta\n",
    "pauli_string = PauliString(observable_string_xx)\n",
    "pauli_operator = pauli_string.to_unsigned_observable()\n",
    "\n",
    "# braket_circuit.state_vector() # Get the state vector of the circuit # Can only be determined for shots=0\n",
    "braket_circuit.expectation(observable=observable, target=[0, 1]) # Get the expectation value of the Pauli operator\n",
    "\n",
    "# pauli_string = PauliString(observable_string_xx)\n",
    "# pauli_operator = 0.5*pauli_string.to_unsigned_observable()\n",
    "# braket_circuit.expectation(observable=pauli_operator, target=[0, 1]) \n",
    "print(braket_circuit)\n",
    "\n",
    "# Small value for test purposes\n",
    "# batchsize = 5\n",
    "# batch_circuits = [circ] * batchsize"
   ]
  },
  {
   "cell_type": "code",
   "execution_count": 24,
   "metadata": {},
   "outputs": [
    {
     "data": {
      "text/plain": [
       "{'a0': 0.0,\n",
       " 'a1': 0.0,\n",
       " 'a2': 1.5707963267948966,\n",
       " 'a3': 1.5707963267948966,\n",
       " 'a4': -1.5707963267948966,\n",
       " 'a5': 1.5707963267948966,\n",
       " 'a6': -1.5707963267948966}"
      ]
     },
     "execution_count": 24,
     "metadata": {},
     "output_type": "execute_result"
    }
   ],
   "source": [
    "bound_parameters"
   ]
  },
  {
   "cell_type": "code",
   "execution_count": 25,
   "metadata": {},
   "outputs": [
    {
     "name": "stderr",
     "output_type": "stream",
     "text": [
      "line 1:26 mismatched input '0.25' expecting {'x', 'y', 'z', 'i', 'h', 'hermitian'}\n"
     ]
    },
    {
     "ename": "TypeError",
     "evalue": "cannot unpack non-iterable NoneType object",
     "output_type": "error",
     "traceback": [
      "\u001b[0;31m---------------------------------------------------------------------------\u001b[0m",
      "\u001b[0;31mTypeError\u001b[0m                                 Traceback (most recent call last)",
      "Cell \u001b[0;32mIn[25], line 1\u001b[0m\n\u001b[0;32m----> 1\u001b[0m job \u001b[39m=\u001b[39m device\u001b[39m.\u001b[39;49mrun(braket_circuit, shots\u001b[39m=\u001b[39;49mn_shots, inputs\u001b[39m=\u001b[39;49mbound_parameters)\n\u001b[1;32m      3\u001b[0m \u001b[39m# Run multiple circuits at once\u001b[39;00m\n\u001b[1;32m      4\u001b[0m \u001b[39m# job = device.run_batch(\u001b[39;00m\n\u001b[1;32m      5\u001b[0m \u001b[39m#     batch_circuits,\u001b[39;00m\n\u001b[1;32m      6\u001b[0m \u001b[39m#     inputs={'theta': thetas}, \u001b[39;00m\n\u001b[1;32m      7\u001b[0m \u001b[39m#     shots=100\u001b[39;00m\n\u001b[1;32m      8\u001b[0m \u001b[39m# )\u001b[39;00m\n\u001b[1;32m     10\u001b[0m \u001b[39mprint\u001b[39m(\u001b[39m'\u001b[39m\u001b[39mMeasurement Counts:\u001b[39m\u001b[39m'\u001b[39m, job\u001b[39m.\u001b[39mresult()\u001b[39m.\u001b[39mmeasurement_counts)\n",
      "File \u001b[0;32m~/anaconda3/envs/braket/lib/python3.10/site-packages/braket/devices/local_simulator.py:101\u001b[0m, in \u001b[0;36mLocalSimulator.run\u001b[0;34m(self, task_specification, shots, inputs, *args, **kwargs)\u001b[0m\n\u001b[1;32m     67\u001b[0m \u001b[39mdef\u001b[39;00m \u001b[39mrun\u001b[39m(\n\u001b[1;32m     68\u001b[0m     \u001b[39mself\u001b[39m,\n\u001b[1;32m     69\u001b[0m     task_specification: Union[Circuit, Problem, Program, AnalogHamiltonianSimulation],\n\u001b[0;32m   (...)\u001b[0m\n\u001b[1;32m     73\u001b[0m     \u001b[39m*\u001b[39m\u001b[39m*\u001b[39mkwargs,\n\u001b[1;32m     74\u001b[0m ) \u001b[39m-\u001b[39m\u001b[39m>\u001b[39m LocalQuantumTask:\n\u001b[1;32m     75\u001b[0m \u001b[39m    \u001b[39m\u001b[39m\"\"\"Runs the given task with the wrapped local simulator.\u001b[39;00m\n\u001b[1;32m     76\u001b[0m \n\u001b[1;32m     77\u001b[0m \u001b[39m    Args:\u001b[39;00m\n\u001b[0;32m   (...)\u001b[0m\n\u001b[1;32m     99\u001b[0m \u001b[39m        >>> device.run(circuit, shots=1000)\u001b[39;00m\n\u001b[1;32m    100\u001b[0m \u001b[39m    \"\"\"\u001b[39;00m\n\u001b[0;32m--> 101\u001b[0m     result \u001b[39m=\u001b[39m \u001b[39mself\u001b[39;49m\u001b[39m.\u001b[39;49m_run_internal(task_specification, shots, inputs\u001b[39m=\u001b[39;49minputs, \u001b[39m*\u001b[39;49margs, \u001b[39m*\u001b[39;49m\u001b[39m*\u001b[39;49mkwargs)\n\u001b[1;32m    102\u001b[0m     \u001b[39mreturn\u001b[39;00m LocalQuantumTask(result)\n",
      "File \u001b[0;32m~/anaconda3/envs/braket/lib/python3.10/functools.py:926\u001b[0m, in \u001b[0;36msingledispatchmethod.__get__.<locals>._method\u001b[0;34m(*args, **kwargs)\u001b[0m\n\u001b[1;32m    924\u001b[0m \u001b[39mdef\u001b[39;00m \u001b[39m_method\u001b[39m(\u001b[39m*\u001b[39margs, \u001b[39m*\u001b[39m\u001b[39m*\u001b[39mkwargs):\n\u001b[1;32m    925\u001b[0m     method \u001b[39m=\u001b[39m \u001b[39mself\u001b[39m\u001b[39m.\u001b[39mdispatcher\u001b[39m.\u001b[39mdispatch(args[\u001b[39m0\u001b[39m]\u001b[39m.\u001b[39m\u001b[39m__class__\u001b[39m)\n\u001b[0;32m--> 926\u001b[0m     \u001b[39mreturn\u001b[39;00m method\u001b[39m.\u001b[39;49m\u001b[39m__get__\u001b[39;49m(obj, \u001b[39mcls\u001b[39;49m)(\u001b[39m*\u001b[39;49margs, \u001b[39m*\u001b[39;49m\u001b[39m*\u001b[39;49mkwargs)\n",
      "File \u001b[0;32m~/anaconda3/envs/braket/lib/python3.10/site-packages/braket/devices/local_simulator.py:255\u001b[0m, in \u001b[0;36mLocalSimulator._\u001b[0;34m(self, circuit, shots, inputs, *args, **kwargs)\u001b[0m\n\u001b[1;32m    253\u001b[0m     program \u001b[39m=\u001b[39m circuit\u001b[39m.\u001b[39mto_ir(ir_type\u001b[39m=\u001b[39mIRType\u001b[39m.\u001b[39mOPENQASM)\n\u001b[1;32m    254\u001b[0m     program\u001b[39m.\u001b[39minputs\u001b[39m.\u001b[39mupdate(inputs \u001b[39mor\u001b[39;00m {})\n\u001b[0;32m--> 255\u001b[0m     results \u001b[39m=\u001b[39m simulator\u001b[39m.\u001b[39;49mrun(program, shots, \u001b[39m*\u001b[39;49margs, \u001b[39m*\u001b[39;49m\u001b[39m*\u001b[39;49mkwargs)\n\u001b[1;32m    256\u001b[0m     \u001b[39mreturn\u001b[39;00m GateModelQuantumTaskResult\u001b[39m.\u001b[39mfrom_object(results)\n\u001b[1;32m    257\u001b[0m \u001b[39melif\u001b[39;00m DeviceActionType\u001b[39m.\u001b[39mJAQCD \u001b[39min\u001b[39;00m simulator\u001b[39m.\u001b[39mproperties\u001b[39m.\u001b[39maction:\n",
      "File \u001b[0;32m~/anaconda3/envs/braket/lib/python3.10/site-packages/braket/default_simulator/simulator.py:148\u001b[0m, in \u001b[0;36mBaseLocalSimulator.run\u001b[0;34m(self, circuit_ir, *args, **kwargs)\u001b[0m\n\u001b[1;32m    125\u001b[0m \u001b[39m\u001b[39m\u001b[39m\"\"\"\u001b[39;00m\n\u001b[1;32m    126\u001b[0m \u001b[39mSimulate a circuit using either OpenQASM or Jaqcd.\u001b[39;00m\n\u001b[1;32m    127\u001b[0m \n\u001b[0;32m   (...)\u001b[0m\n\u001b[1;32m    145\u001b[0m \u001b[39m        are requested when shots>0.\u001b[39;00m\n\u001b[1;32m    146\u001b[0m \u001b[39m\"\"\"\u001b[39;00m\n\u001b[1;32m    147\u001b[0m \u001b[39mif\u001b[39;00m \u001b[39misinstance\u001b[39m(circuit_ir, OpenQASMProgram):\n\u001b[0;32m--> 148\u001b[0m     \u001b[39mreturn\u001b[39;00m \u001b[39mself\u001b[39;49m\u001b[39m.\u001b[39;49mrun_openqasm(circuit_ir, \u001b[39m*\u001b[39;49margs, \u001b[39m*\u001b[39;49m\u001b[39m*\u001b[39;49mkwargs)\n\u001b[1;32m    149\u001b[0m \u001b[39mreturn\u001b[39;00m \u001b[39mself\u001b[39m\u001b[39m.\u001b[39mrun_jaqcd(circuit_ir, \u001b[39m*\u001b[39margs, \u001b[39m*\u001b[39m\u001b[39m*\u001b[39mkwargs)\n",
      "File \u001b[0;32m~/anaconda3/envs/braket/lib/python3.10/site-packages/braket/default_simulator/simulator.py:427\u001b[0m, in \u001b[0;36mBaseLocalSimulator.run_openqasm\u001b[0;34m(self, openqasm_ir, shots, batch_size)\u001b[0m\n\u001b[1;32m    401\u001b[0m \u001b[39mdef\u001b[39;00m \u001b[39mrun_openqasm\u001b[39m(\n\u001b[1;32m    402\u001b[0m     \u001b[39mself\u001b[39m,\n\u001b[1;32m    403\u001b[0m     openqasm_ir: OpenQASMProgram,\n\u001b[0;32m   (...)\u001b[0m\n\u001b[1;32m    406\u001b[0m     batch_size: \u001b[39mint\u001b[39m \u001b[39m=\u001b[39m \u001b[39m1\u001b[39m,\n\u001b[1;32m    407\u001b[0m ) \u001b[39m-\u001b[39m\u001b[39m>\u001b[39m GateModelTaskResult:\n\u001b[1;32m    408\u001b[0m \u001b[39m    \u001b[39m\u001b[39m\"\"\"Executes the circuit specified by the supplied `circuit_ir` on the simulator.\u001b[39;00m\n\u001b[1;32m    409\u001b[0m \n\u001b[1;32m    410\u001b[0m \u001b[39m    Args:\u001b[39;00m\n\u001b[0;32m   (...)\u001b[0m\n\u001b[1;32m    425\u001b[0m \u001b[39m            are requested when shots>0.\u001b[39;00m\n\u001b[1;32m    426\u001b[0m \u001b[39m    \"\"\"\u001b[39;00m\n\u001b[0;32m--> 427\u001b[0m     circuit \u001b[39m=\u001b[39m \u001b[39mself\u001b[39;49m\u001b[39m.\u001b[39;49mparse_program(openqasm_ir)\u001b[39m.\u001b[39mcircuit\n\u001b[1;32m    428\u001b[0m     qubit_count \u001b[39m=\u001b[39m circuit\u001b[39m.\u001b[39mnum_qubits\n\u001b[1;32m    430\u001b[0m     \u001b[39mself\u001b[39m\u001b[39m.\u001b[39m_validate_ir_results_compatibility(\n\u001b[1;32m    431\u001b[0m         circuit\u001b[39m.\u001b[39mresults,\n\u001b[1;32m    432\u001b[0m         device_action_type\u001b[39m=\u001b[39mDeviceActionType\u001b[39m.\u001b[39mOPENQASM,\n\u001b[1;32m    433\u001b[0m     )\n",
      "File \u001b[0;32m~/anaconda3/envs/braket/lib/python3.10/site-packages/braket/default_simulator/simulator.py:114\u001b[0m, in \u001b[0;36mOpenQASMSimulator.parse_program\u001b[0;34m(self, program)\u001b[0m\n\u001b[1;32m    112\u001b[0m is_file \u001b[39m=\u001b[39m program\u001b[39m.\u001b[39msource\u001b[39m.\u001b[39mendswith(\u001b[39m\"\u001b[39m\u001b[39m.qasm\u001b[39m\u001b[39m\"\u001b[39m)\n\u001b[1;32m    113\u001b[0m interpreter \u001b[39m=\u001b[39m Interpreter(\u001b[39mself\u001b[39m\u001b[39m.\u001b[39mcreate_program_context())\n\u001b[0;32m--> 114\u001b[0m \u001b[39mreturn\u001b[39;00m interpreter\u001b[39m.\u001b[39;49mrun(\n\u001b[1;32m    115\u001b[0m     source\u001b[39m=\u001b[39;49mprogram\u001b[39m.\u001b[39;49msource,\n\u001b[1;32m    116\u001b[0m     inputs\u001b[39m=\u001b[39;49mprogram\u001b[39m.\u001b[39;49minputs,\n\u001b[1;32m    117\u001b[0m     is_file\u001b[39m=\u001b[39;49mis_file,\n\u001b[1;32m    118\u001b[0m )\n",
      "File \u001b[0;32m~/anaconda3/envs/braket/lib/python3.10/site-packages/braket/default_simulator/openqasm/interpreter.py:145\u001b[0m, in \u001b[0;36mInterpreter.run\u001b[0;34m(self, source, inputs, is_file)\u001b[0m\n\u001b[1;32m    143\u001b[0m program \u001b[39m=\u001b[39m parse(source)\n\u001b[1;32m    144\u001b[0m \u001b[39mself\u001b[39m\u001b[39m.\u001b[39m_uses_advanced_language_features \u001b[39m=\u001b[39m \u001b[39mFalse\u001b[39;00m\n\u001b[0;32m--> 145\u001b[0m \u001b[39mself\u001b[39;49m\u001b[39m.\u001b[39;49mvisit(program)\n\u001b[1;32m    146\u001b[0m \u001b[39mif\u001b[39;00m \u001b[39mself\u001b[39m\u001b[39m.\u001b[39m_uses_advanced_language_features:\n\u001b[1;32m    147\u001b[0m     \u001b[39mself\u001b[39m\u001b[39m.\u001b[39mlogger\u001b[39m.\u001b[39mwarning(\n\u001b[1;32m    148\u001b[0m         \u001b[39m\"\u001b[39m\u001b[39mThis program uses OpenQASM language features that may \u001b[39m\u001b[39m\"\u001b[39m\n\u001b[1;32m    149\u001b[0m         \u001b[39m\"\u001b[39m\u001b[39mnot be supported on QPUs or on-demand simulators.\u001b[39m\u001b[39m\"\u001b[39m\n\u001b[1;32m    150\u001b[0m     )\n",
      "File \u001b[0;32m~/anaconda3/envs/braket/lib/python3.10/functools.py:926\u001b[0m, in \u001b[0;36msingledispatchmethod.__get__.<locals>._method\u001b[0;34m(*args, **kwargs)\u001b[0m\n\u001b[1;32m    924\u001b[0m \u001b[39mdef\u001b[39;00m \u001b[39m_method\u001b[39m(\u001b[39m*\u001b[39margs, \u001b[39m*\u001b[39m\u001b[39m*\u001b[39mkwargs):\n\u001b[1;32m    925\u001b[0m     method \u001b[39m=\u001b[39m \u001b[39mself\u001b[39m\u001b[39m.\u001b[39mdispatcher\u001b[39m.\u001b[39mdispatch(args[\u001b[39m0\u001b[39m]\u001b[39m.\u001b[39m\u001b[39m__class__\u001b[39m)\n\u001b[0;32m--> 926\u001b[0m     \u001b[39mreturn\u001b[39;00m method\u001b[39m.\u001b[39;49m\u001b[39m__get__\u001b[39;49m(obj, \u001b[39mcls\u001b[39;49m)(\u001b[39m*\u001b[39;49margs, \u001b[39m*\u001b[39;49m\u001b[39m*\u001b[39;49mkwargs)\n",
      "File \u001b[0;32m~/anaconda3/envs/braket/lib/python3.10/site-packages/braket/default_simulator/openqasm/interpreter.py:172\u001b[0m, in \u001b[0;36mInterpreter._\u001b[0;34m(self, node)\u001b[0m\n\u001b[1;32m    170\u001b[0m \u001b[39m@visit\u001b[39m\u001b[39m.\u001b[39mregister\n\u001b[1;32m    171\u001b[0m \u001b[39mdef\u001b[39;00m \u001b[39m_\u001b[39m(\u001b[39mself\u001b[39m, node: Program) \u001b[39m-\u001b[39m\u001b[39m>\u001b[39m \u001b[39mNone\u001b[39;00m:\n\u001b[0;32m--> 172\u001b[0m     \u001b[39mself\u001b[39;49m\u001b[39m.\u001b[39;49mvisit(node\u001b[39m.\u001b[39;49mstatements)\n",
      "File \u001b[0;32m~/anaconda3/envs/braket/lib/python3.10/functools.py:926\u001b[0m, in \u001b[0;36msingledispatchmethod.__get__.<locals>._method\u001b[0;34m(*args, **kwargs)\u001b[0m\n\u001b[1;32m    924\u001b[0m \u001b[39mdef\u001b[39;00m \u001b[39m_method\u001b[39m(\u001b[39m*\u001b[39margs, \u001b[39m*\u001b[39m\u001b[39m*\u001b[39mkwargs):\n\u001b[1;32m    925\u001b[0m     method \u001b[39m=\u001b[39m \u001b[39mself\u001b[39m\u001b[39m.\u001b[39mdispatcher\u001b[39m.\u001b[39mdispatch(args[\u001b[39m0\u001b[39m]\u001b[39m.\u001b[39m\u001b[39m__class__\u001b[39m)\n\u001b[0;32m--> 926\u001b[0m     \u001b[39mreturn\u001b[39;00m method\u001b[39m.\u001b[39;49m\u001b[39m__get__\u001b[39;49m(obj, \u001b[39mcls\u001b[39;49m)(\u001b[39m*\u001b[39;49margs, \u001b[39m*\u001b[39;49m\u001b[39m*\u001b[39;49mkwargs)\n",
      "File \u001b[0;32m~/anaconda3/envs/braket/lib/python3.10/site-packages/braket/default_simulator/openqasm/interpreter.py:168\u001b[0m, in \u001b[0;36mInterpreter._\u001b[0;34m(self, node_list)\u001b[0m\n\u001b[1;32m    165\u001b[0m \u001b[39m@visit\u001b[39m\u001b[39m.\u001b[39mregister\n\u001b[1;32m    166\u001b[0m \u001b[39mdef\u001b[39;00m \u001b[39m_\u001b[39m(\u001b[39mself\u001b[39m, node_list: \u001b[39mlist\u001b[39m) \u001b[39m-\u001b[39m\u001b[39m>\u001b[39m \u001b[39mlist\u001b[39m[QASMNode]:\n\u001b[1;32m    167\u001b[0m \u001b[39m    \u001b[39m\u001b[39m\"\"\"Generic visit function for a list of AST nodes\"\"\"\u001b[39;00m\n\u001b[0;32m--> 168\u001b[0m     \u001b[39mreturn\u001b[39;00m [n \u001b[39mfor\u001b[39;00m n \u001b[39min\u001b[39;00m [\u001b[39mself\u001b[39m\u001b[39m.\u001b[39mvisit(node) \u001b[39mfor\u001b[39;00m node \u001b[39min\u001b[39;00m node_list] \u001b[39mif\u001b[39;00m n \u001b[39mis\u001b[39;00m \u001b[39mnot\u001b[39;00m \u001b[39mNone\u001b[39;00m]\n",
      "File \u001b[0;32m~/anaconda3/envs/braket/lib/python3.10/site-packages/braket/default_simulator/openqasm/interpreter.py:168\u001b[0m, in \u001b[0;36m<listcomp>\u001b[0;34m(.0)\u001b[0m\n\u001b[1;32m    165\u001b[0m \u001b[39m@visit\u001b[39m\u001b[39m.\u001b[39mregister\n\u001b[1;32m    166\u001b[0m \u001b[39mdef\u001b[39;00m \u001b[39m_\u001b[39m(\u001b[39mself\u001b[39m, node_list: \u001b[39mlist\u001b[39m) \u001b[39m-\u001b[39m\u001b[39m>\u001b[39m \u001b[39mlist\u001b[39m[QASMNode]:\n\u001b[1;32m    167\u001b[0m \u001b[39m    \u001b[39m\u001b[39m\"\"\"Generic visit function for a list of AST nodes\"\"\"\u001b[39;00m\n\u001b[0;32m--> 168\u001b[0m     \u001b[39mreturn\u001b[39;00m [n \u001b[39mfor\u001b[39;00m n \u001b[39min\u001b[39;00m [\u001b[39mself\u001b[39;49m\u001b[39m.\u001b[39;49mvisit(node) \u001b[39mfor\u001b[39;00m node \u001b[39min\u001b[39;00m node_list] \u001b[39mif\u001b[39;00m n \u001b[39mis\u001b[39;00m \u001b[39mnot\u001b[39;00m \u001b[39mNone\u001b[39;00m]\n",
      "File \u001b[0;32m~/anaconda3/envs/braket/lib/python3.10/functools.py:926\u001b[0m, in \u001b[0;36msingledispatchmethod.__get__.<locals>._method\u001b[0;34m(*args, **kwargs)\u001b[0m\n\u001b[1;32m    924\u001b[0m \u001b[39mdef\u001b[39;00m \u001b[39m_method\u001b[39m(\u001b[39m*\u001b[39margs, \u001b[39m*\u001b[39m\u001b[39m*\u001b[39mkwargs):\n\u001b[1;32m    925\u001b[0m     method \u001b[39m=\u001b[39m \u001b[39mself\u001b[39m\u001b[39m.\u001b[39mdispatcher\u001b[39m.\u001b[39mdispatch(args[\u001b[39m0\u001b[39m]\u001b[39m.\u001b[39m\u001b[39m__class__\u001b[39m)\n\u001b[0;32m--> 926\u001b[0m     \u001b[39mreturn\u001b[39;00m method\u001b[39m.\u001b[39;49m\u001b[39m__get__\u001b[39;49m(obj, \u001b[39mcls\u001b[39;49m)(\u001b[39m*\u001b[39;49margs, \u001b[39m*\u001b[39;49m\u001b[39m*\u001b[39;49mkwargs)\n",
      "File \u001b[0;32m~/anaconda3/envs/braket/lib/python3.10/site-packages/braket/default_simulator/openqasm/interpreter.py:543\u001b[0m, in \u001b[0;36mInterpreter._\u001b[0;34m(self, node)\u001b[0m\n\u001b[1;32m    541\u001b[0m \u001b[39m@visit\u001b[39m\u001b[39m.\u001b[39mregister\n\u001b[1;32m    542\u001b[0m \u001b[39mdef\u001b[39;00m \u001b[39m_\u001b[39m(\u001b[39mself\u001b[39m, node: Pragma) \u001b[39m-\u001b[39m\u001b[39m>\u001b[39m \u001b[39mNone\u001b[39;00m:\n\u001b[0;32m--> 543\u001b[0m     parsed \u001b[39m=\u001b[39m \u001b[39mself\u001b[39;49m\u001b[39m.\u001b[39;49mcontext\u001b[39m.\u001b[39;49mparse_pragma(node\u001b[39m.\u001b[39;49mcommand)\n\u001b[1;32m    544\u001b[0m     \u001b[39mif\u001b[39;00m node\u001b[39m.\u001b[39mcommand\u001b[39m.\u001b[39mstartswith(\u001b[39m\"\u001b[39m\u001b[39mbraket result\u001b[39m\u001b[39m\"\u001b[39m):\n\u001b[1;32m    545\u001b[0m         \u001b[39mif\u001b[39;00m \u001b[39mnot\u001b[39;00m parsed:\n",
      "File \u001b[0;32m~/anaconda3/envs/braket/lib/python3.10/site-packages/braket/default_simulator/openqasm/program_context.py:444\u001b[0m, in \u001b[0;36mAbstractProgramContext.parse_pragma\u001b[0;34m(self, pragma_body)\u001b[0m\n\u001b[1;32m    437\u001b[0m \u001b[39mdef\u001b[39;00m \u001b[39mparse_pragma\u001b[39m(\u001b[39mself\u001b[39m, pragma_body: \u001b[39mstr\u001b[39m):\n\u001b[1;32m    438\u001b[0m \u001b[39m    \u001b[39m\u001b[39m\"\"\"\u001b[39;00m\n\u001b[1;32m    439\u001b[0m \u001b[39m    Parse pragma\u001b[39;00m\n\u001b[1;32m    440\u001b[0m \n\u001b[1;32m    441\u001b[0m \u001b[39m    Args:\u001b[39;00m\n\u001b[1;32m    442\u001b[0m \u001b[39m        pragma_body (str): The body of the pragma statement.\u001b[39;00m\n\u001b[1;32m    443\u001b[0m \u001b[39m    \"\"\"\u001b[39;00m\n\u001b[0;32m--> 444\u001b[0m     \u001b[39mreturn\u001b[39;00m parse_braket_pragma(pragma_body, \u001b[39mself\u001b[39;49m\u001b[39m.\u001b[39;49mqubit_mapping)\n",
      "File \u001b[0;32m~/anaconda3/envs/braket/lib/python3.10/site-packages/braket/default_simulator/openqasm/parser/braket_pragmas.py:216\u001b[0m, in \u001b[0;36mparse_braket_pragma\u001b[0;34m(pragma_body, qubit_table)\u001b[0m\n\u001b[1;32m    214\u001b[0m parser \u001b[39m=\u001b[39m BraketPragmasParser(stream)\n\u001b[1;32m    215\u001b[0m tree \u001b[39m=\u001b[39m parser\u001b[39m.\u001b[39mbraketPragma()\n\u001b[0;32m--> 216\u001b[0m visited \u001b[39m=\u001b[39m BraketPragmaNodeVisitor(qubit_table)\u001b[39m.\u001b[39;49mvisit(tree)\n\u001b[1;32m    217\u001b[0m \u001b[39mreturn\u001b[39;00m visited\n",
      "File \u001b[0;32m~/anaconda3/envs/braket/lib/python3.10/site-packages/antlr4/tree/Tree.py:34\u001b[0m, in \u001b[0;36mParseTreeVisitor.visit\u001b[0;34m(self, tree)\u001b[0m\n\u001b[1;32m     33\u001b[0m \u001b[39mdef\u001b[39;00m \u001b[39mvisit\u001b[39m(\u001b[39mself\u001b[39m, tree):\n\u001b[0;32m---> 34\u001b[0m     \u001b[39mreturn\u001b[39;00m tree\u001b[39m.\u001b[39;49maccept(\u001b[39mself\u001b[39;49m)\n",
      "File \u001b[0;32m~/anaconda3/envs/braket/lib/python3.10/site-packages/braket/default_simulator/openqasm/parser/generated/BraketPragmasParser.py:861\u001b[0m, in \u001b[0;36mBraketPragmasParser.BraketPragmaContext.accept\u001b[0;34m(self, visitor)\u001b[0m\n\u001b[1;32m    859\u001b[0m \u001b[39mdef\u001b[39;00m \u001b[39maccept\u001b[39m(\u001b[39mself\u001b[39m, visitor:ParseTreeVisitor):\n\u001b[1;32m    860\u001b[0m     \u001b[39mif\u001b[39;00m \u001b[39mhasattr\u001b[39m( visitor, \u001b[39m\"\u001b[39m\u001b[39mvisitBraketPragma\u001b[39m\u001b[39m\"\u001b[39m ):\n\u001b[0;32m--> 861\u001b[0m         \u001b[39mreturn\u001b[39;00m visitor\u001b[39m.\u001b[39;49mvisitBraketPragma(\u001b[39mself\u001b[39;49m)\n\u001b[1;32m    862\u001b[0m     \u001b[39melse\u001b[39;00m:\n\u001b[1;32m    863\u001b[0m         \u001b[39mreturn\u001b[39;00m visitor\u001b[39m.\u001b[39mvisitChildren(\u001b[39mself\u001b[39m)\n",
      "File \u001b[0;32m~/anaconda3/envs/braket/lib/python3.10/site-packages/braket/default_simulator/openqasm/parser/generated/BraketPragmasParserVisitor.py:14\u001b[0m, in \u001b[0;36mBraketPragmasParserVisitor.visitBraketPragma\u001b[0;34m(self, ctx)\u001b[0m\n\u001b[1;32m     13\u001b[0m \u001b[39mdef\u001b[39;00m \u001b[39mvisitBraketPragma\u001b[39m(\u001b[39mself\u001b[39m, ctx:BraketPragmasParser\u001b[39m.\u001b[39mBraketPragmaContext):\n\u001b[0;32m---> 14\u001b[0m     \u001b[39mreturn\u001b[39;00m \u001b[39mself\u001b[39;49m\u001b[39m.\u001b[39;49mvisitChildren(ctx)\n",
      "File \u001b[0;32m~/anaconda3/envs/braket/lib/python3.10/site-packages/antlr4/tree/Tree.py:44\u001b[0m, in \u001b[0;36mParseTreeVisitor.visitChildren\u001b[0;34m(self, node)\u001b[0m\n\u001b[1;32m     41\u001b[0m         \u001b[39mreturn\u001b[39;00m result\n\u001b[1;32m     43\u001b[0m     c \u001b[39m=\u001b[39m node\u001b[39m.\u001b[39mgetChild(i)\n\u001b[0;32m---> 44\u001b[0m     childResult \u001b[39m=\u001b[39m c\u001b[39m.\u001b[39;49maccept(\u001b[39mself\u001b[39;49m)\n\u001b[1;32m     45\u001b[0m     result \u001b[39m=\u001b[39m \u001b[39mself\u001b[39m\u001b[39m.\u001b[39maggregateResult(result, childResult)\n\u001b[1;32m     47\u001b[0m \u001b[39mreturn\u001b[39;00m result\n",
      "File \u001b[0;32m~/anaconda3/envs/braket/lib/python3.10/site-packages/braket/default_simulator/openqasm/parser/generated/BraketPragmasParser.py:1226\u001b[0m, in \u001b[0;36mBraketPragmasParser.BraketResultPragmaContext.accept\u001b[0;34m(self, visitor)\u001b[0m\n\u001b[1;32m   1224\u001b[0m \u001b[39mdef\u001b[39;00m \u001b[39maccept\u001b[39m(\u001b[39mself\u001b[39m, visitor:ParseTreeVisitor):\n\u001b[1;32m   1225\u001b[0m     \u001b[39mif\u001b[39;00m \u001b[39mhasattr\u001b[39m( visitor, \u001b[39m\"\u001b[39m\u001b[39mvisitBraketResultPragma\u001b[39m\u001b[39m\"\u001b[39m ):\n\u001b[0;32m-> 1226\u001b[0m         \u001b[39mreturn\u001b[39;00m visitor\u001b[39m.\u001b[39;49mvisitBraketResultPragma(\u001b[39mself\u001b[39;49m)\n\u001b[1;32m   1227\u001b[0m     \u001b[39melse\u001b[39;00m:\n\u001b[1;32m   1228\u001b[0m         \u001b[39mreturn\u001b[39;00m visitor\u001b[39m.\u001b[39mvisitChildren(\u001b[39mself\u001b[39m)\n",
      "File \u001b[0;32m~/anaconda3/envs/braket/lib/python3.10/site-packages/braket/default_simulator/openqasm/parser/generated/BraketPragmasParserVisitor.py:39\u001b[0m, in \u001b[0;36mBraketPragmasParserVisitor.visitBraketResultPragma\u001b[0;34m(self, ctx)\u001b[0m\n\u001b[1;32m     38\u001b[0m \u001b[39mdef\u001b[39;00m \u001b[39mvisitBraketResultPragma\u001b[39m(\u001b[39mself\u001b[39m, ctx:BraketPragmasParser\u001b[39m.\u001b[39mBraketResultPragmaContext):\n\u001b[0;32m---> 39\u001b[0m     \u001b[39mreturn\u001b[39;00m \u001b[39mself\u001b[39;49m\u001b[39m.\u001b[39;49mvisitChildren(ctx)\n",
      "File \u001b[0;32m~/anaconda3/envs/braket/lib/python3.10/site-packages/antlr4/tree/Tree.py:44\u001b[0m, in \u001b[0;36mParseTreeVisitor.visitChildren\u001b[0;34m(self, node)\u001b[0m\n\u001b[1;32m     41\u001b[0m         \u001b[39mreturn\u001b[39;00m result\n\u001b[1;32m     43\u001b[0m     c \u001b[39m=\u001b[39m node\u001b[39m.\u001b[39mgetChild(i)\n\u001b[0;32m---> 44\u001b[0m     childResult \u001b[39m=\u001b[39m c\u001b[39m.\u001b[39;49maccept(\u001b[39mself\u001b[39;49m)\n\u001b[1;32m     45\u001b[0m     result \u001b[39m=\u001b[39m \u001b[39mself\u001b[39m\u001b[39m.\u001b[39maggregateResult(result, childResult)\n\u001b[1;32m     47\u001b[0m \u001b[39mreturn\u001b[39;00m result\n",
      "File \u001b[0;32m~/anaconda3/envs/braket/lib/python3.10/site-packages/braket/default_simulator/openqasm/parser/generated/BraketPragmasParser.py:1290\u001b[0m, in \u001b[0;36mBraketPragmasParser.ResultTypeContext.accept\u001b[0;34m(self, visitor)\u001b[0m\n\u001b[1;32m   1288\u001b[0m \u001b[39mdef\u001b[39;00m \u001b[39maccept\u001b[39m(\u001b[39mself\u001b[39m, visitor:ParseTreeVisitor):\n\u001b[1;32m   1289\u001b[0m     \u001b[39mif\u001b[39;00m \u001b[39mhasattr\u001b[39m( visitor, \u001b[39m\"\u001b[39m\u001b[39mvisitResultType\u001b[39m\u001b[39m\"\u001b[39m ):\n\u001b[0;32m-> 1290\u001b[0m         \u001b[39mreturn\u001b[39;00m visitor\u001b[39m.\u001b[39;49mvisitResultType(\u001b[39mself\u001b[39;49m)\n\u001b[1;32m   1291\u001b[0m     \u001b[39melse\u001b[39;00m:\n\u001b[1;32m   1292\u001b[0m         \u001b[39mreturn\u001b[39;00m visitor\u001b[39m.\u001b[39mvisitChildren(\u001b[39mself\u001b[39m)\n",
      "File \u001b[0;32m~/anaconda3/envs/braket/lib/python3.10/site-packages/braket/default_simulator/openqasm/parser/generated/BraketPragmasParserVisitor.py:44\u001b[0m, in \u001b[0;36mBraketPragmasParserVisitor.visitResultType\u001b[0;34m(self, ctx)\u001b[0m\n\u001b[1;32m     43\u001b[0m \u001b[39mdef\u001b[39;00m \u001b[39mvisitResultType\u001b[39m(\u001b[39mself\u001b[39m, ctx:BraketPragmasParser\u001b[39m.\u001b[39mResultTypeContext):\n\u001b[0;32m---> 44\u001b[0m     \u001b[39mreturn\u001b[39;00m \u001b[39mself\u001b[39;49m\u001b[39m.\u001b[39;49mvisitChildren(ctx)\n",
      "File \u001b[0;32m~/anaconda3/envs/braket/lib/python3.10/site-packages/antlr4/tree/Tree.py:44\u001b[0m, in \u001b[0;36mParseTreeVisitor.visitChildren\u001b[0;34m(self, node)\u001b[0m\n\u001b[1;32m     41\u001b[0m         \u001b[39mreturn\u001b[39;00m result\n\u001b[1;32m     43\u001b[0m     c \u001b[39m=\u001b[39m node\u001b[39m.\u001b[39mgetChild(i)\n\u001b[0;32m---> 44\u001b[0m     childResult \u001b[39m=\u001b[39m c\u001b[39m.\u001b[39;49maccept(\u001b[39mself\u001b[39;49m)\n\u001b[1;32m     45\u001b[0m     result \u001b[39m=\u001b[39m \u001b[39mself\u001b[39m\u001b[39m.\u001b[39maggregateResult(result, childResult)\n\u001b[1;32m     47\u001b[0m \u001b[39mreturn\u001b[39;00m result\n",
      "File \u001b[0;32m~/anaconda3/envs/braket/lib/python3.10/site-packages/braket/default_simulator/openqasm/parser/generated/BraketPragmasParser.py:1867\u001b[0m, in \u001b[0;36mBraketPragmasParser.ObservableResultTypeContext.accept\u001b[0;34m(self, visitor)\u001b[0m\n\u001b[1;32m   1865\u001b[0m \u001b[39mdef\u001b[39;00m \u001b[39maccept\u001b[39m(\u001b[39mself\u001b[39m, visitor:ParseTreeVisitor):\n\u001b[1;32m   1866\u001b[0m     \u001b[39mif\u001b[39;00m \u001b[39mhasattr\u001b[39m( visitor, \u001b[39m\"\u001b[39m\u001b[39mvisitObservableResultType\u001b[39m\u001b[39m\"\u001b[39m ):\n\u001b[0;32m-> 1867\u001b[0m         \u001b[39mreturn\u001b[39;00m visitor\u001b[39m.\u001b[39;49mvisitObservableResultType(\u001b[39mself\u001b[39;49m)\n\u001b[1;32m   1868\u001b[0m     \u001b[39melse\u001b[39;00m:\n\u001b[1;32m   1869\u001b[0m         \u001b[39mreturn\u001b[39;00m visitor\u001b[39m.\u001b[39mvisitChildren(\u001b[39mself\u001b[39m)\n",
      "File \u001b[0;32m~/anaconda3/envs/braket/lib/python3.10/site-packages/braket/default_simulator/openqasm/parser/braket_pragmas.py:98\u001b[0m, in \u001b[0;36mBraketPragmaNodeVisitor.visitObservableResultType\u001b[0;34m(self, ctx)\u001b[0m\n\u001b[1;32m     92\u001b[0m result_type \u001b[39m=\u001b[39m ctx\u001b[39m.\u001b[39mobservableResultTypeName()\u001b[39m.\u001b[39mgetText()\n\u001b[1;32m     93\u001b[0m observable_result_type_map \u001b[39m=\u001b[39m {\n\u001b[1;32m     94\u001b[0m     \u001b[39m\"\u001b[39m\u001b[39mexpectation\u001b[39m\u001b[39m\"\u001b[39m: Expectation,\n\u001b[1;32m     95\u001b[0m     \u001b[39m\"\u001b[39m\u001b[39msample\u001b[39m\u001b[39m\"\u001b[39m: Sample,\n\u001b[1;32m     96\u001b[0m     \u001b[39m\"\u001b[39m\u001b[39mvariance\u001b[39m\u001b[39m\"\u001b[39m: Variance,\n\u001b[1;32m     97\u001b[0m }\n\u001b[0;32m---> 98\u001b[0m observables, targets \u001b[39m=\u001b[39m \u001b[39mself\u001b[39m\u001b[39m.\u001b[39mvisit(ctx\u001b[39m.\u001b[39mobservable())\n\u001b[1;32m     99\u001b[0m obs \u001b[39m=\u001b[39m observable_result_type_map[result_type](targets\u001b[39m=\u001b[39mtargets, observable\u001b[39m=\u001b[39mobservables)\n\u001b[1;32m    100\u001b[0m \u001b[39mreturn\u001b[39;00m obs\n",
      "\u001b[0;31mTypeError\u001b[0m: cannot unpack non-iterable NoneType object"
     ]
    }
   ],
   "source": [
    "job = device.run(braket_circuit, shots=n_shots, inputs=bound_parameters)\n",
    "\n",
    "# Run multiple circuits at once\n",
    "# job = device.run_batch(\n",
    "#     batch_circuits,\n",
    "#     inputs={'theta': thetas}, \n",
    "#     shots=100\n",
    "# )\n",
    "\n",
    "print('Measurement Counts:', job.result().measurement_counts)\n",
    "print('Measurement Probabilities:', job.result().measurement_probabilities)\n",
    "\n",
    "# print(\"Final EXACT state vector:\\n\", job.result().values[0])\n",
    "print(f\"Expectation value <XZ>:\", np.round(job.result().values[0], 5))"
   ]
  },
  {
   "cell_type": "code",
   "execution_count": null,
   "metadata": {},
   "outputs": [
    {
     "data": {
      "text/plain": [
       "Circuit('instructions': [Instruction('operator': X('qubit_count': 1), 'target': QubitSet([Qubit(0)]), 'control': QubitSet([]), 'control_state': (), 'power': 1)])"
      ]
     },
     "execution_count": 58,
     "metadata": {},
     "output_type": "execute_result"
    }
   ],
   "source": [
    "from braket.circuits import Circuit, Observable\n",
    "from braket.devices import LocalSimulator\n",
    "\n",
    "# Define your Hamiltonian\n",
    "observable = 0.25 * Observable.X() @ Observable.X() + 0.5 * Observable.Z() @ Observable.Z()\n",
    "\n",
    "# Initialize your quantum circuit as needed\n",
    "circuit = Circuit()\n",
    "circuit.x(0)\n",
    "# circuit.h(0).cnot(0, 1)"
   ]
  },
  {
   "cell_type": "code",
   "execution_count": null,
   "metadata": {},
   "outputs": [
    {
     "name": "stdout",
     "output_type": "stream",
     "text": [
      "T  : |0|      Result Types      |\n",
      "                                 \n",
      "q0 : -X-Expectation(Hamiltonian)-\n",
      "                                 \n",
      "q1 : ---Expectation(Hamiltonian)-\n",
      "\n",
      "T  : |0|      Result Types      |\n",
      "\n",
      "Expectation value: [-0.01, 1.0]\n"
     ]
    }
   ],
   "source": [
    "# Define observables for each qubit\n",
    "observable_q0 = Observable.X() + Observable.X()\n",
    "observable_q1 = Observable.Z() + Observable.Z()\n",
    "\n",
    "# Measure the expectation value for the observable on qubit 0\n",
    "circuit.expectation(observable=observable_q0, target=[[0], [0]])\n",
    "\n",
    "# Measure the expectation value for the observable on qubit 1\n",
    "circuit.expectation(observable=observable_q1, target=[[1], [1]])\n",
    "print(circuit)\n",
    "\n",
    "# Add your quantum gates to prepare the state |psi>\n",
    "# For example, circuit.h(0).cnot(0, 1) to prepare an entangled state\n",
    "\n",
    "\n",
    "# Set the device to run your circuit\n",
    "device = LocalSimulator()\n",
    "\n",
    "# Run the circuit with the observable to measure the expectation value\n",
    "task = device.run(circuit, shots=1000)\n",
    "\n",
    "# Get the result\n",
    "result = task.result()\n",
    "\n",
    "# # Extract the expectation value from the result\n",
    "expectation_values = result.values\n",
    "\n",
    "print(f\"\\nExpectation value: {expectation_values}\")"
   ]
  },
  {
   "attachments": {},
   "cell_type": "markdown",
   "metadata": {},
   "source": [
    "#### Run a small batch of braket cirucits with ``run_batch``"
   ]
  },
  {
   "cell_type": "code",
   "execution_count": null,
   "metadata": {},
   "outputs": [],
   "source": [
    "batchsize = 5\n",
    "\n",
    "# Create a list of circuits\n",
    "batch_circuits = [braket_circuit] * batchsize\n",
    "\n",
    "# Create a list of parameter dicts\n",
    "batch_bound_parameters = [bound_parameters] * batchsize"
   ]
  },
  {
   "cell_type": "code",
   "execution_count": null,
   "metadata": {},
   "outputs": [],
   "source": [
    "batch_results = device.run_batch(batch_circuits, inputs=batch_bound_parameters, shots=n_shots)"
   ]
  },
  {
   "cell_type": "code",
   "execution_count": null,
   "metadata": {},
   "outputs": [
    {
     "name": "stdout",
     "output_type": "stream",
     "text": [
      "Batch Number: 0\n",
      "Measurement Counts: Counter({'10': 505, '00': 495})\n",
      "Measurement Probabilities: {'00': 0.495, '10': 0.505}\n",
      "Expectation value <XZ>: -0.01 \n",
      "\n",
      "Batch Number: 1\n",
      "Measurement Counts: Counter({'00': 509, '10': 491})\n",
      "Measurement Probabilities: {'00': 0.509, '10': 0.491}\n",
      "Expectation value <XZ>: 0.018 \n",
      "\n",
      "Batch Number: 2\n",
      "Measurement Counts: Counter({'00': 538, '10': 462})\n",
      "Measurement Probabilities: {'00': 0.538, '10': 0.462}\n",
      "Expectation value <XZ>: 0.076 \n",
      "\n",
      "Batch Number: 3\n",
      "Measurement Counts: Counter({'00': 512, '10': 488})\n",
      "Measurement Probabilities: {'10': 0.488, '00': 0.512}\n",
      "Expectation value <XZ>: 0.024 \n",
      "\n",
      "Batch Number: 4\n",
      "Measurement Counts: Counter({'00': 505, '10': 495})\n",
      "Measurement Probabilities: {'10': 0.495, '00': 0.505}\n",
      "Expectation value <XZ>: 0.01 \n",
      "\n"
     ]
    }
   ],
   "source": [
    "for ind, result in enumerate(batch_results.results()):\n",
    "    print('Batch Number:', ind)\n",
    "    print('Measurement Counts:', result.measurement_counts)\n",
    "    print('Measurement Probabilities:', result.measurement_probabilities)\n",
    "    print(f\"Expectation value <XZ>:\", np.round(result.values[0], 5), '\\n')"
   ]
  },
  {
   "attachments": {},
   "cell_type": "markdown",
   "metadata": {},
   "source": [
    "#### Run same circuit with Qiskit Statevector Estimator"
   ]
  },
  {
   "cell_type": "code",
   "execution_count": null,
   "metadata": {},
   "outputs": [],
   "source": [
    "from qiskit.primitives import Estimator\n",
    "from qiskit.quantum_info.operators import SparsePauliOp\n",
    "\n",
    "estimator = Estimator()\n",
    "observable = SparsePauliOp(\n",
    "    [observable_string_xx], # , observable_string_zz], \n",
    "    coeffs=[1.0] #, 1.0]\n",
    ")"
   ]
  },
  {
   "cell_type": "code",
   "execution_count": null,
   "metadata": {},
   "outputs": [],
   "source": [
    "qiskit_circuit.draw('mpl')"
   ]
  },
  {
   "cell_type": "code",
   "execution_count": null,
   "metadata": {},
   "outputs": [],
   "source": [
    "qiskit_job = estimator.run(\n",
    "    circuits=qiskit_circuit, \n",
    "    observables=observable, \n",
    "    parameter_values=action_vector,\n",
    "    shots=n_shots\n",
    ")"
   ]
  },
  {
   "cell_type": "code",
   "execution_count": null,
   "metadata": {},
   "outputs": [],
   "source": [
    "def create_expectation_string(prefactors, observable_strings):\n",
    "    if len(prefactors) != len(observable_strings):\n",
    "        raise ValueError(\"The lengths of prefactors and observable_strings should be the same.\")\n",
    "\n",
    "    expectation_string = \"Expectation value \"\n",
    "    for i in range(len(prefactors)):\n",
    "        expectation_string += f\"{prefactors[i]}*<{observable_strings[i]}>\"\n",
    "        if i < len(prefactors) - 1:\n",
    "            expectation_string += \" + \"\n",
    "\n",
    "    expectation_string += \":\"\n",
    "\n",
    "    return expectation_string"
   ]
  },
  {
   "cell_type": "code",
   "execution_count": null,
   "metadata": {},
   "outputs": [],
   "source": [
    "print(create_expectation_string(observable.coeffs, observable.settings['data']), qiskit_job.result().values)"
   ]
  },
  {
   "cell_type": "code",
   "execution_count": null,
   "metadata": {},
   "outputs": [],
   "source": [
    "elif isinstance(backend, (BraketLocalBackend, AWSBraketBackend)):\n",
    "    # Can be used for the SV1 simulator of AWS Braket\n",
    "    if abstraction_level != \"circuit\":\n",
    "        raise ValueError(\"Statevector simulation only works at circuit level\")\n",
    "    estimator = BackendEstimator(backend) # Create a BackendEstimator object from the braket-provider backend (which is a BackendV2 object)\n",
    "    sampler = BackendSampler(backend) # options={\"initial_layout\": layout})\n"
   ]
  },
  {
   "attachments": {},
   "cell_type": "markdown",
   "metadata": {},
   "source": [
    "#### Create BackendEstimator out of Qiskit-Braket-Provider backend"
   ]
  },
  {
   "cell_type": "code",
   "execution_count": null,
   "metadata": {},
   "outputs": [],
   "source": [
    "# backend = AWSBraketProvider().get_backend('SV1')\n",
    "# qiskit_estimator_from_braket = BackendEstimator(backend)\n",
    "\n",
    "# job = qiskit_estimator_from_braket.run(\n",
    "#     circuits=qiskit_circuit, \n",
    "#     observables=observable, \n",
    "#     parameter_values=action_vector,\n",
    "#     shots=n_shots\n",
    "# )"
   ]
  },
  {
   "cell_type": "code",
   "execution_count": null,
   "metadata": {},
   "outputs": [],
   "source": [
    "# job = qiskit_estimator_from_braket.run(\n",
    "#     circuits=qiskit_circuit, \n",
    "#     observables=observable, \n",
    "#     parameter_values=action_vector,\n",
    "#     shots=n_shots\n",
    "# )"
   ]
  },
  {
   "cell_type": "code",
   "execution_count": null,
   "metadata": {},
   "outputs": [],
   "source": [
    "# job.result().values"
   ]
  },
  {
   "attachments": {},
   "cell_type": "markdown",
   "metadata": {},
   "source": [
    "## BraketEstimator"
   ]
  },
  {
   "cell_type": "code",
   "execution_count": 41,
   "metadata": {},
   "outputs": [],
   "source": [
    "import numpy as np\n",
    "from braket.aws import AwsDevice\n",
    "from braket.circuits import Circuit, Observable\n",
    "\n",
    "class BraketEstimator:\n",
    "    def __init__(self, backend):\n",
    "        \"\"\"\n",
    "        Initialize the estimator with a specific AWS Braket backend.\n",
    "        :param backend: An instance of AwsDevice\n",
    "        \"\"\"\n",
    "        self.backend = backend\n",
    "\n",
    "    def estimate(self, circuits, observables, targets, parameters=None):\n",
    "        \"\"\"\n",
    "        Estimate the expectation values of the given observables for the provided circuits.\n",
    "        :param circuits: List of Braket Circuit objects\n",
    "        :param observables: List of Observables corresponding to each circuit\n",
    "        :param targets: List of qubit indices for which the observable is to be measured corresponding to each circuit\n",
    "        :param parameters: List of dictionaries mapping parameter names to values\n",
    "        :return: List of estimated expectation values\n",
    "        \"\"\"\n",
    "        expectation_values = []\n",
    "        measurement_counts = []\n",
    "\n",
    "        for idx, circuit in enumerate(circuits):\n",
    "            if parameters:\n",
    "                # Bind parameters here\n",
    "                param_dict = parameters[idx]\n",
    "                for name, value in param_dict.items():\n",
    "                    circuit = circuit.bind_parameters({name: value})\n",
    "\n",
    "            # Add measurement based on the observable\n",
    "            # For simplicity, assuming single-qubit Pauli observables\n",
    "            circuit.expectation(observable=observables[idx], target=targets[idx])\n",
    "\n",
    "            # Run the circuit\n",
    "            task = self.backend.run(circuit, shots=1000)\n",
    "            result = task.result()\n",
    "\n",
    "            # Compute expectation value from result\n",
    "            # This is a simplified example; actual computation depends on the observable\n",
    "            measurement_counts = result.measurement_counts\n",
    "            measurement_counts.append(measurement_counts)\n",
    "            expectation_value = result.values # self.compute_expectation_value(counts)\n",
    "            expectation_values.append([expectation_value])\n",
    "\n",
    "        return measurement_counts, expectation_values\n",
    "\n",
    "    @staticmethod\n",
    "    def compute_expectation_value(counts):\n",
    "        \"\"\"\n",
    "        Compute the expectation value from measurement counts.\n",
    "        This is a simplified example and might need to be adjusted based on the observable.\n",
    "        \"\"\"\n",
    "        expectation_value = 0\n",
    "        for outcome, count in counts.items():\n",
    "            # Assuming 0 maps to +1 eigenvalue and 1 maps to -1\n",
    "            sign = 1 if outcome == '0' else -1\n",
    "            expectation_value += sign * count\n",
    "        expectation_value /= sum(counts.values())\n",
    "        return expectation_value"
   ]
  },
  {
   "cell_type": "code",
   "execution_count": 45,
   "metadata": {},
   "outputs": [],
   "source": [
    "# Example usage\n",
    "backend = AWSBraketProvider().get_backend('SV1')\n",
    "estimator = BraketEstimator(backend)"
   ]
  },
  {
   "cell_type": "code",
   "execution_count": 56,
   "metadata": {},
   "outputs": [],
   "source": [
    "# Define your circuits and observables here\n",
    "circuits = [Circuit().h(0), Circuit().x(0)]\n",
    "observables = [Observable.Z(), Observable.X()]\n",
    "parameters = [None, None]  # Assuming no parameters for simplicity\n",
    "\n",
    "# expectation_values = estimator.estimate(circuits, observables, targets=[0, 0], parameters=None)\n",
    "# print(expectation_values)"
   ]
  },
  {
   "cell_type": "code",
   "execution_count": 60,
   "metadata": {},
   "outputs": [
    {
     "name": "stdout",
     "output_type": "stream",
     "text": [
      "0 T  : |0| Result Types |\n",
      "                       \n",
      "q0 : -H-Expectation(Z)-\n",
      "\n",
      "T  : |0| Result Types |\n"
     ]
    },
    {
     "ename": "QiskitBraketException",
     "evalue": "Unsupported input type: <class 'braket.circuits.circuit.Circuit'>",
     "output_type": "error",
     "traceback": [
      "\u001b[0;31m---------------------------------------------------------------------------\u001b[0m",
      "\u001b[0;31mQiskitBraketException\u001b[0m                     Traceback (most recent call last)",
      "Cell \u001b[0;32mIn[60], line 22\u001b[0m\n\u001b[1;32m     19\u001b[0m \u001b[39mprint\u001b[39m(idx, circuit)\n\u001b[1;32m     21\u001b[0m \u001b[39m# # Run the circuit\u001b[39;00m\n\u001b[0;32m---> 22\u001b[0m task \u001b[39m=\u001b[39m backend\u001b[39m.\u001b[39;49mrun(circuit, shots\u001b[39m=\u001b[39;49m\u001b[39m1000\u001b[39;49m)\n\u001b[1;32m     23\u001b[0m result \u001b[39m=\u001b[39m task\u001b[39m.\u001b[39mresult()\n\u001b[1;32m     25\u001b[0m \u001b[39m# # Compute expectation value from result\u001b[39;00m\n\u001b[1;32m     26\u001b[0m \u001b[39m# # This is a simplified example; actual computation depends on the observable\u001b[39;00m\n\u001b[1;32m     27\u001b[0m \u001b[39m# measurement_counts = result.measurement_counts\u001b[39;00m\n\u001b[1;32m     28\u001b[0m \u001b[39m# measurement_counts.append(measurement_counts)\u001b[39;00m\n\u001b[1;32m     29\u001b[0m \u001b[39m# expectation_value = result.values # self.compute_expectation_value(counts)\u001b[39;00m\n\u001b[1;32m     30\u001b[0m \u001b[39m# expectation_values.append([expectation_value])\u001b[39;00m\n",
      "File \u001b[0;32m~/anaconda3/envs/braket/lib/python3.10/site-packages/qiskit_braket_provider/providers/braket_backend.py:279\u001b[0m, in \u001b[0;36mAWSBraketBackend.run\u001b[0;34m(self, run_input, **options)\u001b[0m\n\u001b[1;32m    277\u001b[0m     circuits \u001b[39m=\u001b[39m run_input\n\u001b[1;32m    278\u001b[0m \u001b[39melse\u001b[39;00m:\n\u001b[0;32m--> 279\u001b[0m     \u001b[39mraise\u001b[39;00m QiskitBraketException(\u001b[39mf\u001b[39m\u001b[39m\"\u001b[39m\u001b[39mUnsupported input type: \u001b[39m\u001b[39m{\u001b[39;00m\u001b[39mtype\u001b[39m(run_input)\u001b[39m}\u001b[39;00m\u001b[39m\"\u001b[39m)\n\u001b[1;32m    281\u001b[0m braket_circuits \u001b[39m=\u001b[39m \u001b[39mlist\u001b[39m(convert_qiskit_to_braket_circuits(circuits))\n\u001b[1;32m    283\u001b[0m \u001b[39mif\u001b[39;00m options\u001b[39m.\u001b[39mpop(\u001b[39m\"\u001b[39m\u001b[39mverbatim\u001b[39m\u001b[39m\"\u001b[39m, \u001b[39mFalse\u001b[39;00m):\n",
      "\u001b[0;31mQiskitBraketException\u001b[0m: Unsupported input type: <class 'braket.circuits.circuit.Circuit'>"
     ]
    }
   ],
   "source": [
    "circuits = [Circuit().h(0), Circuit().x(0)]\n",
    "observables = [Observable.Z(), Observable.X()]\n",
    "targets=[0, 0]\n",
    "parameters=None\n",
    "\n",
    "expectation_values = []\n",
    "measurement_counts = []\n",
    "\n",
    "for idx, circuit in enumerate(circuits):\n",
    "    if parameters:\n",
    "        # Bind parameters here\n",
    "        param_dict = parameters[idx]\n",
    "        for name, value in param_dict.items():\n",
    "            circuit = circuit.bind_parameters({name: value})\n",
    "    \n",
    "    # # Add measurement based on the observable\n",
    "    # # For simplicity, assuming single-qubit Pauli observables\n",
    "    circuit.expectation(observable=observables[idx], target=targets[idx])\n",
    "    print(idx, circuit)\n",
    "    \n",
    "    # # Run the circuit\n",
    "    task = backend.run(circuit, shots=1000)\n",
    "    result = task.result()\n",
    "\n",
    "    # # Compute expectation value from result\n",
    "    # # This is a simplified example; actual computation depends on the observable\n",
    "    # measurement_counts = result.measurement_counts\n",
    "    # measurement_counts.append(measurement_counts)\n",
    "    # expectation_value = result.values # self.compute_expectation_value(counts)\n",
    "    # expectation_values.append([expectation_value])"
   ]
  },
  {
   "cell_type": "code",
   "execution_count": null,
   "metadata": {},
   "outputs": [],
   "source": []
  }
 ],
 "metadata": {
  "kernelspec": {
   "display_name": "braket",
   "language": "python",
   "name": "python3"
  },
  "language_info": {
   "codemirror_mode": {
    "name": "ipython",
    "version": 3
   },
   "file_extension": ".py",
   "mimetype": "text/x-python",
   "name": "python",
   "nbconvert_exporter": "python",
   "pygments_lexer": "ipython3",
   "version": "3.10.13"
  },
  "orig_nbformat": 4
 },
 "nbformat": 4,
 "nbformat_minor": 2
}
