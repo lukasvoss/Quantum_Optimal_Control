{
 "cells": [
  {
   "attachments": {},
   "cell_type": "markdown",
   "metadata": {},
   "source": [
    "## Rebuild the parametrized circuit in AWS Braket"
   ]
  },
  {
   "cell_type": "code",
   "execution_count": 1,
   "metadata": {},
   "outputs": [],
   "source": [
    "import numpy as np\n",
    "\n",
    "from qiskit import QuantumCircuit, QuantumRegister\n",
    "from qiskit.circuit import ParameterVector\n",
    "\n",
    "from braket.devices import LocalSimulator\n",
    "from braket.circuits import Circuit, Gate, Instruction, QubitSet, AngledGate, Observable\n",
    "from braket.circuits import noises\n",
    "from braket.circuits.gates import X, Rx, Rz, CNot, XY, PulseGate, U\n",
    "from braket.quantum_information import PauliString\n",
    "from braket.parametric import FreeParameter, FreeParameterExpression\n",
    "\n",
    "from qiskit_braket_provider.providers import adapter\n"
   ]
  },
  {
   "cell_type": "code",
   "execution_count": 2,
   "metadata": {},
   "outputs": [],
   "source": [
    "action_vector = np.pi * np.array([0.0, 0.0, 0.5, 0.5, -0.5, 0.5, -0.5]) # np.random.uniform(-np.pi, np.pi, 7)"
   ]
  },
  {
   "cell_type": "code",
   "execution_count": 3,
   "metadata": {},
   "outputs": [
    {
     "name": "stdout",
     "output_type": "stream",
     "text": [
      "T  : |     0     |   1    |     2     |3|4|   5    |6|7|\n",
      "                                                        \n",
      "q0 : -PHASE(a[2])-Ry(a[0])-PHASE(a[1])---C----------C---\n",
      "                                         |          |   \n",
      "q1 : -PHASE(a[5])-Ry(a[3])-PHASE(a[4])-H-X-Rz(a[6])-X-H-\n",
      "\n",
      "T  : |     0     |   1    |     2     |3|4|   5    |6|7|\n",
      "\n",
      "Unassigned parameters: [a[0], a[1], a[2], a[3], a[4], a[5], a[6]].\n"
     ]
    }
   ],
   "source": [
    "q_reg = QuantumRegister(2)\n",
    "baseline = np.pi * np.zeros(len(action_vector))\n",
    "params = ParameterVector(\"a\", 7)\n",
    "qiskit_circuit = QuantumCircuit(q_reg, name=\"custom_cx\")\n",
    "# optimal_params = np.pi * np.array([0.0, 0.0, 0.5, 0.5, -0.5, 0.5, -0.5])\n",
    "optimal_params = np.pi * np.zeros(7)\n",
    "\n",
    "qiskit_circuit.u(\n",
    "    baseline[0] + params[0],\n",
    "    baseline[1] + params[1],\n",
    "    baseline[2] + params[2],\n",
    "    q_reg[0],\n",
    ")\n",
    "qiskit_circuit.u(\n",
    "    baseline[3] + params[3],\n",
    "    baseline[4] + params[4],\n",
    "    baseline[5] + params[5],\n",
    "    q_reg[1],\n",
    ")\n",
    "\n",
    "qiskit_circuit.rzx(baseline[6] + params[6], q_reg[0], q_reg[1])\n",
    "\n",
    "braket_circuit_converted = adapter.convert_qiskit_to_braket_circuit(qiskit_circuit)\n",
    "\n",
    "print(braket_circuit_converted)"
   ]
  },
  {
   "attachments": {},
   "cell_type": "markdown",
   "metadata": {},
   "source": [
    "#### Braket Version"
   ]
  },
  {
   "cell_type": "code",
   "execution_count": 4,
   "metadata": {},
   "outputs": [
    {
     "name": "stdout",
     "output_type": "stream",
     "text": [
      "T  : |      0      |\n",
      "                    \n",
      "q0 : -U(a0, a1, a2)-\n",
      "                    \n",
      "q1 : -U(a3, a4, a5)-\n",
      "\n",
      "T  : |      0      |\n",
      "\n",
      "Unassigned parameters: [a0, a1, a2, a3, a4, a5].\n"
     ]
    }
   ],
   "source": [
    "braket_circuit = Circuit()\n",
    "\n",
    "baseline = np.pi * np.zeros(len(action_vector))\n",
    "params = [FreeParameter(f\"a{i}\") for i in range(0, len(action_vector))]\n",
    "\n",
    "u1 = U(\n",
    "    baseline[0] + params[0], \n",
    "    baseline[1] + params[1], \n",
    "    baseline[1] + params[2],\n",
    ")\n",
    "u2 = U(\n",
    "    baseline[3] + params[3], \n",
    "    baseline[4] + params[4], \n",
    "    baseline[5] + params[5],\n",
    ")\n",
    "\n",
    "# rzx = RZX(\n",
    "#     baseline[6] + params[6]\n",
    "# )\n",
    "\n",
    "braket_circuit.add_instruction(Instruction(u1, [0]))\n",
    "braket_circuit.add_instruction(Instruction(u2, [1]))\n",
    "print(braket_circuit)"
   ]
  },
  {
   "cell_type": "code",
   "execution_count": 5,
   "metadata": {},
   "outputs": [
    {
     "name": "stdout",
     "output_type": "stream",
     "text": [
      "T  : |      0      |1|2|  3   |4|5|\n",
      "                                   \n",
      "q0 : -U(a0, a1, a2)---C--------C---\n",
      "                      |        |   \n",
      "q1 : -U(a3, a4, a5)-H-X-Rz(a6)-X-H-\n",
      "\n",
      "T  : |      0      |1|2|  3   |4|5|\n",
      "\n",
      "Unassigned parameters: [a0, a1, a2, a3, a4, a5, a6].\n"
     ]
    }
   ],
   "source": [
    "def rzx(theta, register):\n",
    "    \"\"\"\n",
    "    RZX gate decomposition for angle theta\n",
    "    \"\"\"\n",
    "    q1, q2 = register\n",
    "    qc = Circuit()\n",
    "\n",
    "    # Step 1: Apply Hadamard gate to the target qubit\n",
    "    qc.h(q2)\n",
    "\n",
    "    # Step 2: Apply CNOT gate with q1 as control and q2 as target\n",
    "    qc.cnot(q1, q2)\n",
    "\n",
    "    # Step 3: Apply RZ gate with angle theta to the target qubit\n",
    "    # Since Braket's RZ gate uses full angle, there's no need to divide theta by 2\n",
    "    qc.rz(q2, angle=theta)\n",
    "\n",
    "    # Step 4: Apply another CNOT gate with q1 as control and q2 as target\n",
    "    qc.cnot(q1, q2)\n",
    "\n",
    "    # Step 5: Apply Hadamard gate to the target qubit again\n",
    "    qc.h(q2)\n",
    "    \n",
    "    return qc\n",
    "\n",
    "Circuit.register_subroutine(rzx)\n",
    "\n",
    "braket_circuit.rzx(baseline[6] + params[6], [0, 1])\n",
    "\n",
    "print(braket_circuit)"
   ]
  },
  {
   "attachments": {},
   "cell_type": "markdown",
   "metadata": {},
   "source": [
    "Sanity Checks if RZX was correclty implemented"
   ]
  },
  {
   "cell_type": "code",
   "execution_count": 6,
   "metadata": {},
   "outputs": [
    {
     "name": "stdout",
     "output_type": "stream",
     "text": [
      "RZX gate is implemented correctly!\n"
     ]
    }
   ],
   "source": [
    "X = np.array([[0, 1], [1, 0]])\n",
    "Z = np.array([[1, 0], [0, -1]])\n",
    "\n",
    "new_circ = Circuit()\n",
    "check1 = np.isclose(new_circ.rzx(0, [0, 1]).to_unitary(), np.eye(4), atol=1e-8)\n",
    "new_circ = Circuit()\n",
    "check2 = np.isclose(new_circ.rzx(2*np.pi, [0, 1]).to_unitary(), -np.eye(4), atol=1e-8)\n",
    "new_circ = Circuit()\n",
    "check3 = np.isclose(new_circ.rzx(np.pi, [0, 1]).to_unitary(), -1j * np.kron(Z, X), atol=1e-8)\n",
    "\n",
    "if check1.all() and check2.all() and check3.all():\n",
    "    print(\"RZX gate is implemented correctly!\")"
   ]
  },
  {
   "cell_type": "code",
   "execution_count": 7,
   "metadata": {},
   "outputs": [],
   "source": [
    "device = LocalSimulator() # Noise-Free statevector simulation\n",
    "# device = LocalSimulator(backend=\"braket_dm\") # For simulations with noise"
   ]
  },
  {
   "cell_type": "code",
   "execution_count": 8,
   "metadata": {},
   "outputs": [],
   "source": [
    "param_names = [str(param) for param in params]\n",
    "bound_parameters = dict(zip(param_names, action_vector))"
   ]
  },
  {
   "cell_type": "code",
   "execution_count": 9,
   "metadata": {},
   "outputs": [
    {
     "name": "stdout",
     "output_type": "stream",
     "text": [
      "Braket Circuit: \n",
      "\n",
      " T  : |      0      |1|2|  3   |4|5|\n",
      "                                   \n",
      "q0 : -U(a0, a1, a2)---C--------C---\n",
      "                      |        |   \n",
      "q1 : -U(a3, a4, a5)-H-X-Rz(a6)-X-H-\n",
      "\n",
      "T  : |      0      |1|2|  3   |4|5|\n",
      "\n",
      "Unassigned parameters: [a0, a1, a2, a3, a4, a5, a6].\n",
      "\n",
      "\n",
      "Qiskit to Braket Circuit Conversion: \n",
      "\n",
      " T  : |     0     |   1    |     2     |3|4|   5    |6|7|\n",
      "                                                        \n",
      "q0 : -PHASE(a[2])-Ry(a[0])-PHASE(a[1])---C----------C---\n",
      "                                         |          |   \n",
      "q1 : -PHASE(a[5])-Ry(a[3])-PHASE(a[4])-H-X-Rz(a[6])-X-H-\n",
      "\n",
      "T  : |     0     |   1    |     2     |3|4|   5    |6|7|\n",
      "\n",
      "Unassigned parameters: [a[0], a[1], a[2], a[3], a[4], a[5], a[6]].\n"
     ]
    }
   ],
   "source": [
    "print('Braket Circuit: \\n\\n', braket_circuit)\n",
    "print('\\n\\nQiskit to Braket Circuit Conversion: \\n\\n', braket_circuit_converted)"
   ]
  },
  {
   "cell_type": "code",
   "execution_count": 10,
   "metadata": {},
   "outputs": [],
   "source": [
    "n_shots = 1000"
   ]
  },
  {
   "cell_type": "code",
   "execution_count": 11,
   "metadata": {},
   "outputs": [
    {
     "name": "stdout",
     "output_type": "stream",
     "text": [
      "measurement results: Counter({'00': 1000})\n"
     ]
    }
   ],
   "source": [
    "# run the circuit on the local simulator\n",
    "task = device.run(braket_circuit, shots=n_shots, inputs=bound_parameters)\n",
    "\n",
    "# visualize the results\n",
    "result = task.result()\n",
    "measurement = result.measurement_counts\n",
    "print('measurement results:', measurement)"
   ]
  },
  {
   "attachments": {},
   "cell_type": "markdown",
   "metadata": {},
   "source": [
    "### Measuring expectation values"
   ]
  },
  {
   "cell_type": "code",
   "execution_count": 12,
   "metadata": {},
   "outputs": [],
   "source": [
    "observable_string_xx = \"XX\"\n",
    "observable_string_zz = \"ZZ\""
   ]
  },
  {
   "cell_type": "code",
   "execution_count": 13,
   "metadata": {},
   "outputs": [
    {
     "data": {
      "text/plain": [
       "Sum(TensorProduct(X('qubit_count': 1), X('qubit_count': 1)), TensorProduct(Z('qubit_count': 1), Z('qubit_count': 1)))"
      ]
     },
     "execution_count": 13,
     "metadata": {},
     "output_type": "execute_result"
    }
   ],
   "source": [
    "PauliString(observable_string_xx).to_unsigned_observable() + PauliString(observable_string_zz).to_unsigned_observable()"
   ]
  },
  {
   "cell_type": "code",
   "execution_count": 14,
   "metadata": {},
   "outputs": [],
   "source": [
    "pauli_operator = 0.5 * PauliString(observable_string_xx).to_unsigned_observable() + 0.5 * PauliString(observable_string_zz).to_unsigned_observable()"
   ]
  },
  {
   "cell_type": "code",
   "execution_count": 15,
   "metadata": {},
   "outputs": [
    {
     "data": {
      "text/plain": [
       "0.5"
      ]
     },
     "execution_count": 15,
     "metadata": {},
     "output_type": "execute_result"
    }
   ],
   "source": [
    "list(pauli_operator.summands)[0].coefficient"
   ]
  },
  {
   "attachments": {},
   "cell_type": "markdown",
   "metadata": {},
   "source": [
    "Measure expectation values on the native braket circuit"
   ]
  },
  {
   "cell_type": "code",
   "execution_count": 16,
   "metadata": {},
   "outputs": [
    {
     "name": "stdout",
     "output_type": "stream",
     "text": [
      "T  : |      0      |1|2|  3   |4|5|  Result Types  |\n",
      "                                                    \n",
      "q0 : -U(a0, a1, a2)---C--------C---Expectation(X@X)-\n",
      "                      |        |   |                \n",
      "q1 : -U(a3, a4, a5)-H-X-Rz(a6)-X-H-Expectation(X@X)-\n",
      "\n",
      "T  : |      0      |1|2|  3   |4|5|  Result Types  |\n",
      "\n",
      "Additional result types: StateVector\n",
      "\n",
      "Unassigned parameters: [a0, a1, a2, a3, a4, a5, a6].\n"
     ]
    }
   ],
   "source": [
    "# Create a small circuit with a free parameter theta\n",
    "pauli_string = PauliString(observable_string_xx)\n",
    "pauli_operator = pauli_string.to_unsigned_observable()\n",
    "\n",
    "braket_circuit.state_vector() # Get the state vector of the circuit\n",
    "braket_circuit.expectation(observable=pauli_operator, target=[0, 1]) # Get the expectation value of the Pauli operator\n",
    "\n",
    "# pauli_string = PauliString(observable_string_xx)\n",
    "# pauli_operator = 0.5*pauli_string.to_unsigned_observable()\n",
    "# braket_circuit.expectation(observable=pauli_operator, target=[0, 1]) \n",
    "print(braket_circuit)\n",
    "\n",
    "# Small value for test purposes\n",
    "# batchsize = 5\n",
    "# batch_circuits = [circ] * batchsize"
   ]
  },
  {
   "cell_type": "code",
   "execution_count": 17,
   "metadata": {},
   "outputs": [
    {
     "name": "stdout",
     "output_type": "stream",
     "text": [
      "Measurement Counts: None\n",
      "Measurement Probabilities: None\n",
      "Final EXACT state vector:\n",
      " [1.00000000e+00+3.92523115e-17j 5.61334798e-17-6.73463194e-18j\n",
      " 0.00000000e+00+0.00000000e+00j 0.00000000e+00+0.00000000e+00j]\n",
      "Expectation value <XX>: 0.0\n"
     ]
    }
   ],
   "source": [
    "job = device.run(braket_circuit, shots=0, inputs=bound_parameters)\n",
    "\n",
    "# Run multiple circuits at once\n",
    "# job = device.run_batch(\n",
    "#     batch_circuits,\n",
    "#     inputs={'theta': thetas}, \n",
    "#     shots=100\n",
    "# )\n",
    "\n",
    "print('Measurement Counts:', job.result().measurement_counts)\n",
    "print('Measurement Probabilities:', job.result().measurement_probabilities)\n",
    "\n",
    "print(\"Final EXACT state vector:\\n\", job.result().values[0])\n",
    "print(f\"Expectation value <{observable_string_xx}>:\", np.round(job.result().values[1], 5))"
   ]
  },
  {
   "attachments": {},
   "cell_type": "markdown",
   "metadata": {},
   "source": [
    "Run same circuit with Qiskit Estimator"
   ]
  },
  {
   "cell_type": "code",
   "execution_count": 18,
   "metadata": {},
   "outputs": [],
   "source": [
    "from qiskit.primitives import Estimator\n",
    "from qiskit.quantum_info.operators import SparsePauliOp\n",
    "\n",
    "estimator = Estimator()\n",
    "observable = SparsePauliOp(\n",
    "    [observable_string_xx], #, observable_string_xx], \n",
    "    coeffs=[1] # , 0.5]\n",
    ")"
   ]
  },
  {
   "cell_type": "code",
   "execution_count": 19,
   "metadata": {},
   "outputs": [
    {
     "name": "stderr",
     "output_type": "stream",
     "text": [
      "/Users/lukasvoss/anaconda3/envs/braket/lib/python3.10/site-packages/qiskit/visualization/circuit/matplotlib.py:266: FutureWarning: The default matplotlib drawer scheme will be changed to \"iqp\" in a following release. To silence this warning, specify the current default explicitly as style=\"clifford\", or the new default as style=\"iqp\".\n",
      "  self._style, def_font_ratio = load_style(self._style)\n"
     ]
    },
    {
     "data": {
      "image/png": "[encoded data removed]",
      "text/plain": [
       "<Figure size 388.934x200.667 with 1 Axes>"
      ]
     },
     "execution_count": 19,
     "metadata": {},
     "output_type": "execute_result"
    }
   ],
   "source": [
    "qiskit_circuit.draw('mpl')"
   ]
  },
  {
   "cell_type": "code",
   "execution_count": 23,
   "metadata": {},
   "outputs": [],
   "source": [
    "qiskit_job = estimator.run(\n",
    "    circuits=qiskit_circuit, \n",
    "    observables=observable, \n",
    "    parameter_values=action_vector,\n",
    "    shots=n_shots\n",
    ")"
   ]
  },
  {
   "cell_type": "code",
   "execution_count": 24,
   "metadata": {},
   "outputs": [],
   "source": [
    "def create_expectation_string(prefactors, observable_strings):\n",
    "    if len(prefactors) != len(observable_strings):\n",
    "        raise ValueError(\"The lengths of prefactors and observable_strings should be the same.\")\n",
    "\n",
    "    expectation_string = \"Expectation value \"\n",
    "    for i in range(len(prefactors)):\n",
    "        expectation_string += f\"{prefactors[i]}*<{observable_strings[i]}>\"\n",
    "        if i < len(prefactors) - 1:\n",
    "            expectation_string += \" + \"\n",
    "\n",
    "    expectation_string += \":\"\n",
    "\n",
    "    return expectation_string"
   ]
  },
  {
   "cell_type": "code",
   "execution_count": 25,
   "metadata": {},
   "outputs": [
    {
     "name": "stdout",
     "output_type": "stream",
     "text": [
      "Expectation value (1+0j)*<XX>: [0.0185983]\n"
     ]
    }
   ],
   "source": [
    "print(create_expectation_string(observable.coeffs, observable.settings['data']), qiskit_job.result().values)"
   ]
  }
 ],
 "metadata": {
  "kernelspec": {
   "display_name": "braket",
   "language": "python",
   "name": "python3"
  },
  "language_info": {
   "codemirror_mode": {
    "name": "ipython",
    "version": 3
   },
   "file_extension": ".py",
   "mimetype": "text/x-python",
   "name": "python",
   "nbconvert_exporter": "python",
   "pygments_lexer": "ipython3",
   "version": "3.10.13"
  },
  "orig_nbformat": 4
 },
 "nbformat": 4,
 "nbformat_minor": 2
}
