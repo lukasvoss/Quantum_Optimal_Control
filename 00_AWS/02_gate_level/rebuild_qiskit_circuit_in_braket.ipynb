{
 "cells": [
  {
   "attachments": {},
   "cell_type": "markdown",
   "metadata": {},
   "source": [
    "## Rebuild the parametrized circuit in AWS Braket"
   ]
  },
  {
   "cell_type": "code",
   "execution_count": 280,
   "metadata": {},
   "outputs": [],
   "source": [
    "import numpy as np\n",
    "\n",
    "from qiskit import QuantumCircuit, QuantumRegister\n",
    "from qiskit.circuit import ParameterVector\n",
    "from qiskit.primitives import BackendEstimator, Estimator, Sampler, BackendSampler\n",
    "\n",
    "from braket.devices import LocalSimulator\n",
    "from braket.circuits import Circuit, Gate, Instruction, QubitSet, AngledGate, Observable, noises, Noise\n",
    "from braket.circuits.noise_model import GateCriteria, NoiseModel, NoiseModelInstruction\n",
    "from braket.circuits.gates import X, Y, Z, Rx, Rz, CNot, XY, PulseGate, U, XX, ZZ\n",
    "from braket.quantum_information import PauliString\n",
    "from braket.parametric import FreeParameter, FreeParameterExpression\n",
    "from braket.circuits.observables import TensorProduct\n",
    "\n",
    "from qiskit_braket_provider.providers import adapter\n",
    "from qiskit_braket_provider import AWSBraketProvider\n"
   ]
  },
  {
   "cell_type": "code",
   "execution_count": 281,
   "metadata": {},
   "outputs": [],
   "source": [
    "# import numpy as np\n",
    "# import sys\n",
    "# import os\n",
    "# os.environ[\"KMP_DUPLICATE_LIB_OK\"] = \"True\"\n",
    "# module_path = os.path.abspath(os.path.join('/Users/lukasvoss/Documents/Master Wirtschaftsphysik/Masterarbeit Yale-NUS CQT/Quantum_Optimal_Control'))\n",
    "# if module_path not in sys.path:\n",
    "#     sys.path.append(module_path)\n",
    "\n",
    "# # from template_configurations import gate_q_env_config\n",
    "# # from quantumenvironment import QuantumEnvironment\n",
    "# # from gymnasium.wrappers import RescaleAction, ClipAction\n",
    "\n",
    "# import logging\n",
    "# logging.basicConfig(\n",
    "#     level=logging.WARNING,\n",
    "#     format=\"%(asctime)s INFO %(message)s\", # hardcoded INFO level\n",
    "#     datefmt=\"%Y-%m-%d %H:%M:%S\",\n",
    "#     stream=sys.stdout,\n",
    "# )\n",
    "\n",
    "# from aws_estimator import AWSEstimator"
   ]
  },
  {
   "cell_type": "code",
   "execution_count": 282,
   "metadata": {},
   "outputs": [],
   "source": [
    "action_vector = np.pi * np.array([0.0, 0.0, 0.5, 0.5, -0.5, 0.5, -0.5]) # np.random.uniform(-np.pi, np.pi, 7)"
   ]
  },
  {
   "attachments": {},
   "cell_type": "markdown",
   "metadata": {},
   "source": [
    "Qiskit implementation of ``parametrized_circuit``"
   ]
  },
  {
   "cell_type": "code",
   "execution_count": 283,
   "metadata": {},
   "outputs": [
    {
     "name": "stderr",
     "output_type": "stream",
     "text": [
      "/Users/lukasvoss/anaconda3/envs/braket/lib/python3.10/site-packages/qiskit/visualization/circuit/matplotlib.py:266: FutureWarning: The default matplotlib drawer scheme will be changed to \"iqp\" in a following release. To silence this warning, specify the current default explicitly as style=\"clifford\", or the new default as style=\"iqp\".\n",
      "  self._style, def_font_ratio = load_style(self._style)\n"
     ]
    },
    {
     "data": {
      "image/png": "[encoded data removed]",
      "text/plain": [
       "<Figure size 407.771x200.667 with 1 Axes>"
      ]
     },
     "execution_count": 283,
     "metadata": {},
     "output_type": "execute_result"
    }
   ],
   "source": [
    "q_reg = QuantumRegister(2)\n",
    "baseline = np.pi * np.zeros(len(action_vector))\n",
    "params = ParameterVector(\"a\", 7)\n",
    "qiskit_circuit = QuantumCircuit(q_reg, name=\"custom_cx\")\n",
    "# optimal_params = np.pi * np.array([0.0, 0.0, 0.5, 0.5, -0.5, 0.5, -0.5])\n",
    "optimal_params = np.pi * np.zeros(7)\n",
    "\n",
    "qiskit_circuit.u(\n",
    "    baseline[0] + params[0],\n",
    "    baseline[1] + params[1],\n",
    "    baseline[2] + params[2],\n",
    "    q_reg[0],\n",
    ")\n",
    "qiskit_circuit.u(\n",
    "    baseline[3] + params[3],\n",
    "    baseline[4] + params[4],\n",
    "    baseline[5] + params[5],\n",
    "    q_reg[1],\n",
    ")\n",
    "\n",
    "qiskit_circuit.rzx(baseline[6] + params[6], q_reg[0], q_reg[1])\n",
    "qiskit_circuit.draw(\"mpl\")"
   ]
  },
  {
   "attachments": {},
   "cell_type": "markdown",
   "metadata": {},
   "source": [
    "Conversion of Qiskit circuit to Braket circuit"
   ]
  },
  {
   "cell_type": "code",
   "execution_count": 284,
   "metadata": {},
   "outputs": [
    {
     "name": "stdout",
     "output_type": "stream",
     "text": [
      "T  : |       0        |1|2|   3   |4|5|\n",
      "                                       \n",
      "q0 : -U(a_0, a_1, a_2)---C---------C---\n",
      "                         |         |   \n",
      "q1 : -U(a_3, a_4, a_5)-H-X-Rz(a_6)-X-H-\n",
      "\n",
      "T  : |       0        |1|2|   3   |4|5|\n",
      "\n",
      "Unassigned parameters: [a_0, a_1, a_2, a_3, a_4, a_5, a_6].\n"
     ]
    }
   ],
   "source": [
    "braket_circuit_converted = adapter.convert_qiskit_to_braket_circuit(qiskit_circuit)\n",
    "\n",
    "print(braket_circuit_converted)"
   ]
  },
  {
   "cell_type": "code",
   "execution_count": 285,
   "metadata": {},
   "outputs": [
    {
     "data": {
      "text/plain": [
       "{a_0, a_1, a_2, a_3, a_4, a_5, a_6}"
      ]
     },
     "execution_count": 285,
     "metadata": {},
     "output_type": "execute_result"
    }
   ],
   "source": [
    "braket_circuit_converted.parameters"
   ]
  },
  {
   "attachments": {},
   "cell_type": "markdown",
   "metadata": {},
   "source": [
    "### AWSEstimator"
   ]
  },
  {
   "cell_type": "code",
   "execution_count": 286,
   "metadata": {},
   "outputs": [],
   "source": [
    "from typing import List, Union, Optional"
   ]
  },
  {
   "cell_type": "code",
   "execution_count": 293,
   "metadata": {},
   "outputs": [],
   "source": [
    "class AWSEstimator:\n",
    "    def __init__(self, backend):\n",
    "        self.backend = backend\n",
    "\n",
    "    def _validate_inputs(self, circuit, bound_parameters):\n",
    "        \"\"\"\n",
    "        Validate the inputs to ensure the number of circuits matches the number of bound_parameters.\n",
    "\n",
    "        :param circuit: A single QuantumCircuit or a list of QuantumCircuits.\n",
    "        :param bound_parameters: A single dictionary of parameters or a list of dictionaries.\n",
    "        :raises ValueError: If the number of circuits and parameter dictionaries do not match.\n",
    "        \"\"\"\n",
    "        # Check if inputs are lists; if not, wrap them in a list\n",
    "        if not isinstance(circuit, list):\n",
    "            circuit = [circuit]\n",
    "        if not isinstance(bound_parameters, list):\n",
    "            bound_parameters = [bound_parameters]\n",
    "\n",
    "        # Check if the number of circuits matches the number of parameter dictionaries\n",
    "        if len(circuit) != len(bound_parameters):\n",
    "            raise ValueError(\"The number of circuits must match the number of dictionaries of bound parameters.\")\n",
    "\n",
    "        \n",
    "    def _post_process(self, result, observables, coefficients=None):\n",
    "        \"\"\"\n",
    "        Process the result from the quantum computation to extract and optionally scale the expectation values.\n",
    "\n",
    "        :param result: The result object returned by the quantum computation.\n",
    "        :param observables: A list of observables for which the expectation values were measured.\n",
    "        :param coefficients: Optional list of coefficients to scale the expectation values of the observables.\n",
    "                            This should be in the same order as the observables list.\n",
    "        :return: A list of processed expectation values.\n",
    "        \"\"\"\n",
    "        if not isinstance(result, list):\n",
    "            expectation_values = []\n",
    "\n",
    "            # If coefficients are provided, they must match the number of observables\n",
    "            if coefficients and len([observables]) != len([coefficients]):\n",
    "                raise ValueError(\"The number of coefficients must match the number of observables.\")\n",
    "\n",
    "            for i, observable in enumerate([observables]):\n",
    "                # Extract the raw expectation value from the result object\n",
    "                raw_expectation_value = result.values[i]  # Assuming result.values is a list of expectation values\n",
    "            \n",
    "                # Apply the coefficient if provided, else use the raw value\n",
    "                if coefficients:\n",
    "                    coefficients = [coefficients] if not isinstance(coefficients, list) else coefficients   \n",
    "                    processed_value = coefficients[i] * raw_expectation_value\n",
    "                else:\n",
    "                    processed_value = raw_expectation_value\n",
    "\n",
    "                expectation_values.append(processed_value)\n",
    "\n",
    "            return expectation_values\n",
    "        \n",
    "        elif isinstance(result, list) and len(result) > 1:\n",
    "            expectation_values = []\n",
    "            for res in result:\n",
    "                expectation_values.append(self._post_process(res, observables, coefficients))\n",
    "            return expectation_values\n",
    "        \n",
    "    def post_process(self, result, coefficients=None):\n",
    "        \"\"\"\n",
    "        Calculate the weighted sum of the expectation values.\n",
    "        \"\"\"\n",
    "        if coefficients is None:\n",
    "            coefficients = [1.0] * len(result.values)\n",
    "\n",
    "        # Calculate the weighted sum of the expectation values\n",
    "        total_expectation = sum(coeff * result.values[0] for coeff, result in zip(coefficients, result))\n",
    "        return total_expectation\n",
    "    \n",
    "    def _commutator(op1, op2):\n",
    "        return op1@op2 == op2@op1\n",
    "    \n",
    "    def _group_observables(self, observables):\n",
    "        groups = []\n",
    "        for obs in observables:\n",
    "            if isinstance(obs, str):\n",
    "                    obs = PauliString(obs).to_unsigned_observable()\n",
    "            placed = False\n",
    "            for group in groups:\n",
    "                print('Group Observables:', obs) \n",
    "                print('Group Observables:', group)  \n",
    "                if all(self._commutator(obs, member) for member in group):\n",
    "                    group.append(obs)\n",
    "                    placed = True\n",
    "                    break\n",
    "            if not placed:\n",
    "                groups.append([obs])\n",
    "        return groups\n",
    "\n",
    "\n",
    "    def run(\n",
    "        self, \n",
    "        circuit: Union[Circuit, list[Circuit]], \n",
    "        observables: Union[Observable, str, list[Observable], list[str]] = None,\n",
    "        op_coefficients: Union[complex, list[complex]] = [1.0],\n",
    "        target_register: Union[int, list[int]] = [0],\n",
    "        bound_parameters: Optional[dict] = None,\n",
    "        shots: int = 1000, \n",
    "    ):\n",
    "\n",
    "        self._validate_inputs(circuit, bound_parameters)\n",
    "\n",
    "        if isinstance(observables, list):\n",
    "            assert len(observables) == len(op_coefficients), \"The number of observables must match the number of coefficients.\"\n",
    "            op_coefficients = [1.0] * len(observables) if op_coefficients is None else op_coefficients\n",
    "            print('Observables', observables)\n",
    "            print('Evaluating multiple observables...')\n",
    "            # Group observables to minimize the number of circuits\n",
    "            observable_groups = self._group_observables(observables=observables)\n",
    "            \n",
    "            hamiltonian_results = []\n",
    "            for group in observable_groups:\n",
    "                # Make a copy of the original circuit for each group\n",
    "                circ = circuit.copy() if isinstance(circuit, Circuit) else [c.copy() for c in circuit]\n",
    "\n",
    "                for obs in group:\n",
    "                    print(obs)\n",
    "                    # Convert string observables to the Observable type if necessary\n",
    "                    if not isinstance(obs, str) and not isinstance(obs, Observable) and not isinstance(obs, TensorProduct):\n",
    "                        raise ValueError(\"Passed Observables can only be of type str, Observable or TensorProduct.\")\n",
    "                    if isinstance(obs, str):\n",
    "                        obs = PauliString(obs).to_unsigned_observable()\n",
    "\n",
    "                    # Use a dummy variable to avoid modifying the original circuit\n",
    "                    # Add the expectation instruction to the circuit for each observable\n",
    "                    circ = circuit.copy() if isinstance(circuit, Circuit) else [c.copy() for c in circuit]\n",
    "                    circ.expectation(observable=obs, target=target_register)\n",
    "\n",
    "                    if circuit.parameters: # Run with bound parameters if they exist\n",
    "                        job = self.backend.run(circ, inputs=bound_parameters, shots=shots)\n",
    "                    else:\n",
    "                        job = self.backend.run(circ, shots=shots)\n",
    "\n",
    "                    hamiltonian_results.append(job.result())\n",
    "\n",
    "            hamiltonian_expval = self.post_process(hamiltonian_results, op_coefficients)\n",
    "            return hamiltonian_results, hamiltonian_expval\n",
    "\n",
    "        elif isinstance(circuit, list) and len(circuit) > 1: # Batch execution\n",
    "            if isinstance(observables, str):\n",
    "                observables = PauliString(observables).to_unsigned_observable()\n",
    "            for circ in circuit:\n",
    "                circ.expectation(observable=observables, target=target_register)\n",
    "            \n",
    "            print('Running batch...')\n",
    "            job = self.backend.run_batch(circuit, inputs=bound_parameters, shots=shots)\n",
    "            print('Finished running batch.')\n",
    "            \n",
    "            return list(job.results()), self._post_process(list(job.results()), observables, op_coefficients)\n",
    "        \n",
    "        else:\n",
    "            if isinstance(observables, str):\n",
    "                observables = PauliString(observables).to_unsigned_observable()\n",
    "            circuit.expectation(observable=observables, target=target_register)\n",
    "            \n",
    "            if circuit.parameters:    \n",
    "                job = self.backend.run(circuit, inputs=bound_parameters, shots=shots)\n",
    "            else:\n",
    "                job = self.backend.run(circuit, shots=shots)\n",
    "\n",
    "            return job.result(), self._post_process(job.result(), observables, op_coefficients)"
   ]
  },
  {
   "cell_type": "code",
   "execution_count": 294,
   "metadata": {},
   "outputs": [],
   "source": [
    "param_names = ['a_0', 'a_1', 'a_2', 'a_3', 'a_4', 'a_5', 'a_6']\n",
    "bound_parameters = dict(zip(param_names, action_vector))\n",
    "# bound_parameters\n"
   ]
  },
  {
   "cell_type": "code",
   "execution_count": 295,
   "metadata": {},
   "outputs": [
    {
     "name": "stdout",
     "output_type": "stream",
     "text": [
      "Observables ['XX', 'ZZ']\n",
      "Evaluating multiple observables...\n",
      "Group Observables: TensorProduct(Z('qubit_count': 1), Z('qubit_count': 1))\n",
      "Group Observables: [TensorProduct(X('qubit_count': 1), X('qubit_count': 1))]\n"
     ]
    },
    {
     "ename": "TypeError",
     "evalue": "AWSEstimator._commutator() takes 2 positional arguments but 3 were given",
     "output_type": "error",
     "traceback": [
      "\u001b[0;31m---------------------------------------------------------------------------\u001b[0m",
      "\u001b[0;31mTypeError\u001b[0m                                 Traceback (most recent call last)",
      "Cell \u001b[0;32mIn[295], line 3\u001b[0m\n\u001b[1;32m      1\u001b[0m device \u001b[39m=\u001b[39m LocalSimulator()\n\u001b[1;32m      2\u001b[0m estimator \u001b[39m=\u001b[39m AWSEstimator(device)\n\u001b[0;32m----> 3\u001b[0m result, expvals \u001b[39m=\u001b[39m estimator\u001b[39m.\u001b[39;49mrun(\n\u001b[1;32m      4\u001b[0m     circuit\u001b[39m=\u001b[39;49mbraket_circuit_converted,\n\u001b[1;32m      5\u001b[0m     observables\u001b[39m=\u001b[39;49m[\u001b[39m'\u001b[39;49m\u001b[39mXX\u001b[39;49m\u001b[39m'\u001b[39;49m, \u001b[39m'\u001b[39;49m\u001b[39mZZ\u001b[39;49m\u001b[39m'\u001b[39;49m],\n\u001b[1;32m      6\u001b[0m     op_coefficients\u001b[39m=\u001b[39;49m[\u001b[39m0.1\u001b[39;49m, \u001b[39m0.1\u001b[39;49m],\n\u001b[1;32m      7\u001b[0m     target_register\u001b[39m=\u001b[39;49m[\u001b[39m0\u001b[39;49m, \u001b[39m1\u001b[39;49m], \n\u001b[1;32m      8\u001b[0m     bound_parameters\u001b[39m=\u001b[39;49mbound_parameters, \n\u001b[1;32m      9\u001b[0m     shots\u001b[39m=\u001b[39;49m\u001b[39m1000\u001b[39;49m,\n\u001b[1;32m     10\u001b[0m )\n\u001b[1;32m     12\u001b[0m expvals\n",
      "Cell \u001b[0;32mIn[293], line 112\u001b[0m, in \u001b[0;36mAWSEstimator.run\u001b[0;34m(self, circuit, observables, op_coefficients, target_register, bound_parameters, shots)\u001b[0m\n\u001b[1;32m    110\u001b[0m \u001b[39mprint\u001b[39m(\u001b[39m'\u001b[39m\u001b[39mEvaluating multiple observables...\u001b[39m\u001b[39m'\u001b[39m)\n\u001b[1;32m    111\u001b[0m \u001b[39m# Group observables to minimize the number of circuits\u001b[39;00m\n\u001b[0;32m--> 112\u001b[0m observable_groups \u001b[39m=\u001b[39m \u001b[39mself\u001b[39;49m\u001b[39m.\u001b[39;49m_group_observables(observables\u001b[39m=\u001b[39;49mobservables)\n\u001b[1;32m    114\u001b[0m hamiltonian_results \u001b[39m=\u001b[39m []\n\u001b[1;32m    115\u001b[0m \u001b[39mfor\u001b[39;00m group \u001b[39min\u001b[39;00m observable_groups:\n\u001b[1;32m    116\u001b[0m     \u001b[39m# Make a copy of the original circuit for each group\u001b[39;00m\n",
      "Cell \u001b[0;32mIn[293], line 85\u001b[0m, in \u001b[0;36mAWSEstimator._group_observables\u001b[0;34m(self, observables)\u001b[0m\n\u001b[1;32m     83\u001b[0m \u001b[39mprint\u001b[39m(\u001b[39m'\u001b[39m\u001b[39mGroup Observables:\u001b[39m\u001b[39m'\u001b[39m, obs) \n\u001b[1;32m     84\u001b[0m \u001b[39mprint\u001b[39m(\u001b[39m'\u001b[39m\u001b[39mGroup Observables:\u001b[39m\u001b[39m'\u001b[39m, group)  \n\u001b[0;32m---> 85\u001b[0m \u001b[39mif\u001b[39;00m \u001b[39mall\u001b[39;49m(\u001b[39mself\u001b[39;49m\u001b[39m.\u001b[39;49m_commutator(obs, member) \u001b[39mfor\u001b[39;49;00m member \u001b[39min\u001b[39;49;00m group):\n\u001b[1;32m     86\u001b[0m     group\u001b[39m.\u001b[39mappend(obs)\n\u001b[1;32m     87\u001b[0m     placed \u001b[39m=\u001b[39m \u001b[39mTrue\u001b[39;00m\n",
      "Cell \u001b[0;32mIn[293], line 85\u001b[0m, in \u001b[0;36m<genexpr>\u001b[0;34m(.0)\u001b[0m\n\u001b[1;32m     83\u001b[0m \u001b[39mprint\u001b[39m(\u001b[39m'\u001b[39m\u001b[39mGroup Observables:\u001b[39m\u001b[39m'\u001b[39m, obs) \n\u001b[1;32m     84\u001b[0m \u001b[39mprint\u001b[39m(\u001b[39m'\u001b[39m\u001b[39mGroup Observables:\u001b[39m\u001b[39m'\u001b[39m, group)  \n\u001b[0;32m---> 85\u001b[0m \u001b[39mif\u001b[39;00m \u001b[39mall\u001b[39m(\u001b[39mself\u001b[39;49m\u001b[39m.\u001b[39;49m_commutator(obs, member) \u001b[39mfor\u001b[39;00m member \u001b[39min\u001b[39;00m group):\n\u001b[1;32m     86\u001b[0m     group\u001b[39m.\u001b[39mappend(obs)\n\u001b[1;32m     87\u001b[0m     placed \u001b[39m=\u001b[39m \u001b[39mTrue\u001b[39;00m\n",
      "\u001b[0;31mTypeError\u001b[0m: AWSEstimator._commutator() takes 2 positional arguments but 3 were given"
     ]
    }
   ],
   "source": [
    "device = LocalSimulator()\n",
    "estimator = AWSEstimator(device)\n",
    "result, expvals = estimator.run(\n",
    "    circuit=braket_circuit_converted,\n",
    "    observables=['XX', 'ZZ'],\n",
    "    op_coefficients=[0.1, 0.1],\n",
    "    target_register=[0, 1], \n",
    "    bound_parameters=bound_parameters, \n",
    "    shots=1000,\n",
    ")\n",
    "\n",
    "expvals"
   ]
  },
  {
   "attachments": {},
   "cell_type": "markdown",
   "metadata": {},
   "source": [
    "#### Abelian Grouping"
   ]
  },
  {
   "cell_type": "code",
   "execution_count": 231,
   "metadata": {},
   "outputs": [],
   "source": [
    "def commutator(op1, op2):\n",
    "        return op1@op2 == op2@op1\n",
    "    \n",
    "def group_observables(observables):\n",
    "    groups = []\n",
    "    for obs in observables:\n",
    "        if isinstance(obs, str):\n",
    "            obs = PauliString(obs).to_unsigned_observable()\n",
    "        placed = False\n",
    "        for group in groups:\n",
    "            if all(commutator(obs, member) for member in group):\n",
    "                group.append(obs)\n",
    "                placed = True\n",
    "                break\n",
    "        if not placed:\n",
    "            groups.append([obs])\n",
    "    return groups"
   ]
  },
  {
   "cell_type": "code",
   "execution_count": 234,
   "metadata": {},
   "outputs": [
    {
     "data": {
      "text/plain": [
       "[[TensorProduct(Z('qubit_count': 1), Z('qubit_count': 1)),\n",
       "  TensorProduct(Z('qubit_count': 1), Z('qubit_count': 1))]]"
      ]
     },
     "execution_count": 234,
     "metadata": {},
     "output_type": "execute_result"
    }
   ],
   "source": [
    "group_observables(observables=['ZZ', 'ZZ'])"
   ]
  },
  {
   "attachments": {},
   "cell_type": "markdown",
   "metadata": {},
   "source": [
    "### Add a noise model to the circuit"
   ]
  },
  {
   "cell_type": "code",
   "execution_count": 30,
   "metadata": {},
   "outputs": [
    {
     "data": {
      "text/plain": [
       "{'instructions': [{'noise': {'__class__': 'TwoQubitDepolarizing',\n",
       "    'probability': 0.5,\n",
       "    'qubit_count': 2,\n",
       "    'ascii_symbols': ('DEPO(0.5)', 'DEPO(0.5)')},\n",
       "   'criteria': {'__class__': 'GateCriteria',\n",
       "    'gates': ['CNot'],\n",
       "    'qubits': None}}]}"
      ]
     },
     "execution_count": 30,
     "metadata": {},
     "output_type": "execute_result"
    }
   ],
   "source": [
    "noise_model = NoiseModel().add_noise(Noise.TwoQubitDepolarizing(0.5), GateCriteria(Gate.CNot))\n",
    "noise_model.to_dict()"
   ]
  },
  {
   "cell_type": "code",
   "execution_count": 39,
   "metadata": {},
   "outputs": [
    {
     "name": "stdout",
     "output_type": "stream",
     "text": [
      "No noise: Counter({'11': 517, '00': 483}) , Expval operator:  [1.0]\n",
      "With noise: Counter({'11': 388, '00': 347, '01': 133, '10': 132}) , Expval operator:  [0.47]\n"
     ]
    }
   ],
   "source": [
    "# Test a noise model on a simple Bell state circuit\n",
    "bell_circ = Circuit().h(0).cnot(0, 1)\n",
    "bell_circ.expectation(observable=Observable.Z() @ Observable.Z(), target=[0, 1])\n",
    "\n",
    "result_no_noise = LocalSimulator().run(bell_circ, shots=1000).result()\n",
    "result_noise = LocalSimulator('braket_dm', noise_model=noise_model).run(bell_circ, shots=1000).result()\n",
    "\n",
    "print('No noise:', result_no_noise.measurement_counts, ', Expval operator: ', result_no_noise.values)\n",
    "print('With noise:', result_noise.measurement_counts, ', Expval operator: ', result_noise.values)"
   ]
  },
  {
   "attachments": {},
   "cell_type": "markdown",
   "metadata": {},
   "source": [
    "### Running Test Cases for the AWSEstimator"
   ]
  },
  {
   "cell_type": "code",
   "execution_count": 40,
   "metadata": {},
   "outputs": [],
   "source": [
    "def test_post_process(estimator, circuit, observables, coefficients, correct_expval):\n",
    "\n",
    "    _, estimator_expvals = estimator.run(\n",
    "        circuit=circuit, \n",
    "        observables=observables,\n",
    "        op_coefficients=coefficients,\n",
    "        target_register=list(range(observables.qubit_count)),  # Assuming each observable targets one qubit\n",
    "        shots=0,\n",
    "    )\n",
    "\n",
    "    # processed_values = estimator.post_process(result, observables, coefficients)\n",
    "    correct_expval = [coeff * expval for coeff, expval in zip(coefficients, correct_expval)]\n",
    "\n",
    "    assert estimator_expvals == correct_expval, \"Processed values do not match expected output\"\n"
   ]
  },
  {
   "cell_type": "code",
   "execution_count": 41,
   "metadata": {},
   "outputs": [],
   "source": [
    "def run_test_cases(test_device = LocalSimulator()):\n",
    "    estimator = AWSEstimator(backend=test_device)\n",
    "\n",
    "    # Configuration for each test case: Circuit, Observable, Coefficients, Correct Expectation Value\n",
    "    configurations = [\n",
    "        # Test Case 1\n",
    "        (\n",
    "            Circuit().x(0),\n",
    "            Observable.Z(),\n",
    "            [-2.0],\n",
    "            test_device.run(Circuit().x(0).expectation(Observable.Z(), target=0), shots=0).result().values\n",
    "        ),\n",
    "        # Test Case 2\n",
    "        (\n",
    "            Circuit().x(0).x(1),\n",
    "            Observable.Z() @ Observable.Z(),\n",
    "            [-1.0],  # Coefficient for this test case\n",
    "            test_device.run(Circuit().x(0).x(1).expectation(Observable.Z() @ Observable.Z(), target=[0, 1]), shots=0).result().values\n",
    "        ),\n",
    "        # Test Case 3\n",
    "        (\n",
    "            Circuit().h(0).z(1),\n",
    "            Observable.X() @ Observable.Y(),\n",
    "            [1.0],  # Coefficient for this test case\n",
    "            test_device.run(Circuit().h(0).z(1).expectation(Observable.X() @ Observable.Y(), target=[0, 1]), shots=0).result().values\n",
    "        )\n",
    "    ]\n",
    "\n",
    "    # Iterate over each configuration and run the test\n",
    "    for circuit, observables, coefficients, correct_expval in configurations:\n",
    "        test_post_process(estimator, circuit, observables, coefficients, correct_expval)\n",
    "\n",
    "run_test_cases(test_device = LocalSimulator())"
   ]
  },
  {
   "attachments": {},
   "cell_type": "markdown",
   "metadata": {},
   "source": [
    "### Measuring expectation values"
   ]
  },
  {
   "cell_type": "code",
   "execution_count": null,
   "metadata": {},
   "outputs": [],
   "source": [
    "from braket.circuits.observables import Sum"
   ]
  },
  {
   "cell_type": "code",
   "execution_count": null,
   "metadata": {},
   "outputs": [],
   "source": [
    "# TODO: Create a weighted sum of pauli observables\n",
    "\n",
    "observable_string_xx = \"XX\"\n",
    "observable_string_zz = \"ZZ\""
   ]
  },
  {
   "cell_type": "code",
   "execution_count": null,
   "metadata": {},
   "outputs": [],
   "source": [
    "PauliString(observable_string_xx).to_unsigned_observable() + PauliString(observable_string_zz).to_unsigned_observable()"
   ]
  },
  {
   "cell_type": "code",
   "execution_count": null,
   "metadata": {},
   "outputs": [],
   "source": [
    "pauli_operator = Sum(observables=[0.5 * PauliString(observable_string_xx).to_unsigned_observable(), 0.5 * PauliString(observable_string_zz).to_unsigned_observable()], display_name='0.5XX + 0.5ZZ')"
   ]
  },
  {
   "cell_type": "code",
   "execution_count": null,
   "metadata": {},
   "outputs": [],
   "source": [
    "pauli_operator.ascii_symbols"
   ]
  },
  {
   "cell_type": "code",
   "execution_count": null,
   "metadata": {},
   "outputs": [],
   "source": [
    "list(pauli_operator.summands)[0].coefficient"
   ]
  },
  {
   "attachments": {},
   "cell_type": "markdown",
   "metadata": {},
   "source": [
    "#### Measure expectation values on the native braket circuit"
   ]
  },
  {
   "cell_type": "code",
   "execution_count": null,
   "metadata": {},
   "outputs": [],
   "source": [
    "# paulis = ExtendedPauliString(pauli_strings=['XX', 'ZZ'], coefficients=[0.5, 0.5])\n",
    "# paulis.to_tensor_product()"
   ]
  },
  {
   "cell_type": "code",
   "execution_count": null,
   "metadata": {},
   "outputs": [],
   "source": [
    "temp = 0.5*Observable.X()\n",
    "temp.ascii_symbols"
   ]
  },
  {
   "cell_type": "code",
   "execution_count": null,
   "metadata": {},
   "outputs": [],
   "source": [
    "t1 = 0.5 * Observable.X()\n",
    "print(t1.ascii_symbols)\n",
    "t1.to_matrix()\n",
    "\n",
    "\n",
    "t2 = 0.5 * Observable.Z()\n",
    "print(t2.ascii_symbols)\n",
    "t2.to_matrix()"
   ]
  },
  {
   "cell_type": "code",
   "execution_count": null,
   "metadata": {},
   "outputs": [],
   "source": [
    "observable = TensorProduct([t1, t2])"
   ]
  },
  {
   "cell_type": "code",
   "execution_count": null,
   "metadata": {},
   "outputs": [],
   "source": [
    "TensorProduct([t1, t2]).to_matrix()"
   ]
  },
  {
   "cell_type": "code",
   "execution_count": null,
   "metadata": {},
   "outputs": [],
   "source": [
    "op = TensorProduct([Observable.X(), Observable.Z()])\n",
    "# op = TensorProduct([Observable.X(), Observable.Z()])\n",
    "op.ascii_symbols"
   ]
  },
  {
   "cell_type": "code",
   "execution_count": null,
   "metadata": {},
   "outputs": [],
   "source": [
    "# Create a small circuit with a free parameter theta\n",
    "pauli_string = PauliString(observable_string_xx)\n",
    "pauli_operator = pauli_string.to_unsigned_observable()\n",
    "\n",
    "# braket_circuit.state_vector() # Get the state vector of the circuit # Can only be determined for shots=0\n",
    "braket_circuit_converted.expectation(observable=observable, target=[0, 1]) # Get the expectation value of the Pauli operator\n",
    "\n",
    "# pauli_string = PauliString(observable_string_xx)\n",
    "# pauli_operator = 0.5*pauli_string.to_unsigned_observable()\n",
    "# braket_circuit.expectation(observable=pauli_operator, target=[0, 1]) \n",
    "print(braket_circuit_converted)\n",
    "\n",
    "# Small value for test purposes\n",
    "# batchsize = 5\n",
    "# batch_circuits = [circ] * batchsize"
   ]
  },
  {
   "cell_type": "code",
   "execution_count": null,
   "metadata": {},
   "outputs": [],
   "source": [
    "bound_parameters"
   ]
  },
  {
   "cell_type": "code",
   "execution_count": null,
   "metadata": {},
   "outputs": [],
   "source": [
    "job = device.run(braket_circuit, shots=n_shots, inputs=bound_parameters)\n",
    "\n",
    "# Run multiple circuits at once\n",
    "# job = device.run_batch(\n",
    "#     batch_circuits,\n",
    "#     inputs={'theta': thetas}, \n",
    "#     shots=100\n",
    "# )\n",
    "\n",
    "print('Measurement Counts:', job.result().measurement_counts)\n",
    "print('Measurement Probabilities:', job.result().measurement_probabilities)\n",
    "\n",
    "# print(\"Final EXACT state vector:\\n\", job.result().values[0])\n",
    "print(f\"Expectation value <XZ>:\", np.round(job.result().values[0], 5))"
   ]
  },
  {
   "cell_type": "code",
   "execution_count": null,
   "metadata": {},
   "outputs": [],
   "source": [
    "from braket.circuits import Circuit, Observable\n",
    "from braket.devices import LocalSimulator\n",
    "\n",
    "# Define your Hamiltonian\n",
    "observable = 0.25 * Observable.X() @ Observable.X() + 0.5 * Observable.Z() @ Observable.Z()\n",
    "\n",
    "# Initialize your quantum circuit as needed\n",
    "circuit = Circuit()\n",
    "circuit.x(0)\n",
    "# circuit.h(0).cnot(0, 1)"
   ]
  },
  {
   "cell_type": "code",
   "execution_count": null,
   "metadata": {},
   "outputs": [],
   "source": [
    "circuit = Circuit()\n",
    "circuit.x(0)\n",
    "\n",
    "# Define observables for each qubit\n",
    "observable_q0 = 0.25*Observable.X() + 0.25*Observable.X()\n",
    "observable_q1 = 0.25*Observable.Z() + 0.25*Observable.Z()\n",
    "\n",
    "observable_2q = TensorProduct([0.25*Observable.X(), 0.25*Observable.Z()])  # Observable.Z() @ Observable.Z() # + 0.25*Observable.Z() @ Observable.Z()\n",
    "\n",
    "# Measure the expectation value for the observable on qubit 0\n",
    "# circuit.expectation(observable=observable_q0, target=[[0], [0]])\n",
    "\n",
    "# Measure the expectation value for the observable on qubit 1\n",
    "# circuit.expectation(observable=observable_q1, target=[[1], [1]])\n",
    "\n",
    "circuit.expectation(observable=observable_2q, target=[0, 1])\n",
    "print(circuit)\n",
    "\n",
    "# Add your quantum gates to prepare the state |psi>\n",
    "# For example, circuit.h(0).cnot(0, 1) to prepare an entangled state\n",
    "\n",
    "\n",
    "# Set the device to run your circuit\n",
    "device = LocalSimulator()\n",
    "\n",
    "# Run the circuit with the observable to measure the expectation value\n",
    "task = device.run(circuit, shots=1000)\n",
    "\n",
    "# Get the result\n",
    "result = task.result()\n",
    "\n",
    "# # Extract the expectation value from the result\n",
    "expectation_values = result.values\n",
    "\n",
    "print(f\"\\nExpectation value: {expectation_values}\")"
   ]
  },
  {
   "attachments": {},
   "cell_type": "markdown",
   "metadata": {},
   "source": [
    "#### Run a small batch of braket cirucits with ``run_batch``"
   ]
  },
  {
   "cell_type": "code",
   "execution_count": null,
   "metadata": {},
   "outputs": [],
   "source": [
    "from braket.circuits import noises"
   ]
  },
  {
   "cell_type": "code",
   "execution_count": null,
   "metadata": {},
   "outputs": [],
   "source": [
    "device = LocalSimulator(backend='braket_dm', noise_model=noises.BitFlip(probability=0.1))"
   ]
  },
  {
   "cell_type": "code",
   "execution_count": null,
   "metadata": {},
   "outputs": [],
   "source": [
    "batchsize = 5\n",
    "\n",
    "# Create a list of circuits\n",
    "batch_circuits = [braket_circuit] * batchsize\n",
    "\n",
    "# Create a list of parameter dicts\n",
    "batch_bound_parameters = [bound_parameters] * batchsize"
   ]
  },
  {
   "cell_type": "code",
   "execution_count": null,
   "metadata": {},
   "outputs": [],
   "source": [
    "len(batch_bound_parameters)"
   ]
  },
  {
   "cell_type": "code",
   "execution_count": null,
   "metadata": {},
   "outputs": [],
   "source": [
    "len(batch_circuits)"
   ]
  },
  {
   "cell_type": "code",
   "execution_count": null,
   "metadata": {},
   "outputs": [],
   "source": [
    "estimator = AWSEstimator(device)\n",
    "batch_results = estimator.run(batch_circuits, Observable.Z(), [0], batch_bound_parameters, n_shots)"
   ]
  },
  {
   "cell_type": "code",
   "execution_count": null,
   "metadata": {},
   "outputs": [],
   "source": [
    "batch_results = device.run_batch(batch_circuits, inputs=batch_bound_parameters, shots=n_shots)"
   ]
  },
  {
   "cell_type": "code",
   "execution_count": null,
   "metadata": {},
   "outputs": [],
   "source": [
    "for ind, result in enumerate(batch_results.results()):\n",
    "    print('Batch Number:', ind+1)\n",
    "    print('Measurement Counts:', result.measurement_counts)\n",
    "    print('Measurement Probabilities:', result.measurement_probabilities)\n",
    "    print(f\"Expectation value <XZ>:\", np.round(result.values[0], 5), '\\n')"
   ]
  },
  {
   "attachments": {},
   "cell_type": "markdown",
   "metadata": {},
   "source": [
    "#### Run same circuit with Qiskit Statevector Estimator"
   ]
  },
  {
   "cell_type": "code",
   "execution_count": null,
   "metadata": {},
   "outputs": [],
   "source": [
    "from qiskit.primitives import Estimator\n",
    "from qiskit.quantum_info.operators import SparsePauliOp\n",
    "\n",
    "estimator = Estimator()\n",
    "observable = SparsePauliOp(\n",
    "    [observable_string_xx], # , observable_string_zz], \n",
    "    coeffs=[1.0] #, 1.0]\n",
    ")"
   ]
  },
  {
   "cell_type": "code",
   "execution_count": null,
   "metadata": {},
   "outputs": [],
   "source": [
    "qiskit_circuit.draw('mpl')"
   ]
  },
  {
   "cell_type": "code",
   "execution_count": null,
   "metadata": {},
   "outputs": [],
   "source": [
    "qiskit_job = estimator.run(\n",
    "    circuits=qiskit_circuit, \n",
    "    observables=observable, \n",
    "    parameter_values=action_vector,\n",
    "    shots=n_shots\n",
    ")"
   ]
  },
  {
   "cell_type": "code",
   "execution_count": null,
   "metadata": {},
   "outputs": [],
   "source": [
    "def create_expectation_string(prefactors, observable_strings):\n",
    "    if len(prefactors) != len(observable_strings):\n",
    "        raise ValueError(\"The lengths of prefactors and observable_strings should be the same.\")\n",
    "\n",
    "    expectation_string = \"Expectation value \"\n",
    "    for i in range(len(prefactors)):\n",
    "        expectation_string += f\"{prefactors[i]}*<{observable_strings[i]}>\"\n",
    "        if i < len(prefactors) - 1:\n",
    "            expectation_string += \" + \"\n",
    "\n",
    "    expectation_string += \":\"\n",
    "\n",
    "    return expectation_string"
   ]
  },
  {
   "cell_type": "code",
   "execution_count": null,
   "metadata": {},
   "outputs": [],
   "source": [
    "print(create_expectation_string(observable.coeffs, observable.settings['data']), qiskit_job.result().values)"
   ]
  },
  {
   "attachments": {},
   "cell_type": "markdown",
   "metadata": {},
   "source": [
    "#### Create BackendEstimator out of Qiskit-Braket-Provider backend"
   ]
  },
  {
   "cell_type": "code",
   "execution_count": null,
   "metadata": {},
   "outputs": [],
   "source": [
    "backend = AWSBraketProvider().get_backend('SV1')\n",
    "qiskit_estimator_from_braket = BackendEstimator(backend)\n",
    "\n",
    "job = qiskit_estimator_from_braket.run(\n",
    "    circuits=qiskit_circuit, \n",
    "    observables=observable, \n",
    "    parameter_values=action_vector,\n",
    "    shots=n_shots\n",
    ")"
   ]
  },
  {
   "cell_type": "code",
   "execution_count": null,
   "metadata": {},
   "outputs": [],
   "source": [
    "qiskit_circuit.draw('mpl')"
   ]
  },
  {
   "cell_type": "code",
   "execution_count": null,
   "metadata": {},
   "outputs": [],
   "source": [
    "# job = qiskit_estimator_from_braket.run(\n",
    "#     circuits=qiskit_circuit, \n",
    "#     observables=observable, \n",
    "#     parameter_values=action_vector,\n",
    "#     shots=n_shots\n",
    "# )"
   ]
  },
  {
   "cell_type": "code",
   "execution_count": null,
   "metadata": {},
   "outputs": [],
   "source": [
    "job.result().values"
   ]
  },
  {
   "attachments": {},
   "cell_type": "markdown",
   "metadata": {},
   "source": [
    "## Qiskit-Braket Provider Properties"
   ]
  },
  {
   "cell_type": "code",
   "execution_count": null,
   "metadata": {},
   "outputs": [],
   "source": [
    "backend = AWSBraketProvider().get_backend('SV1')"
   ]
  },
  {
   "cell_type": "code",
   "execution_count": null,
   "metadata": {},
   "outputs": [],
   "source": [
    "from qiskit.providers import BackendV2\n",
    "from qiskit.providers.fake_provider import FakeJakartaV2"
   ]
  },
  {
   "cell_type": "code",
   "execution_count": null,
   "metadata": {},
   "outputs": [],
   "source": [
    "isinstance(backend, BackendV2)"
   ]
  },
  {
   "cell_type": "code",
   "execution_count": null,
   "metadata": {},
   "outputs": [],
   "source": [
    "backend.instruction_durations.duration_by_name_qubits"
   ]
  },
  {
   "cell_type": "code",
   "execution_count": null,
   "metadata": {},
   "outputs": [],
   "source": [
    "backend_2 = FakeJakartaV2()\n",
    "backend_2.instruction_durations.duration_by_name_qubits"
   ]
  }
 ],
 "metadata": {
  "kernelspec": {
   "display_name": "braket",
   "language": "python",
   "name": "python3"
  },
  "language_info": {
   "codemirror_mode": {
    "name": "ipython",
    "version": 3
   },
   "file_extension": ".py",
   "mimetype": "text/x-python",
   "name": "python",
   "nbconvert_exporter": "python",
   "pygments_lexer": "ipython3",
   "version": "3.10.13"
  },
  "orig_nbformat": 4
 },
 "nbformat": 4,
 "nbformat_minor": 2
}
