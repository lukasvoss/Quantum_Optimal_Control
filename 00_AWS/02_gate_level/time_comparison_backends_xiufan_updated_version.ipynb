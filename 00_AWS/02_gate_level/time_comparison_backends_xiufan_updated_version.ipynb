{
 "cells": [
  {
   "cell_type": "markdown",
   "metadata": {},
   "source": [
    "# @Xiufan: Please update the aws-braket-sdk and the qiskit-braket-provider to their latest package version"
   ]
  },
  {
   "cell_type": "code",
   "execution_count": 1,
   "metadata": {},
   "outputs": [
    {
     "name": "stdout",
     "output_type": "stream",
     "text": [
      "Requirement already satisfied: amazon-braket-sdk==1.72.2 in d:\\anaconda\\lib\\site-packages (1.72.2)\n",
      "Requirement already satisfied: amazon-braket-schemas>=1.20.2 in d:\\anaconda\\lib\\site-packages (from amazon-braket-sdk==1.72.2) (1.20.2)\n",
      "Requirement already satisfied: amazon-braket-default-simulator>=1.19.1 in d:\\anaconda\\lib\\site-packages (from amazon-braket-sdk==1.72.2) (1.20.4)\n",
      "Requirement already satisfied: oqpy~=0.3.5 in d:\\anaconda\\lib\\site-packages (from amazon-braket-sdk==1.72.2) (0.3.5)\n",
      "Requirement already satisfied: setuptools in d:\\anaconda\\lib\\site-packages (from amazon-braket-sdk==1.72.2) (68.0.0)\n",
      "Requirement already satisfied: backoff in d:\\anaconda\\lib\\site-packages (from amazon-braket-sdk==1.72.2) (2.2.1)\n",
      "Requirement already satisfied: boltons in d:\\anaconda\\lib\\site-packages (from amazon-braket-sdk==1.72.2) (23.0.0)\n",
      "Requirement already satisfied: boto3>=1.28.53 in d:\\anaconda\\lib\\site-packages (from amazon-braket-sdk==1.72.2) (1.34.55)\n",
      "Requirement already satisfied: cloudpickle==2.2.1 in d:\\anaconda\\lib\\site-packages (from amazon-braket-sdk==1.72.2) (2.2.1)\n",
      "Requirement already satisfied: nest-asyncio in d:\\anaconda\\lib\\site-packages (from amazon-braket-sdk==1.72.2) (1.5.6)\n",
      "Requirement already satisfied: networkx in d:\\anaconda\\lib\\site-packages (from amazon-braket-sdk==1.72.2) (3.1)\n",
      "Requirement already satisfied: numpy<2 in d:\\anaconda\\lib\\site-packages (from amazon-braket-sdk==1.72.2) (1.24.3)\n",
      "Requirement already satisfied: openpulse in d:\\anaconda\\lib\\site-packages (from amazon-braket-sdk==1.72.2) (0.5.0)\n",
      "Requirement already satisfied: openqasm3 in d:\\anaconda\\lib\\site-packages (from amazon-braket-sdk==1.72.2) (0.5.0)\n",
      "Requirement already satisfied: sympy in d:\\anaconda\\lib\\site-packages (from amazon-braket-sdk==1.72.2) (1.11.1)\n",
      "Requirement already satisfied: opt-einsum in d:\\anaconda\\lib\\site-packages (from amazon-braket-default-simulator>=1.19.1->amazon-braket-sdk==1.72.2) (3.3.0)\n",
      "Requirement already satisfied: pydantic in d:\\anaconda\\lib\\site-packages (from amazon-braket-default-simulator>=1.19.1->amazon-braket-sdk==1.72.2) (1.10.8)\n",
      "Requirement already satisfied: scipy in d:\\anaconda\\lib\\site-packages (from amazon-braket-default-simulator>=1.19.1->amazon-braket-sdk==1.72.2) (1.11.1)\n",
      "Requirement already satisfied: antlr4-python3-runtime==4.9.2 in d:\\anaconda\\lib\\site-packages (from amazon-braket-default-simulator>=1.19.1->amazon-braket-sdk==1.72.2) (4.9.2)\n",
      "Requirement already satisfied: botocore<1.35.0,>=1.34.55 in d:\\anaconda\\lib\\site-packages (from boto3>=1.28.53->amazon-braket-sdk==1.72.2) (1.34.55)\n",
      "Requirement already satisfied: jmespath<2.0.0,>=0.7.1 in d:\\anaconda\\lib\\site-packages (from boto3>=1.28.53->amazon-braket-sdk==1.72.2) (0.10.0)\n",
      "Requirement already satisfied: s3transfer<0.11.0,>=0.10.0 in d:\\anaconda\\lib\\site-packages (from boto3>=1.28.53->amazon-braket-sdk==1.72.2) (0.10.0)\n",
      "Requirement already satisfied: mypy-extensions>=0.2.0 in d:\\anaconda\\lib\\site-packages (from oqpy~=0.3.5->amazon-braket-sdk==1.72.2) (1.0.0)\n",
      "Requirement already satisfied: mpmath>=0.19 in d:\\anaconda\\lib\\site-packages (from sympy->amazon-braket-sdk==1.72.2) (1.3.0)\n",
      "Requirement already satisfied: python-dateutil<3.0.0,>=2.1 in d:\\anaconda\\lib\\site-packages (from botocore<1.35.0,>=1.34.55->boto3>=1.28.53->amazon-braket-sdk==1.72.2) (2.8.2)\n",
      "Requirement already satisfied: urllib3<2.1,>=1.25.4 in d:\\anaconda\\lib\\site-packages (from botocore<1.35.0,>=1.34.55->boto3>=1.28.53->amazon-braket-sdk==1.72.2) (1.26.16)\n",
      "Requirement already satisfied: typing-extensions>=4.2.0 in d:\\anaconda\\lib\\site-packages (from pydantic->amazon-braket-default-simulator>=1.19.1->amazon-braket-sdk==1.72.2) (4.7.1)\n",
      "Requirement already satisfied: six>=1.5 in d:\\anaconda\\lib\\site-packages (from python-dateutil<3.0.0,>=2.1->botocore<1.35.0,>=1.34.55->boto3>=1.28.53->amazon-braket-sdk==1.72.2) (1.16.0)\n",
      "Collecting qiskit-braket-provider==0.2.0\n",
      "  Obtaining dependency information for qiskit-braket-provider==0.2.0 from https://files.pythonhosted.org/packages/c0/84/79ed26a784e75fd830e7094a6e51de8801534b125761006cf8893be4e81b/qiskit_braket_provider-0.2.0-py3-none-any.whl.metadata\n",
      "  Downloading qiskit_braket_provider-0.2.0-py3-none-any.whl.metadata (3.6 kB)\n",
      "Requirement already satisfied: certifi>=2021.5.30 in d:\\anaconda\\lib\\site-packages (from qiskit-braket-provider==0.2.0) (2024.2.2)\n",
      "Requirement already satisfied: qiskit>=0.34.2 in d:\\anaconda\\lib\\site-packages (from qiskit-braket-provider==0.2.0) (0.45.2)\n",
      "Requirement already satisfied: qiskit-ionq<=0.5.0,>=0.4.7 in d:\\anaconda\\lib\\site-packages (from qiskit-braket-provider==0.2.0) (0.5.0)\n",
      "Requirement already satisfied: amazon-braket-sdk>=1.65.0 in d:\\anaconda\\lib\\site-packages (from qiskit-braket-provider==0.2.0) (1.72.2)\n",
      "Requirement already satisfied: setuptools>=40.1.0 in d:\\anaconda\\lib\\site-packages (from qiskit-braket-provider==0.2.0) (68.0.0)\n",
      "Requirement already satisfied: numpy>=1.3 in d:\\anaconda\\lib\\site-packages (from qiskit-braket-provider==0.2.0) (1.24.3)\n",
      "Requirement already satisfied: amazon-braket-schemas>=1.20.2 in d:\\anaconda\\lib\\site-packages (from amazon-braket-sdk>=1.65.0->qiskit-braket-provider==0.2.0) (1.20.2)\n",
      "Requirement already satisfied: amazon-braket-default-simulator>=1.19.1 in d:\\anaconda\\lib\\site-packages (from amazon-braket-sdk>=1.65.0->qiskit-braket-provider==0.2.0) (1.20.4)\n",
      "Requirement already satisfied: oqpy~=0.3.5 in d:\\anaconda\\lib\\site-packages (from amazon-braket-sdk>=1.65.0->qiskit-braket-provider==0.2.0) (0.3.5)\n",
      "Requirement already satisfied: backoff in d:\\anaconda\\lib\\site-packages (from amazon-braket-sdk>=1.65.0->qiskit-braket-provider==0.2.0) (2.2.1)\n",
      "Requirement already satisfied: boltons in d:\\anaconda\\lib\\site-packages (from amazon-braket-sdk>=1.65.0->qiskit-braket-provider==0.2.0) (23.0.0)\n",
      "Requirement already satisfied: boto3>=1.28.53 in d:\\anaconda\\lib\\site-packages (from amazon-braket-sdk>=1.65.0->qiskit-braket-provider==0.2.0) (1.34.55)\n",
      "Requirement already satisfied: cloudpickle==2.2.1 in d:\\anaconda\\lib\\site-packages (from amazon-braket-sdk>=1.65.0->qiskit-braket-provider==0.2.0) (2.2.1)\n",
      "Requirement already satisfied: nest-asyncio in d:\\anaconda\\lib\\site-packages (from amazon-braket-sdk>=1.65.0->qiskit-braket-provider==0.2.0) (1.5.6)\n",
      "Requirement already satisfied: networkx in d:\\anaconda\\lib\\site-packages (from amazon-braket-sdk>=1.65.0->qiskit-braket-provider==0.2.0) (3.1)\n",
      "Requirement already satisfied: openpulse in d:\\anaconda\\lib\\site-packages (from amazon-braket-sdk>=1.65.0->qiskit-braket-provider==0.2.0) (0.5.0)\n",
      "Requirement already satisfied: openqasm3 in d:\\anaconda\\lib\\site-packages (from amazon-braket-sdk>=1.65.0->qiskit-braket-provider==0.2.0) (0.5.0)\n",
      "Requirement already satisfied: sympy in d:\\anaconda\\lib\\site-packages (from amazon-braket-sdk>=1.65.0->qiskit-braket-provider==0.2.0) (1.11.1)\n",
      "Requirement already satisfied: qiskit-terra==0.45.2 in d:\\anaconda\\lib\\site-packages (from qiskit>=0.34.2->qiskit-braket-provider==0.2.0) (0.45.2)\n",
      "Requirement already satisfied: rustworkx>=0.13.0 in d:\\anaconda\\lib\\site-packages (from qiskit-terra==0.45.2->qiskit>=0.34.2->qiskit-braket-provider==0.2.0) (0.13.2)\n",
      "Requirement already satisfied: ply>=3.10 in d:\\anaconda\\lib\\site-packages (from qiskit-terra==0.45.2->qiskit>=0.34.2->qiskit-braket-provider==0.2.0) (3.11)\n",
      "Requirement already satisfied: psutil>=5 in d:\\anaconda\\lib\\site-packages (from qiskit-terra==0.45.2->qiskit>=0.34.2->qiskit-braket-provider==0.2.0) (5.9.0)\n",
      "Requirement already satisfied: scipy>=1.5 in d:\\anaconda\\lib\\site-packages (from qiskit-terra==0.45.2->qiskit>=0.34.2->qiskit-braket-provider==0.2.0) (1.11.1)\n",
      "Requirement already satisfied: dill>=0.3 in d:\\anaconda\\lib\\site-packages (from qiskit-terra==0.45.2->qiskit>=0.34.2->qiskit-braket-provider==0.2.0) (0.3.6)\n",
      "Requirement already satisfied: python-dateutil>=2.8.0 in d:\\anaconda\\lib\\site-packages (from qiskit-terra==0.45.2->qiskit>=0.34.2->qiskit-braket-provider==0.2.0) (2.8.2)\n",
      "Requirement already satisfied: stevedore>=3.0.0 in d:\\anaconda\\lib\\site-packages (from qiskit-terra==0.45.2->qiskit>=0.34.2->qiskit-braket-provider==0.2.0) (5.1.0)\n",
      "Requirement already satisfied: decorator>=5.1.0 in d:\\anaconda\\lib\\site-packages (from qiskit-ionq<=0.5.0,>=0.4.7->qiskit-braket-provider==0.2.0) (5.1.1)\n",
      "Requirement already satisfied: requests>=2.24.0 in d:\\anaconda\\lib\\site-packages (from qiskit-ionq<=0.5.0,>=0.4.7->qiskit-braket-provider==0.2.0) (2.31.0)\n",
      "Requirement already satisfied: retry>=0.9.0 in d:\\anaconda\\lib\\site-packages (from qiskit-ionq<=0.5.0,>=0.4.7->qiskit-braket-provider==0.2.0) (0.9.2)\n",
      "Requirement already satisfied: importlib-metadata>=4.11.4 in d:\\anaconda\\lib\\site-packages (from qiskit-ionq<=0.5.0,>=0.4.7->qiskit-braket-provider==0.2.0) (6.0.0)\n",
      "Requirement already satisfied: opt-einsum in d:\\anaconda\\lib\\site-packages (from amazon-braket-default-simulator>=1.19.1->amazon-braket-sdk>=1.65.0->qiskit-braket-provider==0.2.0) (3.3.0)\n",
      "Requirement already satisfied: pydantic in d:\\anaconda\\lib\\site-packages (from amazon-braket-default-simulator>=1.19.1->amazon-braket-sdk>=1.65.0->qiskit-braket-provider==0.2.0) (1.10.8)\n",
      "Requirement already satisfied: antlr4-python3-runtime==4.9.2 in d:\\anaconda\\lib\\site-packages (from amazon-braket-default-simulator>=1.19.1->amazon-braket-sdk>=1.65.0->qiskit-braket-provider==0.2.0) (4.9.2)\n",
      "Requirement already satisfied: botocore<1.35.0,>=1.34.55 in d:\\anaconda\\lib\\site-packages (from boto3>=1.28.53->amazon-braket-sdk>=1.65.0->qiskit-braket-provider==0.2.0) (1.34.55)\n",
      "Requirement already satisfied: jmespath<2.0.0,>=0.7.1 in d:\\anaconda\\lib\\site-packages (from boto3>=1.28.53->amazon-braket-sdk>=1.65.0->qiskit-braket-provider==0.2.0) (0.10.0)\n",
      "Requirement already satisfied: s3transfer<0.11.0,>=0.10.0 in d:\\anaconda\\lib\\site-packages (from boto3>=1.28.53->amazon-braket-sdk>=1.65.0->qiskit-braket-provider==0.2.0) (0.10.0)\n",
      "Requirement already satisfied: zipp>=0.5 in d:\\anaconda\\lib\\site-packages (from importlib-metadata>=4.11.4->qiskit-ionq<=0.5.0,>=0.4.7->qiskit-braket-provider==0.2.0) (3.11.0)\n",
      "Requirement already satisfied: mypy-extensions>=0.2.0 in d:\\anaconda\\lib\\site-packages (from oqpy~=0.3.5->amazon-braket-sdk>=1.65.0->qiskit-braket-provider==0.2.0) (1.0.0)\n",
      "Requirement already satisfied: charset-normalizer<4,>=2 in d:\\anaconda\\lib\\site-packages (from requests>=2.24.0->qiskit-ionq<=0.5.0,>=0.4.7->qiskit-braket-provider==0.2.0) (2.0.4)\n",
      "Requirement already satisfied: idna<4,>=2.5 in d:\\anaconda\\lib\\site-packages (from requests>=2.24.0->qiskit-ionq<=0.5.0,>=0.4.7->qiskit-braket-provider==0.2.0) (3.4)\n",
      "Requirement already satisfied: urllib3<3,>=1.21.1 in d:\\anaconda\\lib\\site-packages (from requests>=2.24.0->qiskit-ionq<=0.5.0,>=0.4.7->qiskit-braket-provider==0.2.0) (1.26.16)\n",
      "Requirement already satisfied: py<2.0.0,>=1.4.26 in d:\\anaconda\\lib\\site-packages (from retry>=0.9.0->qiskit-ionq<=0.5.0,>=0.4.7->qiskit-braket-provider==0.2.0) (1.11.0)\n",
      "Requirement already satisfied: mpmath>=0.19 in d:\\anaconda\\lib\\site-packages (from sympy->amazon-braket-sdk>=1.65.0->qiskit-braket-provider==0.2.0) (1.3.0)\n",
      "Requirement already satisfied: typing-extensions>=4.2.0 in d:\\anaconda\\lib\\site-packages (from pydantic->amazon-braket-default-simulator>=1.19.1->amazon-braket-sdk>=1.65.0->qiskit-braket-provider==0.2.0) (4.7.1)\n",
      "Requirement already satisfied: six>=1.5 in d:\\anaconda\\lib\\site-packages (from python-dateutil>=2.8.0->qiskit-terra==0.45.2->qiskit>=0.34.2->qiskit-braket-provider==0.2.0) (1.16.0)\n",
      "Requirement already satisfied: pbr!=2.1.0,>=2.0.0 in d:\\anaconda\\lib\\site-packages (from stevedore>=3.0.0->qiskit-terra==0.45.2->qiskit>=0.34.2->qiskit-braket-provider==0.2.0) (6.0.0)\n",
      "Downloading qiskit_braket_provider-0.2.0-py3-none-any.whl (33 kB)\n",
      "Installing collected packages: qiskit-braket-provider\n",
      "  Attempting uninstall: qiskit-braket-provider\n",
      "    Found existing installation: qiskit-braket-provider 0.1.1\n",
      "    Uninstalling qiskit-braket-provider-0.1.1:\n",
      "      Successfully uninstalled qiskit-braket-provider-0.1.1\n",
      "Successfully installed qiskit-braket-provider-0.2.0\n"
     ]
    }
   ],
   "source": [
    "### To update the packages, just run this command in your terminal please\n",
    "\n",
    "!pip install amazon-braket-sdk==1.72.2 \n",
    "!pip install qiskit-braket-provider==0.2.0"
   ]
  },
  {
   "cell_type": "markdown",
   "metadata": {},
   "source": [
    "#### Running a bell circuit on different backends"
   ]
  },
  {
   "cell_type": "code",
   "execution_count": 2,
   "metadata": {},
   "outputs": [],
   "source": [
    "import numpy as np\n",
    "import time\n",
    "\n",
    "from braket.circuits import Circuit\n",
    "from qiskit_braket_provider import AWSBraketProvider\n",
    "from braket.aws import AwsSession\n",
    "\n",
    "from qiskit import QuantumCircuit\n",
    "from qiskit.primitives import BackendEstimator, Estimator\n",
    "from qiskit.quantum_info.operators import SparsePauliOp\n",
    "from qiskit.primitives import BackendEstimator\n",
    "\n",
    "import os\n",
    "os.environ[\"KMP_DUPLICATE_LIB_OK\"] = \"True\""
   ]
  },
  {
   "cell_type": "markdown",
   "metadata": {},
   "source": [
    "# TODO: Please adjust the S3 bucket to one of yours"
   ]
  },
  {
   "cell_type": "code",
   "execution_count": 3,
   "metadata": {},
   "outputs": [],
   "source": [
    "aws_session = AwsSession(default_bucket=\"xiufan-bucket-prgroup\") # TODO: Please replace with your S3 bucket"
   ]
  },
  {
   "cell_type": "code",
   "execution_count": 4,
   "metadata": {},
   "outputs": [],
   "source": [
    "batchsize = 50\n",
    "n_shots = 10_000"
   ]
  },
  {
   "cell_type": "markdown",
   "metadata": {},
   "source": [
    "#### Run with native Braket SV Backend"
   ]
  },
  {
   "cell_type": "code",
   "execution_count": 5,
   "metadata": {},
   "outputs": [
    {
     "name": "stderr",
     "output_type": "stream",
     "text": [
      "C:\\Users\\fff\\AppData\\Local\\Temp\\ipykernel_24476\\291348685.py:1: DeprecationWarning: AWSBraketProvider is deprecated. Use BraketProvider instead\n",
      "  backend = AWSBraketProvider().get_backend('SV1')\n"
     ]
    },
    {
     "data": {
      "text/plain": [
       "Device('name': SV1, 'arn': arn:aws:braket:::device/quantum-simulator/amazon/sv1)"
      ]
     },
     "execution_count": 5,
     "metadata": {},
     "output_type": "execute_result"
    }
   ],
   "source": [
    "backend = AWSBraketProvider().get_backend('SV1')\n",
    "\n",
    "device = backend._device\n",
    "device"
   ]
  },
  {
   "cell_type": "code",
   "execution_count": 6,
   "metadata": {},
   "outputs": [
    {
     "name": "stdout",
     "output_type": "stream",
     "text": [
      "T  : |0|1|\n",
      "          \n",
      "q0 : -H-C-\n",
      "        | \n",
      "q1 : ---X-\n",
      "\n",
      "T  : |0|1|\n"
     ]
    }
   ],
   "source": [
    "braket_bell_circ = Circuit().h(0).cnot(0, 1)\n",
    "print(braket_bell_circ)"
   ]
  },
  {
   "cell_type": "code",
   "execution_count": 7,
   "metadata": {},
   "outputs": [
    {
     "name": "stdout",
     "output_type": "stream",
     "text": [
      "--- 26.12 seconds ---\n",
      "Execution time per circuit: 0.52 seconds\n"
     ]
    }
   ],
   "source": [
    "start_time = time.time()\n",
    "job_braket_native = device.run_batch(\n",
    "    [braket_bell_circ] * batchsize,\n",
    "    shots=n_shots,\n",
    ")\n",
    "run_batch_time = time.time() - start_time\n",
    "print('--- {} seconds ---'.format(round(run_batch_time, 2)))\n",
    "print('Execution time per circuit:', round(run_batch_time / batchsize, 2), 'seconds')"
   ]
  },
  {
   "cell_type": "markdown",
   "metadata": {},
   "source": [
    "#### Run with Braket Provider + **Estimator Primitive**"
   ]
  },
  {
   "cell_type": "code",
   "execution_count": 8,
   "metadata": {},
   "outputs": [
    {
     "name": "stderr",
     "output_type": "stream",
     "text": [
      "D:\\Anaconda\\Lib\\site-packages\\qiskit\\visualization\\circuit\\matplotlib.py:266: FutureWarning: The default matplotlib drawer scheme will be changed to \"iqp\" in a following release. To silence this warning, specify the current default explicitly as style=\"clifford\", or the new default as style=\"iqp\".\n",
      "  self._style, def_font_ratio = load_style(self._style)\n"
     ]
    },
    {
     "data": {
      "image/png": "[encoded data removed]",
      "text/plain": [
       "<Figure size 287.294x200.667 with 1 Axes>"
      ]
     },
     "execution_count": 8,
     "metadata": {},
     "output_type": "execute_result"
    }
   ],
   "source": [
    "qiskit_bell_circ = QuantumCircuit(2)\n",
    "qiskit_bell_circ.h(0)\n",
    "qiskit_bell_circ.cx(0, 1)\n",
    "\n",
    "qiskit_bell_circ.draw(\"mpl\")"
   ]
  },
  {
   "cell_type": "markdown",
   "metadata": {},
   "source": [
    "Formerly took 532 secs to complete"
   ]
  },
  {
   "cell_type": "code",
   "execution_count": 9,
   "metadata": {},
   "outputs": [
    {
     "name": "stderr",
     "output_type": "stream",
     "text": [
      "C:\\Users\\fff\\AppData\\Local\\Temp\\ipykernel_24476\\1479952175.py:1: DeprecationWarning: AWSBraketProvider is deprecated. Use BraketProvider instead\n",
      "  backend = AWSBraketProvider().get_backend('SV1')\n"
     ]
    },
    {
     "name": "stdout",
     "output_type": "stream",
     "text": [
      "--- 95.29 seconds ---\n",
      "Execution time per circuit: 0.64 seconds\n"
     ]
    }
   ],
   "source": [
    "backend = AWSBraketProvider().get_backend('SV1')\n",
    "estimator = BackendEstimator(backend)\n",
    "qiskit_observables = SparsePauliOp.from_list(([('XX', 0.25), (\"IZ\", 0.25), (\"ZZ\", 0.25), (\"XY\", 0.25)]))\n",
    "\n",
    "qiskit_start_time = time.time()\n",
    "job = estimator.run(\n",
    "    circuits=[qiskit_bell_circ] * batchsize,\n",
    "    observables=[qiskit_observables] * batchsize,\n",
    "    shots=n_shots\n",
    ")\n",
    "job.result().values # This is the time-consuming line\n",
    "\n",
    "qiskit_run_batch_time = time.time() - qiskit_start_time\n",
    "print('--- {} seconds ---'.format(round(qiskit_run_batch_time, 2)))\n",
    "print('Execution time per circuit:', round(qiskit_run_batch_time / (batchsize * 3), 2), 'seconds')"
   ]
  },
  {
   "cell_type": "code",
   "execution_count": 10,
   "metadata": {},
   "outputs": [],
   "source": [
    "qiskit_expvals = job.result().values"
   ]
  },
  {
   "cell_type": "markdown",
   "metadata": {},
   "source": [
    "#### Use ``Estimator`` from Qiskit"
   ]
  },
  {
   "cell_type": "code",
   "execution_count": 11,
   "metadata": {},
   "outputs": [
    {
     "name": "stdout",
     "output_type": "stream",
     "text": [
      "--- 0.04 seconds ---\n",
      "Execution time per circuit: 0.0 seconds\n"
     ]
    }
   ],
   "source": [
    "start_time = time.time()\n",
    "job = Estimator().run(\n",
    "    circuits=[qiskit_bell_circ] * batchsize,\n",
    "    observables=[qiskit_observables] * batchsize,\n",
    "    shots=n_shots\n",
    ")\n",
    "qiskit_expvals_2 = job.result().values\n",
    "run_batch_time = time.time() - start_time\n",
    "print('--- {} seconds ---'.format(round(run_batch_time, 2)))\n",
    "# Three non-commuting parts of the Hamiltonian lead to three measured circuits per Hamiltonian\n",
    "print('Execution time per circuit:', round(run_batch_time / (batchsize * 3), 2), 'seconds')"
   ]
  },
  {
   "cell_type": "code",
   "execution_count": 12,
   "metadata": {},
   "outputs": [
    {
     "data": {
      "text/plain": [
       "array([ 1.26742539e-03, -3.17297782e-03, -5.39735636e-03, -6.12383169e-04,\n",
       "       -4.88840002e-03, -7.53573607e-03,  2.07906252e-03,  2.68320866e-03,\n",
       "       -5.83506741e-03, -5.54646183e-03, -7.55372217e-03,  3.29949109e-04,\n",
       "        2.80148113e-05, -6.12798165e-04,  3.69972297e-03, -1.89050051e-03,\n",
       "       -1.41142394e-04, -2.64539540e-03, -5.86278540e-03,  7.20523381e-03,\n",
       "       -2.48811241e-03, -8.01026307e-03,  4.48681254e-03,  1.67035149e-03,\n",
       "       -8.59625698e-03,  3.81494831e-03,  4.22405187e-03, -8.96805555e-04,\n",
       "       -1.81884844e-03,  3.30777625e-03, -1.68051868e-03, -5.77328151e-03,\n",
       "        1.29633280e-03, -1.79323888e-03,  6.44592058e-03, -4.41538982e-03,\n",
       "       -2.44238571e-03, -3.12494847e-03,  8.53483258e-03, -4.02757647e-03,\n",
       "       -7.66495925e-03,  4.31504371e-03, -7.95393410e-03,  3.77400986e-03,\n",
       "       -1.59349799e-03, -1.99855226e-03,  3.75958220e-03,  9.43444432e-03,\n",
       "       -3.79575942e-03,  8.83064266e-04])"
      ]
     },
     "execution_count": 12,
     "metadata": {},
     "output_type": "execute_result"
    }
   ],
   "source": [
    "qiskit_expvals_2 - qiskit_expvals"
   ]
  },
  {
   "cell_type": "code",
   "execution_count": 13,
   "metadata": {},
   "outputs": [
    {
     "data": {
      "text/plain": [
       "0.009434444322264202"
      ]
     },
     "execution_count": 13,
     "metadata": {},
     "output_type": "execute_result"
    }
   ],
   "source": [
    "max(qiskit_expvals_2 - qiskit_expvals)"
   ]
  },
  {
   "cell_type": "markdown",
   "metadata": {},
   "source": [
    "#### Running batch of qiskit circuits with SV1 backend provider"
   ]
  },
  {
   "cell_type": "code",
   "execution_count": 14,
   "metadata": {},
   "outputs": [
    {
     "name": "stderr",
     "output_type": "stream",
     "text": [
      "C:\\Users\\fff\\AppData\\Local\\Temp\\ipykernel_24476\\167129986.py:1: DeprecationWarning: AWSBraketProvider is deprecated. Use BraketProvider instead\n",
      "  backend = AWSBraketProvider().get_backend('SV1')\n"
     ]
    }
   ],
   "source": [
    "backend = AWSBraketProvider().get_backend('SV1')"
   ]
  },
  {
   "cell_type": "code",
   "execution_count": 15,
   "metadata": {},
   "outputs": [
    {
     "name": "stdout",
     "output_type": "stream",
     "text": [
      "--- 33.94 seconds ---\n",
      "Execution time per batch: 0.68 seconds\n"
     ]
    }
   ],
   "source": [
    "qiskit_start_time = time.time()\n",
    "job = backend.run(\n",
    "    [qiskit_bell_circ] * batchsize,\n",
    "    shots=n_shots\n",
    ")\n",
    "result = job.result() # This is the time-consuming line\n",
    "\n",
    "qiskit_run_batch_time = time.time() - qiskit_start_time\n",
    "print('--- {} seconds ---'.format(round(qiskit_run_batch_time, 2)))\n",
    "print('Execution time per batch:', round(qiskit_run_batch_time / batchsize, 2), 'seconds')"
   ]
  }
 ],
 "metadata": {
  "kernelspec": {
   "display_name": "Python 3 (ipykernel)",
   "language": "python",
   "name": "python3"
  },
  "language_info": {
   "codemirror_mode": {
    "name": "ipython",
    "version": 3
   },
   "file_extension": ".py",
   "mimetype": "text/x-python",
   "name": "python",
   "nbconvert_exporter": "python",
   "pygments_lexer": "ipython3",
   "version": "3.11.5"
  }
 },
 "nbformat": 4,
 "nbformat_minor": 2
}
