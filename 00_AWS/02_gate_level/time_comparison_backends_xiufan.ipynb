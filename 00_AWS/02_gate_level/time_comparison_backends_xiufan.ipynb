{
 "cells": [
  {
   "attachments": {},
   "cell_type": "markdown",
   "metadata": {},
   "source": [
    "# @Xiufan: Please update the aws-braket-sdk and the qiskit-braket-provider to their latest package version"
   ]
  },
  {
   "attachments": {},
   "cell_type": "markdown",
   "metadata": {},
   "source": [
    "### To update the packages, just run this command in your terminal please\n",
    "\n",
    "pip install amazon-braket-sdk==1.72.2 pip install qiskit-braket-provider==0.1.1"
   ]
  },
  {
   "attachments": {},
   "cell_type": "markdown",
   "metadata": {},
   "source": [
    "#### Running a bell circuit on different backends"
   ]
  },
  {
   "cell_type": "code",
   "execution_count": null,
   "metadata": {},
   "outputs": [],
   "source": [
    "import numpy as np\n",
    "import time\n",
    "\n",
    "from braket.circuits import Circuit\n",
    "from qiskit_braket_provider import AWSBraketProvider\n",
    "from braket.aws import AwsSession\n",
    "\n",
    "from qiskit import QuantumCircuit\n",
    "from qiskit.primitives import BackendEstimator, Estimator\n",
    "from qiskit.quantum_info.operators import SparsePauliOp\n",
    "from qiskit.primitives import BackendEstimator\n",
    "\n",
    "import os\n",
    "os.environ[\"KMP_DUPLICATE_LIB_OK\"] = \"True\""
   ]
  },
  {
   "attachments": {},
   "cell_type": "markdown",
   "metadata": {},
   "source": [
    "# TODO: Please adjust the S3 bucket to one of yours"
   ]
  },
  {
   "cell_type": "code",
   "execution_count": null,
   "metadata": {},
   "outputs": [],
   "source": [
    "aws_session = AwsSession(default_bucket=\"amazon-braket-us-west-1-lukasvoss\") # TODO: Please replace with your S3 bucket"
   ]
  },
  {
   "cell_type": "code",
   "execution_count": null,
   "metadata": {},
   "outputs": [],
   "source": [
    "batchsize = 50\n",
    "n_shots = 10_000"
   ]
  },
  {
   "attachments": {},
   "cell_type": "markdown",
   "metadata": {},
   "source": [
    "#### Run with native Braket SV Backend"
   ]
  },
  {
   "cell_type": "code",
   "execution_count": null,
   "metadata": {},
   "outputs": [],
   "source": [
    "backend = AWSBraketProvider().get_backend('SV1')\n",
    "\n",
    "device = backend._device\n",
    "device"
   ]
  },
  {
   "cell_type": "code",
   "execution_count": null,
   "metadata": {},
   "outputs": [],
   "source": [
    "braket_bell_circ = Circuit().h(0).cnot(0, 1)\n",
    "print(braket_bell_circ)"
   ]
  },
  {
   "cell_type": "code",
   "execution_count": null,
   "metadata": {},
   "outputs": [],
   "source": [
    "start_time = time.time()\n",
    "job_braket_native = device.run_batch(\n",
    "    [braket_bell_circ] * batchsize,\n",
    "    shots=n_shots,\n",
    ")\n",
    "run_batch_time = time.time() - start_time\n",
    "print('--- {} seconds ---'.format(round(run_batch_time, 2)))\n",
    "print('Execution time per circuit:', round(run_batch_time / batchsize, 2), 'seconds')"
   ]
  },
  {
   "attachments": {},
   "cell_type": "markdown",
   "metadata": {},
   "source": [
    "#### Run with Braket Provider + **Estimator Primitive**"
   ]
  },
  {
   "cell_type": "code",
   "execution_count": null,
   "metadata": {},
   "outputs": [],
   "source": [
    "qiskit_bell_circ = QuantumCircuit(2)\n",
    "qiskit_bell_circ.h(0)\n",
    "qiskit_bell_circ.cx(0, 1)\n",
    "\n",
    "qiskit_bell_circ.draw(\"mpl\")"
   ]
  },
  {
   "attachments": {},
   "cell_type": "markdown",
   "metadata": {},
   "source": [
    "Formerly took 532 secs to complete"
   ]
  },
  {
   "cell_type": "code",
   "execution_count": null,
   "metadata": {},
   "outputs": [],
   "source": [
    "backend = AWSBraketProvider().get_backend('SV1')\n",
    "estimator = BackendEstimator(backend)\n",
    "qiskit_observables = SparsePauliOp.from_list(([('XX', 0.25), (\"IZ\", 0.25), (\"ZZ\", 0.25), (\"XY\", 0.25)]))\n",
    "\n",
    "qiskit_start_time = time.time()\n",
    "job = estimator.run(\n",
    "    circuits=[qiskit_bell_circ] * batchsize,\n",
    "    observables=[qiskit_observables] * batchsize,\n",
    "    shots=n_shots\n",
    ")\n",
    "job.result().values # This is the time-consuming line\n",
    "\n",
    "qiskit_run_batch_time = time.time() - qiskit_start_time\n",
    "print('--- {} seconds ---'.format(round(qiskit_run_batch_time, 2)))\n",
    "print('Execution time per circuit:', round(qiskit_run_batch_time / (batchsize * 3), 2), 'seconds')"
   ]
  },
  {
   "cell_type": "code",
   "execution_count": null,
   "metadata": {},
   "outputs": [],
   "source": [
    "qiskit_expvals = job.result().values"
   ]
  },
  {
   "attachments": {},
   "cell_type": "markdown",
   "metadata": {},
   "source": [
    "#### Use ``Estimator`` from Qiskit"
   ]
  },
  {
   "cell_type": "code",
   "execution_count": null,
   "metadata": {},
   "outputs": [],
   "source": [
    "start_time = time.time()\n",
    "job = Estimator().run(\n",
    "    circuits=[qiskit_bell_circ] * batchsize,\n",
    "    observables=[qiskit_observables] * batchsize,\n",
    "    shots=n_shots\n",
    ")\n",
    "qiskit_expvals_2 = job.result().values\n",
    "run_batch_time = time.time() - start_time\n",
    "print('--- {} seconds ---'.format(round(run_batch_time, 2)))\n",
    "# Three non-commuting parts of the Hamiltonian lead to three measured circuits per Hamiltonian\n",
    "print('Execution time per circuit:', round(run_batch_time / (batchsize * 3), 2), 'seconds')"
   ]
  },
  {
   "cell_type": "code",
   "execution_count": null,
   "metadata": {},
   "outputs": [],
   "source": [
    "qiskit_expvals_2 - qiskit_expvals"
   ]
  },
  {
   "cell_type": "code",
   "execution_count": null,
   "metadata": {},
   "outputs": [],
   "source": [
    "max(qiskit_expvals_2 - qiskit_expvals)"
   ]
  },
  {
   "attachments": {},
   "cell_type": "markdown",
   "metadata": {},
   "source": [
    "#### Running batch of qiskit circuits with SV1 backend provider"
   ]
  },
  {
   "cell_type": "code",
   "execution_count": null,
   "metadata": {},
   "outputs": [],
   "source": [
    "backend = AWSBraketProvider().get_backend('SV1')"
   ]
  },
  {
   "cell_type": "code",
   "execution_count": null,
   "metadata": {},
   "outputs": [],
   "source": [
    "qiskit_start_time = time.time()\n",
    "job = backend.run(\n",
    "    [qiskit_bell_circ] * batchsize,\n",
    "    shots=n_shots\n",
    ")\n",
    "result = job.result() # This is the time-consuming line\n",
    "\n",
    "qiskit_run_batch_time = time.time() - qiskit_start_time\n",
    "print('--- {} seconds ---'.format(round(qiskit_run_batch_time, 2)))\n",
    "print('Execution time per batch:', round(qiskit_run_batch_time / batchsize, 2), 'seconds')"
   ]
  }
 ],
 "metadata": {
  "kernelspec": {
   "display_name": "braket",
   "language": "python",
   "name": "python3"
  },
  "language_info": {
   "codemirror_mode": {
    "name": "ipython",
    "version": 3
   },
   "file_extension": ".py",
   "mimetype": "text/x-python",
   "name": "python",
   "nbconvert_exporter": "python",
   "pygments_lexer": "ipython3",
   "version": "3.10.13"
  },
  "orig_nbformat": 4
 },
 "nbformat": 4,
 "nbformat_minor": 2
}
