{
 "cells": [
  {
   "attachments": {},
   "cell_type": "markdown",
   "metadata": {},
   "source": [
    "### Quantum Gate calibration using Model Free Reinforcement Learning in AWS Backend"
   ]
  },
  {
   "cell_type": "code",
   "execution_count": 1,
   "metadata": {},
   "outputs": [
    {
     "name": "stderr",
     "output_type": "stream",
     "text": [
      "/Users/lukasvoss/anaconda3/envs/braket/lib/python3.10/site-packages/qiskit_dynamics/dispatch/backends/jax.py:34: UserWarning: The functionality in the perturbation module of Qiskit Dynamics requires a JAX version <= 0.4.6, due to a bug in JAX versions > 0.4.6. For versions 0.4.4, 0.4.5, and 0.4.6, using the perturbation module functionality requires setting os.environ['JAX_JIT_PJIT_API_MERGE'] = '0' before importing JAX or Dynamics.\n",
      "  warnings.warn(\n",
      "WARNING: All log messages before absl::InitializeLog() is called are written to STDERR\n",
      "I0000 00:00:1704437779.958901       1 tfrt_cpu_pjrt_client.cc:349] TfrtCpuClient created.\n"
     ]
    },
    {
     "name": "stdout",
     "output_type": "stream",
     "text": [
      "Starting Rabi experiment for qubit 0...\n",
      "Rabi experiment for qubit 0 done.\n",
      "Starting Drag experiment for qubit 0...\n",
      "Drag experiments done for qubit 0 done.\n",
      "Starting Rabi experiment for qubit 1...\n",
      "Rabi experiment for qubit 1 done.\n",
      "Starting Drag experiment for qubit 1...\n",
      "Drag experiments done for qubit 1 done.\n",
      "All single qubit calibrations are done\n",
      "Updated Instruction Schedule Map <InstructionScheduleMap(1Q instructions:\n",
      "  q0: {'sx', 'rz', 'delay', 'sdg', 'measure', 'x', 'reset', 'tdg', 't', 'z', 's', 'h', 'id'}\n",
      "  q1: {'sx', 'rz', 'delay', 'sdg', 'measure', 'x', 'reset', 'tdg', 't', 'z', 's', 'h', 'id'}\n",
      "Multi qubit instructions:\n",
      "  (0, 1): {'cr45p', 'cr45m', 'ecr'}\n",
      "  (1, 0): {'cr45p', 'cr45m', 'ecr'}\n",
      ")>\n"
     ]
    }
   ],
   "source": [
    "from qiskit_braket_provider import BraketLocalBackend, AWSBraketProvider, AWSBraketBackend, AWSBraketJob\n",
    "from braket.devices import LocalSimulator\n",
    "from braket.aws import AwsDevice\n",
    "import boto3\n",
    "client = boto3.client(\"braket\", region_name='us-west-1')\n",
    "import braket._sdk as braket_sdk\n",
    "braket_sdk.__version__\n",
    "\n",
    "# %%\n",
    "# response = client.search_devices(filters=[{\n",
    "#     'name': 'deviceArn',\n",
    "#     'values': ['arn:aws:braket:::device/quantum-simulator/amazon/sv1']\n",
    "# }], maxResults=10)\n",
    "# print(f\"Found {len(response['devices'])} devices\")\n",
    "\n",
    "# response = client.get_device(deviceArn='arn:aws:braket:::device/quantum-simulator/amazon/sv1')\n",
    "# print(f\"Device {response['deviceName']} is {response['deviceStatus']}\")\n",
    "\n",
    "# %%\n",
    "import numpy as np\n",
    "import os\n",
    "import sys\n",
    "from typing import Optional\n",
    "module_path = os.path.abspath(os.path.join('/Users/lukasvoss/Documents/Master Wirtschaftsphysik/Masterarbeit Yale-NUS CQT/Quantum_Optimal_Control'))\n",
    "if module_path not in sys.path:\n",
    "    sys.path.append(module_path)\n",
    "from quantumenvironment import QuantumEnvironment\n",
    "from helper_functions import select_optimizer, generate_model\n",
    "from qconfig import QiskitConfig\n",
    "from template_configurations import gate_q_env_config\n",
    "from agent import Agent\n",
    "from helper_functions import load_agent_from_yaml_file\n",
    "from ppo import make_train_ppo\n",
    "from qconfig import QEnvConfig\n",
    "\n",
    "# Qiskit imports for building RL environment (circuit level)\n",
    "from qiskit.circuit import ParameterVector, QuantumCircuit\n",
    "from qiskit.providers import BackendV2\n",
    "from qiskit.providers.fake_provider import FakeJakarta, FakeJakartaV2\n",
    "from qiskit.extensions import CXGate, XGate\n",
    "from qiskit.opflow import Zero, One, Plus, Minus, H, I, X, CX, S, Z\n",
    "from qiskit_ibm_runtime import QiskitRuntimeService, Estimator\n",
    "\n",
    "# Tensorflow imports for building RL agent and framework\n",
    "import tensorflow as tf\n",
    "from tensorflow_probability.python.distributions import MultivariateNormalDiag\n",
    "\n",
    "# Additional imports\n",
    "from tqdm import tqdm\n",
    "import matplotlib.pyplot as plt\n",
    "from IPython.display import clear_output\n",
    "from time import sleep"
   ]
  },
  {
   "cell_type": "code",
   "execution_count": 2,
   "metadata": {},
   "outputs": [],
   "source": [
    "# backend_name = 'ibm_perth'\n",
    "# no_backend = None\n",
    "# backend = no_backend"
   ]
  },
  {
   "cell_type": "code",
   "execution_count": 3,
   "metadata": {},
   "outputs": [],
   "source": [
    "# %%\n",
    "provider = AWSBraketProvider()\n",
    "backend = provider.get_backend('SV1')\n",
    "\n",
    "# backend = BraketLocalBackend()    \n",
    "# backend = LocalSimulator()"
   ]
  },
  {
   "cell_type": "code",
   "execution_count": 4,
   "metadata": {},
   "outputs": [
    {
     "name": "stdout",
     "output_type": "stream",
     "text": [
      "Type of the backend <class 'qiskit_braket_provider.providers.braket_backend.AWSBraketBackend'>\n",
      "True\n"
     ]
    }
   ],
   "source": [
    "print('Type of the backend', type(backend))\n",
    "print(isinstance(backend, (AWSBraketBackend, LocalSimulator, BraketLocalBackend)))"
   ]
  },
  {
   "cell_type": "code",
   "execution_count": 5,
   "metadata": {},
   "outputs": [
    {
     "name": "stdout",
     "output_type": "stream",
     "text": [
      "SparsePauliOp(['II', 'IZ', 'YI', 'YZ'],\n",
      "              coeffs=[ 0.25+0.j, -0.25+0.j, -0.25+0.j,  0.25+0.j])\n",
      "Backend: BraketBackend[SV1]\n"
     ]
    }
   ],
   "source": [
    "q_env = QuantumEnvironment(gate_q_env_config)\n",
    "print(\"Backend:\", q_env.backend)\n",
    "\n",
    "ppo_params, network_params  = load_agent_from_yaml_file(file_path='/Users/lukasvoss/Documents/Master Wirtschaftsphysik/Masterarbeit Yale-NUS CQT/Quantum_Optimal_Control/template_configurations/agent_config.yaml')\n",
    "agent_config = {**ppo_params, **network_params}"
   ]
  },
  {
   "cell_type": "code",
   "execution_count": 6,
   "metadata": {},
   "outputs": [],
   "source": [
    "total_updates = 200"
   ]
  },
  {
   "cell_type": "code",
   "execution_count": 7,
   "metadata": {},
   "outputs": [
    {
     "name": "stderr",
     "output_type": "stream",
     "text": [
      "100%|██████████| 200/200 [00:41<00:00,  4.80it/s]\n"
     ]
    },
    {
     "name": "stdout",
     "output_type": "stream",
     "text": [
      "Fidelity History: []\n"
     ]
    }
   ],
   "source": [
    "ppo_agent = make_train_ppo(agent_config, q_env)\n",
    "training_results = ppo_agent(total_updates=total_updates, print_debug=True, num_prints=40)"
   ]
  },
  {
   "attachments": {},
   "cell_type": "markdown",
   "metadata": {},
   "source": [
    "#### Plot Training History"
   ]
  },
  {
   "cell_type": "code",
   "execution_count": 8,
   "metadata": {},
   "outputs": [],
   "source": [
    "gate_name = gate_q_env_config.target[\"gate\"].name"
   ]
  },
  {
   "cell_type": "code",
   "execution_count": 9,
   "metadata": {},
   "outputs": [
    {
     "data": {
      "text/plain": [
       "Text(0, 0.5, 'Avg. Return')"
      ]
     },
     "execution_count": 9,
     "metadata": {},
     "output_type": "execute_result"
    },
    {
     "data": {
      "image/png": "[encoded data removed]",
      "text/plain": [
       "<Figure size 640x480 with 1 Axes>"
      ]
     },
     "metadata": {},
     "output_type": "display_data"
    }
   ],
   "source": [
    "fig, ax = plt.subplots()\n",
    "plt.plot(training_results['avg_return'])\n",
    "ax.set_title(f'Training History of {gate_name}-Gate Calibration')\n",
    "ax.set_xlabel('Updates')\n",
    "ax.set_ylabel('Avg. Return')"
   ]
  }
 ],
 "metadata": {
  "kernelspec": {
   "display_name": "braket",
   "language": "python",
   "name": "python3"
  },
  "language_info": {
   "codemirror_mode": {
    "name": "ipython",
    "version": 3
   },
   "file_extension": ".py",
   "mimetype": "text/x-python",
   "name": "python",
   "nbconvert_exporter": "python",
   "pygments_lexer": "ipython3",
   "version": "3.10.13"
  },
  "orig_nbformat": 4
 },
 "nbformat": 4,
 "nbformat_minor": 2
}
