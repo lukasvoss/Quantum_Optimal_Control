{
 "cells": [
  {
   "cell_type": "code",
   "execution_count": 1,
   "metadata": {},
   "outputs": [
    {
     "ename": "ModuleNotFoundError",
     "evalue": "No module named 'basis_gate_library'",
     "output_type": "error",
     "traceback": [
      "\u001b[0;31m---------------------------------------------------------------------------\u001b[0m",
      "\u001b[0;31mModuleNotFoundError\u001b[0m                       Traceback (most recent call last)",
      "Cell \u001b[0;32mIn[1], line 10\u001b[0m\n\u001b[1;32m      3\u001b[0m \u001b[39mimport\u001b[39;00m \u001b[39mmatplotlib\u001b[39;00m\u001b[39m.\u001b[39;00m\u001b[39mpyplot\u001b[39;00m \u001b[39mas\u001b[39;00m \u001b[39mplt\u001b[39;00m\n\u001b[1;32m      4\u001b[0m \u001b[39m# os.environ[\"KMP_DUPLICATE_LIB_OK\"] = \"True\"\u001b[39;00m\n\u001b[1;32m      5\u001b[0m \u001b[39m# module_path = os.path.abspath(os.path.join('/Users/lukasvoss/Documents/Master Wirtschaftsphysik/Masterarbeit Yale-NUS CQT/Quantum_Optimal_Control'))\u001b[39;00m\n\u001b[1;32m      6\u001b[0m \u001b[39m# if module_path not in sys.path:\u001b[39;00m\n\u001b[1;32m      7\u001b[0m \u001b[39m#     sys.path.append(module_path)\u001b[39;00m\n\u001b[1;32m      8\u001b[0m \n\u001b[1;32m      9\u001b[0m \u001b[39m# from template_configurations.qiskit.pulse_config import q_env_config\u001b[39;00m\n\u001b[0;32m---> 10\u001b[0m \u001b[39mfrom\u001b[39;00m \u001b[39mneeded_files\u001b[39;00m\u001b[39m.\u001b[39;00m\u001b[39mpulse_config\u001b[39;00m \u001b[39mimport\u001b[39;00m q_env_config \u001b[39mas\u001b[39;00m pulse_q_env_config\n\u001b[1;32m     11\u001b[0m \u001b[39mfrom\u001b[39;00m \u001b[39mneeded_files\u001b[39;00m\u001b[39m.\u001b[39;00m\u001b[39mhelper_functions\u001b[39;00m \u001b[39mimport\u001b[39;00m perform_standard_calibrations\n\u001b[1;32m     12\u001b[0m \u001b[39mfrom\u001b[39;00m \u001b[39mneeded_files\u001b[39;00m\u001b[39m.\u001b[39;00m\u001b[39mquantumenvironment\u001b[39;00m \u001b[39mimport\u001b[39;00m QuantumEnvironment\n",
      "File \u001b[0;32m~/Documents/Master Wirtschaftsphysik/Masterarbeit Yale-NUS CQT/Quantum_Optimal_Control/00_AWS/03_pulse_level/needed_files/pulse_config.py:7\u001b[0m\n\u001b[1;32m      5\u001b[0m \u001b[39mimport\u001b[39;00m \u001b[39msys\u001b[39;00m\n\u001b[1;32m      6\u001b[0m \u001b[39mimport\u001b[39;00m \u001b[39mwarnings\u001b[39;00m\n\u001b[0;32m----> 7\u001b[0m \u001b[39mfrom\u001b[39;00m \u001b[39mbasis_gate_library\u001b[39;00m \u001b[39mimport\u001b[39;00m FixedFrequencyTransmon, EchoedCrossResonance\n\u001b[1;32m      8\u001b[0m \u001b[39mfrom\u001b[39;00m \u001b[39mhelper_functions\u001b[39;00m \u001b[39mimport\u001b[39;00m (\n\u001b[1;32m      9\u001b[0m     get_ecr_params,\n\u001b[1;32m     10\u001b[0m     get_pulse_params,\n\u001b[1;32m     11\u001b[0m     load_q_env_from_yaml_file,\n\u001b[1;32m     12\u001b[0m     perform_standard_calibrations,\n\u001b[1;32m     13\u001b[0m )\n\u001b[1;32m     14\u001b[0m \u001b[39mfrom\u001b[39;00m \u001b[39mqiskit\u001b[39;00m \u001b[39mimport\u001b[39;00m pulse, QuantumCircuit, QuantumRegister, transpile\n",
      "\u001b[0;31mModuleNotFoundError\u001b[0m: No module named 'basis_gate_library'"
     ]
    }
   ],
   "source": [
    "import sys\n",
    "import os\n",
    "import matplotlib.pyplot as plt\n",
    "# os.environ[\"KMP_DUPLICATE_LIB_OK\"] = \"True\"\n",
    "# module_path = os.path.abspath(os.path.join('/Users/lukasvoss/Documents/Master Wirtschaftsphysik/Masterarbeit Yale-NUS CQT/Quantum_Optimal_Control'))\n",
    "# if module_path not in sys.path:\n",
    "#     sys.path.append(module_path)\n",
    "\n",
    "# from template_configurations.qiskit.pulse_config import q_env_config\n",
    "from needed_files.pulse_config import q_env_config as pulse_q_env_config\n",
    "from needed_files.helper_functions import perform_standard_calibrations\n",
    "from needed_files.quantumenvironment import QuantumEnvironment\n",
    "from needed_files.ppo import make_train_ppo\n",
    "\n",
    "import logging\n",
    "logging.basicConfig(\n",
    "    level=logging.WARNING,\n",
    "    format=\"%(asctime)s INFO %(message)s\", # hardcoded INFO level\n",
    "    datefmt=\"%Y-%m-%d %H:%M:%S\",\n",
    "    stream=sys.stdout,\n",
    ")"
   ]
  },
  {
   "cell_type": "code",
   "execution_count": null,
   "metadata": {},
   "outputs": [],
   "source": []
  }
 ],
 "metadata": {
  "kernelspec": {
   "display_name": "braket",
   "language": "python",
   "name": "python3"
  },
  "language_info": {
   "codemirror_mode": {
    "name": "ipython",
    "version": 3
   },
   "file_extension": ".py",
   "mimetype": "text/x-python",
   "name": "python",
   "nbconvert_exporter": "python",
   "pygments_lexer": "ipython3",
   "version": "3.10.13"
  },
  "orig_nbformat": 4
 },
 "nbformat": 4,
 "nbformat_minor": 2
}
