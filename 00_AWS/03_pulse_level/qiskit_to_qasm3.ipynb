{
 "cells": [
  {
   "cell_type": "code",
   "execution_count": 1,
   "metadata": {},
   "outputs": [
    {
     "name": "stderr",
     "output_type": "stream",
     "text": [
      "/Users/lukasvoss/anaconda3/envs/braket/lib/python3.10/site-packages/qiskit/visualization/circuit/matplotlib.py:266: FutureWarning: The default matplotlib drawer scheme will be changed to \"iqp\" in a following release. To silence this warning, specify the current default explicitly as style=\"clifford\", or the new default as style=\"iqp\".\n",
      "  self._style, def_font_ratio = load_style(self._style)\n"
     ]
    }
   ],
   "source": [
    "from qiskit import QuantumCircuit, pulse\n",
    "from qiskit.qasm3 import dumps, ExperimentalFeatures, loads\n",
    "\n",
    "circ = QuantumCircuit(1, 1)\n",
    "circ.h(0)\n",
    "circ.measure([0], [0])\n",
    "\n",
    "circ.draw(\"mpl\")\n",
    "\n",
    "qasm_string_pre_calibration = dumps(circ, experimental=ExperimentalFeatures.SWITCH_CASE_V1)\n",
    "\n",
    "with pulse.build() as h_q0:\n",
    "    pulse.play(\n",
    "        pulse.library.Gaussian(duration=256, amp=0.2, sigma=50, name=\"custom\"),\n",
    "        pulse.DriveChannel(0)\n",
    "    )\n",
    "\n",
    "circ.add_calibration(\"h\", qubits=[0], schedule=h_q0)\n",
    "h_q0.draw()\n",
    "\n",
    "qasm_string_post_calibration = dumps(circ, experimental=ExperimentalFeatures.SWITCH_CASE_V1)"
   ]
  },
  {
   "cell_type": "code",
   "execution_count": 2,
   "metadata": {},
   "outputs": [
    {
     "data": {
      "text/plain": [
       "True"
      ]
     },
     "execution_count": 2,
     "metadata": {},
     "output_type": "execute_result"
    }
   ],
   "source": [
    "qasm_string_pre_calibration == qasm_string_post_calibration"
   ]
  },
  {
   "cell_type": "code",
   "execution_count": 3,
   "metadata": {},
   "outputs": [
    {
     "data": {
      "text/plain": [
       "'OPENQASM 3;\\ninclude \"stdgates.inc\";\\nbit[1] c;\\nqubit[1] q;\\nh q[0];\\nc[0] = measure q[0];\\n'"
      ]
     },
     "execution_count": 3,
     "metadata": {},
     "output_type": "execute_result"
    }
   ],
   "source": [
    "qasm_string_post_calibration"
   ]
  },
  {
   "cell_type": "code",
   "execution_count": 4,
   "metadata": {},
   "outputs": [
    {
     "name": "stderr",
     "output_type": "stream",
     "text": [
      "/Users/lukasvoss/anaconda3/envs/braket/lib/python3.10/site-packages/qiskit/visualization/circuit/matplotlib.py:266: FutureWarning: The default matplotlib drawer scheme will be changed to \"iqp\" in a following release. To silence this warning, specify the current default explicitly as style=\"clifford\", or the new default as style=\"iqp\".\n",
      "  self._style, def_font_ratio = load_style(self._style)\n"
     ]
    },
    {
     "data": {
      "image/png": "[encoded data removed]",
      "text/plain": [
       "<Figure size 269.064x200.667 with 1 Axes>"
      ]
     },
     "execution_count": 4,
     "metadata": {},
     "output_type": "execute_result"
    }
   ],
   "source": [
    "circuit = loads(qasm_string_post_calibration)\n",
    "circuit.draw(\"mpl\")"
   ]
  },
  {
   "attachments": {},
   "cell_type": "markdown",
   "metadata": {},
   "source": [
    "### Run QASM3 program on Braket QPU"
   ]
  },
  {
   "cell_type": "code",
   "execution_count": 5,
   "metadata": {},
   "outputs": [],
   "source": [
    "# import the device module\n",
    "from braket.aws import AwsDevice, AwsQuantumJob, AwsSession\n",
    "from braket.ir.openqasm import Program\n",
    "from braket import pulse\n",
    "\n",
    "aws_session = AwsSession(default_bucket=\"amazon-braket-us-west-1-lukasvoss\")"
   ]
  },
  {
   "cell_type": "code",
   "execution_count": 6,
   "metadata": {},
   "outputs": [],
   "source": [
    "with open(\"pulse.qasm\", \"r\") as pulse:\n",
    "    pulse_qasm_string = pulse.read()\n",
    "\n",
    "# choose the OQC device (Rigetti is currently under maintenance)\n",
    "device = AwsDevice(\"arn:aws:braket:eu-west-2::device/qpu/oqc/Lucy\")\n",
    "\n",
    "program = Program(source=pulse_qasm_string)\n",
    "\n",
    "# You can also specify an optional s3 bucket location and number of shots,\n",
    "# if you so choose, when running the program\n",
    "s3_location = (\"amazon-braket-my-bucket\", \"openqasm-tasks\")"
   ]
  },
  {
   "cell_type": "code",
   "execution_count": 7,
   "metadata": {},
   "outputs": [
    {
     "ename": "ValidationException",
     "evalue": "An error occurred (ValidationException) when calling the CreateQuantumTask operation: Parsing error: line 1:0 extraneous input ''OPENQASM 3.0;\\ninclude \"stdgates.inc\";\\nbit[1] c;\\nqubit[1] q;\\nh q[0];\\nc[0] = measure q[0];\\n'' expecting {<EOF>, 'cal', 'defcal', '#pragma braket', 'waveform', 'port', 'frame', 'OPENQASM', 'include', 'defcalgrammar', 'def', 'gate', 'extern', 'box', 'let', 'break', 'continue', 'if', 'end', 'return', 'for', 'while', PRAGMA, AnnotationKeyword, 'input', 'output', 'const', 'qreg', 'qubit', 'creg', 'bool', 'bit', 'int', 'uint', 'float', 'angle', 'complex', 'array', 'duration', 'stretch', 'gphase', 'inv', 'pow', 'ctrl', 'negctrl', 'durationof', 'delay', 'reset', 'measure', 'barrier', BooleanLiteral, '(', '-', '~', '!', ImaginaryLiteral, BinaryIntegerLiteral, OctalIntegerLiteral, DecimalIntegerLiteral, HexIntegerLiteral, Identifier, HardwareQubit, FloatLiteral, TimingLiteral, BitstringLiteral}\n",
     "output_type": "error",
     "traceback": [
      "\u001b[0;31m---------------------------------------------------------------------------\u001b[0m",
      "\u001b[0;31mValidationException\u001b[0m                       Traceback (most recent call last)",
      "Cell \u001b[0;32mIn[7], line 1\u001b[0m\n\u001b[0;32m----> 1\u001b[0m my_task \u001b[39m=\u001b[39m device\u001b[39m.\u001b[39;49mrun(\n\u001b[1;32m      2\u001b[0m     program,\n\u001b[1;32m      3\u001b[0m     \u001b[39m# s3_location,\u001b[39;49;00m\n\u001b[1;32m      4\u001b[0m     shots\u001b[39m=\u001b[39;49m\u001b[39m100\u001b[39;49m,\n\u001b[1;32m      5\u001b[0m )\n",
      "File \u001b[0;32m~/anaconda3/envs/braket/lib/python3.10/site-packages/braket/aws/aws_device.py:192\u001b[0m, in \u001b[0;36mAwsDevice.run\u001b[0;34m(self, task_specification, s3_destination_folder, shots, poll_timeout_seconds, poll_interval_seconds, inputs, gate_definitions, reservation_arn, *aws_quantum_task_args, **aws_quantum_task_kwargs)\u001b[0m\n\u001b[1;32m    108\u001b[0m \u001b[39mdef\u001b[39;00m \u001b[39mrun\u001b[39m(\n\u001b[1;32m    109\u001b[0m     \u001b[39mself\u001b[39m,\n\u001b[1;32m    110\u001b[0m     task_specification: Union[\n\u001b[0;32m   (...)\u001b[0m\n\u001b[1;32m    126\u001b[0m     \u001b[39m*\u001b[39m\u001b[39m*\u001b[39maws_quantum_task_kwargs,\n\u001b[1;32m    127\u001b[0m ) \u001b[39m-\u001b[39m\u001b[39m>\u001b[39m AwsQuantumTask:\n\u001b[1;32m    128\u001b[0m \u001b[39m    \u001b[39m\u001b[39m\"\"\"\u001b[39;00m\n\u001b[1;32m    129\u001b[0m \u001b[39m    Run a quantum task specification on this device. A quantum task can be a circuit or an\u001b[39;00m\n\u001b[1;32m    130\u001b[0m \u001b[39m    annealing problem.\u001b[39;00m\n\u001b[0;32m   (...)\u001b[0m\n\u001b[1;32m    190\u001b[0m \u001b[39m        `braket.aws.aws_quantum_task.AwsQuantumTask.create()`\u001b[39;00m\n\u001b[1;32m    191\u001b[0m \u001b[39m    \"\"\"\u001b[39;00m\n\u001b[0;32m--> 192\u001b[0m     \u001b[39mreturn\u001b[39;00m AwsQuantumTask\u001b[39m.\u001b[39;49mcreate(\n\u001b[1;32m    193\u001b[0m         \u001b[39mself\u001b[39;49m\u001b[39m.\u001b[39;49m_aws_session,\n\u001b[1;32m    194\u001b[0m         \u001b[39mself\u001b[39;49m\u001b[39m.\u001b[39;49m_arn,\n\u001b[1;32m    195\u001b[0m         task_specification,\n\u001b[1;32m    196\u001b[0m         s3_destination_folder\n\u001b[1;32m    197\u001b[0m         \u001b[39mor\u001b[39;49;00m (\n\u001b[1;32m    198\u001b[0m             AwsSession\u001b[39m.\u001b[39;49mparse_s3_uri(os\u001b[39m.\u001b[39;49menviron\u001b[39m.\u001b[39;49mget(\u001b[39m\"\u001b[39;49m\u001b[39mAMZN_BRAKET_TASK_RESULTS_S3_URI\u001b[39;49m\u001b[39m\"\u001b[39;49m))\n\u001b[1;32m    199\u001b[0m             \u001b[39mif\u001b[39;49;00m \u001b[39m\"\u001b[39;49m\u001b[39mAMZN_BRAKET_TASK_RESULTS_S3_URI\u001b[39;49m\u001b[39m\"\u001b[39;49m \u001b[39min\u001b[39;49;00m os\u001b[39m.\u001b[39;49menviron\n\u001b[1;32m    200\u001b[0m             \u001b[39melse\u001b[39;49;00m \u001b[39mNone\u001b[39;49;00m\n\u001b[1;32m    201\u001b[0m         )\n\u001b[1;32m    202\u001b[0m         \u001b[39mor\u001b[39;49;00m (\u001b[39mself\u001b[39;49m\u001b[39m.\u001b[39;49m_aws_session\u001b[39m.\u001b[39;49mdefault_bucket(), \u001b[39m\"\u001b[39;49m\u001b[39mtasks\u001b[39;49m\u001b[39m\"\u001b[39;49m),\n\u001b[1;32m    203\u001b[0m         shots \u001b[39mif\u001b[39;49;00m shots \u001b[39mis\u001b[39;49;00m \u001b[39mnot\u001b[39;49;00m \u001b[39mNone\u001b[39;49;00m \u001b[39melse\u001b[39;49;00m \u001b[39mself\u001b[39;49m\u001b[39m.\u001b[39;49m_default_shots,\n\u001b[1;32m    204\u001b[0m         poll_timeout_seconds\u001b[39m=\u001b[39;49mpoll_timeout_seconds,\n\u001b[1;32m    205\u001b[0m         poll_interval_seconds\u001b[39m=\u001b[39;49mpoll_interval_seconds \u001b[39mor\u001b[39;49;00m \u001b[39mself\u001b[39;49m\u001b[39m.\u001b[39;49m_poll_interval_seconds,\n\u001b[1;32m    206\u001b[0m         inputs\u001b[39m=\u001b[39;49minputs,\n\u001b[1;32m    207\u001b[0m         gate_definitions\u001b[39m=\u001b[39;49mgate_definitions,\n\u001b[1;32m    208\u001b[0m         reservation_arn\u001b[39m=\u001b[39;49mreservation_arn,\n\u001b[1;32m    209\u001b[0m         \u001b[39m*\u001b[39;49maws_quantum_task_args,\n\u001b[1;32m    210\u001b[0m         \u001b[39m*\u001b[39;49m\u001b[39m*\u001b[39;49maws_quantum_task_kwargs,\n\u001b[1;32m    211\u001b[0m     )\n",
      "File \u001b[0;32m~/anaconda3/envs/braket/lib/python3.10/site-packages/braket/aws/aws_quantum_task.py:209\u001b[0m, in \u001b[0;36mAwsQuantumTask.create\u001b[0;34m(aws_session, device_arn, task_specification, s3_destination_folder, shots, device_parameters, disable_qubit_rewiring, tags, inputs, gate_definitions, reservation_arn, *args, **kwargs)\u001b[0m\n\u001b[1;32m    204\u001b[0m     \u001b[39mif\u001b[39;00m unbounded_parameters:\n\u001b[1;32m    205\u001b[0m         \u001b[39mraise\u001b[39;00m \u001b[39mValueError\u001b[39;00m(\n\u001b[1;32m    206\u001b[0m             \u001b[39mf\u001b[39m\u001b[39m\"\u001b[39m\u001b[39mCannot execute circuit with unbound parameters: \u001b[39m\u001b[39m\"\u001b[39m \u001b[39mf\u001b[39m\u001b[39m\"\u001b[39m\u001b[39m{\u001b[39;00munbounded_parameters\u001b[39m}\u001b[39;00m\u001b[39m\"\u001b[39m\n\u001b[1;32m    207\u001b[0m         )\n\u001b[0;32m--> 209\u001b[0m \u001b[39mreturn\u001b[39;00m _create_internal(\n\u001b[1;32m    210\u001b[0m     task_specification,\n\u001b[1;32m    211\u001b[0m     aws_session,\n\u001b[1;32m    212\u001b[0m     create_task_kwargs,\n\u001b[1;32m    213\u001b[0m     device_arn,\n\u001b[1;32m    214\u001b[0m     device_parameters \u001b[39mor\u001b[39;49;00m {},\n\u001b[1;32m    215\u001b[0m     disable_qubit_rewiring,\n\u001b[1;32m    216\u001b[0m     inputs,\n\u001b[1;32m    217\u001b[0m     gate_definitions\u001b[39m=\u001b[39;49mgate_definitions,\n\u001b[1;32m    218\u001b[0m     \u001b[39m*\u001b[39;49margs,\n\u001b[1;32m    219\u001b[0m     \u001b[39m*\u001b[39;49m\u001b[39m*\u001b[39;49mkwargs,\n\u001b[1;32m    220\u001b[0m )\n",
      "File \u001b[0;32m~/anaconda3/envs/braket/lib/python3.10/functools.py:889\u001b[0m, in \u001b[0;36msingledispatch.<locals>.wrapper\u001b[0;34m(*args, **kw)\u001b[0m\n\u001b[1;32m    885\u001b[0m \u001b[39mif\u001b[39;00m \u001b[39mnot\u001b[39;00m args:\n\u001b[1;32m    886\u001b[0m     \u001b[39mraise\u001b[39;00m \u001b[39mTypeError\u001b[39;00m(\u001b[39mf\u001b[39m\u001b[39m'\u001b[39m\u001b[39m{\u001b[39;00mfuncname\u001b[39m}\u001b[39;00m\u001b[39m requires at least \u001b[39m\u001b[39m'\u001b[39m\n\u001b[1;32m    887\u001b[0m                     \u001b[39m'\u001b[39m\u001b[39m1 positional argument\u001b[39m\u001b[39m'\u001b[39m)\n\u001b[0;32m--> 889\u001b[0m \u001b[39mreturn\u001b[39;00m dispatch(args[\u001b[39m0\u001b[39;49m]\u001b[39m.\u001b[39;49m\u001b[39m__class__\u001b[39;49m)(\u001b[39m*\u001b[39;49margs, \u001b[39m*\u001b[39;49m\u001b[39m*\u001b[39;49mkw)\n",
      "File \u001b[0;32m~/anaconda3/envs/braket/lib/python3.10/site-packages/braket/aws/aws_quantum_task.py:612\u001b[0m, in \u001b[0;36m_\u001b[0;34m(openqasm_program, aws_session, create_task_kwargs, device_arn, device_parameters, _disable_qubit_rewiring, inputs, gate_definitions, *args, **kwargs)\u001b[0m\n\u001b[1;32m    599\u001b[0m     final_device_parameters \u001b[39m=\u001b[39m (\n\u001b[1;32m    600\u001b[0m         _circuit_device_params_from_dict(\n\u001b[1;32m    601\u001b[0m             device_parameters,\n\u001b[0;32m   (...)\u001b[0m\n\u001b[1;32m    606\u001b[0m         \u001b[39melse\u001b[39;00m device_parameters\n\u001b[1;32m    607\u001b[0m     )\n\u001b[1;32m    608\u001b[0m     create_task_kwargs\u001b[39m.\u001b[39mupdate(\n\u001b[1;32m    609\u001b[0m         {\u001b[39m\"\u001b[39m\u001b[39mdeviceParameters\u001b[39m\u001b[39m\"\u001b[39m: final_device_parameters\u001b[39m.\u001b[39mjson(exclude_none\u001b[39m=\u001b[39m\u001b[39mTrue\u001b[39;00m)}\n\u001b[1;32m    610\u001b[0m     )\n\u001b[0;32m--> 612\u001b[0m task_arn \u001b[39m=\u001b[39m aws_session\u001b[39m.\u001b[39;49mcreate_quantum_task(\u001b[39m*\u001b[39;49m\u001b[39m*\u001b[39;49mcreate_task_kwargs)\n\u001b[1;32m    613\u001b[0m \u001b[39mreturn\u001b[39;00m AwsQuantumTask(task_arn, aws_session, \u001b[39m*\u001b[39margs, \u001b[39m*\u001b[39m\u001b[39m*\u001b[39mkwargs)\n",
      "File \u001b[0;32m~/anaconda3/envs/braket/lib/python3.10/site-packages/braket/aws/aws_session.py:231\u001b[0m, in \u001b[0;36mAwsSession.create_quantum_task\u001b[0;34m(self, **boto3_kwargs)\u001b[0m\n\u001b[1;32m    229\u001b[0m \u001b[39mif\u001b[39;00m job_token:\n\u001b[1;32m    230\u001b[0m     boto3_kwargs\u001b[39m.\u001b[39mupdate({\u001b[39m\"\u001b[39m\u001b[39mjobToken\u001b[39m\u001b[39m\"\u001b[39m: job_token})\n\u001b[0;32m--> 231\u001b[0m response \u001b[39m=\u001b[39m \u001b[39mself\u001b[39;49m\u001b[39m.\u001b[39;49mbraket_client\u001b[39m.\u001b[39;49mcreate_quantum_task(\u001b[39m*\u001b[39;49m\u001b[39m*\u001b[39;49mboto3_kwargs)\n\u001b[1;32m    232\u001b[0m broadcast_event(\n\u001b[1;32m    233\u001b[0m     _TaskCreationEvent(\n\u001b[1;32m    234\u001b[0m         arn\u001b[39m=\u001b[39mresponse[\u001b[39m\"\u001b[39m\u001b[39mquantumTaskArn\u001b[39m\u001b[39m\"\u001b[39m],\n\u001b[0;32m   (...)\u001b[0m\n\u001b[1;32m    238\u001b[0m     )\n\u001b[1;32m    239\u001b[0m )\n\u001b[1;32m    240\u001b[0m \u001b[39mreturn\u001b[39;00m response[\u001b[39m\"\u001b[39m\u001b[39mquantumTaskArn\u001b[39m\u001b[39m\"\u001b[39m]\n",
      "File \u001b[0;32m~/anaconda3/envs/braket/lib/python3.10/site-packages/botocore/client.py:553\u001b[0m, in \u001b[0;36mClientCreator._create_api_method.<locals>._api_call\u001b[0;34m(self, *args, **kwargs)\u001b[0m\n\u001b[1;32m    549\u001b[0m     \u001b[39mraise\u001b[39;00m \u001b[39mTypeError\u001b[39;00m(\n\u001b[1;32m    550\u001b[0m         \u001b[39mf\u001b[39m\u001b[39m\"\u001b[39m\u001b[39m{\u001b[39;00mpy_operation_name\u001b[39m}\u001b[39;00m\u001b[39m() only accepts keyword arguments.\u001b[39m\u001b[39m\"\u001b[39m\n\u001b[1;32m    551\u001b[0m     )\n\u001b[1;32m    552\u001b[0m \u001b[39m# The \"self\" in this scope is referring to the BaseClient.\u001b[39;00m\n\u001b[0;32m--> 553\u001b[0m \u001b[39mreturn\u001b[39;00m \u001b[39mself\u001b[39;49m\u001b[39m.\u001b[39;49m_make_api_call(operation_name, kwargs)\n",
      "File \u001b[0;32m~/anaconda3/envs/braket/lib/python3.10/site-packages/botocore/client.py:1009\u001b[0m, in \u001b[0;36mBaseClient._make_api_call\u001b[0;34m(self, operation_name, api_params)\u001b[0m\n\u001b[1;32m   1005\u001b[0m     error_code \u001b[39m=\u001b[39m error_info\u001b[39m.\u001b[39mget(\u001b[39m\"\u001b[39m\u001b[39mQueryErrorCode\u001b[39m\u001b[39m\"\u001b[39m) \u001b[39mor\u001b[39;00m error_info\u001b[39m.\u001b[39mget(\n\u001b[1;32m   1006\u001b[0m         \u001b[39m\"\u001b[39m\u001b[39mCode\u001b[39m\u001b[39m\"\u001b[39m\n\u001b[1;32m   1007\u001b[0m     )\n\u001b[1;32m   1008\u001b[0m     error_class \u001b[39m=\u001b[39m \u001b[39mself\u001b[39m\u001b[39m.\u001b[39mexceptions\u001b[39m.\u001b[39mfrom_code(error_code)\n\u001b[0;32m-> 1009\u001b[0m     \u001b[39mraise\u001b[39;00m error_class(parsed_response, operation_name)\n\u001b[1;32m   1010\u001b[0m \u001b[39melse\u001b[39;00m:\n\u001b[1;32m   1011\u001b[0m     \u001b[39mreturn\u001b[39;00m parsed_response\n",
      "\u001b[0;31mValidationException\u001b[0m: An error occurred (ValidationException) when calling the CreateQuantumTask operation: Parsing error: line 1:0 extraneous input ''OPENQASM 3.0;\\ninclude \"stdgates.inc\";\\nbit[1] c;\\nqubit[1] q;\\nh q[0];\\nc[0] = measure q[0];\\n'' expecting {<EOF>, 'cal', 'defcal', '#pragma braket', 'waveform', 'port', 'frame', 'OPENQASM', 'include', 'defcalgrammar', 'def', 'gate', 'extern', 'box', 'let', 'break', 'continue', 'if', 'end', 'return', 'for', 'while', PRAGMA, AnnotationKeyword, 'input', 'output', 'const', 'qreg', 'qubit', 'creg', 'bool', 'bit', 'int', 'uint', 'float', 'angle', 'complex', 'array', 'duration', 'stretch', 'gphase', 'inv', 'pow', 'ctrl', 'negctrl', 'durationof', 'delay', 'reset', 'measure', 'barrier', BooleanLiteral, '(', '-', '~', '!', ImaginaryLiteral, BinaryIntegerLiteral, OctalIntegerLiteral, DecimalIntegerLiteral, HexIntegerLiteral, Identifier, HardwareQubit, FloatLiteral, TimingLiteral, BitstringLiteral}\n"
     ]
    }
   ],
   "source": [
    "my_task = device.run(\n",
    "    program,\n",
    "    # s3_location,\n",
    "    shots=100,\n",
    ")"
   ]
  },
  {
   "cell_type": "code",
   "execution_count": null,
   "metadata": {},
   "outputs": [],
   "source": []
  }
 ],
 "metadata": {
  "kernelspec": {
   "display_name": "braket",
   "language": "python",
   "name": "python3"
  },
  "language_info": {
   "codemirror_mode": {
    "name": "ipython",
    "version": 3
   },
   "file_extension": ".py",
   "mimetype": "text/x-python",
   "name": "python",
   "nbconvert_exporter": "python",
   "pygments_lexer": "ipython3",
   "version": "3.10.13"
  },
  "orig_nbformat": 4
 },
 "nbformat": 4,
 "nbformat_minor": 2
}
