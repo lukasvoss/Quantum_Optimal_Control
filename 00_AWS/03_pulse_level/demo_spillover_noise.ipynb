{
 "cells": [
  {
   "cell_type": "code",
   "execution_count": 1,
   "metadata": {},
   "outputs": [
    {
     "name": "stderr",
     "output_type": "stream",
     "text": [
      "/Users/lukasvoss/anaconda3/envs/braket/lib/python3.10/site-packages/qiskit_dynamics/dispatch/backends/jax.py:34: UserWarning: The functionality in the perturbation module of Qiskit Dynamics requires a JAX version <= 0.4.6, due to a bug in JAX versions > 0.4.6. For versions 0.4.4, 0.4.5, and 0.4.6, using the perturbation module functionality requires setting os.environ['JAX_JIT_PJIT_API_MERGE'] = '0' before importing JAX or Dynamics.\n",
      "  warnings.warn(\n"
     ]
    }
   ],
   "source": [
    "from noisy_dynamics_backend import custom_backend"
   ]
  },
  {
   "cell_type": "code",
   "execution_count": 2,
   "metadata": {},
   "outputs": [],
   "source": [
    "dims = [3, 3]\n",
    "freqs = [5.0, 5.0]\n",
    "anharmonicities = [-0.33, -0.33]\n",
    "rabi_freqs = [0.1, 0.1]\n",
    "\n",
    "couplings = {(0, 1): 0.1, (1, 0): 0.1}\n",
    "noise_couplings = {\n",
    "    (0, 1): 0.05,  # Coupling from qubit 0 to qubit 1\n",
    "    (1, 0): 0.04,  # Coupling from qubit 1 to qubit 0, demonstrating bidirectional specification\n",
    "    #(1, 2): 0.03   # Coupling from qubit 1 to qubit 2, specified only in one direction\n",
    "    # Note: (2, 1) is not specified, implying unidirectional or asymmetric coupling in this case\n",
    "}\n",
    "solver_options = None"
   ]
  },
  {
   "cell_type": "code",
   "execution_count": 3,
   "metadata": {},
   "outputs": [
    {
     "name": "stderr",
     "output_type": "stream",
     "text": [
      "WARNING: All log messages before absl::InitializeLog() is called are written to STDERR\n",
      "I0000 00:00:1708487025.333574       1 tfrt_cpu_pjrt_client.cc:349] TfrtCpuClient created.\n"
     ]
    }
   ],
   "source": [
    "jax_backend, dynamics_backend = custom_backend(dims, freqs, anharmonicities, rabi_freqs, couplings, noise_couplings, solver_options)"
   ]
  }
 ],
 "metadata": {
  "kernelspec": {
   "display_name": "braket",
   "language": "python",
   "name": "python3"
  },
  "language_info": {
   "codemirror_mode": {
    "name": "ipython",
    "version": 3
   },
   "file_extension": ".py",
   "mimetype": "text/x-python",
   "name": "python",
   "nbconvert_exporter": "python",
   "pygments_lexer": "ipython3",
   "version": "3.10.13"
  },
  "orig_nbformat": 4
 },
 "nbformat": 4,
 "nbformat_minor": 2
}
