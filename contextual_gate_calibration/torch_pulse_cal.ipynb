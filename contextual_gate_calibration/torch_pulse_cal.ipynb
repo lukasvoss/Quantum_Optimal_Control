{
 "cells": [
  {
   "cell_type": "markdown",
   "id": "b12bc6a1-4343-44e0-87d0-382f37d93d81",
   "metadata": {
    "tags": []
   },
   "source": [
    "# Context aware pulse gate calibration with Reinforcement Learning\n",
    "\n",
    "In this notebook, we explore the context aware optimization subroutine through a pulse level gate calibration procedure, taking an Echoed Cross Resonance (ECR) gate as a baseline gate to be optimized by the RL agent."
   ]
  },
  {
   "cell_type": "code",
   "execution_count": 1,
   "id": "0b888496-4b36-4a63-817e-2ca4137e6ad7",
   "metadata": {
    "tags": [],
    "ExecuteTime": {
     "end_time": "2023-12-14T06:40:46.120567Z",
     "start_time": "2023-12-14T06:40:46.115397Z"
    }
   },
   "outputs": [],
   "source": [
    "import os\n",
    "\n",
    "os.environ[\"KMP_DUPLICATE_LIB_OK\"] = \"True\"\n",
    "import sys\n",
    "\n",
    "module_path = os.path.abspath(\n",
    "    os.path.join(\n",
    "        \"/Users/arthurstrauss/Library/CloudStorage/OneDrive-NationalUniversityofSingapore/Coding_projects/Quantum_Optimal_Control\"\n",
    "    )\n",
    ")\n",
    "module_path2 = os.path.abspath(\n",
    "    os.path.join(\n",
    "        \"/Users/arthurstrauss/Library/CloudStorage/OneDrive-NationalUniversityofSingapore/Coding_projects/Quantum_Optimal_Control/custom_jax_sim\"\n",
    "    )\n",
    ")\n",
    "if module_path not in sys.path:\n",
    "    sys.path.append(module_path)\n",
    "    sys.path.append(module_path2)"
   ]
  },
  {
   "cell_type": "code",
   "execution_count": 2,
   "id": "cc45931e-f117-412a-b9ca-c65738633a7b",
   "metadata": {
    "tags": [],
    "ExecuteTime": {
     "end_time": "2023-12-14T06:40:52.414796Z",
     "start_time": "2023-12-14T06:40:46.118740Z"
    }
   },
   "outputs": [
    {
     "name": "stderr",
     "output_type": "stream",
     "text": [
      "/Users/arthurostrauss/anaconda3/envs/rl_qoc/lib/python3.11/site-packages/qiskit_dynamics/dispatch/backends/jax.py:34: UserWarning: The functionality in the perturbation module of Qiskit Dynamics requires a JAX version <= 0.4.6, due to a bug in JAX versions > 0.4.6. For versions 0.4.4, 0.4.5, and 0.4.6, using the perturbation module functionality requires setting os.environ['JAX_JIT_PJIT_API_MERGE'] = '0' before importing JAX or Dynamics.\n",
      "  warnings.warn(\n"
     ]
    }
   ],
   "source": [
    "# Qiskit imports\n",
    "from qiskit import pulse, transpile\n",
    "from qiskit.transpiler import InstructionDurations\n",
    "from qiskit.circuit import (\n",
    "    ParameterVector,\n",
    "    QuantumCircuit,\n",
    "    QuantumRegister,\n",
    "    Gate,\n",
    "    CircuitInstruction,\n",
    ")\n",
    "\n",
    "from qconfig import QiskitConfig\n",
    "from quantumenvironment import QuantumEnvironment\n",
    "from torch.distributions import Normal\n",
    "\n",
    "import numpy as np\n",
    "import tqdm\n",
    "import time\n",
    "from typing import Union, Optional, List, Sequence\n",
    "from IPython.display import clear_output"
   ]
  },
  {
   "cell_type": "markdown",
   "id": "c9e1b780-6e09-4b4f-8f0c-b1709942392c",
   "metadata": {
    "tags": []
   },
   "source": [
    "# Circuit macros for environment"
   ]
  },
  {
   "cell_type": "markdown",
   "id": "ff4241c3-f84d-4311-b9d9-cb150724d490",
   "metadata": {},
   "source": [
    "Below we define functions defining our way of parametrizing the custom gate we intend to calibrate. In the pulse gate scenario, we define two functions for clearly separating the abstraction layers that are intertwined here.\n",
    "The function ```apply_parametrized_circuit``` creates a custom parametrized ```Gate``` (which can be derived from a predefined Qiskit gate to retrieve its logical effect) and appends it to a ```QuantumCircuit``` given in input. The parametrization of the gate is provided by the ```params: ParameterVector``` argument of the function and is used to build a custom calibration of the gate. This custom calibration is defined in the second function called ```custom_schedule```, which builds a custom parametrized pulse schedule that can be attached to the gate calibration (see this tutorial for more info: https://qiskit.org/documentation/tutorials/circuits_advanced/05_pulse_gates.html).\n",
    "In our approach, we design a custom schedule starting from the baseline calibration already available from IBMQ calibration results. The parameters of our custom schedule are in this framework deviations over baseline parameters of the original calibration, meant to evolve to address the particular circuit context in which the gate is going to be executed."
   ]
  },
  {
   "cell_type": "code",
   "execution_count": null,
   "id": "dde4d71b-054b-4e0e-8b27-5efdde149fc5",
   "metadata": {
    "tags": []
   },
   "outputs": [],
   "source": [
    "from qiskit.providers import Backend, BackendV1, BackendV2\n",
    "from qiskit_experiments.calibration_management import Calibrations\n",
    "from basis_gate_library import FixedFrequencyTransmon, EchoedCrossResonance\n",
    "from helper_functions import determine_ecr_params\n",
    "\n",
    "\n",
    "def custom_schedule(\n",
    "    backend: Backend,\n",
    "    physical_qubits: list,\n",
    "    params: ParameterVector,\n",
    "    keep_symmetry: bool = True,\n",
    "):\n",
    "    \"\"\"\n",
    "    Define parametrization of the pulse schedule characterizing the target gate.\n",
    "    This function can be customized at will, however one shall recall to make sure that number of actions match the\n",
    "    number of pulse parameters used within the function (throught the params argument).\n",
    "        :param backend: IBM Backend on which schedule shall be added\n",
    "        :param physical_qubits: Physical qubits on which custom gate is applied on\n",
    "        :param params: Parameters of the Schedule/Custom gate\n",
    "        :param keep_symmetry: Choose if the two parts of the ECR tone shall be jointly parametrized or not\n",
    "\n",
    "        :return: Parametrized Schedule\n",
    "    \"\"\"\n",
    "    # Load here all pulse parameters names that should be tuned during model-free calibration.\n",
    "    # Here we focus on real time tunable pulse parameters (amp, angle, duration)\n",
    "    pulse_features = [\"amp\", \"angle\", \"tgt_amp\", \"tgt_angle\"]\n",
    "\n",
    "    # Uncomment lines below to include pulse duration as tunable parameter\n",
    "    # pulse_features.append(\"duration\")\n",
    "    duration_window = 0\n",
    "\n",
    "    global n_actions\n",
    "    assert n_actions == len(\n",
    "        params\n",
    "    ), f\"Number of actions ({n_actions}) does not match length of ParameterVector {params.name} ({len(params)})\"\n",
    "\n",
    "    new_params, _, _ = determine_ecr_params(backend, physical_qubits)\n",
    "\n",
    "    qubits = tuple(physical_qubits)\n",
    "\n",
    "    if keep_symmetry:  # Maintain symmetry between the two GaussianSquare pulses\n",
    "        for sched in [\"cr45p\", \"cr45m\"]:\n",
    "            for i, feature in enumerate(pulse_features):\n",
    "                if feature != \"duration\":\n",
    "                    new_params[(feature, qubits, sched)] += params[i]\n",
    "                else:\n",
    "                    new_params[\n",
    "                        (feature, qubits, sched)\n",
    "                    ] += pulse.builder.seconds_to_samples(duration_window * params[i])\n",
    "    else:\n",
    "        num_features = len(pulse_features)\n",
    "        for i, sched in enumerate([\"cr45p\", \"cr45m\"]):\n",
    "            for j, feature in enumerate(pulse_features):\n",
    "                if feature != \"duration\":\n",
    "                    new_params[(feature, qubits, sched)] += params[i * num_features + j]\n",
    "                else:\n",
    "                    new_params[\n",
    "                        (feature, qubits, sched)\n",
    "                    ] += pulse.builder.seconds_to_samples(\n",
    "                        duration_window * params[i * num_features + j]\n",
    "                    )\n",
    "\n",
    "    cals = Calibrations.from_backend(\n",
    "        backend,\n",
    "        [\n",
    "            FixedFrequencyTransmon([\"x\", \"sx\"]),\n",
    "            EchoedCrossResonance([\"cr45p\", \"cr45m\", \"ecr\"]),\n",
    "        ],\n",
    "        add_parameter_defaults=True,\n",
    "    )\n",
    "\n",
    "    # Retrieve schedule (for now, works only with ECRGate(), as no library yet available for CX)\n",
    "    parametrized_schedule = cals.get_schedule(\n",
    "        \"ecr\", physical_qubits, assign_params=new_params\n",
    "    )\n",
    "    return parametrized_schedule"
   ]
  },
  {
   "cell_type": "code",
   "execution_count": null,
   "id": "2d7a1c23-b32a-49e6-b50a-a9007e4cb4cc",
   "metadata": {
    "tags": []
   },
   "outputs": [],
   "source": [
    "# Pulse gate ansatz\n",
    "\n",
    "\n",
    "def apply_parametrized_circuit(\n",
    "    qc: QuantumCircuit,\n",
    "    params: Optional[ParameterVector] = None,\n",
    "    tgt_register: Optional[QuantumRegister] = None,\n",
    "):\n",
    "    \"\"\"\n",
    "    Define ansatz circuit to be played on Quantum Computer. Should be parametrized with Qiskit ParameterVector\n",
    "    This function is used to run the QuantumCircuit instance on a Runtime backend\n",
    "    :param qc: Quantum Circuit instance to add the gate on\n",
    "    :param params: Parameters of the custom Gate\n",
    "    :param tgt_register: Quantum Register formed of target qubits\n",
    "    :return:\n",
    "    \"\"\"\n",
    "    # qc.num_qubits\n",
    "    global n_actions, backend, target\n",
    "\n",
    "    gate, physical_qubits = target[\"gate\"], target[\"register\"]\n",
    "    # x_pulse = backend.defaults().instruction_schedule_map.get('x', (qubit_tgt_register,)).instructions[0][1].pulse\n",
    "    if params is None:\n",
    "        params = ParameterVector(\"theta\", n_actions)\n",
    "    if tgt_register is None:\n",
    "        tgt_register = qc.qregs[0]\n",
    "\n",
    "    # Choose below which target gate you'd like to calibrate\n",
    "    parametrized_gate = Gate(\"custom_ecr\", 2, params=params.params)\n",
    "    # parametrized_gate = gate.copy()\n",
    "    # parametrized_gate.params = params.params\n",
    "    parametrized_schedule = custom_schedule(\n",
    "        backend=backend, physical_qubits=physical_qubits, params=params\n",
    "    )\n",
    "    qc.add_calibration(parametrized_gate, physical_qubits, parametrized_schedule)\n",
    "    qc.append(parametrized_gate, tgt_register)"
   ]
  },
  {
   "cell_type": "markdown",
   "id": "296601c4-aa0e-4e8b-9092-290ed0cf1e0b",
   "metadata": {},
   "source": [
    "# Definition of QuantumEnvironment"
   ]
  },
  {
   "cell_type": "markdown",
   "id": "b1499dc1-1bbd-4ce9-bfc8-c794c1f97a2f",
   "metadata": {},
   "source": [
    "## Generic information characterizing the quantum system\n",
    "\n",
    "The algorithm is built upon Qiskit modules. To specify how to address our quantum system of interest, we therefore adopt the IBM approach to define a quantum backend, on which qubits are defined and can be accessed via control actions and measurements.\n",
    "\n",
    "The cell below specifies:\n",
    "- ```physical_qubits```: List of qubit indices which are specifically addressed by controls , namely the ones for which we intend to calibrate a gate upon or steer them in a specific quantum state. Note that this list could include less qubits than the total number of qubits, which can be useful when one wants to take into account crosstalk effects emerging from nearest-neigbor coupling.\n",
    "- ```sampling_Paulis```: number of Pauli observables  to be sampled from the system: the algorithm relies on the ability to process measurement outcomes to estimate the expectation value of different Pauli operators. The more observables we provide for sampling, the more properties we are able to deduce with accuracy about the actual state that was created when applying our custom controls. For a single qubit, the possible Pauli operators are $\\sigma_0=I$, $\\sigma_x=X$, $\\sigma_y=Y$, $\\sigma_z=Z$. For a general multiqubit system, the Pauli observables are tensor products of those single qubit Pauli operators. The algorithm will automatically estimate which observables are the most relevant to sample based on the provided target. The probability distribution from which those observables are sampled is derived from the Direct Fidelity Estimation (equation 3, https://link.aps.org/doi/10.1103/PhysRevLett.106.230501) algorithm. \n",
    "- ```N_shots```: Indicates how many measurements shall be done for each provided circuit (that is a specific combination of an action vector and a Pauli observable to be sampled)\n",
    "- ```n_actions```: Indicates the number of pulse/circuit parameters that characterize our parametrized quantum circuit. For our pulse level ansatz, this number will depend on the number of parameters we are willing to tune in the original two-qubit gate calibration. \n",
    "- ```estimator_options```: Options of the Qiskit Estimator primitive. The Estimator is the Qiskit module enabling an easy computation of Pauli expectation values. One can set options to make this process more reliable (typically by doing some error mitigation techniques in post-processing). Works only with Runtime Backend at the moment\n",
    "- ```abstraction_level``` chosen to encode our quantum circuit. One can choose here to stick to the usual circuit model of quantum computing, by using the ```QuantumCircuit``` objects from Qiskit and therefore set the ```abstraction_level``` to ```\"circuit\"```. However, depending on the task at hand, one can also prefer to use a pulse description of all the operations in our circuit. This is possible for both real backends and simulators by using respectively Qiskit Runtime and Qiskit Dynamics. In this case, one should define the ansatz circuit above in a pulse level fashion, and the simulation done at the Hamiltonian level, and not only via statevector calculations. In this notebook we set the ```abstraction_level``` to ```\"pulse\"```. Another notebook at the gate level is available in the repo."
   ]
  },
  {
   "cell_type": "code",
   "execution_count": null,
   "id": "de25fe83-dfc2-4c0b-bb55-b8e8294b6a52",
   "metadata": {
    "tags": []
   },
   "outputs": [],
   "source": [
    "physical_qubits = [0, 1]\n",
    "sampling_Paulis = 50\n",
    "N_shots = 200\n",
    "n_actions = 4  # Cf number of parameters in custom_schedule function above\n",
    "abstraction_level = \"pulse\""
   ]
  },
  {
   "cell_type": "code",
   "execution_count": null,
   "id": "484b4b97-42dd-4c20-b111-4755ff0e34ad",
   "metadata": {
    "tags": []
   },
   "outputs": [],
   "source": [
    "# Define below Runtime Options of your choice (relevant only for real backends)\n",
    "from qiskit_ibm_runtime.options import Options, ExecutionOptions, EnvironmentOptions\n",
    "\n",
    "estimator_options = Options(\n",
    "    resilience_level=0,\n",
    "    optimization_level=0,\n",
    "    execution=ExecutionOptions(shots=N_shots * sampling_Paulis),\n",
    ")"
   ]
  },
  {
   "cell_type": "markdown",
   "id": "6e1b1243-037e-4b3b-81ce-05d14cebcf15",
   "metadata": {},
   "source": [
    "## Setting up Quantum Backend"
   ]
  },
  {
   "cell_type": "markdown",
   "id": "81cf3ce4-bedd-4611-a247-9abfcade4b6f",
   "metadata": {
    "tags": []
   },
   "source": [
    "### Real backend initialization\n",
    "\n",
    "Uncomment the cell below to declare a Qiskit Runtime backend. You need an internet connection and an IBM Id  to access this."
   ]
  },
  {
   "cell_type": "code",
   "execution_count": 5,
   "id": "84a06c94-5b5d-476a-996c-7cea996d562d",
   "metadata": {
    "tags": [],
    "ExecuteTime": {
     "end_time": "2023-12-14T06:41:44.743377Z",
     "start_time": "2023-12-14T06:41:35.630818Z"
    }
   },
   "outputs": [],
   "source": [
    "\"\"\"\n",
    "Real backend initialization:\n",
    "Run this cell only if intending to use a real backend, where Qiskit Runtime is enabled\n",
    "\"\"\"\n",
    "from qiskit_ibm_runtime import QiskitRuntimeService\n",
    "\n",
    "backend_name = \"ibm_nazca\"\n",
    "\n",
    "service = QiskitRuntimeService(\n",
    "    channel=\"ibm_quantum\", instance=\"ibm-q-nus/default/default\"\n",
    ")\n",
    "runtime_backend = service.get_backend(backend_name)"
   ]
  },
  {
   "cell_type": "code",
   "execution_count": 6,
   "outputs": [
    {
     "data": {
      "text/plain": "<Figure size 1300x765 with 1 Axes>",
      "image/png": "[encoded data removed]"
     },
     "execution_count": 6,
     "metadata": {},
     "output_type": "execute_result"
    }
   ],
   "source": [
    "runtime_backend.target.get_calibration(\"ecr\", (0, 1)).draw()"
   ],
   "metadata": {
    "collapsed": false,
    "ExecuteTime": {
     "end_time": "2023-12-14T06:41:50.971436Z",
     "start_time": "2023-12-14T06:41:44.743516Z"
    }
   },
   "id": "1825f77cc5dc1c26"
  },
  {
   "cell_type": "markdown",
   "id": "01b7c1b5-c62d-4b1d-a7e7-2ab0c2cce461",
   "metadata": {
    "tags": []
   },
   "source": [
    "### Simulation backend initialization: Qiskit Dynamics\n",
    "If you want to run the algorithm over a simulation, one can use Qiskit Dynamics for pulse level simulation of quantum circuits. Below we set the ground for declaring a ```DynamicsBackend```.\n",
    "\n",
    "This can be done in two ways: \n",
    "\n",
    "1. Declare a ```DynamicsBackend``` from a ```FakeBackend``` or ```IBMBackend``` instance and use the ```from_backend()``` method to retrieve the Hamiltonian description of such backend.\n",
    "2. Alternatively, you can define your own custom Hamiltonian/Linblad that should be used to simulate the multiqubit system of interest, and feed it to a ```Solver``` instance which can be used to declare the ```DynamicsBackend```.\n",
    "For more information you can check Qiskit Dynamics documentation (https://qiskit.org/documentation/dynamics/apidocs/backend.html)\n"
   ]
  },
  {
   "cell_type": "code",
   "execution_count": null,
   "id": "457e920c-18a1-4f2f-bd07-540a99481655",
   "metadata": {
    "tags": []
   },
   "outputs": [],
   "source": [
    "from qiskit.providers.fake_provider import FakeHanoi, FakeJakarta, FakeJakartaV2\n",
    "from helper_functions import get_control_channel_map\n",
    "from qiskit_dynamics import DynamicsBackend, Solver\n",
    "from helper_functions import get_solver_and_freq_from_backend\n",
    "from qiskit_dynamics.array import Array\n",
    "import jax\n",
    "\n",
    "jax.config.update(\"jax_enable_x64\", True)\n",
    "# tell JAX we are using CPU\n",
    "jax.config.update(\"jax_platform_name\", \"cpu\")\n",
    "# import Array and set default backend\n",
    "\n",
    "Array.set_default_backend(\"jax\")\n",
    "fake_backend = FakeJakarta()\n",
    "fake_backend_v2 = FakeJakartaV2()\n",
    "control_channel_map = get_control_channel_map(fake_backend, physical_qubits)\n",
    "dt = fake_backend_v2.target.dt\n",
    "print(\"Coupling Map: \", list(fake_backend_v2.coupling_map.get_edges()))"
   ]
  },
  {
   "cell_type": "code",
   "execution_count": null,
   "id": "c8e89761-f64a-4823-86df-4012f87ce562",
   "metadata": {
    "tags": []
   },
   "outputs": [],
   "source": [
    "dynamics_options = {\n",
    "    \"seed_simulator\": None,  # \"configuration\": fake_backend.configuration(),\n",
    "    \"control_channel_map\": control_channel_map,\n",
    "    \"solver_options\": {\"method\": \"jax_odeint\", \"atol\": 1e-6, \"rtol\": 1e-8, \"hmax\": dt},\n",
    "}\n",
    "qubit_properties = fake_backend_v2.qubit_properties(physical_qubits)\n",
    "\n",
    "# Extract channel frequencies and Solver instance from backend to provide a pulse level simulation enabling\n",
    "# fidelity benchmarking\n",
    "channel_freq, solver = get_solver_and_freq_from_backend(\n",
    "    backend=fake_backend,\n",
    "    subsystem_list=physical_qubits,\n",
    "    rotating_frame=\"auto\",\n",
    "    evaluation_mode=\"dense\",\n",
    "    rwa_cutoff_freq=None,\n",
    "    static_dissipators=None,\n",
    "    dissipator_channels=None,\n",
    "    dissipator_operators=None,\n",
    ")\n",
    "calibration_files = None"
   ]
  },
  {
   "cell_type": "code",
   "execution_count": null,
   "id": "50462c60-2ddc-4699-9dde-c4ea6ecb1851",
   "metadata": {
    "tags": []
   },
   "outputs": [],
   "source": [
    "# Using the from_backend method\n",
    "\n",
    "dynamics_backend = DynamicsBackend.from_backend(\n",
    "    fake_backend, subsystem_list=physical_qubits, **dynamics_options\n",
    ")\n",
    "dynamics_backend.target.qubit_properties = qubit_properties"
   ]
  },
  {
   "cell_type": "code",
   "execution_count": null,
   "id": "7f40d3c8-ed10-4093-8014-863d0b6b0d0b",
   "metadata": {
    "tags": []
   },
   "outputs": [],
   "source": [
    "print(dynamics_backend.coupling_map)"
   ]
  },
  {
   "cell_type": "code",
   "execution_count": null,
   "id": "172e4d20-28e0-46bf-a07b-a085fc463d66",
   "metadata": {
    "tags": []
   },
   "outputs": [],
   "source": [
    "print(qubit_properties)"
   ]
  },
  {
   "cell_type": "code",
   "execution_count": null,
   "id": "06dceddd-7276-4f7d-9ade-6b0ba7198bab",
   "metadata": {
    "tags": []
   },
   "outputs": [],
   "source": [
    "dim = 3\n",
    "\n",
    "v = [prop.frequency for prop in qubit_properties]\n",
    "v0 = 4.86e9\n",
    "anharm0 = -0.32e9\n",
    "r0 = 0.22e9\n",
    "\n",
    "v1 = 4.97e9\n",
    "anharm1 = -0.32e9\n",
    "r1 = 0.26e9\n",
    "\n",
    "J = 0.002e9\n",
    "\n",
    "a = np.diag(np.sqrt(np.arange(1, dim)), 1)\n",
    "adag = np.diag(np.sqrt(np.arange(1, dim)), -1)\n",
    "N = np.diag(np.arange(dim))\n",
    "\n",
    "ident = np.eye(dim, dtype=complex)\n",
    "full_ident = np.eye(dim**2, dtype=complex)\n",
    "\n",
    "N0 = np.kron(ident, N)\n",
    "N1 = np.kron(N, ident)\n",
    "\n",
    "a0 = np.kron(ident, a)\n",
    "a1 = np.kron(a, ident)\n",
    "\n",
    "a0dag = np.kron(ident, adag)\n",
    "a1dag = np.kron(adag, ident)\n",
    "\n",
    "static_ham0 = 2 * np.pi * v0 * N0 + np.pi * anharm0 * N0 * (N0 - full_ident)\n",
    "static_ham1 = 2 * np.pi * v1 * N1 + np.pi * anharm1 * N1 * (N1 - full_ident)\n",
    "\n",
    "static_ham_full = (\n",
    "    static_ham0 + static_ham1 + 2 * np.pi * J * ((a0 + a0dag) @ (a1 + a1dag))\n",
    ")\n",
    "\n",
    "drive_op0 = 2 * np.pi * r0 * (a0 + a0dag)\n",
    "drive_op1 = 2 * np.pi * r1 * (a1 + a1dag)\n",
    "\n",
    "# build solver\n",
    "dt = 1 / 4.5e9\n",
    "\n",
    "solver = Solver(\n",
    "    static_hamiltonian=static_ham_full,\n",
    "    hamiltonian_operators=[\n",
    "        drive_op0,\n",
    "        drive_op1,\n",
    "        drive_op0,\n",
    "        drive_op1,\n",
    "        drive_op1,\n",
    "        drive_op0,\n",
    "    ],\n",
    "    rotating_frame=static_ham_full,\n",
    "    hamiltonian_channels=[\"d0\", \"d1\", \"u0\", \"u1\", \"u2\", \"u3\"],\n",
    "    channel_carrier_freqs={\"d0\": v0, \"d1\": v1, \"u0\": v1, \"u1\": v0, \"u2\": v0, \"u3\": v1},\n",
    "    dt=dt,\n",
    "    evaluation_mode=\"sparse\",\n",
    ")\n",
    "# Consistent solver option to use throughout notebook\n",
    "solver_options = {\"method\": \"jax_odeint\", \"atol\": 1e-6, \"rtol\": 1e-8}\n",
    "\n",
    "custom_backend2 = DynamicsBackend(\n",
    "    solver=solver,\n",
    "    # target = fake_backend_v2.target,\n",
    "    subsystem_dims=[dim, dim],  # for computing measurement data\n",
    "    solver_options=solver_options,  # to be used every time run is called\n",
    ")\n",
    "backend_target = custom_backend2.target\n",
    "channel_freq = None\n",
    "calibration_files = None\n",
    "do_calibrations = True\n",
    "# qubit properties"
   ]
  },
  {
   "cell_type": "code",
   "execution_count": null,
   "id": "5ba466aa-1c9a-4939-b099-b793176acb01",
   "metadata": {
    "tags": []
   },
   "outputs": [],
   "source": [
    "print(custom_backend2.target)"
   ]
  },
  {
   "cell_type": "markdown",
   "id": "613f2921-8c47-438e-a764-801de470670e",
   "metadata": {},
   "source": [
    "## Select backend"
   ]
  },
  {
   "cell_type": "code",
   "execution_count": null,
   "id": "8c5dc2e6-aaea-48ab-ae95-4e39bdd5d52e",
   "metadata": {
    "tags": []
   },
   "outputs": [],
   "source": [
    "# Choose backend among the set defined above: {runtime_backend, dynamics_backend, custom_backend}\n",
    "from qiskit_ibm_runtime import Estimator, IBMBackend as RuntimeBackend\n",
    "\n",
    "backend = dynamics_backend\n",
    "\n",
    "print(\"Selected Backend: \", backend)\n",
    "if isinstance(backend, DynamicsBackend):\n",
    "    print(\"Subsystem dims: \", backend.options.subsystem_dims)\n",
    "elif isinstance(backend, RuntimeBackend):\n",
    "    print(\"Is Backend a Simulator backend:\", backend.simulator)\n",
    "print(\"Backend options\", backend.options)"
   ]
  },
  {
   "cell_type": "code",
   "execution_count": null,
   "id": "44902345-749f-4014-8103-94a851804e20",
   "metadata": {
    "tags": []
   },
   "outputs": [],
   "source": [
    "# Wrap all info in one QiskitConfig\n",
    "# Qiskit_setup = QiskitConfig(parametrized_circuit=apply_parametrized_circuit, backend=backend)\n",
    "Qiskit_setup = QiskitConfig(\n",
    "    parametrized_circuit=apply_parametrized_circuit,\n",
    "    backend=backend,\n",
    "    estimator_options=estimator_options,\n",
    "    channel_freq=channel_freq,\n",
    "    solver=solver,\n",
    ")\n",
    "Qiskit_setup"
   ]
  },
  {
   "cell_type": "markdown",
   "id": "fcc07dcc-049b-4ea3-88f7-aa6723647ae4",
   "metadata": {
    "tags": []
   },
   "source": [
    "## Define quantum target: State preparation or Gate calibration\n",
    "\n",
    "The target of our optimal control task can be of two different types:\n",
    "1.  An arbitrary quantum state to prepare with high accuracy\n",
    "2. A Quantum Gate to be calibrated in a noise-robust manner\n",
    "\n",
    "Both targets are dictionaries that are identified with a key stating their ```target_type```, which can be either ```\"state\"``` or ```\"gate\"```. The type is inferred by the target provided.\n",
    "\n",
    "For a gate target $G$, one can add the target quantum gate with a ```\"gate\"``` key specifying a specific instance of a Qiskit ```Gate``` object. Here, we settle for calibrating a ```ECRGate```, which is the two-qubit basis gate of latest IBM devices.\n",
    "Moreover, a gate calibration requires a set of input states $\\{|s_i\\rangle \\}$ to be provided, such that the agent can try to set the actions such that the fidelity between the anticipated ideal target state (calculated as  $G|s_i\\rangle$) and the output state are simultaneously maximized. To ensure a correlation between the average reward computed from the measurement outcomes and the average gate fidelity, the provided set of input states must be tomographically complete. Note that providing the set of ```input_states```as depicted below is optional and should be done only if you have a specific set to implement, by default it is internally set to the Pauli basis preparation stage.\n",
    "\n",
    "For a state target, one can provide, similarly to an input state, an ideal circuit to prepare it (```\"circuit\": QuantumCircuit```, or a density matrix (```\"dm\": DensityMatrix```)..\n",
    "\n",
    "Another important key that should figure in the dictionary is the ```\"register\"``` indicating the physical qubits that should be addressed by this target, i.e. upon which qubits should the target be engineered. The register can be a list of indices for qubits to be addressed in the circuit, or a ```QuantumRegister```object. If register is not provided, then by default the target register will be the list of all qubits defined up to ```Gate().num_qubits```."
   ]
  },
  {
   "cell_type": "code",
   "execution_count": null,
   "id": "e79698c6-81bb-4944-9005-af13e6f4a028",
   "metadata": {
    "tags": []
   },
   "outputs": [],
   "source": [
    "# Example of target gate\n",
    "from qiskit.circuit.library.standard_gates import ECRGate\n",
    "\n",
    "ECR_tgt = {\"gate\": ECRGate(), \"register\": physical_qubits}\n",
    "target = ECR_tgt\n",
    "print(target)"
   ]
  },
  {
   "cell_type": "code",
   "execution_count": null,
   "id": "238d116a-0418-48ef-910a-3805cbb28ad3",
   "metadata": {
    "tags": []
   },
   "outputs": [],
   "source": [
    "from qiskit.visualization.pulse_v2 import IQXStandard\n",
    "\n",
    "default_params, instructions, pulses = determine_ecr_params(\n",
    "    fake_backend, physical_qubits=physical_qubits\n",
    ")\n",
    "\n",
    "instructions.draw(backend=fake_backend, style=IQXStandard())"
   ]
  },
  {
   "cell_type": "markdown",
   "id": "75dd6b2e-a20a-4867-915e-1501d7c7fcbf",
   "metadata": {
    "tags": []
   },
   "source": [
    "## Declare QuantumEnvironment object\n",
    "Running the box below declares the QuantumEnvironment instance.\n",
    "\n",
    "If selected backend is a ```DynamicsBackend```, this declaration launches a series of single qubit gate calibrations (to calibrate X and SX gate). The reason for this is that the Estimator primitive, which enables the computation of Pauli expectation values, requires calibrated single qubit gates for doing Pauli basis rotations (SX and RZ, to perform Hadamard and S gates)."
   ]
  },
  {
   "cell_type": "code",
   "execution_count": null,
   "id": "4c73677c-1a71-4ace-8409-a42383f5c172",
   "metadata": {
    "tags": []
   },
   "outputs": [],
   "source": [
    "%%time\n",
    "q_env = QuantumEnvironment(\n",
    "    target=target,\n",
    "    abstraction_level=abstraction_level,\n",
    "    Qiskit_config=Qiskit_setup,\n",
    "    sampling_Pauli_space=sampling_Paulis,\n",
    "    n_shots=N_shots,\n",
    "    c_factor=0.5,\n",
    ")"
   ]
  },
  {
   "cell_type": "code",
   "execution_count": null,
   "id": "9c6f2f3b-4338-4ff2-8539-de8fe475d60d",
   "metadata": {
    "tags": []
   },
   "outputs": [],
   "source": [
    "print(q_env)"
   ]
  },
  {
   "cell_type": "code",
   "execution_count": null,
   "id": "7aa24025-5af0-4879-8fcd-0279286a1d48",
   "metadata": {
    "tags": []
   },
   "outputs": [],
   "source": [
    "from qiskit.visualization import (\n",
    "    plot_coupling_map,\n",
    "    plot_circuit_layout,\n",
    "    gate_map,\n",
    "    plot_gate_map,\n",
    ")\n",
    "from qiskit.visualization.pulse_v2 import IQXDebugging\n",
    "\n",
    "plot_gate_map(backend)"
   ]
  },
  {
   "cell_type": "markdown",
   "id": "f4659345-6834-4400-953b-7544f8ee1214",
   "metadata": {},
   "source": [
    "# Definition of Circuit context"
   ]
  },
  {
   "cell_type": "markdown",
   "id": "50f8b8cf-31f3-4484-84b5-d6b21c8f7814",
   "metadata": {},
   "source": [
    "Now that we have established our ```QuantumEnvironment```, we will now focus on the main research point of this paper, which is to calibrate the target gate based on its location within a specific circuit context. As we will use PyTorch to build the interface between our agent and our environment, we will wrap up our original environment within a ```TorchQuantumEnvironment``` object, which will build a suitable environment for dynamical and contextual gate calibration. But first, we define the quantum circuit in which our target operation will appear."
   ]
  },
  {
   "cell_type": "code",
   "execution_count": null,
   "id": "ae893112-7c4c-484b-9477-8bee469cb033",
   "metadata": {
    "tags": []
   },
   "outputs": [],
   "source": [
    "target_circuit = QuantumCircuit(2)\n",
    "target_circuit.h(0)\n",
    "target_circuit.cx(0, 1)\n",
    "target_circuit.x([0, 1])\n",
    "target_circuit.cx(0, 1)\n",
    "target_circuit.draw(\"mpl\")"
   ]
  },
  {
   "cell_type": "markdown",
   "id": "3d2b6b7e-5132-41d2-a8a7-99ccfa7bf6b3",
   "metadata": {},
   "source": [
    "To be able to see where our ECR gate shall appear in the circuit, we have to transpile this logical circuit to the backend. To ease the visualization, we add small functions to see the circuit only on relevant physical qubits."
   ]
  },
  {
   "cell_type": "code",
   "execution_count": null,
   "id": "7c90c369-7c67-48e8-be60-6a8a4ac7e9b8",
   "metadata": {
    "tags": []
   },
   "outputs": [],
   "source": [
    "from helper_functions import remove_unused_wires\n",
    "\n",
    "transpiled_circ = transpile(\n",
    "    target_circuit,\n",
    "    backend,\n",
    "    initial_layout=physical_qubits,\n",
    "    basis_gates=[\"sx\", \"rz\", \"ecr\", \"x\"],\n",
    "    optimization_level=1,\n",
    ")\n",
    "remove_unused_wires(transpiled_circ).draw(\"mpl\")"
   ]
  },
  {
   "cell_type": "code",
   "execution_count": null,
   "id": "6469f970-fe76-403c-9867-848e8ed2e0cd",
   "metadata": {
    "tags": []
   },
   "outputs": [],
   "source": [
    "from qiskit import schedule\n",
    "\n",
    "print(backend.dt)\n",
    "schedule(transpiled_circ, backend).draw()"
   ]
  },
  {
   "cell_type": "markdown",
   "id": "f0728780-bee0-4fc5-9522-cedb5977fd18",
   "metadata": {},
   "source": [
    "# Definition of TorchQuantumEnvironment"
   ]
  },
  {
   "cell_type": "markdown",
   "id": "4e189855-f1d3-4cc9-9d86-e80ef7db3b13",
   "metadata": {},
   "source": [
    "To define the ```TorchQuantumEnvironment``` wrapper, we follow the Gym like definition, where we provide the structure of the observation and action spaces.\n",
    "\n",
    "The class takes the following inputs:\n",
    "- ```q_env: QuantumEnvironment```: the baseline object where the information about the backend and the target gate is\n",
    "- ```circuit_context: QuantumCircuit```: The circuit in which the previously defined target operation is applied. Note that the class will automatically look for all instances of the gate within the circuit and build dedicated subcircuits (truncations) enabling the successive calibration of each gate instance. To be noted here: the gate calibration focuses only on the target qubits defined in the ```QuantumEnvironment```. In Qiskit, we typically look for the ```CircuitInstruction``` object composed of a ```Gate``` object and a set of target qubits on which the gate is applied (both defined in target).\n",
    "- ```action_space```/```observation_space```: Spaces defining the range and shapes of possible actions/observations.\n",
    "For now, the observation space is fixed to a set of two integers:\n",
    "    - the first one indicates which random input state was selected at the beginning of the episode, so that the network have an extra information on the randomness source coming from the reward.\n",
    "    - the second one indicates which instance of the gate it will calibrate. In the real-time use case, we would like the agent to generate on the fly random actions that will be applied directly for the next gate within the circuit execution. With Qiskit Runtime however, we are not able to generate those actions on the fly and will therefore load all actions associated to each instance of the gate prior to execution.\n",
    "\n",
    "\n",
    "Moreover, we apply for now a sequential training loop, meaning that we will force the agent to focus on the calibration of the first gate (truncating the circuit just behind its execution) before starting to calibrate the second one (and so forth). The number of iterations per gate instance must be provided with the number ```training_steps_per_gate```."
   ]
  },
  {
   "cell_type": "markdown",
   "id": "788ee29b-3840-40ec-8915-808d4d3607e8",
   "metadata": {},
   "source": [
    "Since we want to run a contextual gate calibration, we need to know exactly how the circuit will be transpiled on the backend. There is therefore an internal transpilation (without any optimization) that enables the retrieval of all timings of the logical gates indicated above. We also account for the local context happening on nearest neighbor qubits on the chip.\n",
    "\n",
    "Moreover, as we run this sequential gate calibration for each instance of the target gate within the circuit, one can check the different circuit truncations the agent will go over.\n",
    "\n",
    "Important note: The target type of the calibration must be a quantum Gate instance (it will not work if target is a quantum state)."
   ]
  },
  {
   "cell_type": "code",
   "execution_count": null,
   "id": "e20355a7-6530-4459-9e03-d4bbf69daf3b",
   "metadata": {
    "tags": []
   },
   "outputs": [],
   "source": [
    "%%time\n",
    "# Circuit context\n",
    "from torch_quantum_environment import TorchQuantumEnvironment\n",
    "from gymnasium.spaces import Box, Space\n",
    "\n",
    "seed = 10\n",
    "training_steps_per_gate = 2000\n",
    "benchmark_cycle = 100\n",
    "# tgt_instruction_counts = target_circuit.data.count(CircuitInstruction(target_gate, tgt_qubits))\n",
    "tgt_instruction_counts = 2  # Number of times target Instruction is applied in Circuit\n",
    "batchsize = 300  # Batch size (iterate over a bunch of actions per policy to estimate expected return) default 100\n",
    "n_actions = 4  # Choose how many control parameters in pulse/circuit parametrization\n",
    "min_bound_actions = -0.1\n",
    "max_bound_actions = 0.1\n",
    "scale_factor = 0.1\n",
    "observation_space = Box(\n",
    "    low=np.array([0, 0]),\n",
    "    high=np.array([1, tgt_instruction_counts]),\n",
    "    shape=(2,),\n",
    "    seed=seed,\n",
    ")\n",
    "action_space = Box(\n",
    "    low=min_bound_actions, high=max_bound_actions, shape=(n_actions,), seed=seed\n",
    ")\n",
    "\n",
    "torch_env = TorchQuantumEnvironment(\n",
    "    q_env,\n",
    "    target_circuit,\n",
    "    action_space,\n",
    "    observation_space,\n",
    "    batch_size=batchsize,\n",
    "    training_steps_per_gate=training_steps_per_gate,\n",
    "    benchmark_cycle=benchmark_cycle,\n",
    "    intermediate_rewards=False,\n",
    "    seed=None,\n",
    ")"
   ]
  },
  {
   "cell_type": "code",
   "execution_count": null,
   "id": "2925d82f-a472-4358-ae46-20bb426dc85f",
   "metadata": {
    "tags": []
   },
   "outputs": [],
   "source": [
    "torch_env.circuit_truncations[0].draw(\"mpl\")"
   ]
  },
  {
   "cell_type": "code",
   "execution_count": null,
   "id": "c6087449-9dbf-4f2f-b083-40fe217a6d7f",
   "metadata": {
    "tags": []
   },
   "outputs": [],
   "source": [
    "torch_env.circuit_truncations[1].draw(\"mpl\")"
   ]
  },
  {
   "cell_type": "code",
   "execution_count": null,
   "id": "1ac343b9-3338-4c66-b169-18a0a4901afc",
   "metadata": {
    "tags": []
   },
   "outputs": [],
   "source": [
    "torch_env.baseline_truncations[1].draw(\"mpl\")"
   ]
  },
  {
   "cell_type": "code",
   "execution_count": null,
   "id": "51f78006-11ab-4d8a-9ce9-1b1283fd7481",
   "metadata": {
    "tags": []
   },
   "outputs": [],
   "source": [
    "torch_env.estimator.options"
   ]
  },
  {
   "cell_type": "markdown",
   "id": "5b4b6bdf-18c0-4695-b040-811d3c96a498",
   "metadata": {},
   "source": [
    "# Definition of the Agent"
   ]
  },
  {
   "cell_type": "code",
   "execution_count": null,
   "id": "b3aee453-8139-47dd-8409-88aa72c31181",
   "metadata": {
    "tags": []
   },
   "outputs": [],
   "source": [
    "import torch\n",
    "import torch.nn as nn\n",
    "\n",
    "from agent import ActorNetwork, CriticNetwork, Agent\n",
    "\n",
    "# device = torch.device(\"cuda\" if torch.cuda.is_available() else \"cpu\")\n",
    "device = torch.device(\"cpu\")\n",
    "hidden_units = [64, 64]\n",
    "activation_functions = [nn.Tanh(), nn.Tanh(), nn.Tanh()]\n",
    "include_critic = False\n",
    "chkpt_dir = \"tmp/ppo\"\n",
    "chkpt_dir_critic = \"tmp/critic_ppo\"\n",
    "\n",
    "actor_net = ActorNetwork(\n",
    "    observation_space,\n",
    "    hidden_units,\n",
    "    n_actions,\n",
    "    activation_functions,\n",
    "    include_critic,\n",
    "    chkpt_dir,\n",
    ").to(device)\n",
    "critic_net = CriticNetwork(\n",
    "    observation_space, hidden_units, activation_functions, chkpt_dir_critic\n",
    ").to(device)\n",
    "agent = Agent(actor_net, critic_net=critic_net).to(device)"
   ]
  },
  {
   "cell_type": "markdown",
   "id": "f4c979c9-8d16-42fa-88d3-8810dc0f5758",
   "metadata": {},
   "source": [
    "## Hyperparameters for training"
   ]
  },
  {
   "cell_type": "code",
   "execution_count": null,
   "id": "aa0544ad-7134-41f4-bc5e-4197c5750d4d",
   "metadata": {
    "tags": []
   },
   "outputs": [],
   "source": [
    "\"\"\"\n",
    "-----------------------------------------------------------------------------------------------------\n",
    "Hyperparameters for RL agent\n",
    "-----------------------------------------------------------------------------------------------------\n",
    "\"\"\"\n",
    "from torch.utils.tensorboard import SummaryWriter\n",
    "import torch.optim as optim\n",
    "\n",
    "run_name = \"test\"\n",
    "writer = SummaryWriter(f\"runs/{run_name}\")\n",
    "# writer.add_text(\n",
    "#     \"hyperparameters\",\n",
    "#     \"|param|value|\\n|-|-|\\n%s\" % (\"\\n\".join([f\"|{key}|{value}|\" for key, value in vars(args).items()])),\n",
    "# )\n",
    "# Hyperparameters for the agent\n",
    "n_epochs = 10  # Number of epochs : default 1500\n",
    "num_updates = 700\n",
    "lr_actor = 0.001  # Learning rate for policy update step\n",
    "lr_critic = 0.001  # Learning rate for critic (value function) update step\n",
    "\n",
    "epsilon = 0.2  # Parameter for clipping value (PPO)\n",
    "critic_loss_coeff = 0.5\n",
    "optimizer = optim.Adam(agent.parameters(), lr=lr_actor, eps=1e-5)\n",
    "actor_optimizer = optim.Adam(actor_net.parameters(), lr=lr_actor, eps=1e-5)\n",
    "critic_optimizer = optim.Adam(critic_net.parameters(), lr=lr_critic, eps=1e-5)\n",
    "minibatch_size = 40\n",
    "gamma = 1.0\n",
    "gae_lambda = 0.95\n",
    "\n",
    "# Clipping\n",
    "clip_vloss = True\n",
    "grad_clip = 0.5\n",
    "clip_coef = 0.5\n",
    "normalize_advantage = False\n",
    "\n",
    "# other coefficients\n",
    "ent_coef = 0.0"
   ]
  },
  {
   "cell_type": "markdown",
   "id": "fce12ee7-d62f-471a-8596-ef884dfa2a46",
   "metadata": {},
   "source": [
    "# Training\n",
    "## Storage setup"
   ]
  },
  {
   "cell_type": "code",
   "execution_count": null,
   "id": "c0df2e66-a289-4e87-8df6-bf9b5a7419c6",
   "metadata": {
    "tags": []
   },
   "outputs": [],
   "source": [
    "global_step = 0\n",
    "torch_env.clear_history()\n",
    "obs = torch.zeros(\n",
    "    (tgt_instruction_counts, batchsize) + torch_env.observation_space.shape\n",
    ").to(device)\n",
    "actions = torch.zeros(\n",
    "    (tgt_instruction_counts, batchsize) + torch_env.action_space.shape\n",
    ").to(device)\n",
    "logprobs = torch.zeros((tgt_instruction_counts, batchsize)).to(device)\n",
    "rewards = torch.zeros((tgt_instruction_counts, batchsize)).to(device)\n",
    "dones = torch.zeros((tgt_instruction_counts, batchsize)).to(device)\n",
    "values = torch.zeros((tgt_instruction_counts, batchsize)).to(device)\n",
    "\n",
    "train_obs = torch.zeros(\n",
    "    (batchsize,) + torch_env.observation_space.shape, requires_grad=True\n",
    ").to(device)\n",
    "visualization_steps = 10"
   ]
  },
  {
   "cell_type": "markdown",
   "id": "10306c6a-de03-4ead-bc32-ffdcb1c0da20",
   "metadata": {},
   "source": [
    "## Main loop"
   ]
  },
  {
   "cell_type": "code",
   "execution_count": null,
   "id": "c98ce6ee-b798-42aa-826d-eb773d051bbb",
   "metadata": {
    "tags": []
   },
   "outputs": [],
   "source": [
    "for update in tqdm.tqdm(range(1, num_updates + 1)):\n",
    "    next_obs, _ = torch_env.reset(seed=seed)\n",
    "    num_steps = torch_env.episode_length(global_step)\n",
    "    next_obs = torch.Tensor(np.array([next_obs] * batchsize)).to(device)\n",
    "    next_done = torch.zeros(batchsize).to(device)\n",
    "\n",
    "    # print(\"episode length:\", num_steps)\n",
    "\n",
    "    for step in range(num_steps):\n",
    "        global_step += 1\n",
    "        obs[step] = next_obs\n",
    "        dones[step] = next_done\n",
    "\n",
    "        with torch.no_grad():\n",
    "            mean_action, std_action, critic_value = agent(next_obs)\n",
    "            mean_action *= scale_factor\n",
    "            probs = Normal(mean_action, std_action)\n",
    "            action = torch.clip(\n",
    "                probs.sample(),\n",
    "                torch.Tensor(np.array(min_bound_actions)),\n",
    "                torch.Tensor(np.array(max_bound_actions)),\n",
    "            )\n",
    "            logprob = probs.log_prob(action).sum(1)\n",
    "            values[step] = critic_value.flatten()\n",
    "\n",
    "        actions[step] = action\n",
    "        logprobs[step] = logprob\n",
    "        # next_obs, reward, terminated, truncated, infos = torch_env.step(action.cpu().numpy())\n",
    "        next_obs, reward, terminated, truncated, infos = torch_env.step(\n",
    "            action.cpu().numpy()\n",
    "        )\n",
    "        done = np.logical_or(terminated, truncated)\n",
    "        rewards[step] = torch.tensor(reward).to(device)\n",
    "        next_obs = torch.Tensor(np.array([next_obs] * batchsize)).to(device)\n",
    "        next_done = torch.Tensor(np.array([int(done)] * batchsize)).to(device)\n",
    "        # Only print when at least 1 env is done\n",
    "\n",
    "        # print(f\"global_step={global_step}, episodic_return={np.mean(reward)}\")\n",
    "        writer.add_scalar(\"charts/episodic_return\", np.mean(reward), global_step)\n",
    "        writer.add_scalar(\"charts/episodic_length\", num_steps, global_step)\n",
    "\n",
    "    # bootstrap value if not done\n",
    "    with torch.no_grad():\n",
    "        next_value = agent.get_value(next_obs).reshape(1, -1)\n",
    "        advantages = torch.zeros_like(rewards).to(device)\n",
    "        lastgaelam = 0\n",
    "        for t in reversed(range(num_steps)):\n",
    "            if t == num_steps - 1:\n",
    "                nextnonterminal = 1.0 - next_done\n",
    "                nextvalues = next_value\n",
    "            else:\n",
    "                nextnonterminal = 1.0 - dones[t + 1]\n",
    "                nextvalues = values[t + 1]\n",
    "            delta = rewards[t] + gamma * nextvalues * nextnonterminal - values[t]\n",
    "            advantages[t] = lastgaelam = (\n",
    "                delta + gamma * gae_lambda * nextnonterminal * lastgaelam\n",
    "            )\n",
    "        returns = advantages + values\n",
    "\n",
    "    # flatten the batch\n",
    "    b_obs = obs.reshape((-1,) + torch_env.observation_space.shape)\n",
    "    b_logprobs = logprobs.reshape(-1)\n",
    "    b_actions = actions.reshape((-1,) + torch_env.action_space.shape)\n",
    "    b_advantages = advantages.reshape(-1)\n",
    "    b_returns = returns.reshape(-1)\n",
    "    b_values = values.reshape(-1)\n",
    "\n",
    "    # Optimizing the policy and value network\n",
    "    b_inds = np.arange(batchsize)\n",
    "    clipfracs = []\n",
    "    for epoch in range(n_epochs):\n",
    "        np.random.shuffle(b_inds)\n",
    "        for start in range(0, batchsize, minibatch_size):\n",
    "            end = start + minibatch_size\n",
    "            mb_inds = b_inds[start:end]\n",
    "            new_mean, new_sigma, new_value = agent(b_obs[mb_inds])\n",
    "            new_dist = Normal(new_mean, new_sigma)\n",
    "            new_logprob, entropy = new_dist.log_prob(b_actions[mb_inds]).sum(\n",
    "                1\n",
    "            ), new_dist.entropy().sum(1)\n",
    "            logratio = (\n",
    "                new_logprob - b_logprobs[mb_inds] + torch.log(torch.Tensor([1e-6]))\n",
    "            )\n",
    "            ratio = logratio.exp()\n",
    "            with torch.no_grad():\n",
    "                # calculate approx_kl http://joschu.net/blog/kl-approx.html\n",
    "                old_approx_kl = (-logratio).mean()\n",
    "                approx_kl = ((ratio - 1) - logratio).mean()\n",
    "                clipfracs += [((ratio - 1.0).abs() > epsilon).float().mean().item()]\n",
    "\n",
    "            mb_advantages = b_advantages[mb_inds]\n",
    "            if normalize_advantage:  # Normalize advantage\n",
    "                mb_advantages = (mb_advantages - mb_advantages.mean()) / (\n",
    "                    mb_advantages.std() + 1e-8\n",
    "                )\n",
    "\n",
    "            # Policy loss\n",
    "            pg_loss1 = -mb_advantages * ratio\n",
    "            pg_loss2 = -mb_advantages * torch.clamp(ratio, 1 - epsilon, 1 + epsilon)\n",
    "            pg_loss = torch.max(pg_loss1, pg_loss2).mean()\n",
    "\n",
    "            # Value loss\n",
    "            newvalue = new_value.view(-1)\n",
    "            if clip_vloss:\n",
    "                v_loss_unclipped = (newvalue - b_returns[mb_inds]) ** 2\n",
    "                v_clipped = b_values[mb_inds] + torch.clamp(\n",
    "                    newvalue - b_values[mb_inds],\n",
    "                    -clip_coef,\n",
    "                    clip_coef,\n",
    "                )\n",
    "                v_loss_clipped = (v_clipped - b_returns[mb_inds]) ** 2\n",
    "                v_loss_max = torch.max(v_loss_unclipped, v_loss_clipped)\n",
    "                v_loss = 0.5 * v_loss_max.mean()\n",
    "            else:\n",
    "                v_loss = 0.5 * ((newvalue - b_returns[mb_inds]) ** 2).mean()\n",
    "\n",
    "            entropy_loss = entropy.mean()\n",
    "            loss = pg_loss - ent_coef * entropy_loss + v_loss * critic_loss_coeff\n",
    "\n",
    "            optimizer.zero_grad()\n",
    "            loss.backward()\n",
    "            nn.utils.clip_grad_norm_(agent.parameters(), grad_clip)\n",
    "            optimizer.step()\n",
    "\n",
    "    y_pred, y_true = b_values.cpu().numpy(), b_returns.cpu().numpy()\n",
    "    var_y = np.var(y_true)\n",
    "    explained_var = np.nan if var_y == 0 else 1 - np.var(y_true - y_pred) / var_y\n",
    "    print(\"mean\", mean_action[0])\n",
    "    print(\"sigma\", std_action[0])\n",
    "    print(\"Average return:\", np.mean(torch_env.reward_history, axis=1)[-1])\n",
    "    # print(np.mean(torch_env.reward_history, axis =1)[-1])\n",
    "    # print(\"Circuit fidelity:\", torch_env.circuit_fidelity_history[-1])\n",
    "    # print(\"Avg gate fidelity:\", torch_env.avg_fidelity_history[-1])\n",
    "    print(torch_env._get_info())\n",
    "    # TRY NOT TO MODIFY: record rewards for plotting purposes\n",
    "    writer.add_scalar(\n",
    "        \"charts/learning_rate\", optimizer.param_groups[0][\"lr\"], global_step\n",
    "    )\n",
    "    writer.add_scalar(\"losses/value_loss\", v_loss.item(), global_step)\n",
    "    writer.add_scalar(\n",
    "        \"losses/avg_return\", np.mean(torch_env.reward_history, axis=1)[-1], global_step\n",
    "    )\n",
    "    # for i in range(num_steps):\n",
    "    #   writer.add_scalar(f\"losses/avg_gate_{i}_fidelity\", torch_env.avg_fidelity_history[-1][i], global_step)\n",
    "    # writer.add_scalar(\"losses/circuit_fidelity\", torch_env.circuit_fidelity_history[-1], global_step)\n",
    "    writer.add_scalar(\"losses/policy_loss\", pg_loss.item(), global_step)\n",
    "    writer.add_scalar(\"losses/entropy\", entropy_loss.item(), global_step)\n",
    "    writer.add_scalar(\"losses/old_approx_kl\", old_approx_kl.item(), global_step)\n",
    "    writer.add_scalar(\"losses/approx_kl\", approx_kl.item(), global_step)\n",
    "    writer.add_scalar(\"losses/clipfrac\", np.mean(clipfracs), global_step)\n",
    "    writer.add_scalar(\"losses/explained_variance\", explained_var, global_step)\n",
    "    if global_step % visualization_steps == 0:\n",
    "        clear_output(wait=True)  # for animation\n",
    "\n",
    "torch_env.close()\n",
    "writer.close()"
   ]
  },
  {
   "cell_type": "code",
   "execution_count": null,
   "id": "6cfbbb8c-a6fa-430e-b3c8-1db14cf8f8ef",
   "metadata": {},
   "outputs": [],
   "source": [
    "torch_env.close()\n",
    "writer.close()"
   ]
  },
  {
   "cell_type": "code",
   "execution_count": null,
   "id": "eea0e566-e5f1-41b5-8c4f-b02d5b6fb3bd",
   "metadata": {
    "tags": []
   },
   "outputs": [],
   "source": [
    "import matplotlib.pyplot as plt\n",
    "\n",
    "plt.plot(torch_env.circuit_fidelity_history)"
   ]
  },
  {
   "cell_type": "code",
   "execution_count": null,
   "id": "7c51ed63-ec4d-4516-af1e-5920908109a5",
   "metadata": {
    "tags": []
   },
   "outputs": [],
   "source": [
    "plt.plot(torch_env.avg_fidelity_history)"
   ]
  },
  {
   "cell_type": "code",
   "execution_count": null,
   "id": "9b4df81d-506d-49cb-9127-3597b16745f0",
   "metadata": {
    "tags": []
   },
   "outputs": [],
   "source": [
    "plt.plot(np.mean(torch_env.reward_history, axis=1))"
   ]
  },
  {
   "cell_type": "markdown",
   "id": "f01c4c8e-3d12-418d-b179-ffd5ffe5ab8a",
   "metadata": {},
   "source": [
    "What is below is not relevant to this notebook"
   ]
  },
  {
   "cell_type": "code",
   "execution_count": null,
   "id": "a3d2a326-4ff6-49c4-b784-ceda85b095be",
   "metadata": {
    "tags": []
   },
   "outputs": [],
   "source": [
    "from qiskit.quantum_info import Operator, average_gate_fidelity\n",
    "from qiskit.circuit.library.standard_gates import CXGate\n",
    "\n",
    "my_qc = QuantumCircuit(2, name=\"custom_cx\")\n",
    "optimal_params = [0.0, 0.0, 0.5, 0.5, -0.5, 0.5, -0.5]\n",
    "params = [-0.0062, 0.2190, 0.9921, 0.9924, -0.9921, 0.9910, -0.9907]\n",
    "my_qc.u(np.pi * params[0], np.pi * params[1], np.pi * params[2], 0)\n",
    "my_qc.u(np.pi * params[3], np.pi * params[4], np.pi * params[5], 1)\n",
    "my_qc.rzx(np.pi * params[6], 0, 1)\n",
    "average_gate_fidelity(Operator(my_qc), Operator(CXGate()))"
   ]
  },
  {
   "cell_type": "code",
   "execution_count": null,
   "id": "621e1523-ca70-4080-8252-3172f14326ef",
   "metadata": {
    "tags": []
   },
   "outputs": [],
   "source": [
    "from qiskit import QuantumCircuit\n",
    "from qiskit.providers.fake_provider import FakePerth\n",
    "from qiskit_aer import AerSimulator\n",
    "from qiskit_experiments.library import ProcessTomography\n",
    "from qiskit_experiments.framework import BatchExperiment\n",
    "\n",
    "backend = AerSimulator.from_backend(FakePerth())\n",
    "qc = QuantumCircuit(1)\n",
    "qc.x(0)\n",
    "\n",
    "result = (\n",
    "    BatchExperiment(\n",
    "        [ProcessTomography(qc), ProcessTomography(qc)],\n",
    "        backend=backend,\n",
    "        flatten_results=True,\n",
    "    )\n",
    "    .run()\n",
    "    .block_for_results()\n",
    ")\n",
    "print(result.analysis_results(\"process_fidelity\"))"
   ]
  },
  {
   "cell_type": "code",
   "execution_count": null,
   "id": "1f15f8f7-f2cb-4cbf-b651-903d1c8b88c5",
   "metadata": {
    "tags": []
   },
   "outputs": [],
   "source": [
    "result.analysis_results(\"process_fidelity\")[0].value"
   ]
  },
  {
   "cell_type": "code",
   "execution_count": null,
   "id": "1fcc3268-e2f5-4ba3-aa64-74d45a60ce41",
   "metadata": {
    "tags": []
   },
   "outputs": [],
   "source": [
    "result.analysis_results(\"process_fidelity\")[1].value"
   ]
  },
  {
   "cell_type": "code",
   "execution_count": null,
   "id": "60a61533-15e9-404b-98f7-13b4a5db609c",
   "metadata": {},
   "outputs": [],
   "source": []
  }
 ],
 "metadata": {
  "kernelspec": {
   "display_name": "Python 3 (ipykernel)",
   "language": "python",
   "name": "python3"
  },
  "language_info": {
   "codemirror_mode": {
    "name": "ipython",
    "version": 3
   },
   "file_extension": ".py",
   "mimetype": "text/x-python",
   "name": "python",
   "nbconvert_exporter": "python",
   "pygments_lexer": "ipython3",
   "version": "3.9.16"
  },
  "toc-autonumbering": true
 },
 "nbformat": 4,
 "nbformat_minor": 5
}
